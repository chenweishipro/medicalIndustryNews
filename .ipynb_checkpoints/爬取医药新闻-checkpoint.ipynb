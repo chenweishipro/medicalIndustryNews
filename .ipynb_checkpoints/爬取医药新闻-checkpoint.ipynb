{
 "cells": [
  {
   "cell_type": "code",
   "execution_count": 455,
   "id": "77b1f248-86b4-4471-93f1-aef4a7eabe6a",
   "metadata": {},
   "outputs": [],
   "source": [
    "import requests\n",
    "from bs4 import BeautifulSoup\n",
    "import os, re\n",
    "from openai import OpenAI\n",
    "import time  \n",
    "from datetime import datetime  "
   ]
  },
  {
   "cell_type": "markdown",
   "id": "bf05d15b-ba80-41b4-a098-1e69c6552cae",
   "metadata": {},
   "source": [
    "# 'https://menet.com.cn"
   ]
  },
  {
   "cell_type": "code",
   "execution_count": 331,
   "id": "44f276b7-bce6-4d1a-bc7e-6d6130122b46",
   "metadata": {},
   "outputs": [],
   "source": [
    "host ='https://www.menet.com.cn'"
   ]
  },
  {
   "cell_type": "code",
   "execution_count": 332,
   "id": "c9fbb3a6-c060-4f91-8395-72a2a0dcb129",
   "metadata": {},
   "outputs": [],
   "source": [
    "def get_list():\n",
    "    host ='https://www.menet.com.cn/news'\n",
    "    response = requests.post(host)\n",
    "    soup = BeautifulSoup(response.text, 'html.parser')\n",
    "    news_list = soup.find_all('h3')\n",
    "    return soup, news_list"
   ]
  },
  {
   "cell_type": "code",
   "execution_count": 333,
   "id": "532a6b72-17a5-453e-886a-ecb32002213c",
   "metadata": {},
   "outputs": [],
   "source": [
    "soup, news_list = get_list()"
   ]
  },
  {
   "cell_type": "code",
   "execution_count": 334,
   "id": "4696cc3b-5f85-4c24-816f-9e532a2482c1",
   "metadata": {},
   "outputs": [],
   "source": [
    "news_list = [_ for _ in news_list if \"登录\" not in _.text]"
   ]
  },
  {
   "cell_type": "code",
   "execution_count": 335,
   "id": "3f2d025b-71a9-4aa4-b9c6-a5ae16fb0581",
   "metadata": {},
   "outputs": [],
   "source": [
    "def get_info(item, host ='https://www.menet.com.cn'):\n",
    "    link = host + item.a['href']\n",
    "    title = item.text\n",
    "    date = item.a['href'].split('/')[3][:8]\n",
    "    return {\n",
    "    \"title\": title,\n",
    "    'url': link,\n",
    "    'date':date\n",
    "}"
   ]
  },
  {
   "cell_type": "code",
   "execution_count": 336,
   "id": "f1f599d6-e1dc-4ded-b8f5-454dff99216d",
   "metadata": {},
   "outputs": [],
   "source": [
    "result1 = list(map(get_info, news_list))"
   ]
  },
  {
   "cell_type": "code",
   "execution_count": 337,
   "id": "333d123f-ce72-43f8-81cf-995aeaffd12a",
   "metadata": {},
   "outputs": [],
   "source": [
    "for num, item in enumerate(soup.find_all(lambda tag: tag.has_attr('class') and len(tag)==1 and tag['class'] == [\"item_time\"])):\n",
    "    result[num]['date'] = item.text"
   ]
  },
  {
   "cell_type": "code",
   "execution_count": 338,
   "id": "4bcb33bd-ff66-4d33-8858-2cecd18816b4",
   "metadata": {},
   "outputs": [],
   "source": [
    "item = news_list[2]"
   ]
  },
  {
   "cell_type": "code",
   "execution_count": null,
   "id": "8f085c06-9995-4cb1-9d09-28ca31e139b6",
   "metadata": {},
   "outputs": [],
   "source": []
  },
  {
   "cell_type": "markdown",
   "id": "f4daa5d3-5499-4881-8b6c-59e91a9e3f55",
   "metadata": {},
   "source": [
    "# https://www.pharnexcloud.com/zixun"
   ]
  },
  {
   "cell_type": "code",
   "execution_count": 340,
   "id": "ddf53b70-1ac6-4a25-8110-7a49b0aba876",
   "metadata": {},
   "outputs": [],
   "source": [
    "r = requests.get('https://www.pharnexcloud.com/zixun')"
   ]
  },
  {
   "cell_type": "code",
   "execution_count": 341,
   "id": "d1ebba6c-fe16-456f-9e75-097e808a6c4c",
   "metadata": {},
   "outputs": [],
   "source": [
    "soup = BeautifulSoup(r.text, 'html.parser')"
   ]
  },
  {
   "cell_type": "code",
   "execution_count": 342,
   "id": "1299695a-ddd9-415a-a367-e676922de203",
   "metadata": {},
   "outputs": [],
   "source": [
    "dates = soup.find_all(lambda tag:tag.has_attr('class') and tag['class']==['date'])"
   ]
  },
  {
   "cell_type": "code",
   "execution_count": 343,
   "id": "7996cd9d-d46f-4f64-a2ac-cdad4d315a16",
   "metadata": {},
   "outputs": [],
   "source": [
    "dates = [_.text for _ in dates]"
   ]
  },
  {
   "cell_type": "code",
   "execution_count": 344,
   "id": "48d6ccce-d85a-4b4f-b8ef-e5fd0357f1b3",
   "metadata": {},
   "outputs": [],
   "source": [
    "result = soup.find_all('a', class_ = 'img-content')"
   ]
  },
  {
   "cell_type": "code",
   "execution_count": 345,
   "id": "f5771842-7db8-4ab8-b22e-4440d415a7bc",
   "metadata": {},
   "outputs": [],
   "source": [
    "def query_tilte_url(item):\n",
    "    title = item.find_next()['alt']\n",
    "    url = 'https://www.pharnexcloud.com' + item['href']\n",
    "    return {\n",
    "        'title': title,\n",
    "        'url': url\n",
    "    }"
   ]
  },
  {
   "cell_type": "code",
   "execution_count": 346,
   "id": "b323460c-c439-4f1b-9b51-f7e209b31ffa",
   "metadata": {},
   "outputs": [],
   "source": [
    "res = list(map(query_tilte_url, result))"
   ]
  },
  {
   "cell_type": "code",
   "execution_count": 347,
   "id": "589e63b5-f4cf-4ff5-98fa-7254a2caeff3",
   "metadata": {},
   "outputs": [],
   "source": [
    "for no, item in enumerate(res):\n",
    "    \n",
    "    item['date'] = dates[no]"
   ]
  },
  {
   "cell_type": "code",
   "execution_count": 348,
   "id": "ef54e783-8114-490c-9ec4-84508dfd5c31",
   "metadata": {},
   "outputs": [],
   "source": [
    "result2 = res"
   ]
  },
  {
   "cell_type": "markdown",
   "id": "db641522-6823-457c-a703-1b35fd071f5d",
   "metadata": {},
   "source": [
    "---"
   ]
  },
  {
   "cell_type": "markdown",
   "id": "f80bd62b-b271-437a-b610-259a36f5edc7",
   "metadata": {},
   "source": [
    "# https://bydrug.pharmcube.com/"
   ]
  },
  {
   "cell_type": "code",
   "execution_count": 351,
   "id": "abc1cc1c-74ed-4d3c-8a4c-ebaf5fe7320f",
   "metadata": {},
   "outputs": [],
   "source": [
    "r = requests.get('https://bydrug.pharmcube.com/')"
   ]
  },
  {
   "cell_type": "code",
   "execution_count": 352,
   "id": "4f842457-9616-4896-8109-28e284f0dfd8",
   "metadata": {},
   "outputs": [],
   "source": [
    "soup = BeautifulSoup(r.text, 'html.parser')"
   ]
  },
  {
   "cell_type": "code",
   "execution_count": 353,
   "id": "c0db912a-296f-4917-bf08-2f68b99d7190",
   "metadata": {},
   "outputs": [],
   "source": [
    "datas = soup.find_all('div', class_= 'mf-flex mf-items-center')"
   ]
  },
  {
   "cell_type": "code",
   "execution_count": 354,
   "id": "f4c2e1bb-601e-4919-bb00-2d9f03b5b914",
   "metadata": {},
   "outputs": [],
   "source": [
    "datas = datas[1:11]"
   ]
  },
  {
   "cell_type": "code",
   "execution_count": 355,
   "id": "b102752e-8f6c-40a1-a069-2c5d158e0864",
   "metadata": {},
   "outputs": [],
   "source": [
    "def get_tilte_and_url(item):\n",
    "    title = item.text.strip()\n",
    "    url = item.a['href']\n",
    "    return {\n",
    "        'title': title,\n",
    "        'url': url\n",
    "    }"
   ]
  },
  {
   "cell_type": "code",
   "execution_count": 356,
   "id": "34cb1251-4754-4d8b-ad99-26124c07efeb",
   "metadata": {},
   "outputs": [],
   "source": [
    "res = list(map(get_tilte_and_url, datas))"
   ]
  },
  {
   "cell_type": "code",
   "execution_count": 357,
   "id": "78529b61-5cba-4382-8d86-4b9dad19ab38",
   "metadata": {},
   "outputs": [],
   "source": [
    "for no, _ in enumerate(res):\n",
    "    _['date'] = dates[no]"
   ]
  },
  {
   "cell_type": "code",
   "execution_count": 358,
   "id": "7db9fe5d-61a9-41d9-a871-57c70a80bdfa",
   "metadata": {},
   "outputs": [],
   "source": [
    "result3 = res"
   ]
  },
  {
   "cell_type": "code",
   "execution_count": 359,
   "id": "dea761ca-1d37-44ba-be2e-7c194abff7b6",
   "metadata": {},
   "outputs": [],
   "source": [
    "import pandas as pd"
   ]
  },
  {
   "cell_type": "code",
   "execution_count": 404,
   "id": "8e9ca65c-cf34-4391-a637-3e3929a976d6",
   "metadata": {},
   "outputs": [],
   "source": [
    "df = pd.DataFrame(result1+result2+result3)"
   ]
  },
  {
   "cell_type": "code",
   "execution_count": 418,
   "id": "aec64fad-9900-46dc-b198-875362a2ea7e",
   "metadata": {},
   "outputs": [],
   "source": [
    "df.to_csv(\"爬取信息.csv\", encoding='utf-8-sig')"
   ]
  },
  {
   "cell_type": "markdown",
   "id": "5bdc962e-84e8-419a-92a4-31be078eb1f1",
   "metadata": {},
   "source": [
    "---"
   ]
  },
  {
   "cell_type": "code",
   "execution_count": 421,
   "id": "64bf8e7f-bf10-4940-875f-b9d4b14a46ee",
   "metadata": {},
   "outputs": [],
   "source": [
    "# 用r.jina转换成ai友好格式，并用通义千问进行总结"
   ]
  },
  {
   "cell_type": "code",
   "execution_count": 566,
   "id": "9ebf6fb1-2d10-48db-b0d7-0f389f7c1c10",
   "metadata": {},
   "outputs": [],
   "source": [
    "def summarize(url):\n",
    "    context = requests.get('https://r.jina.ai/'+url).text\n",
    "    url_pattern = re.compile(r'\\bhttps?:\\/\\/[^\\s/$.?#].[^\\s]*\\b')  \n",
    "    cleaned_text = url_pattern.sub('', context)\n",
    "    context = cleaned_text[:6000] if len(cleaned_text)>6000  else cleaned_text\n",
    "    context = \"请尽量简洁总结以下内容，并发表你的观点,文字不得超过150字\\n\"+context.replace(\"\\n\",\"\")[:6000]\n",
    "    client = OpenAI(\n",
    "    api_key='sk-69c9bf69fa2b4d2985834d6dc17c0790', # 如何获取API Key：https://help.aliyun.com/zh/model-studio/developer-reference/get-api-key\n",
    "    base_url=\"https://dashscope.aliyuncs.com/compatible-mode/v1\"\n",
    "    )\n",
    "    completion = client.chat.completions.create(\n",
    "        model=\"qwen-max\", # 更多模型请参见模型列表文档。\n",
    "        messages=[{\"role\": \"user\", \"content\": context}]\n",
    "    )\n",
    "    print(completion.choices[0].message.content)\n",
    "    with open('output.md', 'w') as f:  \n",
    "        # 使用 print 函数，将输出重定向到文件  \n",
    "        print(completion.choices[0].message.content, file=f)  \n",
    "        \n",
    "    return completion.choices[0].message.content"
   ]
  },
  {
   "cell_type": "code",
   "execution_count": 568,
   "id": "db08393c-565c-40ee-9940-77c8f253419e",
   "metadata": {},
   "outputs": [
    {
     "data": {
      "text/html": [
       "<div>\n",
       "<style scoped>\n",
       "    .dataframe tbody tr th:only-of-type {\n",
       "        vertical-align: middle;\n",
       "    }\n",
       "\n",
       "    .dataframe tbody tr th {\n",
       "        vertical-align: top;\n",
       "    }\n",
       "\n",
       "    .dataframe thead th {\n",
       "        text-align: right;\n",
       "    }\n",
       "</style>\n",
       "<table border=\"1\" class=\"dataframe\">\n",
       "  <thead>\n",
       "    <tr style=\"text-align: right;\">\n",
       "      <th></th>\n",
       "      <th>title</th>\n",
       "      <th>url</th>\n",
       "      <th>date</th>\n",
       "    </tr>\n",
       "  </thead>\n",
       "  <tbody>\n",
       "    <tr>\n",
       "      <th>0</th>\n",
       "      <td>“数智引领 价值重构”——2024全国慢病管理零售论坛顺利召开</td>\n",
       "      <td>https://www.menet.com.cn/info/202409/202409091...</td>\n",
       "      <td>20240909</td>\n",
       "    </tr>\n",
       "    <tr>\n",
       "      <th>1</th>\n",
       "      <td>山东新时代爆发了！拿下9个重磅品种，猛攻1100亿市场，11款1类新药、44个新品蓄力</td>\n",
       "      <td>https://www.menet.com.cn/info/202409/202409051...</td>\n",
       "      <td>20240905</td>\n",
       "    </tr>\n",
       "    <tr>\n",
       "      <th>2</th>\n",
       "      <td>492只医药股上半年成绩单！迈瑞净利润首破70亿，5家晋身10亿军团，甘李、海思科……翻倍</td>\n",
       "      <td>https://www.menet.com.cn/info/202409/202409051...</td>\n",
       "      <td>20240905</td>\n",
       "    </tr>\n",
       "    <tr>\n",
       "      <th>3</th>\n",
       "      <td>63个中成药厉害了！独家品种大涨133%，3个超10亿品种亮眼，扬子江、济川、天士力霸屏</td>\n",
       "      <td>https://www.menet.com.cn/info/202409/202409050...</td>\n",
       "      <td>20240905</td>\n",
       "    </tr>\n",
       "    <tr>\n",
       "      <th>4</th>\n",
       "      <td>信立泰厉害了！12款1类新药曝光，猛攻1300亿市场，5款新药上市可期</td>\n",
       "      <td>https://www.menet.com.cn/info/202409/202409031...</td>\n",
       "      <td>20240903</td>\n",
       "    </tr>\n",
       "    <tr>\n",
       "      <th>...</th>\n",
       "      <td>...</td>\n",
       "      <td>...</td>\n",
       "      <td>...</td>\n",
       "    </tr>\n",
       "    <tr>\n",
       "      <th>181</th>\n",
       "      <td>医药行业周报：安进1类新药在华再获批临床</td>\n",
       "      <td>https://bydrug.pharmcube.com/report/detail/61a...</td>\n",
       "      <td>2024-09-09 10:51:50</td>\n",
       "    </tr>\n",
       "    <tr>\n",
       "      <th>182</th>\n",
       "      <td>医药行业周报：连锁药房总数面临拐点，集中度加速提升</td>\n",
       "      <td>https://bydrug.pharmcube.com/report/detail/2ee...</td>\n",
       "      <td>2024-09-09 10:41:53</td>\n",
       "    </tr>\n",
       "    <tr>\n",
       "      <th>183</th>\n",
       "      <td>生物医药行业周报：高值耗材集采进入密集执行期，建议关注相关优质企业份额提升机会</td>\n",
       "      <td>https://bydrug.pharmcube.com/report/detail/796...</td>\n",
       "      <td>2024-09-09 10:23:50</td>\n",
       "    </tr>\n",
       "    <tr>\n",
       "      <th>184</th>\n",
       "      <td>生物制品行业跟踪报告：血制品2024H1综述，血制品行业稳健增长，行业整合加速</td>\n",
       "      <td>https://bydrug.pharmcube.com/report/detail/d3d...</td>\n",
       "      <td>2024-09-09 10:02:16</td>\n",
       "    </tr>\n",
       "    <tr>\n",
       "      <th>185</th>\n",
       "      <td>医药生物行业报告：半年报业绩整体稳健，分化中挖掘底部机会</td>\n",
       "      <td>https://bydrug.pharmcube.com/report/detail/ef3...</td>\n",
       "      <td>2024-09-06 11:43:15</td>\n",
       "    </tr>\n",
       "  </tbody>\n",
       "</table>\n",
       "<p>186 rows × 3 columns</p>\n",
       "</div>"
      ],
      "text/plain": [
       "                                             title  \\\n",
       "0                  “数智引领 价值重构”——2024全国慢病管理零售论坛顺利召开   \n",
       "1      山东新时代爆发了！拿下9个重磅品种，猛攻1100亿市场，11款1类新药、44个新品蓄力   \n",
       "2    492只医药股上半年成绩单！迈瑞净利润首破70亿，5家晋身10亿军团，甘李、海思科……翻倍   \n",
       "3     63个中成药厉害了！独家品种大涨133%，3个超10亿品种亮眼，扬子江、济川、天士力霸屏   \n",
       "4              信立泰厉害了！12款1类新药曝光，猛攻1300亿市场，5款新药上市可期   \n",
       "..                                             ...   \n",
       "181                           医药行业周报：安进1类新药在华再获批临床   \n",
       "182                      医药行业周报：连锁药房总数面临拐点，集中度加速提升   \n",
       "183        生物医药行业周报：高值耗材集采进入密集执行期，建议关注相关优质企业份额提升机会   \n",
       "184        生物制品行业跟踪报告：血制品2024H1综述，血制品行业稳健增长，行业整合加速   \n",
       "185                   医药生物行业报告：半年报业绩整体稳健，分化中挖掘底部机会   \n",
       "\n",
       "                                                   url                 date  \n",
       "0    https://www.menet.com.cn/info/202409/202409091...             20240909  \n",
       "1    https://www.menet.com.cn/info/202409/202409051...             20240905  \n",
       "2    https://www.menet.com.cn/info/202409/202409051...             20240905  \n",
       "3    https://www.menet.com.cn/info/202409/202409050...             20240905  \n",
       "4    https://www.menet.com.cn/info/202409/202409031...             20240903  \n",
       "..                                                 ...                  ...  \n",
       "181  https://bydrug.pharmcube.com/report/detail/61a...  2024-09-09 10:51:50  \n",
       "182  https://bydrug.pharmcube.com/report/detail/2ee...  2024-09-09 10:41:53  \n",
       "183  https://bydrug.pharmcube.com/report/detail/796...  2024-09-09 10:23:50  \n",
       "184  https://bydrug.pharmcube.com/report/detail/d3d...  2024-09-09 10:02:16  \n",
       "185  https://bydrug.pharmcube.com/report/detail/ef3...  2024-09-06 11:43:15  \n",
       "\n",
       "[186 rows x 3 columns]"
      ]
     },
     "execution_count": 568,
     "metadata": {},
     "output_type": "execute_result"
    }
   ],
   "source": [
    "df"
   ]
  },
  {
   "cell_type": "code",
   "execution_count": 570,
   "id": "ac4db1b8-617a-49e0-bf92-96084909f126",
   "metadata": {},
   "outputs": [],
   "source": [
    "result = result1 + result2 + result3"
   ]
  },
  {
   "cell_type": "code",
   "execution_count": 572,
   "id": "d8e617f2-49b0-42db-a7f3-eba90649590f",
   "metadata": {},
   "outputs": [],
   "source": [
    "def get_and_send(item):\n",
    "    url = item['url']\n",
    "    title= item['title']\n",
    "    summary = summarize(url)\n",
    "    return summary"
   ]
  },
  {
   "cell_type": "code",
   "execution_count": 574,
   "id": "658aadb5-78ad-404e-95e2-3ac10b8ab284",
   "metadata": {},
   "outputs": [],
   "source": [
    "li = result = result1 + result2 + result3"
   ]
  },
  {
   "cell_type": "code",
   "execution_count": 576,
   "id": "f1db4f08-4815-45f7-b864-634ac20327b8",
   "metadata": {},
   "outputs": [
    {
     "name": "stdout",
     "output_type": "stream",
     "text": [
      "2024年第一季度，中国零售药店中成药市场强劲，63个中成药品种销售额破亿，集中在呼吸系统领域，总销售额超160亿元。其中，3个品种销售额超10亿，9个品种增长率超50%，扬子江、济川、天士力等药企表现突出。独家品种成为增长亮点，共34个，部分如穿心莲内酯滴丸增长率高达133%。云南白药以3个独家品种领先。这表明中成药市场需求旺盛，独家与知名品牌中成药展现出显著的市场竞争力和增长潜力。\n"
     ]
    }
   ],
   "source": [
    "summary = get_and_send(li[3])"
   ]
  },
  {
   "cell_type": "code",
   "execution_count": 577,
   "id": "49b09399-2621-4241-8c33-f5eecc21f3fd",
   "metadata": {},
   "outputs": [
    {
     "data": {
      "text/plain": [
       "'“数智引领 价值重构”——2024全国慢病管理零售论坛顺利召开'"
      ]
     },
     "execution_count": 577,
     "metadata": {},
     "output_type": "execute_result"
    }
   ],
   "source": [
    "title"
   ]
  },
  {
   "cell_type": "code",
   "execution_count": 578,
   "id": "49122ab1-c024-4984-97ca-4bfcfef2ba62",
   "metadata": {},
   "outputs": [],
   "source": [
    "# summary = f\"# {title}\"+ summary"
   ]
  },
  {
   "cell_type": "code",
   "execution_count": 579,
   "id": "8ea88a89-ee42-4ec7-ac22-fddc3ed6458c",
   "metadata": {},
   "outputs": [],
   "source": [
    "url2 = 'https://qyapi.weixin.qq.com/cgi-bin/webhook/send?key=660ed8dd-be77-4f1b-8de8-774d53f1f39c'"
   ]
  },
  {
   "cell_type": "code",
   "execution_count": 580,
   "id": "bf39123d-ccf3-424b-bb23-6a8ffdafb401",
   "metadata": {},
   "outputs": [],
   "source": [
    "def send_markdown_to_wechat(msg='test', webhook_url='https://qyapi.weixin.qq.com/cgi-bin/webhook/send?key=a0ad9b92-b9a5-43d3-a129-98c954ecb159'):\n",
    "    \n",
    "    headers = {  \n",
    "        'Content-Type': 'application/json',  \n",
    "    }\n",
    "\n",
    "    data = {\n",
    "        \"msgtype\": \"markdown\",\n",
    "        \"markdown\": {\n",
    "            \"content\": msg\n",
    "        }\n",
    "    }\n",
    "   \n",
    "    response = requests.post(webhook_url, json=data, headers=headers)"
   ]
  },
  {
   "cell_type": "code",
   "execution_count": 581,
   "id": "fcab28d4-f44c-4126-95e7-ecacef89778a",
   "metadata": {},
   "outputs": [],
   "source": [
    " send_markdown_to_wechat(summary, )"
   ]
  },
  {
   "cell_type": "code",
   "execution_count": 582,
   "id": "01fa5c20-b852-469a-acdc-53b8ed449568",
   "metadata": {},
   "outputs": [],
   "source": [
    "send_markdown_to_wechat(summary, url2 )"
   ]
  },
  {
   "cell_type": "code",
   "execution_count": 583,
   "id": "477994c3-02de-43a7-8921-8d44e0d84337",
   "metadata": {},
   "outputs": [
    {
     "data": {
      "text/plain": [
       "218"
      ]
     },
     "execution_count": 583,
     "metadata": {},
     "output_type": "execute_result"
    }
   ],
   "source": [
    "len('2024年第一季度，中国零售药店中成药市场表现强劲，销售额超390亿元，其中63个品种销售额破亿，集中在呼吸系统治疗领域。这些中成药中，3个品种销售额超10亿，整体增长显著，尤其是独家品种表现出色，有34个独家品种（含剂型）表现出色，云南白药、扬子江、天士力等企业领涨，部分独家药品增长率甚至高达133%。扬子江、天士力、济川等企业因其拳头产品的突出表现而占据市场领先地位。这反映了中成药市场需求旺盛，独家品种和知名品牌具有较强竞争力。')"
   ]
  },
  {
   "cell_type": "code",
   "execution_count": 362,
   "id": "e730b255-3a19-4226-9434-844fe372a3d2",
   "metadata": {},
   "outputs": [],
   "source": [
    "r = requests.get('https://bydrug.pharmcube.com/')"
   ]
  },
  {
   "cell_type": "code",
   "execution_count": 363,
   "id": "68c5815f-3ea3-4d33-a9bb-6ee92531f66e",
   "metadata": {},
   "outputs": [],
   "source": [
    "soup = BeautifulSoup(r.text, 'html.parser')"
   ]
  },
  {
   "cell_type": "code",
   "execution_count": 364,
   "id": "a8220521-9cf3-417b-8a1c-ad7b266bbe52",
   "metadata": {},
   "outputs": [
    {
     "data": {
      "text/plain": [
       "<!DOCTYPE html>\n",
       "\n",
       "<html data-n-head=\"%7B%22lang%22:%7B%22ssr%22:%22zh%22%7D%7D\" data-n-head-ssr=\"\" lang=\"zh\">\n",
       "<head>\n",
       "<meta charset=\"utf-8\" data-n-head=\"ssr\"/><meta content=\"width=device-width, initial-scale=1.0, minimum-scale=1, maximum-scale=1, user-scalable=no\" data-n-head=\"ssr\" name=\"viewport\"/><meta content=\"telephone=no\" data-n-head=\"ssr\" name=\"format-detection\"/><meta content=\"codeva-eL5dxvvOkL\" data-n-head=\"ssr\" name=\"baidu-site-verification\"/><meta content=\"strict-origin-when-cross-origin\" data-n-head=\"ssr\" name=\"referrer\"/><meta content=\"研究报告，医药魔方独家研究报告，海外研究报告，药企演讲ppt，药企财报，招股书，招股说明书，CDE培训咨询会议，FDA咨询会议，医药行业会议，药品获批新闻，医药新闻，医药魔方深度分析，热点研究，中国医疗器械，医疗器械上市数据，医疗器械注册数据，医疗器械注册审批信息，获批新药，license out，国家集采中标，医保谈判结果，ByDrug，掰药\" data-n-head=\"ssr\" name=\"keywords\"/><meta content=\"ByDrug掰药是一个专业的、覆盖医药行业药械相关信息资源和媒体资讯服务的共享中心。聚焦于药物和器械研发信息，面向医药行业从业人员提供医药行业优质研究报告、新闻报道、医药类专利和中国及海外医疗器械数据等。\" data-hid=\"description\" data-n-head=\"ssr\" name=\"description\"/><title>ByDrug-一站式医药资源共享中心-医药魔方</title><link data-n-head=\"ssr\" href=\"https://vcdn.pharmcube.com/1672301164623_logo-2.svg\" rel=\"icon\" type=\"image/x-icon\"/><script data-n-head=\"ssr\" src=\"https://hm.baidu.com/hm.js?aedff73bc4f02be835e11695a0b2066e\"></script><script data-n-head=\"ssr\" src=\"https://cdn.beschannels.com/js-sdk/collect-0.0.5.min.js\"></script><link as=\"script\" href=\"/_nuxt/90ca5b3.js\" rel=\"preload\"/><link as=\"script\" href=\"/_nuxt/b325f63.js\" rel=\"preload\"/><link as=\"style\" href=\"/_nuxt/css/27bf4da.css\" rel=\"preload\"/><link as=\"script\" href=\"/_nuxt/21c0bce.js\" rel=\"preload\"/><link as=\"style\" href=\"/_nuxt/css/5c39864.css\" rel=\"preload\"/><link as=\"script\" href=\"/_nuxt/abdeb3a.js\" rel=\"preload\"/><link as=\"style\" href=\"/_nuxt/css/af88994.css\" rel=\"preload\"/><link as=\"script\" href=\"/_nuxt/26f4176.js\" rel=\"preload\"/><link as=\"style\" href=\"/_nuxt/css/c0b72af.css\" rel=\"preload\"/><link as=\"script\" href=\"/_nuxt/21d6e0e.js\" rel=\"preload\"/><link as=\"style\" href=\"/_nuxt/css/9fee54f.css\" rel=\"preload\"/><link as=\"script\" href=\"/_nuxt/899bd2d.js\" rel=\"preload\"/><link as=\"style\" href=\"/_nuxt/css/d26a049.css\" rel=\"preload\"/><link as=\"script\" href=\"/_nuxt/f8c2ee8.js\" rel=\"preload\"/><link as=\"style\" href=\"/_nuxt/css/64c1edb.css\" rel=\"preload\"/><link as=\"script\" href=\"/_nuxt/f5958aa.js\" rel=\"preload\"/><link as=\"style\" href=\"/_nuxt/css/5528309.css\" rel=\"preload\"/><link as=\"script\" href=\"/_nuxt/0e8d870.js\" rel=\"preload\"/><link href=\"/_nuxt/css/27bf4da.css\" rel=\"stylesheet\"/><link href=\"/_nuxt/css/5c39864.css\" rel=\"stylesheet\"/><link href=\"/_nuxt/css/af88994.css\" rel=\"stylesheet\"/><link href=\"/_nuxt/css/c0b72af.css\" rel=\"stylesheet\"/><link href=\"/_nuxt/css/9fee54f.css\" rel=\"stylesheet\"/><link href=\"/_nuxt/css/d26a049.css\" rel=\"stylesheet\"/><link href=\"/_nuxt/css/64c1edb.css\" rel=\"stylesheet\"/><link href=\"/_nuxt/css/5528309.css\" rel=\"stylesheet\"/>\n",
       "</head>\n",
       "<body>\n",
       "<div data-server-rendered=\"true\" id=\"__nuxt\"><!-- --><div id=\"__layout\"><div class=\"nuxt-layout\"><img alt=\"\" src=\"https://vcdn.pharmcube.com/1672301164623_logo-2.svg\" style=\"width:64px;height:64px;visibility:hidden;position:fixed;\"/> <div class=\"cube-layout\" data-v-5c8b65e4=\"\" data-v-65ceef8e=\"\"><div class=\"cube-layout__nav web\" data-v-5c8b65e4=\"\"><div class=\"cube-nav\" data-v-3b232041=\"\" data-v-5c8b65e4=\"\" style=\"z-index:900;\"><div class=\"mf-gw-container mf-flex mf-justify-between mf-items-center\" data-v-3b232041=\"\"><a class=\"mf-flex mf-items-center\" data-v-3b232041=\"\" href=\"https://www.pharmcube.com\"><i class=\"iconfont icon-left\" data-v-3b232041=\"\"></i> <span data-v-3b232041=\"\">返回医药魔方首页</span></a> <a data-v-3b232041=\"\" href=\"https://www.pharmcube.com/product/about/index\" target=\"_blank\">关于医药魔方</a></div> <div class=\"cube-nav-inner cube-nav-inner__showdow\" data-v-3b232041=\"\"><div class=\"logo\" data-v-3b232041=\"\"><a data-v-3b232041=\"\" href=\"https://www.pharmcube.com\"><img alt=\"\" class=\"mofang\" data-v-3b232041=\"\" src=\"https://vcdn.pharmcube.com/drawbed/1710833114943_mofang.svg\"/></a> <div class=\"divider\" data-v-3b232041=\"\"></div> <a data-v-3b232041=\"\" href=\"/\"><img alt=\"\" class=\"bydrug\" data-v-3b232041=\"\" src=\"https://vcdn.pharmcube.com/drawbed/1710833114942_drug.svg\"/></a></div> <div class=\"menu\" data-v-3b232041=\"\"><ul class=\"cube-nav-menu\" data-v-3b232041=\"\" data-v-c534db4c=\"\"><li class=\"importantHover\" data-v-c534db4c=\"\" style=\"color:rgb(0,146,188);--color-hover:rgb(0,146,188);\"><span class=\"menu-item menu-item--active\" data-v-c534db4c=\"\"><a data-v-c534db4c=\"\" href=\"https://bydrug.pharmcube.com/\" target=\"\"><span data-v-c534db4c=\"\" style=\"font-size:0;color:rgb(0,146,188);\"><span data-v-c534db4c=\"\" style=\"font-size:14px;\">首页</span> <!-- --> <!-- --></span></a> <!-- --> <!-- --></span> <!-- --></li><li class=\"importantHover\" data-v-c534db4c=\"\" style=\"color:rgb(52,55,56);--color-hover:rgb(0,146,188);\"><span class=\"menu-item\" data-v-c534db4c=\"\"><a data-v-c534db4c=\"\" href=\"https://bydrug.pharmcube.com/report\" target=\"\"><span data-v-c534db4c=\"\" style=\"font-size:0;color:rgb(52,55,56);\"><span data-v-c534db4c=\"\" style=\"font-size:14px;\">医药报告</span> <!-- --> <!-- --></span></a> <span class=\"icon-arrow\" data-v-c534db4c=\"\" style=\"color:rgb(52,55,56);\"><svg class=\"cube-slot-nav__nav-menu__svg\" data-v-c534db4c=\"\" height=\"16\" viewbox=\"0 0 1024 1024\" width=\"16\"><path d=\"M792.137143 338.139429a36.571429 36.571429 0 0 0-51.565714 3.584L513.462857 603.062857 283.282286 341.577143a36.425143 36.425143 0 1 0-54.784 48.201143L485.668571 683.300571l0.438858 0.292572a36.132571 36.132571 0 0 0 26.331428 11.264l0.512-0.146286 0.585143 0.146286a36.352 36.352 0 0 0 13.897143-2.925714 65.389714 65.389714 0 0 0 10.24-6.217143 36.571429 36.571429 0 0 0 3.364571-3.364572l254.537143-292.717714a36.571429 36.571429 0 0 0-3.510857-51.492571\" fill=\"currentColor\"></path></svg></span> <!-- --></span> <ul class=\"sub-menus\" data-v-c534db4c=\"\"><li data-v-c534db4c=\"\"><a data-v-c534db4c=\"\" href=\"https://bydrug.pharmcube.com/report\" style=\"width:100%;\"><span data-v-c534db4c=\"\">研究报告</span> <!-- --> <!-- --></a></li><li data-v-c534db4c=\"\"><a data-v-c534db4c=\"\" href=\"https://bydrug.pharmcube.com/report-device\" style=\"width:100%;\"><span data-v-c534db4c=\"\">医疗器械</span> <!-- --> <!-- --></a></li><li data-v-c534db4c=\"\"><a data-v-c534db4c=\"\" href=\"https://bydrug.pharmcube.com/chart\" style=\"width:100%;\"><span data-v-c534db4c=\"\">图表数据</span> <!-- --> <!-- --></a></li></ul></li><li class=\"importantHover\" data-v-c534db4c=\"\" style=\"color:rgb(52,55,56);--color-hover:rgb(0,146,188);\"><span class=\"menu-item\" data-v-c534db4c=\"\"><a data-v-c534db4c=\"\" href=\"https://bydrug.pharmcube.com/news\" target=\"\"><span data-v-c534db4c=\"\" style=\"font-size:0;color:rgb(52,55,56);\"><span data-v-c534db4c=\"\" style=\"font-size:14px;\">医药新闻</span> <!-- --> <!-- --></span></a> <!-- --> <!-- --></span> <!-- --></li><li class=\"importantHover\" data-v-c534db4c=\"\" style=\"color:rgb(52,55,56);--color-hover:rgb(0,146,188);\"><span class=\"menu-item\" data-v-c534db4c=\"\"><a data-v-c534db4c=\"\" href=\"https://bydrug.pharmcube.com/topic\" target=\"\"><span data-v-c534db4c=\"\" style=\"font-size:0;color:rgb(52,55,56);\"><span data-v-c534db4c=\"\" style=\"font-size:14px;\">医药专题</span> <!-- --> <!-- --></span></a> <!-- --> <!-- --></span> <!-- --></li><li class=\"importantHover\" data-v-c534db4c=\"\" style=\"color:rgb(52,55,56);--color-hover:rgb(0,146,188);\"><span class=\"menu-item\" data-v-c534db4c=\"\"><a data-v-c534db4c=\"\" href=\"https://bydrug.pharmcube.com/data\" target=\"\"><span data-v-c534db4c=\"\" style=\"font-size:0;color:rgb(52,55,56);\"><span data-v-c534db4c=\"\" style=\"font-size:14px;\">数据查询</span> <!-- --> <!-- --></span></a> <!-- --> <span class=\"icon-arrow icon-no-rotate\" data-v-c534db4c=\"\" style=\"color:rgb(52,55,56);\"><svg class=\"cube-slot-nav__nav-menu__svg\" data-v-c534db4c=\"\" height=\"16\" viewbox=\"0 0 1024 1024\" width=\"16\"><path d=\"M792.137143 338.139429a36.571429 36.571429 0 0 0-51.565714 3.584L513.462857 603.062857 283.282286 341.577143a36.425143 36.425143 0 1 0-54.784 48.201143L485.668571 683.300571l0.438858 0.292572a36.132571 36.132571 0 0 0 26.331428 11.264l0.512-0.146286 0.585143 0.146286a36.352 36.352 0 0 0 13.897143-2.925714 65.389714 65.389714 0 0 0 10.24-6.217143 36.571429 36.571429 0 0 0 3.364571-3.364572l254.537143-292.717714a36.571429 36.571429 0 0 0-3.510857-51.492571\" fill=\"currentColor\"></path></svg></span></span> <!-- --></li><li class=\"importantHover\" data-v-c534db4c=\"\" style=\"color:rgb(52,55,56);--color-hover:rgb(0,146,188);\"><span class=\"menu-item\" data-v-c534db4c=\"\"><a data-v-c534db4c=\"\" href=\"https://go.pharmcube.com/medical_policy\" target=\"_blank\"><span data-v-c534db4c=\"\" style=\"font-size:0;color:rgb(52,55,56);\"><span data-v-c534db4c=\"\" style=\"font-size:14px;\">医药政策</span> <!-- --> <!-- --></span></a> <!-- --> <!-- --></span> <!-- --></li> <div class=\"databox-popover mf-flex mf-pl-200px\" data-v-c534db4c=\"\" style=\"display:none;\"><div data-v-c534db4c=\"\" style=\"width: 1200px; margin: 0 auto\"><div class=\"ant-row\" data-v-c534db4c=\"\"><div class=\"ant-col ant-col-6\" data-v-c534db4c=\"\" style=\"padding-left:16px;padding-right:16px;\"><div class=\"databox-popover-title\" data-v-c534db4c=\"\"><span data-v-c534db4c=\"\">药物研发</span></div> <div class=\"databox-popover-content mf-flex mf-justify-between\" data-v-c534db4c=\"\"><ul data-v-c534db4c=\"\"><li class=\"box-row\" data-v-c534db4c=\"\"><a data-v-c534db4c=\"\" href=\"https://bydrug.pharmcube.com/data/list/freePat\">医药专利</a></li></ul></div></div><div class=\"ant-col ant-col-6\" data-v-c534db4c=\"\" style=\"padding-left:16px;padding-right:16px;\"><div class=\"databox-popover-title\" data-v-c534db4c=\"\"><span data-v-c534db4c=\"\">中国器械</span></div> <div class=\"databox-popover-content mf-flex mf-justify-between\" data-v-c534db4c=\"\"><ul data-v-c534db4c=\"\"><li class=\"box-row\" data-v-c534db4c=\"\"><a data-v-c534db4c=\"\" href=\"https://bydrug.pharmcube.com/data/list/deviceCNImported\">中国大陆上市</a></li><li class=\"box-row mf-mt-10px\" data-v-c534db4c=\"\"><a data-v-c534db4c=\"\" href=\"https://bydrug.pharmcube.com/data/list/deviceCNEvaluation\">中国大陆审评</a></li><li class=\"box-row mf-mt-10px\" data-v-c534db4c=\"\"><a data-v-c534db4c=\"\" href=\"https://bydrug.pharmcube.com/data/list/deviceHK\">中国香港上市</a></li></ul></div></div><div class=\"ant-col ant-col-6\" data-v-c534db4c=\"\" style=\"padding-left:16px;padding-right:16px;\"><div class=\"databox-popover-title\" data-v-c534db4c=\"\"><span data-v-c534db4c=\"\">全球器械</span></div> <div class=\"databox-popover-content mf-flex mf-justify-between\" data-v-c534db4c=\"\"><ul data-v-c534db4c=\"\"><li class=\"box-row\" data-v-c534db4c=\"\"><a data-v-c534db4c=\"\" href=\"https://bydrug.pharmcube.com/data/list/deviceUS\">美国上市</a></li><li class=\"box-row mf-mt-10px\" data-v-c534db4c=\"\"><a data-v-c534db4c=\"\" href=\"https://bydrug.pharmcube.com/data/list/deviceJP\">日本上市</a></li><li class=\"box-row mf-mt-10px\" data-v-c534db4c=\"\"><a data-v-c534db4c=\"\" href=\"https://bydrug.pharmcube.com/data/list/deviceUK\">英国上市</a></li><li class=\"box-row mf-mt-10px\" data-v-c534db4c=\"\"><a data-v-c534db4c=\"\" href=\"https://bydrug.pharmcube.com/data/list/deviceSG\">新加坡上市</a></li><li class=\"box-row mf-mt-10px\" data-v-c534db4c=\"\"><a data-v-c534db4c=\"\" href=\"https://bydrug.pharmcube.com/data/list/devicePT\">葡萄牙上市</a></li><li class=\"box-row mf-mt-10px\" data-v-c534db4c=\"\"><a data-v-c534db4c=\"\" href=\"https://bydrug.pharmcube.com/data/list/deviceRO\">罗马尼亚上市</a></li><li class=\"box-row mf-mt-10px\" data-v-c534db4c=\"\"><a data-v-c534db4c=\"\" href=\"https://bydrug.pharmcube.com/data/list/deviceSA\">沙特上市</a></li></ul></div></div><div class=\"ant-col ant-col-6\" data-v-c534db4c=\"\" style=\"padding-left:16px;padding-right:16px;\"><div class=\"databox-popover-title\" data-v-c534db4c=\"\"><span data-v-c534db4c=\"\">专题数据</span></div> <div class=\"databox-popover-content mf-flex mf-justify-between\" data-v-c534db4c=\"\"><ul data-v-c534db4c=\"\"><li class=\"box-row\" data-v-c534db4c=\"\"><a data-v-c534db4c=\"\" href=\"https://bydrug.pharmcube.com/data/list/subjectNewdrug\">全球获批新药</a></li><li class=\"box-row mf-mt-10px\" data-v-c534db4c=\"\"><a data-v-c534db4c=\"\" href=\"https://bydrug.pharmcube.com/data/list/subjectLicenseout\">License out</a></li><li class=\"box-row mf-mt-10px\" data-v-c534db4c=\"\"><a data-v-c534db4c=\"\" href=\"https://bydrug.pharmcube.com/data/list/subjectVbp\">国家集采结果</a></li><li class=\"box-row mf-mt-10px\" data-v-c534db4c=\"\"><a data-v-c534db4c=\"\" href=\"https://bydrug.pharmcube.com/data/list/subjectHealthcare\">医保谈判结果</a></li></ul></div></div></div></div></div></ul></div> <div class=\"right\" data-v-3b232041=\"\" style=\"color:rgb(52,55,56);\"> <!-- --> <div class=\"lang-text importantHover\" data-v-3b232041=\"\" style=\"color:rgb(52,55,56);--color-hover:rgb(0,146,188);display:none;\"><svg class=\"cube-slot-nav__nav-menu__svg\" data-v-3b232041=\"\" height=\"24\" version=\"1.1\" viewbox=\"0 0 1024 1024\" width=\"24\" xmlns=\"http://www.w3.org/2000/svg\"><path d=\"M512 85.333333c235.648 0 426.666667 191.018667 426.666667 426.666667s-191.018667 426.666667-426.666667 426.666667S85.333333 747.648 85.333333 512 276.352 85.333333 512 85.333333z m0 42.666667a384 384 0 1 0 0 768 384 384 0 0 0 0-768z\" fill=\"currentColor\" p-id=\"4923\"></path> <path d=\"M469.333333 349.866667a25.6 25.6 0 1 1 0 51.2H332.757333v85.333333H469.333333a25.6 25.6 0 1 1 0 51.2H332.757333v85.333333H469.333333a25.6 25.6 0 0 1 0 51.2H307.2a25.6 25.6 0 0 1-25.6-25.6l0.085333-2.133333a25.941333 25.941333 0 0 1-0.085333-2.133333V375.466667a25.6 25.6 0 0 1 25.6-25.6H469.333333z m247.466667 0a25.6 25.6 0 0 1 25.6 25.6v273.066666a25.6 25.6 0 0 1-51.114667 1.877334l-0.085333 0.128-85.333333-171.690667V648.533333a25.6 25.6 0 0 1-51.2 0V375.466667a25.6 25.6 0 0 1 51.029333-2.944l0.170667-0.085334 85.290666 161.621334L691.2 375.466667a25.6 25.6 0 0 1 25.6-25.6z\" fill=\"currentColor\" p-id=\"4924\"></path></svg></div> <!-- --> <div data-v-3b232041=\"\"><span class=\"exit-text mf-relative\" data-v-3b232041=\"\">登录</span> <!-- --></div></div></div></div></div> <div class=\"cube-layout__nav h5\" data-v-5c8b65e4=\"\"><div class=\"h5-header mf-flex mf-items-center mf-justify-between\" data-v-5c8b65e4=\"\"><a data-v-5c8b65e4=\"\" href=\"https://pharmcube.com\"><i class=\"iconfont icon-logo-dantuxing\" data-v-5c8b65e4=\"\" style=\"color: #0092bc; font-size: 24px\"></i></a> <div class=\"title\" data-v-5c8b65e4=\"\">医药魔方ByDrug</div> <div class=\"mf-flex mf-items-center\" data-v-5c8b65e4=\"\"><i class=\"iconfont icon-menu\" data-v-5c8b65e4=\"\" style=\"color: #0092bc; font-size: 24px\"></i> <!-- --></div></div></div> <div class=\"cube-layout__content mf-relative\" data-v-5c8b65e4=\"\"><div class=\"nuxt-content-container\" data-v-5c8b65e4=\"\" data-v-65ceef8e=\"\" style=\"overflow-x:hidden;padding-top:36px;\"><div class=\"top-banner mf-relative mf-h-514px\" data-v-5c8b65e4=\"\" data-v-65ceef8e=\"\" style=\"width:100vw;\"><div class=\"coverbg\" data-v-5c8b65e4=\"\" data-v-65ceef8e=\"\"></div> <div class=\"home-center-layout mf-pt-24px\" data-v-5c8b65e4=\"\" data-v-65ceef8e=\"\" style=\"margin-left:calc(50vw - 625px);\"><div class=\"bg\" data-v-5c8b65e4=\"\" data-v-65ceef8e=\"\"></div> <div class=\"top-mfreport-container ant-row\" data-v-65ceef8e=\"\"><div class=\"ant-col ant-col-12 ant-col-xs-24 ant-col-md-24 ant-col-lg-12 ant-col-xl-12\" data-v-65ceef8e=\"\"><div class=\"title-container\" data-v-65ceef8e=\"\"><div class=\"mfreport-tags\" data-v-65ceef8e=\"\" style=\"margin-top:38px;height:26px;\"><!-- --></div> <h1 class=\"mfreport-fileName mf-line-clamp-3 mf-mt-16px\" data-v-65ceef8e=\"\">\n",
       "                DeepMed临床指南-2024非小细胞肺癌临床指南洞察报告\n",
       "              </h1> <button class=\"mfreport-btn ant-btn ant-btn-primary\" data-v-65ceef8e=\"\" type=\"button\"><span>立即查看</span></button></div></div> <div class=\"ant-col ant-col-12 ant-col-xs-24 ant-col-md-24 ant-col-lg-12 ant-col-xl-12\" data-v-65ceef8e=\"\"></div></div> <div class=\"hot-reports-layout hot-reports-container mf-flex mf-items-center mf-justify-start\" data-v-5c8b65e4=\"\" data-v-65ceef8e=\"\"><div class=\"left mf-w-120px mf-flex mf-items-center mf-justify-center mofangtuijian\" data-v-5c8b65e4=\"\" data-v-65ceef8e=\"\"><img alt=\"魔方推荐报告\" data-v-5c8b65e4=\"\" data-v-65ceef8e=\"\" src=\"https://vcdn.pharmcube.com/1683868574791_形状结合@2x.png\" style=\"width:64px;height:70px;\"/></div> <div class=\"right reports-swiper mf-relative\" data-v-5c8b65e4=\"\" data-v-65ceef8e=\"\"><div class=\"indicator\" data-v-5c8b65e4=\"\" data-v-65ceef8e=\"\"><span class=\"active\" data-v-5c8b65e4=\"\" data-v-65ceef8e=\"\"></span> <span data-v-5c8b65e4=\"\" data-v-65ceef8e=\"\"></span></div> <div class=\"round left disable\" data-v-5c8b65e4=\"\" data-v-65ceef8e=\"\"><i class=\"iconfont icon-left\" data-v-5c8b65e4=\"\" data-v-65ceef8e=\"\"></i></div> <div class=\"round right\" data-v-5c8b65e4=\"\" data-v-65ceef8e=\"\"><i class=\"iconfont icon-down1\" data-v-5c8b65e4=\"\" data-v-65ceef8e=\"\"></i></div> <div class=\"reports-container ant-row\" data-v-65ceef8e=\"\" style=\"overflow:hidden;width:1080px;padding:0px 20px;\"><div class=\"mf-w-2080px slider\" data-v-65ceef8e=\"\"><div class=\"ant-col ant-col-4\" data-v-65ceef8e=\"\"><div class=\"hot-report-item\" data-v-65ceef8e=\"\"><div class=\"mf-line-clamp-2 hot-report-title-height\" data-v-65ceef8e=\"\"><span class=\"hot-report-item-tag mf-mr-4px\" data-v-65ceef8e=\"\">\n",
       "                        新药研发\n",
       "                      </span> <a class=\"hot-report-item-title\" data-v-65ceef8e=\"\" href=\"https://bydrug.pharmcube.com/report/detail/fc2e735bb74d477cb5e50b6fb44df2ce\" style=\"max-width:300px;\" target=\"_blank\">\n",
       "                        中国新药月报-第24期-2024年7月刊\n",
       "                      </a></div> <div class=\"hot-report-item-desc\" data-v-65ceef8e=\"\"><span class=\"gray-text\" data-v-65ceef8e=\"\">PharmaGO</span> <span class=\"divider\" data-v-65ceef8e=\"\"></span> <span class=\"gray-text\" data-v-65ceef8e=\"\">2024-08-15</span></div></div></div><div class=\"ant-col ant-col-4\" data-v-65ceef8e=\"\"><div class=\"hot-report-item\" data-v-65ceef8e=\"\"><div class=\"mf-line-clamp-2 hot-report-title-height\" data-v-65ceef8e=\"\"><span class=\"hot-report-item-tag mf-mr-4px\" data-v-65ceef8e=\"\">\n",
       "                        医药交易\n",
       "                      </span> <a class=\"hot-report-item-title\" data-v-65ceef8e=\"\" href=\"https://bydrug.pharmcube.com/report/detail/f291fe66050346c08ae3d0d0ca71e15c\" style=\"max-width:300px;\" target=\"_blank\">\n",
       "                        全球医药交易月报-2024年7月刊\n",
       "                      </a></div> <div class=\"hot-report-item-desc\" data-v-65ceef8e=\"\"><span class=\"gray-text\" data-v-65ceef8e=\"\">NextPharma</span> <span class=\"divider\" data-v-65ceef8e=\"\"></span> <span class=\"gray-text\" data-v-65ceef8e=\"\">2024-08-14</span></div></div></div><div class=\"ant-col ant-col-4\" data-v-65ceef8e=\"\"><div class=\"hot-report-item\" data-v-65ceef8e=\"\"><div class=\"mf-line-clamp-2 hot-report-title-height\" data-v-65ceef8e=\"\"><span class=\"hot-report-item-tag mf-mr-4px\" data-v-65ceef8e=\"\">\n",
       "                        新药研发\n",
       "                      </span> <a class=\"hot-report-item-title\" data-v-65ceef8e=\"\" href=\"https://bydrug.pharmcube.com/report/detail/9ce903ee817040e799110394eabcf239\" style=\"max-width:300px;\" target=\"_blank\">\n",
       "                        全球新药研发进展月报-第40期-2024年7月刊\n",
       "                      </a></div> <div class=\"hot-report-item-desc\" data-v-65ceef8e=\"\"><span class=\"gray-text\" data-v-65ceef8e=\"\">NextPharma</span> <span class=\"divider\" data-v-65ceef8e=\"\"></span> <span class=\"gray-text\" data-v-65ceef8e=\"\">2024-08-12</span></div></div></div><div class=\"ant-col ant-col-4\" data-v-65ceef8e=\"\"><div class=\"hot-report-item\" data-v-65ceef8e=\"\"><div class=\"mf-line-clamp-2 hot-report-title-height\" data-v-65ceef8e=\"\"><span class=\"hot-report-item-tag mf-mr-4px\" data-v-65ceef8e=\"\">\n",
       "                        医药交易\n",
       "                      </span> <a class=\"hot-report-item-title\" data-v-65ceef8e=\"\" href=\"https://bydrug.pharmcube.com/report/detail/7ff2d59d38944fddb6a23418fc42ca2b\" style=\"max-width:300px;\" target=\"_blank\">\n",
       "                        2024年H1 中国医药交易分析报告\n",
       "                      </a></div> <div class=\"hot-report-item-desc\" data-v-65ceef8e=\"\"><span class=\"gray-text\" data-v-65ceef8e=\"\">NextPharma</span> <span class=\"divider\" data-v-65ceef8e=\"\"></span> <span class=\"gray-text\" data-v-65ceef8e=\"\">2024-07-18</span></div></div></div><div class=\"ant-col ant-col-4\" data-v-65ceef8e=\"\"><div class=\"hot-report-item\" data-v-65ceef8e=\"\"><div class=\"mf-line-clamp-2 hot-report-title-height\" data-v-65ceef8e=\"\"><span class=\"hot-report-item-tag mf-mr-4px\" data-v-65ceef8e=\"\">\n",
       "                        专利洞察\n",
       "                      </span> <a class=\"hot-report-item-title\" data-v-65ceef8e=\"\" href=\"https://bydrug.pharmcube.com/report/detail/2bba9764b5ad464aabf8c186e6fe09f7\" style=\"max-width:300px;\" target=\"_blank\">\n",
       "                        专利调研报告——PARP抑制剂尼拉帕利（Niraparib）\n",
       "                      </a></div> <div class=\"hot-report-item-desc\" data-v-65ceef8e=\"\"><span class=\"gray-text\" data-v-65ceef8e=\"\">NextPat</span> <span class=\"divider\" data-v-65ceef8e=\"\"></span> <span class=\"gray-text\" data-v-65ceef8e=\"\">2024-07-17</span></div></div></div><div class=\"ant-col ant-col-4\" data-v-65ceef8e=\"\"><div class=\"hot-report-item\" data-v-65ceef8e=\"\"><div class=\"mf-line-clamp-2 hot-report-title-height\" data-v-65ceef8e=\"\"><span class=\"hot-report-item-tag mf-mr-4px\" data-v-65ceef8e=\"\">\n",
       "                        医药交易\n",
       "                      </span> <a class=\"hot-report-item-title\" data-v-65ceef8e=\"\" href=\"https://bydrug.pharmcube.com/report/detail/33b2d49875604b24b23eca62681ee9bd\" style=\"max-width:300px;\" target=\"_blank\">\n",
       "                        全球医药交易月报-2024年6月刊\n",
       "                      </a></div> <div class=\"hot-report-item-desc\" data-v-65ceef8e=\"\"><span class=\"gray-text\" data-v-65ceef8e=\"\">NextPharma</span> <span class=\"divider\" data-v-65ceef8e=\"\"></span> <span class=\"gray-text\" data-v-65ceef8e=\"\">2024-07-16</span></div></div></div></div></div></div></div></div></div> <div class=\"home-center-layout mf-mt-26px\" data-v-5c8b65e4=\"\" data-v-65ceef8e=\"\" style=\"margin-left:calc(50vw - 625px);\"><div class=\"mf-flex flex-wrap\" data-v-5c8b65e4=\"\" data-v-65ceef8e=\"\"><div class=\"left-wrap\" data-v-5c8b65e4=\"\" data-v-65ceef8e=\"\"><div class=\"report-container mf-bg-white mf-rounded-8px\" data-v-5c8b65e4=\"\" data-v-65ceef8e=\"\"><div class=\"lg-title-container mf-flex mf-items-end\" data-v-5c8b65e4=\"\" data-v-65ceef8e=\"\"><div class=\"lg-title\" data-v-5c8b65e4=\"\" data-v-65ceef8e=\"\"><h2 data-v-5c8b65e4=\"\" data-v-65ceef8e=\"\" style=\"z-index:2;position:relative;\">研究报告</h2> <img alt=\"\" class=\"shape\" data-v-5c8b65e4=\"\" data-v-65ceef8e=\"\" src=\"https://vcdn.pharmcube.com/1683869649817_形状结合@2x (1).png\"/></div> <div class=\"app-underline-switcher mf-ml-32px\" data-v-12f9d2f3=\"\" data-v-65ceef8e=\"\"><ul class=\"tabs\" data-v-12f9d2f3=\"\"><li class=\"tab active\" data-v-12f9d2f3=\"\">\n",
       "      最新\n",
       "\n",
       "      <em class=\"count\" data-v-12f9d2f3=\"\" style=\"display:none;\"></em> <span data-v-12f9d2f3=\"\"></span></li><li class=\"tab mf-ml-12px\" data-v-12f9d2f3=\"\">\n",
       "      药企PPT\n",
       "\n",
       "      <em class=\"count\" data-v-12f9d2f3=\"\" style=\"display:none;\"></em> <span data-v-12f9d2f3=\"\"></span></li><li class=\"tab mf-ml-12px\" data-v-12f9d2f3=\"\">\n",
       "      财报/招股书\n",
       "\n",
       "      <em class=\"count\" data-v-12f9d2f3=\"\" style=\"display:none;\"></em> <span data-v-12f9d2f3=\"\"></span></li></ul></div> <a class=\"lg-more alink mf-flex mf-items-center\" data-v-5c8b65e4=\"\" data-v-65ceef8e=\"\" href=\"https://bydrug.pharmcube.com/report\" target=\"_blank\"><div data-v-5c8b65e4=\"\" data-v-65ceef8e=\"\">更多</div> <i class=\"iconfont icon-down1\" data-v-5c8b65e4=\"\" data-v-65ceef8e=\"\"></i></a></div> <div class=\"ant-spin-nested-loading\" data-v-65ceef8e=\"\"><div class=\"ant-spin-container\"><div class=\"reportCommon-container\" data-v-65ceef8e=\"\"><div data-v-65ceef8e=\"\"><div class=\"item-report mf-px-16px mf-px-16px\" data-v-23503f46=\"\" data-v-65ceef8e=\"\"><div class=\"mf-flex mf-justify-start\" data-v-23503f46=\"\" style=\"height: 100%\"><div class=\"report-cover nozoom mf-mr-20px mf-flex mf-justify-center mf-items-center\" data-v-23503f46=\"\"><img alt=\"\" data-v-23503f46=\"\" src=\"https://vcdn.pharmcube.com/1687162426639_logo-2 (2).svg\" style=\"display:block;width:36px;height:38px;\"/></div> <div data-v-23503f46=\"\"><div class=\"mf-flex mf-items-center\" data-v-23503f46=\"\"><a class=\"fileName\" data-v-23503f46=\"\" href=\"https://bydrug.pharmcube.com/report/detail/bbd1d34c596d4ece9403a1b1e3c3ff0a\" style=\"max-width:1080px;\" target=\"_blank\">\n",
       "          医药行业周报：武田1类创新药拟纳入突破性治疗品种\n",
       "        </a> <!-- --></div> <div class=\"mf-flex mf-justify-start mf-items-center mf-mt-12px tag-row\" data-v-23503f46=\"\" style=\"height: 20px\"></div> <div class=\"mf-flex mf-justify-between mf-items-center mf-mt-16px\" data-v-23503f46=\"\"><div class=\"desc mf-inline-flex mf-items-center\" data-v-23503f46=\"\"><span class=\"text\" data-v-23503f46=\"\"><a class=\"dark-link\" data-v-23503f46=\"\" href=\"/report/summary/source/%E5%A4%AA%E5%B9%B3%E6%B4%8B\" target=\"_blank\">太平洋</a> <!-- --></span> <span class=\"divider\" data-v-23503f46=\"\"></span> <span class=\"text\" data-v-23503f46=\"\">2024-09-09</span><span class=\"divider\" data-v-23503f46=\"\"></span> <span class=\"text\" data-v-23503f46=\"\">0.36M</span><span class=\"divider\" data-v-23503f46=\"\"></span> <span class=\"text mf-inline-flex mf-items-center report_format\" data-v-23503f46=\"\"><!-- --> <i class=\"iconfont icon-pdf\" data-v-23503f46=\"\" style=\"color: #f46d3e\"></i> <!-- --> <!-- --> <div class=\"mf-ml-4px\" data-v-23503f46=\"\">3页</div></span></div> </div></div></div> <!-- --> <div class=\"bottom-line\" data-v-23503f46=\"\" style=\"opacity:1;width:calc(100% - 32px);\"></div></div></div><div data-v-65ceef8e=\"\"><div class=\"item-report mf-px-16px mf-px-16px\" data-v-23503f46=\"\" data-v-65ceef8e=\"\"><div class=\"mf-flex mf-justify-start\" data-v-23503f46=\"\" style=\"height: 100%\"><div class=\"report-cover nozoom mf-mr-20px mf-flex mf-justify-center mf-items-center\" data-v-23503f46=\"\"><img alt=\"\" data-v-23503f46=\"\" src=\"https://vcdn.pharmcube.com/1687162426639_logo-2 (2).svg\" style=\"display:block;width:36px;height:38px;\"/></div> <div data-v-23503f46=\"\"><div class=\"mf-flex mf-items-center\" data-v-23503f46=\"\"><a class=\"fileName\" data-v-23503f46=\"\" href=\"https://bydrug.pharmcube.com/report/detail/387872a4d0b0451eb9f6dcd6ca8a702c\" style=\"max-width:1080px;\" target=\"_blank\">\n",
       "          医药生物行业周报：健康乡村建设助力渠道下沉，看好医药Q3修复\n",
       "        </a> <!-- --></div> <div class=\"mf-flex mf-justify-start mf-items-center mf-mt-12px tag-row\" data-v-23503f46=\"\" style=\"height: 20px\"></div> <div class=\"mf-flex mf-justify-between mf-items-center mf-mt-16px\" data-v-23503f46=\"\"><div class=\"desc mf-inline-flex mf-items-center\" data-v-23503f46=\"\"><span class=\"text\" data-v-23503f46=\"\"><a class=\"dark-link\" data-v-23503f46=\"\" href=\"/report/summary/source/%E4%B8%AD%E6%B3%B0%E8%AF%81%E5%88%B8\" target=\"_blank\">中泰证券</a> <!-- --></span> <span class=\"divider\" data-v-23503f46=\"\"></span> <span class=\"text\" data-v-23503f46=\"\">2024-09-09</span><span class=\"divider\" data-v-23503f46=\"\"></span> <span class=\"text\" data-v-23503f46=\"\">1.27M</span><span class=\"divider\" data-v-23503f46=\"\"></span> <span class=\"text mf-inline-flex mf-items-center report_format\" data-v-23503f46=\"\"><!-- --> <i class=\"iconfont icon-pdf\" data-v-23503f46=\"\" style=\"color: #f46d3e\"></i> <!-- --> <!-- --> <div class=\"mf-ml-4px\" data-v-23503f46=\"\">9页</div></span></div> </div></div></div> <!-- --> <div class=\"bottom-line\" data-v-23503f46=\"\" style=\"opacity:1;width:calc(100% - 32px);\"></div></div></div><div data-v-65ceef8e=\"\"><div class=\"item-report mf-px-16px mf-px-16px\" data-v-23503f46=\"\" data-v-65ceef8e=\"\"><div class=\"mf-flex mf-justify-start\" data-v-23503f46=\"\" style=\"height: 100%\"><div class=\"report-cover nozoom mf-mr-20px mf-flex mf-justify-center mf-items-center\" data-v-23503f46=\"\"><img alt=\"\" data-v-23503f46=\"\" src=\"https://vcdn.pharmcube.com/1687162426639_logo-2 (2).svg\" style=\"display:block;width:36px;height:38px;\"/></div> <div data-v-23503f46=\"\"><div class=\"mf-flex mf-items-center\" data-v-23503f46=\"\"><a class=\"fileName\" data-v-23503f46=\"\" href=\"https://bydrug.pharmcube.com/report/detail/b0ae8893610c4a8c9a09e5fc60efca93\" style=\"max-width:1080px;\" target=\"_blank\">\n",
       "          医药与健康护理行业周报：2024年1-7月医保统筹基金主要指标发布\n",
       "        </a> <!-- --></div> <div class=\"mf-flex mf-justify-start mf-items-center mf-mt-12px tag-row\" data-v-23503f46=\"\" style=\"height: 20px\"></div> <div class=\"mf-flex mf-justify-between mf-items-center mf-mt-16px\" data-v-23503f46=\"\"><div class=\"desc mf-inline-flex mf-items-center\" data-v-23503f46=\"\"><span class=\"text\" data-v-23503f46=\"\"><a class=\"dark-link\" data-v-23503f46=\"\" href=\"/report/summary/source/%E6%B5%B7%E9%80%9A%E5%9B%BD%E9%99%85\" target=\"_blank\">海通国际</a> <!-- --></span> <span class=\"divider\" data-v-23503f46=\"\"></span> <span class=\"text\" data-v-23503f46=\"\">2024-09-09</span><span class=\"divider\" data-v-23503f46=\"\"></span> <span class=\"text\" data-v-23503f46=\"\">1.9M</span><span class=\"divider\" data-v-23503f46=\"\"></span> <span class=\"text mf-inline-flex mf-items-center report_format\" data-v-23503f46=\"\"><!-- --> <i class=\"iconfont icon-pdf\" data-v-23503f46=\"\" style=\"color: #f46d3e\"></i> <!-- --> <!-- --> <div class=\"mf-ml-4px\" data-v-23503f46=\"\">12页</div></span></div> </div></div></div> <!-- --> <div class=\"bottom-line\" data-v-23503f46=\"\" style=\"opacity:1;width:calc(100% - 32px);\"></div></div></div><div data-v-65ceef8e=\"\"><div class=\"item-report mf-px-16px mf-px-16px\" data-v-23503f46=\"\" data-v-65ceef8e=\"\"><div class=\"mf-flex mf-justify-start\" data-v-23503f46=\"\" style=\"height: 100%\"><div class=\"report-cover nozoom mf-mr-20px mf-flex mf-justify-center mf-items-center\" data-v-23503f46=\"\"><img alt=\"\" data-v-23503f46=\"\" src=\"https://vcdn.pharmcube.com/1687162426639_logo-2 (2).svg\" style=\"display:block;width:36px;height:38px;\"/></div> <div data-v-23503f46=\"\"><div class=\"mf-flex mf-items-center\" data-v-23503f46=\"\"><a class=\"fileName\" data-v-23503f46=\"\" href=\"https://bydrug.pharmcube.com/report/detail/99938f6dd0c34db385840a0b00ac0834\" style=\"max-width:1080px;\" target=\"_blank\">\n",
       "          医药行业周报：创新催化、政策鼓励支持，医药基本面持续向上复苏\n",
       "        </a> <!-- --></div> <div class=\"mf-flex mf-justify-start mf-items-center mf-mt-12px tag-row\" data-v-23503f46=\"\" style=\"height: 20px\"></div> <div class=\"mf-flex mf-justify-between mf-items-center mf-mt-16px\" data-v-23503f46=\"\"><div class=\"desc mf-inline-flex mf-items-center\" data-v-23503f46=\"\"><span class=\"text\" data-v-23503f46=\"\"><a class=\"dark-link\" data-v-23503f46=\"\" href=\"/report/summary/source/%E6%B0%91%E7%94%9F%E8%AF%81%E5%88%B8\" target=\"_blank\">民生证券</a> <!-- --></span> <span class=\"divider\" data-v-23503f46=\"\"></span> <span class=\"text\" data-v-23503f46=\"\">2024-09-09</span><span class=\"divider\" data-v-23503f46=\"\"></span> <span class=\"text\" data-v-23503f46=\"\">1.13M</span><span class=\"divider\" data-v-23503f46=\"\"></span> <span class=\"text mf-inline-flex mf-items-center report_format\" data-v-23503f46=\"\"><!-- --> <i class=\"iconfont icon-pdf\" data-v-23503f46=\"\" style=\"color: #f46d3e\"></i> <!-- --> <!-- --> <div class=\"mf-ml-4px\" data-v-23503f46=\"\">20页</div></span></div> </div></div></div> <!-- --> <div class=\"bottom-line\" data-v-23503f46=\"\" style=\"opacity:1;width:calc(100% - 32px);\"></div></div></div><div data-v-65ceef8e=\"\"><div class=\"item-report mf-px-16px mf-px-16px\" data-v-23503f46=\"\" data-v-65ceef8e=\"\"><div class=\"mf-flex mf-justify-start\" data-v-23503f46=\"\" style=\"height: 100%\"><div class=\"report-cover nozoom mf-mr-20px mf-flex mf-justify-center mf-items-center\" data-v-23503f46=\"\"><img alt=\"\" data-v-23503f46=\"\" src=\"https://vcdn.pharmcube.com/1687162426639_logo-2 (2).svg\" style=\"display:block;width:36px;height:38px;\"/></div> <div data-v-23503f46=\"\"><div class=\"mf-flex mf-items-center\" data-v-23503f46=\"\"><a class=\"fileName\" data-v-23503f46=\"\" href=\"https://bydrug.pharmcube.com/report/detail/4c109892f0df4c4d86fabbd708ba47eb\" style=\"max-width:1080px;\" target=\"_blank\">\n",
       "          临床试验期间变更管理及药物临床试验期间方案变更的思考\n",
       "        </a> <!-- --></div> <div class=\"mf-flex mf-justify-start mf-items-center mf-mt-12px tag-row\" data-v-23503f46=\"\" style=\"height: 20px\"></div> <div class=\"mf-flex mf-justify-between mf-items-center mf-mt-16px\" data-v-23503f46=\"\"><div class=\"desc mf-inline-flex mf-items-center\" data-v-23503f46=\"\"><span class=\"text\" data-v-23503f46=\"\"><a class=\"dark-link\" data-v-23503f46=\"\" href=\"/report/summary/source/CDE\" target=\"_blank\">CDE</a> <!-- --></span> <span class=\"divider\" data-v-23503f46=\"\"></span> <span class=\"text\" data-v-23503f46=\"\">2024-09-09</span><span class=\"divider\" data-v-23503f46=\"\"></span> <span class=\"text\" data-v-23503f46=\"\">2.9M</span><span class=\"divider\" data-v-23503f46=\"\"></span> <span class=\"text mf-inline-flex mf-items-center report_format\" data-v-23503f46=\"\"><!-- --> <i class=\"iconfont icon-pdf\" data-v-23503f46=\"\" style=\"color: #f46d3e\"></i> <!-- --> <!-- --> <div class=\"mf-ml-4px\" data-v-23503f46=\"\">31页</div></span></div> </div></div></div> <!-- --> <div class=\"bottom-line\" data-v-23503f46=\"\" style=\"opacity:1;width:calc(100% - 32px);\"></div></div></div><div data-v-65ceef8e=\"\"><div class=\"item-report mf-px-16px mf-px-16px\" data-v-23503f46=\"\" data-v-65ceef8e=\"\"><div class=\"mf-flex mf-justify-start\" data-v-23503f46=\"\" style=\"height: 100%\"><div class=\"report-cover nozoom mf-mr-20px mf-flex mf-justify-center mf-items-center\" data-v-23503f46=\"\"><img alt=\"\" data-v-23503f46=\"\" src=\"https://vcdn.pharmcube.com/1687162426639_logo-2 (2).svg\" style=\"display:block;width:36px;height:38px;\"/></div> <div data-v-23503f46=\"\"><div class=\"mf-flex mf-items-center\" data-v-23503f46=\"\"><a class=\"fileName\" data-v-23503f46=\"\" href=\"https://bydrug.pharmcube.com/report/detail/2579a77f5c91427f81e1287217c6cc83\" style=\"max-width:1080px;\" target=\"_blank\">\n",
       "          医药产业链数据库之：创新药投融资，2024年8月全球创新药投融资暂时下滑，但2024年以来整体仍呈改善趋势\n",
       "        </a> <!-- --></div> <div class=\"mf-flex mf-justify-start mf-items-center mf-mt-12px tag-row\" data-v-23503f46=\"\" style=\"height: 20px\"></div> <div class=\"mf-flex mf-justify-between mf-items-center mf-mt-16px\" data-v-23503f46=\"\"><div class=\"desc mf-inline-flex mf-items-center\" data-v-23503f46=\"\"><span class=\"text\" data-v-23503f46=\"\"><a class=\"dark-link\" data-v-23503f46=\"\" href=\"/report/summary/source/%E5%9B%BD%E6%8A%95%E8%AF%81%E5%88%B8\" target=\"_blank\">国投证券</a> <!-- --></span> <span class=\"divider\" data-v-23503f46=\"\"></span> <span class=\"text\" data-v-23503f46=\"\">2024-09-09</span><span class=\"divider\" data-v-23503f46=\"\"></span> <span class=\"text\" data-v-23503f46=\"\">0.75M</span><span class=\"divider\" data-v-23503f46=\"\"></span> <span class=\"text mf-inline-flex mf-items-center report_format\" data-v-23503f46=\"\"><!-- --> <i class=\"iconfont icon-pdf\" data-v-23503f46=\"\" style=\"color: #f46d3e\"></i> <!-- --> <!-- --> <div class=\"mf-ml-4px\" data-v-23503f46=\"\">9页</div></span></div> </div></div></div> <!-- --> <div class=\"bottom-line\" data-v-23503f46=\"\" style=\"opacity:1;width:calc(100% - 32px);\"></div></div></div><div data-v-65ceef8e=\"\"><div class=\"item-report mf-px-16px mf-px-16px\" data-v-23503f46=\"\" data-v-65ceef8e=\"\"><div class=\"mf-flex mf-justify-start\" data-v-23503f46=\"\" style=\"height: 100%\"><div class=\"report-cover nozoom mf-mr-20px mf-flex mf-justify-center mf-items-center\" data-v-23503f46=\"\"><img alt=\"\" data-v-23503f46=\"\" src=\"https://vcdn.pharmcube.com/1687162426639_logo-2 (2).svg\" style=\"display:block;width:36px;height:38px;\"/></div> <div data-v-23503f46=\"\"><div class=\"mf-flex mf-items-center\" data-v-23503f46=\"\"><a class=\"fileName\" data-v-23503f46=\"\" href=\"https://bydrug.pharmcube.com/report/detail/2ee1edafbd8b4169b999cdaede32aac3\" style=\"max-width:1080px;\" target=\"_blank\">\n",
       "          医药行业周报：连锁药房总数面临拐点，集中度加速提升\n",
       "        </a> <!-- --></div> <div class=\"mf-flex mf-justify-start mf-items-center mf-mt-12px tag-row\" data-v-23503f46=\"\" style=\"height: 20px\"></div> <div class=\"mf-flex mf-justify-between mf-items-center mf-mt-16px\" data-v-23503f46=\"\"><div class=\"desc mf-inline-flex mf-items-center\" data-v-23503f46=\"\"><span class=\"text\" data-v-23503f46=\"\"><a class=\"dark-link\" data-v-23503f46=\"\" href=\"/report/summary/source/%E5%8D%8E%E9%91%AB%E8%AF%81%E5%88%B8\" target=\"_blank\">华鑫证券</a> <!-- --></span> <span class=\"divider\" data-v-23503f46=\"\"></span> <span class=\"text\" data-v-23503f46=\"\">2024-09-09</span><span class=\"divider\" data-v-23503f46=\"\"></span> <span class=\"text\" data-v-23503f46=\"\">1.32M</span><span class=\"divider\" data-v-23503f46=\"\"></span> <span class=\"text mf-inline-flex mf-items-center report_format\" data-v-23503f46=\"\"><!-- --> <i class=\"iconfont icon-pdf\" data-v-23503f46=\"\" style=\"color: #f46d3e\"></i> <!-- --> <!-- --> <div class=\"mf-ml-4px\" data-v-23503f46=\"\">33页</div></span></div> </div></div></div> <!-- --> <div class=\"bottom-line\" data-v-23503f46=\"\" style=\"opacity:1;width:calc(100% - 32px);\"></div></div></div><div data-v-65ceef8e=\"\"><div class=\"item-report mf-px-16px mf-px-16px\" data-v-23503f46=\"\" data-v-65ceef8e=\"\"><div class=\"mf-flex mf-justify-start\" data-v-23503f46=\"\" style=\"height: 100%\"><div class=\"report-cover nozoom mf-mr-20px mf-flex mf-justify-center mf-items-center\" data-v-23503f46=\"\"><img alt=\"\" data-v-23503f46=\"\" src=\"https://vcdn.pharmcube.com/1687162426639_logo-2 (2).svg\" style=\"display:block;width:36px;height:38px;\"/></div> <div data-v-23503f46=\"\"><div class=\"mf-flex mf-items-center\" data-v-23503f46=\"\"><a class=\"fileName\" data-v-23503f46=\"\" href=\"https://bydrug.pharmcube.com/report/detail/ef31ee5e9f4b477683a95e59a6fd43bd\" style=\"max-width:1080px;\" target=\"_blank\">\n",
       "          医药生物行业报告：半年报业绩整体稳健，分化中挖掘底部机会\n",
       "        </a> <!-- --></div> <div class=\"mf-flex mf-justify-start mf-items-center mf-mt-12px tag-row\" data-v-23503f46=\"\" style=\"height: 20px\"></div> <div class=\"mf-flex mf-justify-between mf-items-center mf-mt-16px\" data-v-23503f46=\"\"><div class=\"desc mf-inline-flex mf-items-center\" data-v-23503f46=\"\"><span class=\"text\" data-v-23503f46=\"\"><a class=\"dark-link\" data-v-23503f46=\"\" href=\"/report/summary/source/%E4%B8%AD%E9%82%AE%E8%AF%81%E5%88%B8\" target=\"_blank\">中邮证券</a> <!-- --></span> <span class=\"divider\" data-v-23503f46=\"\"></span> <span class=\"text\" data-v-23503f46=\"\">2024-09-09</span><span class=\"divider\" data-v-23503f46=\"\"></span> <span class=\"text\" data-v-23503f46=\"\">1.11M</span><span class=\"divider\" data-v-23503f46=\"\"></span> <span class=\"text mf-inline-flex mf-items-center report_format\" data-v-23503f46=\"\"><!-- --> <i class=\"iconfont icon-pdf\" data-v-23503f46=\"\" style=\"color: #f46d3e\"></i> <!-- --> <!-- --> <div class=\"mf-ml-4px\" data-v-23503f46=\"\">16页</div></span></div> </div></div></div> <!-- --> <div class=\"bottom-line\" data-v-23503f46=\"\" style=\"opacity:1;width:calc(100% - 32px);\"></div></div></div><div data-v-65ceef8e=\"\"><div class=\"item-report mf-px-16px mf-px-16px\" data-v-23503f46=\"\" data-v-65ceef8e=\"\"><div class=\"mf-flex mf-justify-start\" data-v-23503f46=\"\" style=\"height: 100%\"><div class=\"report-cover nozoom mf-mr-20px mf-flex mf-justify-center mf-items-center\" data-v-23503f46=\"\"><img alt=\"\" data-v-23503f46=\"\" src=\"https://vcdn.pharmcube.com/1687162426639_logo-2 (2).svg\" style=\"display:block;width:36px;height:38px;\"/></div> <div data-v-23503f46=\"\"><div class=\"mf-flex mf-items-center\" data-v-23503f46=\"\"><a class=\"fileName\" data-v-23503f46=\"\" href=\"https://bydrug.pharmcube.com/report/detail/61a06f9a125c4882a461c9c5975432ec\" style=\"max-width:1080px;\" target=\"_blank\">\n",
       "          医药行业周报：安进1类新药在华再获批临床\n",
       "        </a> <!-- --></div> <div class=\"mf-flex mf-justify-start mf-items-center mf-mt-12px tag-row\" data-v-23503f46=\"\" style=\"height: 20px\"></div> <div class=\"mf-flex mf-justify-between mf-items-center mf-mt-16px\" data-v-23503f46=\"\"><div class=\"desc mf-inline-flex mf-items-center\" data-v-23503f46=\"\"><span class=\"text\" data-v-23503f46=\"\"><a class=\"dark-link\" data-v-23503f46=\"\" href=\"/report/summary/source/%E5%A4%AA%E5%B9%B3%E6%B4%8B\" target=\"_blank\">太平洋</a> <!-- --></span> <span class=\"divider\" data-v-23503f46=\"\"></span> <span class=\"text\" data-v-23503f46=\"\">2024-09-09</span><span class=\"divider\" data-v-23503f46=\"\"></span> <span class=\"text\" data-v-23503f46=\"\">0.37M</span><span class=\"divider\" data-v-23503f46=\"\"></span> <span class=\"text mf-inline-flex mf-items-center report_format\" data-v-23503f46=\"\"><!-- --> <i class=\"iconfont icon-pdf\" data-v-23503f46=\"\" style=\"color: #f46d3e\"></i> <!-- --> <!-- --> <div class=\"mf-ml-4px\" data-v-23503f46=\"\">3页</div></span></div> </div></div></div> <!-- --> <div class=\"bottom-line\" data-v-23503f46=\"\" style=\"opacity:1;width:calc(100% - 32px);\"></div></div></div><div data-v-65ceef8e=\"\"><div class=\"item-report mf-px-16px mf-px-16px\" data-v-23503f46=\"\" data-v-65ceef8e=\"\"><div class=\"mf-flex mf-justify-start\" data-v-23503f46=\"\" style=\"height: 100%\"><div class=\"report-cover nozoom mf-mr-20px mf-flex mf-justify-center mf-items-center\" data-v-23503f46=\"\"><img alt=\"\" data-v-23503f46=\"\" src=\"https://vcdn.pharmcube.com/1687162426639_logo-2 (2).svg\" style=\"display:block;width:36px;height:38px;\"/></div> <div data-v-23503f46=\"\"><div class=\"mf-flex mf-items-center\" data-v-23503f46=\"\"><a class=\"fileName\" data-v-23503f46=\"\" href=\"https://bydrug.pharmcube.com/report/detail/796ad83ecbf740de8c16689114772d77\" style=\"max-width:1080px;\" target=\"_blank\">\n",
       "          生物医药行业周报：高值耗材集采进入密集执行期，建议关注相关优质企业份额提升机会\n",
       "        </a> <!-- --></div> <div class=\"mf-flex mf-justify-start mf-items-center mf-mt-12px tag-row\" data-v-23503f46=\"\" style=\"height: 20px\"></div> <div class=\"mf-flex mf-justify-between mf-items-center mf-mt-16px\" data-v-23503f46=\"\"><div class=\"desc mf-inline-flex mf-items-center\" data-v-23503f46=\"\"><span class=\"text\" data-v-23503f46=\"\"><a class=\"dark-link\" data-v-23503f46=\"\" href=\"/report/summary/source/%E5%B9%B3%E5%AE%89%E8%AF%81%E5%88%B8\" target=\"_blank\">平安证券</a> <!-- --></span> <span class=\"divider\" data-v-23503f46=\"\"></span> <span class=\"text\" data-v-23503f46=\"\">2024-09-09</span><span class=\"divider\" data-v-23503f46=\"\"></span> <span class=\"text\" data-v-23503f46=\"\">0.88M</span><span class=\"divider\" data-v-23503f46=\"\"></span> <span class=\"text mf-inline-flex mf-items-center report_format\" data-v-23503f46=\"\"><!-- --> <i class=\"iconfont icon-pdf\" data-v-23503f46=\"\" style=\"color: #f46d3e\"></i> <!-- --> <!-- --> <div class=\"mf-ml-4px\" data-v-23503f46=\"\">14页</div></span></div> </div></div></div> <!-- --> <div class=\"bottom-line\" data-v-23503f46=\"\" style=\"opacity:0;width:calc(100% - 32px);\"></div></div></div> <!-- --></div></div></div></div></div> <div class=\"right-wrap\" data-v-5c8b65e4=\"\" data-v-65ceef8e=\"\"><div class=\"box mf-bg-white mf-rounded-8px\" data-v-5c8b65e4=\"\" data-v-65ceef8e=\"\"><div class=\"right-md-title-container zmjg\" data-v-5c8b65e4=\"\" data-v-65ceef8e=\"\"><h3 class=\"right-md-title\" data-v-5c8b65e4=\"\" data-v-65ceef8e=\"\">知名机构</h3> <i class=\"icon iconfont icon-zhimingjigou\" data-v-5c8b65e4=\"\" data-v-65ceef8e=\"\"></i></div> <div class=\"children mf-p-16px\" data-v-5c8b65e4=\"\" data-v-65ceef8e=\"\"><div class=\"ant-row\" data-v-65ceef8e=\"\" style=\"margin-left:-18px;margin-right:-18px;\"><div class=\"ant-col ant-col-8\" data-v-65ceef8e=\"\" style=\"padding-left:18px;padding-right:18px;\"><a class=\"mf-mr-12px alink\" data-v-65ceef8e=\"\" href=\"/report/summary/source/%E5%8C%BB%E8%8D%AF%E9%AD%94%E6%96%B9\" style=\"white-space:nowrap;\" target=\"_blank\">医药魔方</a></div><div class=\"ant-col ant-col-8\" data-v-65ceef8e=\"\" style=\"padding-left:18px;padding-right:18px;\"><a class=\"mf-mr-12px alink\" data-v-65ceef8e=\"\" href=\"/report/summary/source/%E8%A5%BF%E5%8D%97%E8%AF%81%E5%88%B8\" style=\"white-space:nowrap;\" target=\"_blank\">西南证券</a></div><div class=\"ant-col ant-col-8\" data-v-65ceef8e=\"\" style=\"padding-left:18px;padding-right:18px;\"><a class=\"mf-mr-12px alink\" data-v-65ceef8e=\"\" href=\"/report/summary/source/%E5%9B%BD%E9%87%91%E8%AF%81%E5%88%B8\" style=\"white-space:nowrap;\" target=\"_blank\">国金证券</a></div></div><div class=\"ant-row mf-mt-12px\" data-v-65ceef8e=\"\" style=\"margin-left:-18px;margin-right:-18px;\"><div class=\"ant-col ant-col-8\" data-v-65ceef8e=\"\" style=\"padding-left:18px;padding-right:18px;\"><a class=\"mf-mr-12px alink\" data-v-65ceef8e=\"\" href=\"/report/summary/source/%E6%B5%99%E5%95%86%E8%AF%81%E5%88%B8\" style=\"white-space:nowrap;\" target=\"_blank\">浙商证券</a></div><div class=\"ant-col ant-col-8\" data-v-65ceef8e=\"\" style=\"padding-left:18px;padding-right:18px;\"><a class=\"mf-mr-12px alink\" data-v-65ceef8e=\"\" href=\"/report/summary/source/%E5%8D%8E%E5%AE%89%E8%AF%81%E5%88%B8\" style=\"white-space:nowrap;\" target=\"_blank\">华安证券</a></div><div class=\"ant-col ant-col-8\" data-v-65ceef8e=\"\" style=\"padding-left:18px;padding-right:18px;\"><a class=\"mf-mr-12px alink\" data-v-65ceef8e=\"\" href=\"/report/summary/source/%E5%AE%89%E4%BF%A1%E8%AF%81%E5%88%B8\" style=\"white-space:nowrap;\" target=\"_blank\">安信证券</a></div></div><div class=\"ant-row mf-mt-12px\" data-v-65ceef8e=\"\" style=\"margin-left:-18px;margin-right:-18px;\"><div class=\"ant-col ant-col-8\" data-v-65ceef8e=\"\" style=\"padding-left:18px;padding-right:18px;\"><a class=\"mf-mr-12px alink\" data-v-65ceef8e=\"\" href=\"/report/summary/source/%E6%B9%98%E8%B4%A2%E8%AF%81%E5%88%B8\" style=\"white-space:nowrap;\" target=\"_blank\">湘财证券</a></div><div class=\"ant-col ant-col-8\" data-v-65ceef8e=\"\" style=\"padding-left:18px;padding-right:18px;\"><a class=\"mf-mr-12px alink\" data-v-65ceef8e=\"\" href=\"/report/summary/source/%E4%B8%9C%E5%90%B4%E8%AF%81%E5%88%B8\" style=\"white-space:nowrap;\" target=\"_blank\">东吴证券</a></div></div></div></div> <div class=\"box mf-bg-white mf-rounded-8px mf-mt-20px\" data-v-5c8b65e4=\"\" data-v-65ceef8e=\"\"><div class=\"right-md-title-container hyhy\" data-v-5c8b65e4=\"\" data-v-65ceef8e=\"\"><h3 class=\"right-md-title\" data-v-5c8b65e4=\"\" data-v-65ceef8e=\"\">行业会议</h3> <i class=\"icon iconfont icon-hangyehuiyi1\" data-v-5c8b65e4=\"\" data-v-65ceef8e=\"\"></i></div> <div class=\"children mf-p-16px\" data-v-5c8b65e4=\"\" data-v-65ceef8e=\"\"><div class=\"ant-row\" data-v-65ceef8e=\"\" style=\"margin-left:-18px;margin-right:-18px;\"><div class=\"ant-col ant-col-8\" data-v-65ceef8e=\"\" style=\"padding-left:18px;padding-right:18px;\"><a class=\"mf-mr-12px alink\" data-v-65ceef8e=\"\" href=\"/report/summary/source/ESMO\" style=\"white-space:nowrap;\" target=\"_blank\">ESMO</a></div><div class=\"ant-col ant-col-8\" data-v-65ceef8e=\"\" style=\"padding-left:18px;padding-right:18px;\"><a class=\"mf-mr-12px alink\" data-v-65ceef8e=\"\" href=\"/report/summary/source/ASCO\" style=\"white-space:nowrap;\" target=\"_blank\">ASCO</a></div><div class=\"ant-col ant-col-8\" data-v-65ceef8e=\"\" style=\"padding-left:18px;padding-right:18px;\"><a class=\"mf-mr-12px alink\" data-v-65ceef8e=\"\" href=\"/report/summary/source/AACR\" style=\"white-space:nowrap;\" target=\"_blank\">AACR</a></div></div><div class=\"ant-row mf-mt-12px\" data-v-65ceef8e=\"\" style=\"margin-left:-18px;margin-right:-18px;\"><div class=\"ant-col ant-col-8\" data-v-65ceef8e=\"\" style=\"padding-left:18px;padding-right:18px;\"><a class=\"mf-mr-12px alink\" data-v-65ceef8e=\"\" href=\"/report/summary/source/CSCO\" style=\"white-space:nowrap;\" target=\"_blank\">CSCO</a></div><div class=\"ant-col ant-col-8\" data-v-65ceef8e=\"\" style=\"padding-left:18px;padding-right:18px;\"><a class=\"mf-mr-12px alink\" data-v-65ceef8e=\"\" href=\"/report/summary/source/SABCS\" style=\"white-space:nowrap;\" target=\"_blank\">SABCS</a></div></div></div></div> <div class=\"box mf-bg-white mf-rounded-8px mf-mt-20px\" data-v-5c8b65e4=\"\" data-v-65ceef8e=\"\"><div class=\"right-md-title-container rmgs\" data-v-5c8b65e4=\"\" data-v-65ceef8e=\"\"><h3 class=\"right-md-title\" data-v-5c8b65e4=\"\" data-v-65ceef8e=\"\">热门公司</h3> <i class=\"icon iconfont icon-remengongsi1\" data-v-5c8b65e4=\"\" data-v-65ceef8e=\"\"></i></div> <div class=\"children mf-p-16px\" data-v-5c8b65e4=\"\" data-v-65ceef8e=\"\"><div class=\"ant-row\" data-v-65ceef8e=\"\" style=\"margin-left:-18px;margin-right:-18px;\"><div class=\"ant-col ant-col-8\" data-v-65ceef8e=\"\" style=\"padding-left:18px;padding-right:18px;\"><a class=\"mf-mr-12px alink\" data-v-65ceef8e=\"\" href=\"/report/summary/source/%E7%BD%97%E6%B0%8F\" style=\"white-space:nowrap;\" target=\"_blank\">罗氏</a></div><div class=\"ant-col ant-col-8\" data-v-65ceef8e=\"\" style=\"padding-left:18px;padding-right:18px;\"><a class=\"mf-mr-12px alink\" data-v-65ceef8e=\"\" href=\"/report/summary/source/%E8%AF%BA%E5%8D%8E\" style=\"white-space:nowrap;\" target=\"_blank\">诺华</a></div><div class=\"ant-col ant-col-8\" data-v-65ceef8e=\"\" style=\"padding-left:18px;padding-right:18px;\"><a class=\"mf-mr-12px alink\" data-v-65ceef8e=\"\" href=\"/report/summary/source/%E8%BE%89%E7%91%9E\" style=\"white-space:nowrap;\" target=\"_blank\">辉瑞</a></div></div><div class=\"ant-row mf-mt-12px\" data-v-65ceef8e=\"\" style=\"margin-left:-18px;margin-right:-18px;\"><div class=\"ant-col ant-col-8\" data-v-65ceef8e=\"\" style=\"padding-left:18px;padding-right:18px;\"><a class=\"mf-mr-12px alink\" data-v-65ceef8e=\"\" href=\"/report/summary/source/%E9%BB%98%E6%B2%99%E4%B8%9C\" style=\"white-space:nowrap;\" target=\"_blank\">默沙东</a></div><div class=\"ant-col ant-col-8\" data-v-65ceef8e=\"\" style=\"padding-left:18px;padding-right:18px;\"><a class=\"mf-mr-12px alink\" data-v-65ceef8e=\"\" href=\"/report/summary/source/%E9%98%BF%E6%96%AF%E5%88%A9%E5%BA%B7\" style=\"white-space:nowrap;\" target=\"_blank\">阿斯利康</a></div><div class=\"ant-col ant-col-8\" data-v-65ceef8e=\"\" style=\"padding-left:18px;padding-right:18px;\"><a class=\"mf-mr-12px alink\" data-v-65ceef8e=\"\" href=\"/report/summary/source/%E5%BC%BA%E7%94%9F\" style=\"white-space:nowrap;\" target=\"_blank\">强生</a></div></div><div class=\"ant-row mf-mt-12px\" data-v-65ceef8e=\"\" style=\"margin-left:-18px;margin-right:-18px;\"><div class=\"ant-col ant-col-8\" data-v-65ceef8e=\"\" style=\"padding-left:18px;padding-right:18px;\"><a class=\"mf-mr-12px alink\" data-v-65ceef8e=\"\" href=\"/report/summary/source/%E8%B5%9B%E8%AF%BA%E8%8F%B2\" style=\"white-space:nowrap;\" target=\"_blank\">赛诺菲</a></div><div class=\"ant-col ant-col-8\" data-v-65ceef8e=\"\" style=\"padding-left:18px;padding-right:18px;\"><a class=\"mf-mr-12px alink\" data-v-65ceef8e=\"\" href=\"/report/summary/source/BMS\" style=\"white-space:nowrap;\" target=\"_blank\">BMS</a></div><div class=\"ant-col ant-col-8\" data-v-65ceef8e=\"\" style=\"padding-left:18px;padding-right:18px;\"><a class=\"mf-mr-12px alink\" data-v-65ceef8e=\"\" href=\"/report/summary/source/GSK\" style=\"white-space:nowrap;\" target=\"_blank\">GSK</a></div></div><div class=\"ant-row mf-mt-12px\" data-v-65ceef8e=\"\" style=\"margin-left:-18px;margin-right:-18px;\"><div class=\"ant-col ant-col-8\" data-v-65ceef8e=\"\" style=\"padding-left:18px;padding-right:18px;\"><a class=\"mf-mr-12px alink\" data-v-65ceef8e=\"\" href=\"/report/summary/source/%E5%90%89%E5%88%A9%E5%BE%B7\" style=\"white-space:nowrap;\" target=\"_blank\">吉利德</a></div><div class=\"ant-col ant-col-8\" data-v-65ceef8e=\"\" style=\"padding-left:18px;padding-right:18px;\"><a class=\"mf-mr-12px alink\" data-v-65ceef8e=\"\" href=\"/report/summary/source/%E7%A4%BC%E6%9D%A5\" style=\"white-space:nowrap;\" target=\"_blank\">礼来</a></div><div class=\"ant-col ant-col-8\" data-v-65ceef8e=\"\" style=\"padding-left:18px;padding-right:18px;\"><a class=\"mf-mr-12px alink\" data-v-65ceef8e=\"\" href=\"/report/summary/source/%E7%99%BE%E6%B5%8E%E7%A5%9E%E5%B7%9E\" style=\"white-space:nowrap;\" target=\"_blank\">百济神州</a></div></div></div></div> <div class=\"box mf-bg-white mf-rounded-8px mf-mt-20px\" data-v-5c8b65e4=\"\" data-v-65ceef8e=\"\"><div class=\"right-md-title-container xzph mf-flex mf-items-center mf-justify-between\" data-v-5c8b65e4=\"\" data-v-65ceef8e=\"\"><h3 class=\"right-md-title\" data-v-5c8b65e4=\"\" data-v-65ceef8e=\"\">热门报告</h3> <i class=\"icon iconfont icon-xiazaipaihangbang\" data-v-5c8b65e4=\"\" data-v-65ceef8e=\"\"></i> <div class=\"app-tab-switcher mf- mf-mr-8px\" data-v-65ceef8e=\"\" data-v-874a1162=\"\" style=\"z-index:2;\"><div class=\"mf-flex mf-justify-start\" data-v-874a1162=\"\"><div class=\"mf-flex mf-justify-start mf-items-center mf-cursor-pointer tab active\" data-v-874a1162=\"\"><span data-v-874a1162=\"\">周榜</span></div><div class=\"mf-flex mf-justify-start mf-items-center mf-cursor-pointer tab mf-ml-8px\" data-v-874a1162=\"\"><span data-v-874a1162=\"\">月榜</span></div></div></div></div> <div class=\"mf-pt-8px mf-pb-20px ant-spin-nested-loading\" data-v-65ceef8e=\"\" style=\"padding-top:8px;\"><div class=\"ant-spin-container\"><div class=\"rankingList-container\" data-v-65ceef8e=\"\"><div class=\"mf-flex mf-items-center mf-justify-between item-ranking mf-px-16px mf-pl-20px\" data-v-65ceef8e=\"\" style=\"position:relative;line-height:20px;\"><div class=\"left mf-flex mf-items-center mf-justify-start\" data-v-65ceef8e=\"\"><div class=\"rank-index\" data-v-65ceef8e=\"\" style=\"color:#999999;font-size:12px;position:relative;left:-3px;\">\n",
       "                      排行\n",
       "                    </div> <div data-v-65ceef8e=\"\" style=\"color:#999999;font-size:12px;margin-left:4px;\">\n",
       "                      名称\n",
       "                    </div></div> <div data-v-65ceef8e=\"\" style=\"color:#999999;font-size:12px;\">热度</div></div> <div class=\"empty-container mf-flex mf-justify-center mf-items-center\" data-v-65ceef8e=\"\" style=\"padding:16px;\"><div class=\"ui-empty mf-text-center small\" data-v-65ceef8e=\"\"><div class=\"mf-text-center\"><img alt=\"\" src=\"https://vcdn.pharmcube.com/1684832692952_空数据.png\"/></div> <div class=\"text cover-text\">\n",
       "    暂无数据\n",
       "  </div></div></div></div></div></div></div></div></div></div> <div class=\"home-center-layout mf-mt-20px\" data-v-5c8b65e4=\"\" data-v-65ceef8e=\"\" style=\"margin-left:calc(50vw - 625px);\"><div class=\"news-container mf-bg-white mf-rounded-8px\" data-v-5c8b65e4=\"\" data-v-65ceef8e=\"\"><div class=\"lg-title-container mf-flex mf-items-end\" data-v-5c8b65e4=\"\" data-v-65ceef8e=\"\"><div class=\"lg-title\" data-v-5c8b65e4=\"\" data-v-65ceef8e=\"\"><h2 data-v-5c8b65e4=\"\" data-v-65ceef8e=\"\" style=\"z-index:2;position:relative;\">医药专题</h2> <img alt=\"\" class=\"shape\" data-v-5c8b65e4=\"\" data-v-65ceef8e=\"\" src=\"https://vcdn.pharmcube.com/1683869649817_形状结合@2x (1).png\"/></div> <a class=\"lg-more alink mf-flex mf-items-center\" data-v-5c8b65e4=\"\" data-v-65ceef8e=\"\" href=\"/topic\" target=\"_blank\"><div data-v-5c8b65e4=\"\" data-v-65ceef8e=\"\">更多</div> <i class=\"iconfont icon-down1\" data-v-5c8b65e4=\"\" data-v-65ceef8e=\"\"></i></a></div> <div class=\"topic-reports-container mf-relative\" data-v-5c8b65e4=\"\" data-v-65ceef8e=\"\"><div class=\"indicator\" data-v-5c8b65e4=\"\" data-v-65ceef8e=\"\"><span class=\"active\" data-v-5c8b65e4=\"\" data-v-65ceef8e=\"\"></span><span data-v-5c8b65e4=\"\" data-v-65ceef8e=\"\"></span></div> <div class=\"round left disable\" data-v-5c8b65e4=\"\" data-v-65ceef8e=\"\"><i class=\"iconfont icon-left\" data-v-5c8b65e4=\"\" data-v-65ceef8e=\"\"></i></div> <div class=\"round right\" data-v-5c8b65e4=\"\" data-v-65ceef8e=\"\"><i class=\"iconfont icon-down1\" data-v-5c8b65e4=\"\" data-v-65ceef8e=\"\"></i></div> <div data-v-5c8b65e4=\"\" data-v-65ceef8e=\"\" style=\"overflow:hidden;width:1200px;\"><div class=\"mf-flex mf-justify-start slider\" data-v-5c8b65e4=\"\" data-v-65ceef8e=\"\" style=\"width:2249px;transform:translateX(8.5px);transition:transform 0.5s ease-in-out;\"><div data-v-5c8b65e4=\"\" data-v-65ceef8e=\"\"><a class=\"topic-item mf-cursor-pointer topic-margin show\" data-v-65ceef8e=\"\" data-v-e3a053f2=\"\" href=\"/topic/detail/bcde9a0508a04e7d8a5ae071c470b827\" target=\"_blank\"><div class=\"topic-img\" data-v-e3a053f2=\"\"><!-- --></div> <div class=\"topic-name mf-line-clamp-1\" data-v-e3a053f2=\"\">CDE宣讲会课件资料汇总-已上市及临床试验期间的变更常见共性问题</div></a></div><div data-v-5c8b65e4=\"\" data-v-65ceef8e=\"\"><a class=\"topic-item mf-cursor-pointer topic-margin show\" data-v-65ceef8e=\"\" data-v-e3a053f2=\"\" href=\"/topic/detail/d07e7e8477de48b68c9db80f6817fe0e\" target=\"_blank\"><div class=\"topic-img\" data-v-e3a053f2=\"\"><!-- --></div> <div class=\"topic-name mf-line-clamp-1\" data-v-e3a053f2=\"\">医保支付方式（DRG/DIP）改革培训资料</div></a></div><div data-v-5c8b65e4=\"\" data-v-65ceef8e=\"\"><a class=\"topic-item mf-cursor-pointer topic-margin show\" data-v-65ceef8e=\"\" data-v-e3a053f2=\"\" href=\"/topic/detail/054e1039a58b478fa0230794ffb2acc7\" target=\"_blank\"><div class=\"topic-img\" data-v-e3a053f2=\"\"><!-- --></div> <div class=\"topic-name mf-line-clamp-1\" data-v-e3a053f2=\"\">WCLC 2024 研究报告及临床研究资讯合集</div></a></div><div data-v-5c8b65e4=\"\" data-v-65ceef8e=\"\"><a class=\"topic-item mf-cursor-pointer topic-margin show\" data-v-65ceef8e=\"\" data-v-e3a053f2=\"\" href=\"/topic/detail/a9d9db0e79ad458380ed9a66e048be7d\" target=\"_blank\"><div class=\"topic-img\" data-v-e3a053f2=\"\"><!-- --></div> <div class=\"topic-name mf-line-clamp-1\" data-v-e3a053f2=\"\">CDE宣讲会课件资料汇总-ICH Q2(R2)/Q14指导原则</div></a></div><div data-v-5c8b65e4=\"\" data-v-65ceef8e=\"\"><a class=\"topic-item mf-cursor-pointer topic-margin\" data-v-65ceef8e=\"\" data-v-e3a053f2=\"\" href=\"/topic/detail/1bba492189144db9a987c26527d37636\" target=\"_blank\"><div class=\"topic-img\" data-v-e3a053f2=\"\"><!-- --></div> <div class=\"topic-name mf-line-clamp-1\" data-v-e3a053f2=\"\">CDE宣讲会课件资料汇总-抗肿瘤药物技术审评常见问题</div></a></div><div data-v-5c8b65e4=\"\" data-v-65ceef8e=\"\"><a class=\"topic-item mf-cursor-pointer topic-margin\" data-v-65ceef8e=\"\" data-v-e3a053f2=\"\" href=\"/topic/detail/88905fb06453440e956af3b2914897bf\" target=\"_blank\"><div class=\"topic-img\" data-v-e3a053f2=\"\"><!-- --></div> <div class=\"topic-name mf-line-clamp-1\" data-v-e3a053f2=\"\">2024年热门医药企业半年报合集</div></a></div><div data-v-5c8b65e4=\"\" data-v-65ceef8e=\"\"><a class=\"topic-item mf-cursor-pointer topic-margin\" data-v-65ceef8e=\"\" data-v-e3a053f2=\"\" href=\"/topic/detail/22e95bbdbf364f678820d43e47159c4a\" target=\"_blank\"><div class=\"topic-img\" data-v-e3a053f2=\"\"><!-- --></div> <div class=\"topic-name mf-line-clamp-1\" data-v-e3a053f2=\"\">CDE宣讲会课件资料汇总-药物临床研究基本考虑、试验设计</div></a></div><div data-v-5c8b65e4=\"\" data-v-65ceef8e=\"\"><a class=\"topic-item mf-cursor-pointer topic-margin\" data-v-65ceef8e=\"\" data-v-e3a053f2=\"\" href=\"/topic/detail/9c2b1ffe196c44a4bc62f5a9c78d819c\" target=\"_blank\"><div class=\"topic-img\" data-v-e3a053f2=\"\"><!-- --></div> <div class=\"topic-name mf-line-clamp-1\" data-v-e3a053f2=\"\">2024上半年35份医药行业 IPO 招股书汇总</div></a></div></div></div></div> <div class=\"topic-reports-h5-container\" data-v-5c8b65e4=\"\" data-v-65ceef8e=\"\"><div class=\"mf-mt-12px\" data-v-5c8b65e4=\"\" data-v-65ceef8e=\"\"><a class=\"topic-item mf-cursor-pointer topic-margin show\" data-v-65ceef8e=\"\" data-v-e3a053f2=\"\" href=\"/topic/detail/bcde9a0508a04e7d8a5ae071c470b827\" target=\"_blank\"><div class=\"topic-img\" data-v-e3a053f2=\"\"><!-- --></div> <div class=\"topic-name mf-line-clamp-1\" data-v-e3a053f2=\"\">CDE宣讲会课件资料汇总-已上市及临床试验期间的变更常见共性问题</div></a></div><div class=\"mf-mt-12px\" data-v-5c8b65e4=\"\" data-v-65ceef8e=\"\"><a class=\"topic-item mf-cursor-pointer topic-margin show\" data-v-65ceef8e=\"\" data-v-e3a053f2=\"\" href=\"/topic/detail/d07e7e8477de48b68c9db80f6817fe0e\" target=\"_blank\"><div class=\"topic-img\" data-v-e3a053f2=\"\"><!-- --></div> <div class=\"topic-name mf-line-clamp-1\" data-v-e3a053f2=\"\">医保支付方式（DRG/DIP）改革培训资料</div></a></div><div class=\"mf-mt-12px\" data-v-5c8b65e4=\"\" data-v-65ceef8e=\"\"><a class=\"topic-item mf-cursor-pointer topic-margin show\" data-v-65ceef8e=\"\" data-v-e3a053f2=\"\" href=\"/topic/detail/054e1039a58b478fa0230794ffb2acc7\" target=\"_blank\"><div class=\"topic-img\" data-v-e3a053f2=\"\"><!-- --></div> <div class=\"topic-name mf-line-clamp-1\" data-v-e3a053f2=\"\">WCLC 2024 研究报告及临床研究资讯合集</div></a></div><div class=\"mf-mt-12px\" data-v-5c8b65e4=\"\" data-v-65ceef8e=\"\"><a class=\"topic-item mf-cursor-pointer topic-margin show\" data-v-65ceef8e=\"\" data-v-e3a053f2=\"\" href=\"/topic/detail/a9d9db0e79ad458380ed9a66e048be7d\" target=\"_blank\"><div class=\"topic-img\" data-v-e3a053f2=\"\"><!-- --></div> <div class=\"topic-name mf-line-clamp-1\" data-v-e3a053f2=\"\">CDE宣讲会课件资料汇总-ICH Q2(R2)/Q14指导原则</div></a></div><div class=\"mf-mt-12px\" data-v-5c8b65e4=\"\" data-v-65ceef8e=\"\"><a class=\"topic-item mf-cursor-pointer topic-margin show\" data-v-65ceef8e=\"\" data-v-e3a053f2=\"\" href=\"/topic/detail/1bba492189144db9a987c26527d37636\" target=\"_blank\"><div class=\"topic-img\" data-v-e3a053f2=\"\"><!-- --></div> <div class=\"topic-name mf-line-clamp-1\" data-v-e3a053f2=\"\">CDE宣讲会课件资料汇总-抗肿瘤药物技术审评常见问题</div></a></div><div class=\"mf-mt-12px\" data-v-5c8b65e4=\"\" data-v-65ceef8e=\"\"><a class=\"topic-item mf-cursor-pointer topic-margin show\" data-v-65ceef8e=\"\" data-v-e3a053f2=\"\" href=\"/topic/detail/88905fb06453440e956af3b2914897bf\" target=\"_blank\"><div class=\"topic-img\" data-v-e3a053f2=\"\"><!-- --></div> <div class=\"topic-name mf-line-clamp-1\" data-v-e3a053f2=\"\">2024年热门医药企业半年报合集</div></a></div><div class=\"mf-mt-12px\" data-v-5c8b65e4=\"\" data-v-65ceef8e=\"\"><a class=\"topic-item mf-cursor-pointer topic-margin show\" data-v-65ceef8e=\"\" data-v-e3a053f2=\"\" href=\"/topic/detail/22e95bbdbf364f678820d43e47159c4a\" target=\"_blank\"><div class=\"topic-img\" data-v-e3a053f2=\"\"><!-- --></div> <div class=\"topic-name mf-line-clamp-1\" data-v-e3a053f2=\"\">CDE宣讲会课件资料汇总-药物临床研究基本考虑、试验设计</div></a></div><div class=\"mf-mt-12px\" data-v-5c8b65e4=\"\" data-v-65ceef8e=\"\"><a class=\"topic-item mf-cursor-pointer topic-margin show\" data-v-65ceef8e=\"\" data-v-e3a053f2=\"\" href=\"/topic/detail/9c2b1ffe196c44a4bc62f5a9c78d819c\" target=\"_blank\"><div class=\"topic-img\" data-v-e3a053f2=\"\"><!-- --></div> <div class=\"topic-name mf-line-clamp-1\" data-v-e3a053f2=\"\">2024上半年35份医药行业 IPO 招股书汇总</div></a></div></div></div></div> <div class=\"home-center-layout mf-mt-20px mf-mb-20px\" data-v-5c8b65e4=\"\" data-v-65ceef8e=\"\" style=\"margin-left:calc(50vw - 625px);\"><div data-v-5c8b65e4=\"\" data-v-65ceef8e=\"\" id=\"news\" style=\"position:relative;top:-92px;\"></div> <div class=\"mf-flex flex-wrap\" data-v-5c8b65e4=\"\" data-v-65ceef8e=\"\"><div class=\"left-wrap\" data-v-5c8b65e4=\"\" data-v-65ceef8e=\"\"><div class=\"news-container mf-bg-white mf-rounded-8px\" data-v-5c8b65e4=\"\" data-v-65ceef8e=\"\"><div class=\"lg-title-container mf-flex mf-items-end\" data-v-5c8b65e4=\"\" data-v-65ceef8e=\"\"><div class=\"lg-title\" data-v-5c8b65e4=\"\" data-v-65ceef8e=\"\"><h2 data-v-5c8b65e4=\"\" data-v-65ceef8e=\"\" style=\"z-index:2;position:relative;\">医药新闻</h2> <img alt=\"\" class=\"shape\" data-v-5c8b65e4=\"\" data-v-65ceef8e=\"\" src=\"https://vcdn.pharmcube.com/1683869649817_形状结合@2x (1).png\"/></div> <div class=\"app-underline-switcher mf-ml-32px\" data-v-12f9d2f3=\"\" data-v-65ceef8e=\"\"><ul class=\"tabs\" data-v-12f9d2f3=\"\"><li class=\"tab active\" data-v-12f9d2f3=\"\">\n",
       "      魔方原创\n",
       "\n",
       "      <em class=\"count\" data-v-12f9d2f3=\"\" style=\"display:none;\"></em> <span data-v-12f9d2f3=\"\"></span></li><li class=\"tab mf-ml-12px\" data-v-12f9d2f3=\"\">\n",
       "      1w+阅读\n",
       "\n",
       "      <em class=\"count\" data-v-12f9d2f3=\"\" style=\"display:none;\"></em> <span data-v-12f9d2f3=\"\"></span></li></ul></div> <a class=\"lg-more alink mf-flex mf-items-center\" data-v-5c8b65e4=\"\" data-v-65ceef8e=\"\" href=\"/news?tab=%E9%AD%94%E6%96%B9%E5%8E%9F%E5%88%9B\" target=\"_blank\"><div data-v-5c8b65e4=\"\" data-v-65ceef8e=\"\">更多</div> <i class=\"iconfont icon-down1\" data-v-5c8b65e4=\"\" data-v-65ceef8e=\"\"></i></a></div> <div class=\"ant-spin-nested-loading\" data-v-65ceef8e=\"\"><div class=\"ant-spin-container\"><div class=\"reportCommon-container\" data-v-65ceef8e=\"\"><div data-v-65ceef8e=\"\"><div class=\"item-news mf-p-16px mf-pb-12px mf-relative\" data-v-12a4774d=\"\" data-v-65ceef8e=\"\"><div class=\"mf-flex mf-items-center\" data-v-12a4774d=\"\"><a class=\"mf-font-600 mf-text-18px alink news-title mf-block mf-leading-26px\" data-v-12a4774d=\"\" href=\"/news/detail/8912e53d3d438d9f60e3e9c812c1b076\" target=\"_blank\"><span class=\"highlight-container\" data-v-12a4774d=\"\">中国双抗NewCo出海，获3.7亿美元融资</span></a> <!-- --></div> <div class=\"subtitle mf-mt-8px mf-h-44px mf-line-clamp-2\" data-v-12a4774d=\"\"><span class=\"highlight-container\" data-v-12a4774d=\"\">9月9日，一家新晋成立的、致力于免疫疾病治疗的生物技术公司Candid Therapeutics宣布完成3.7亿美元A轮融资。 这是今年截至目前生物医药行业规模最大的一轮融资 ，由Venrock Healthcare Capital Partners、Fairmount、TCGX和venBio Partners共同牵头，Foresite Capital和Third Rock Ventures等也参与其中。 值得注意的是， Candid的启动结合了筹资和对两家生物技术公司 Vignette Bio 和 TRC 2004 及其主要资产的收购，而这两个主要资产都来自中国biotech。</span></div> <div class=\"last-line mf-flex-wrap mf-flex mf-items-center mf-justify-between\" data-v-12a4774d=\"\"><div class=\"mf-flex-wrap mf-flex mf-items-center mf-justify-between\" data-v-12a4774d=\"\"><span class=\"gray-text\" data-v-12a4774d=\"\"><a class=\"dark-link mf-flex mf-items-center mf-justify-start\" data-v-12a4774d=\"\" href=\"/news/summary/source/%E5%8C%BB%E8%8D%AF%E9%AD%94%E6%96%B9Invest\" target=\"_blank\"><div class=\"mf-flex mf-items-center mf-justify-center mf-mr-4px\" data-v-12a4774d=\"\" style=\"\\n              width: 20px;\\n              height: 20px;\\n              border-radius: 50%;\\n              box-shadow: 0px 2px 16px 0px rgba(152, 194, 237, 0.3);\\n            \"><img alt=\"\" class=\"source-logo\" data-v-12a4774d=\"\" referrerpolicy=\"no-referrer\" src=\"https://pharmcube-pat.oss-cn-beijing.aliyuncs.com/wechat_mp_logo/21e09891ba976e69ffc0613a5e5e9eed.png\"/></div>\n",
       "\n",
       "          医药魔方Invest\n",
       "          <span class=\"origin-tag mf-ml-4px\" data-v-12a4774d=\"\">\n",
       "            原创\n",
       "          </span></a></span> <span class=\"divider\" data-v-12a4774d=\"\"></span> <span class=\"gray-text\" data-v-12a4774d=\"\">59分钟前</span> <span class=\"mf-mr-16px\" data-v-12a4774d=\"\"></span></div> <!-- --></div> <div data-v-12a4774d=\"\" data-v-299cff7f=\"\" style=\"height:4px;\"></div> <div class=\"bottom-line\" data-v-12a4774d=\"\" style=\"opacity:1;width:calc(100% - 48px);\"></div></div></div><div data-v-65ceef8e=\"\"><div class=\"item-news mf-p-16px mf-pb-12px mf-relative\" data-v-12a4774d=\"\" data-v-65ceef8e=\"\"><div class=\"mf-flex mf-items-center\" data-v-12a4774d=\"\"><a class=\"mf-font-600 mf-text-18px alink news-title mf-block mf-leading-26px\" data-v-12a4774d=\"\" href=\"/news/detail/64fd4c04a80405dfe2783d3531b15df9\" target=\"_blank\"><span class=\"highlight-container\" data-v-12a4774d=\"\">君合盟完成近3.5亿元B轮及B+轮融资</span></a> <!-- --></div> <div class=\"subtitle mf-mt-8px mf-h-44px mf-line-clamp-2\" data-v-12a4774d=\"\"><span class=\"highlight-container\" data-v-12a4774d=\"\">近日，君合盟生物制药（杭州）有限公司（以下简称： 君合盟 ）继今年5月底获得上市公司通化东宝1亿元B轮融资后，仅时隔3个多月，再次完成超2亿元B+轮融资，累计融资金额近3.5亿元。 B+轮融资由国投创合领投，弘盛资本、元禾控股、新氧集团跟投，凯乘资本连续多轮担任独家财务顾问。 本轮融资募集资金将主要用于进一步推进公司在研产品管线开发，深化严肃医疗及消费医疗领域布局，加快公司产品管线产业化落地及商业化推广。</span></div> <div class=\"last-line mf-flex-wrap mf-flex mf-items-center mf-justify-between\" data-v-12a4774d=\"\"><div class=\"mf-flex-wrap mf-flex mf-items-center mf-justify-between\" data-v-12a4774d=\"\"><span class=\"gray-text\" data-v-12a4774d=\"\"><a class=\"dark-link mf-flex mf-items-center mf-justify-start\" data-v-12a4774d=\"\" href=\"/news/summary/source/%E5%8C%BB%E8%8D%AF%E9%AD%94%E6%96%B9Invest\" target=\"_blank\"><div class=\"mf-flex mf-items-center mf-justify-center mf-mr-4px\" data-v-12a4774d=\"\" style=\"\\n              width: 20px;\\n              height: 20px;\\n              border-radius: 50%;\\n              box-shadow: 0px 2px 16px 0px rgba(152, 194, 237, 0.3);\\n            \"><img alt=\"\" class=\"source-logo\" data-v-12a4774d=\"\" referrerpolicy=\"no-referrer\" src=\"https://pharmcube-pat.oss-cn-beijing.aliyuncs.com/wechat_mp_logo/21e09891ba976e69ffc0613a5e5e9eed.png\"/></div>\n",
       "\n",
       "          医药魔方Invest\n",
       "          <span class=\"origin-tag mf-ml-4px\" data-v-12a4774d=\"\">\n",
       "            原创\n",
       "          </span></a></span> <span class=\"divider\" data-v-12a4774d=\"\"></span> <span class=\"gray-text\" data-v-12a4774d=\"\">59分钟前</span> <span class=\"mf-mr-16px\" data-v-12a4774d=\"\"></span></div> <div class=\"similar\" data-v-12a4774d=\"\">\n",
       "      2篇相似报道\n",
       "    </div></div> <div class=\"block-tags-container mf-mt-8px mf-flex mf-items-center mf-flex-wrap\" data-v-12a4774d=\"\" data-v-299cff7f=\"\"><div class=\"drugs mf-inline-flex mf-items-start mf-mr-16px\" data-v-299cff7f=\"\"><span class=\"drugs-title mf-my-2px mf-flex-shrink-0 mf-leading-22px\" data-v-299cff7f=\"\">了解企业：</span> <span class=\"drugs-list\" data-v-299cff7f=\"\"><span class=\"mf-tag-company mf-mr-16px mf-my-2px mf-leading-22px drug-nobg\" data-v-299cff7f=\"\"><a class=\"inside link\" href=\"/investgo/company/detail/878b2b939fb066984fc449a14a5abf9e\" target=\"_blank\"><img alt=\"\" class=\"company-icon\" src=\"https://vcdn.pharmcube.com/drawbed/1711508728909_企业-彩色.svg\"/> <span>新氧</span></a></span><span class=\"mf-tag-company mf-mr-16px mf-my-2px mf-leading-22px drug-nobg\" data-v-299cff7f=\"\"><a class=\"inside link\" href=\"/investgo/company/detail/abebb9650430bc669977c47d27a99f82\" target=\"_blank\"><img alt=\"\" class=\"company-icon\" src=\"https://vcdn.pharmcube.com/drawbed/1711508728909_企业-彩色.svg\"/> <span>君合盟</span></a></span></span></div> <!-- --></div> <div class=\"bottom-line\" data-v-12a4774d=\"\" style=\"opacity:1;width:calc(100% - 48px);\"></div></div></div><div data-v-65ceef8e=\"\"><div class=\"item-news mf-p-16px mf-pb-12px mf-relative\" data-v-12a4774d=\"\" data-v-65ceef8e=\"\"><div class=\"mf-flex mf-items-center\" data-v-12a4774d=\"\"><a class=\"mf-font-600 mf-text-18px alink news-title mf-block mf-leading-26px\" data-v-12a4774d=\"\" href=\"/news/detail/9a8f2ab484d439ef9d9d8888ad4bb5e5\" target=\"_blank\"><span class=\"highlight-container\" data-v-12a4774d=\"\">三部门发文试点外资进入，基因诊疗领域“破冰”</span></a> <!-- --></div> <div class=\"subtitle mf-mt-8px mf-h-44px mf-line-clamp-2\" data-v-12a4774d=\"\"><span class=\"highlight-container\" data-v-12a4774d=\"\">2024年9月7日，商务部、国家卫生健康委、国家药监局发布关于在医疗领域开展扩大开放试点工作的通知：。 所有经过注册上市和批准生产的产品，可在全国范围使用。 其次，在独资医院领域，拟允许在北京、天津、上海、南京、苏州、福州、广州、深圳和海南全岛设立外商独资医院（中医类除外，不含并购公立医院）。</span></div> <div class=\"last-line mf-flex-wrap mf-flex mf-items-center mf-justify-between\" data-v-12a4774d=\"\"><div class=\"mf-flex-wrap mf-flex mf-items-center mf-justify-between\" data-v-12a4774d=\"\"><span class=\"gray-text\" data-v-12a4774d=\"\"><a class=\"dark-link mf-flex mf-items-center mf-justify-start\" data-v-12a4774d=\"\" href=\"/news/summary/source/%E5%8C%BB%E8%8D%AF%E9%AD%94%E6%96%B9Invest\" target=\"_blank\"><div class=\"mf-flex mf-items-center mf-justify-center mf-mr-4px\" data-v-12a4774d=\"\" style=\"\\n              width: 20px;\\n              height: 20px;\\n              border-radius: 50%;\\n              box-shadow: 0px 2px 16px 0px rgba(152, 194, 237, 0.3);\\n            \"><img alt=\"\" class=\"source-logo\" data-v-12a4774d=\"\" referrerpolicy=\"no-referrer\" src=\"https://pharmcube-pat.oss-cn-beijing.aliyuncs.com/wechat_mp_logo/21e09891ba976e69ffc0613a5e5e9eed.png\"/></div>\n",
       "\n",
       "          医药魔方Invest\n",
       "          <span class=\"origin-tag mf-ml-4px\" data-v-12a4774d=\"\">\n",
       "            原创\n",
       "          </span></a></span> <span class=\"divider\" data-v-12a4774d=\"\"></span> <span class=\"gray-text\" data-v-12a4774d=\"\">59分钟前</span> <span class=\"mf-mr-16px\" data-v-12a4774d=\"\"></span></div> <!-- --></div> <div data-v-12a4774d=\"\" data-v-299cff7f=\"\" style=\"height:4px;\"></div> <div class=\"bottom-line\" data-v-12a4774d=\"\" style=\"opacity:1;width:calc(100% - 48px);\"></div></div></div><div data-v-65ceef8e=\"\"><div class=\"item-news mf-p-16px mf-pb-12px mf-relative\" data-v-12a4774d=\"\" data-v-65ceef8e=\"\"><div class=\"mf-flex mf-items-center\" data-v-12a4774d=\"\"><a class=\"mf-font-600 mf-text-18px alink news-title mf-block mf-leading-26px\" data-v-12a4774d=\"\" href=\"/news/detail/6d3c444d6110059c0c065a61ebaea804\" target=\"_blank\"><span class=\"highlight-container\" data-v-12a4774d=\"\">国内抗体-小核酸偶联药物先行者 | 迦进生物</span></a> <!-- --></div> <div class=\"subtitle mf-mt-8px mf-h-44px mf-line-clamp-2\" data-v-12a4774d=\"\"><span class=\"highlight-container\" data-v-12a4774d=\"\">创新是生物医药领域发展的命脉。 如何将一项创新技术、一个创新靶点转换为一类创新疗法是科学界、产业界、投资界共同探讨的命题。 根据医药魔方NextPharma®数据库，截至2024年8月31日，全球获批上市的小核酸药物总计19款（涵盖已退市），包括11款ASO药物、6款siRNA药物以及2款适配体药物。</span></div> <div class=\"last-line mf-flex-wrap mf-flex mf-items-center mf-justify-between\" data-v-12a4774d=\"\"><div class=\"mf-flex-wrap mf-flex mf-items-center mf-justify-between\" data-v-12a4774d=\"\"><span class=\"gray-text\" data-v-12a4774d=\"\"><a class=\"dark-link mf-flex mf-items-center mf-justify-start\" data-v-12a4774d=\"\" href=\"/news/summary/source/%E5%8C%BB%E8%8D%AF%E9%AD%94%E6%96%B9Pro\" target=\"_blank\"><div class=\"mf-flex mf-items-center mf-justify-center mf-mr-4px\" data-v-12a4774d=\"\" style=\"\\n              width: 20px;\\n              height: 20px;\\n              border-radius: 50%;\\n              box-shadow: 0px 2px 16px 0px rgba(152, 194, 237, 0.3);\\n            \"><img alt=\"\" class=\"source-logo\" data-v-12a4774d=\"\" referrerpolicy=\"no-referrer\" src=\"https://pharmcube-pat.oss-cn-beijing.aliyuncs.com/wechat_mp_logo/84fad3f676ebd639a89e7abb94b92856.png\"/></div>\n",
       "\n",
       "          医药魔方Pro\n",
       "          <span class=\"origin-tag mf-ml-4px\" data-v-12a4774d=\"\">\n",
       "            原创\n",
       "          </span></a></span> <span class=\"divider\" data-v-12a4774d=\"\"></span> <span class=\"gray-text\" data-v-12a4774d=\"\">昨天 21:01</span> <span class=\"mf-mr-16px\" data-v-12a4774d=\"\"></span></div> <!-- --></div> <div class=\"block-tags-container mf-mt-8px mf-flex mf-items-center mf-flex-wrap\" data-v-12a4774d=\"\" data-v-299cff7f=\"\"><div class=\"drugs mf-inline-flex mf-items-start mf-mr-16px\" data-v-299cff7f=\"\"><span class=\"drugs-title mf-my-2px mf-flex-shrink-0 mf-leading-22px\" data-v-299cff7f=\"\">了解企业：</span> <span class=\"drugs-list\" data-v-299cff7f=\"\"><span class=\"mf-tag-company mf-mr-16px mf-my-2px mf-leading-22px drug-nobg\" data-v-299cff7f=\"\"><a class=\"inside link\" href=\"/investgo/company/detail/36381ce2c1895ed6470d71594ce091e3\" target=\"_blank\"><img alt=\"\" class=\"company-icon\" src=\"https://vcdn.pharmcube.com/drawbed/1711508728909_企业-彩色.svg\"/> <span>迦进生物</span></a></span></span></div> <!-- --></div> <div class=\"bottom-line\" data-v-12a4774d=\"\" style=\"opacity:1;width:calc(100% - 48px);\"></div></div></div><div data-v-65ceef8e=\"\"><div class=\"item-news mf-p-16px mf-pb-12px mf-relative\" data-v-12a4774d=\"\" data-v-65ceef8e=\"\"><div class=\"mf-flex mf-items-center\" data-v-12a4774d=\"\"><a class=\"mf-font-600 mf-text-18px alink news-title mf-block mf-leading-26px\" data-v-12a4774d=\"\" href=\"/news/detail/32210f5e3cf86eac4a8f0a4e511a033b\" target=\"_blank\"><span class=\"highlight-container\" data-v-12a4774d=\"\">皮尔法伯BRAF抑制剂「恩考芬尼」申报上市</span></a> <!-- --></div> <div class=\"subtitle mf-mt-8px mf-h-44px mf-line-clamp-2\" data-v-12a4774d=\"\"><span class=\"highlight-container\" data-v-12a4774d=\"\">9月7日，国家药品监督管理局（NMPA）药品审评中心（CDE）官网显示，皮尔法伯（Pierre Fabre）的恩考芬尼胶囊（encorafenib）的上市申请已获受理。 恩考芬尼是一款BRAF抑制剂，靶向BRAF V600E，以及野生型BRAF和CRAF。 BRAF是一种丝氨酸/苏氨酸蛋白激酶，与ARAF和CRAF同属RAF激酶家族，参与RAS-RAF-MEK-ERK信号通路。</span></div> <div class=\"last-line mf-flex-wrap mf-flex mf-items-center mf-justify-between\" data-v-12a4774d=\"\"><div class=\"mf-flex-wrap mf-flex mf-items-center mf-justify-between\" data-v-12a4774d=\"\"><span class=\"gray-text\" data-v-12a4774d=\"\"><a class=\"dark-link mf-flex mf-items-center mf-justify-start\" data-v-12a4774d=\"\" href=\"/news/summary/source/%E5%8C%BB%E8%8D%AF%E9%AD%94%E6%96%B9Info\" target=\"_blank\"><div class=\"mf-flex mf-items-center mf-justify-center mf-mr-4px\" data-v-12a4774d=\"\" style=\"\\n              width: 20px;\\n              height: 20px;\\n              border-radius: 50%;\\n              box-shadow: 0px 2px 16px 0px rgba(152, 194, 237, 0.3);\\n            \"><img alt=\"\" class=\"source-logo\" data-v-12a4774d=\"\" referrerpolicy=\"no-referrer\" src=\"https://pharmcube-pat.oss-cn-beijing.aliyuncs.com/wechat_mp_logo/6ad25aa68a7f2d9979385ef99131cad0.png\"/></div>\n",
       "\n",
       "          医药魔方Info\n",
       "          <span class=\"origin-tag mf-ml-4px\" data-v-12a4774d=\"\">\n",
       "            原创\n",
       "          </span></a></span> <span class=\"divider\" data-v-12a4774d=\"\"></span> <span class=\"gray-text\" data-v-12a4774d=\"\">昨天 17:48</span> <span class=\"mf-mr-16px\" data-v-12a4774d=\"\"></span></div> <!-- --></div> <div class=\"block-tags-container mf-mt-8px mf-flex mf-items-center mf-flex-wrap\" data-v-12a4774d=\"\" data-v-299cff7f=\"\"><div class=\"drugs mf-inline-flex mf-items-start mf-mr-16px\" data-v-299cff7f=\"\"><span class=\"drugs-title mf-my-2px mf-flex-shrink-0 mf-leading-22px\" data-v-299cff7f=\"\">了解企业：</span> <span class=\"drugs-list\" data-v-299cff7f=\"\"><span class=\"mf-tag-company mf-mr-16px mf-my-2px mf-leading-22px drug-nobg\" data-v-299cff7f=\"\"><a class=\"inside link\" href=\"/investgo/company/detail/1471158443e1254567010d52178c0be6\" target=\"_blank\"><img alt=\"\" class=\"company-icon\" src=\"https://vcdn.pharmcube.com/drawbed/1711508728909_企业-彩色.svg\"/> <span>Pierre Fabre</span></a></span></span></div> <div class=\"ents mf-inline-flex mf-items-start mf-mr-16px\" data-v-299cff7f=\"\"><span class=\"ents-title mf-my-2px mf-flex-shrink-0 mf-leading-22px\" data-v-299cff7f=\"\">了解药品：</span> <span class=\"ents-list\" data-v-299cff7f=\"\"><a class=\"mf-tag-drug mf-mr-16px mf-my-2px mf-leading-22px drug-nobg\" data-v-299cff7f=\"\" href=\"/nextpharma/drug/detail/a1ab8adc4cc5bec1a2ddedf3a51c86eb\" target=\"_blank\"><img alt=\"\" class=\"drug-icon\" src=\"https://vcdn.pharmcube.com/drawbed/1705283222635_药品-彩色.svg\"/> <span>恩考芬尼</span></a></span></div></div> <div class=\"bottom-line\" data-v-12a4774d=\"\" style=\"opacity:1;width:calc(100% - 48px);\"></div></div></div><div data-v-65ceef8e=\"\"><div class=\"item-news mf-p-16px mf-pb-12px mf-relative\" data-v-12a4774d=\"\" data-v-65ceef8e=\"\"><div class=\"mf-flex mf-items-center\" data-v-12a4774d=\"\"><a class=\"mf-font-600 mf-text-18px alink news-title mf-block mf-leading-26px\" data-v-12a4774d=\"\" href=\"/news/detail/f9c55f96c5c4e3c69474e29cf6a410ea\" target=\"_blank\"><span class=\"highlight-container\" data-v-12a4774d=\"\">海思科DPP-1抑制剂拟纳入突破性疗法</span></a> <!-- --></div> <div class=\"subtitle mf-mt-8px mf-h-44px mf-line-clamp-2\" data-v-12a4774d=\"\"><span class=\"highlight-container\" data-v-12a4774d=\"\">9月9日，国家药品监督管理局（NMPA）药品审评中心（CDE）官网显示，海思科的HSK31858片拟纳入突破性疗法，适应症为非囊性纤维化支气管扩张。 HSK31858是海思科自主研发的1类新药。 该药是一种口服、强效和高选择性的二肽基肽酶 1（Dipeptidyl Peptidase 1, DPP1）小分子抑制剂，临床拟用于治疗支气管扩张症及急性肺损伤/急性呼吸窘迫综合征引起的下呼吸道疾病。</span></div> <div class=\"last-line mf-flex-wrap mf-flex mf-items-center mf-justify-between\" data-v-12a4774d=\"\"><div class=\"mf-flex-wrap mf-flex mf-items-center mf-justify-between\" data-v-12a4774d=\"\"><span class=\"gray-text\" data-v-12a4774d=\"\"><a class=\"dark-link mf-flex mf-items-center mf-justify-start\" data-v-12a4774d=\"\" href=\"/news/summary/source/%E5%8C%BB%E8%8D%AF%E9%AD%94%E6%96%B9Info\" target=\"_blank\"><div class=\"mf-flex mf-items-center mf-justify-center mf-mr-4px\" data-v-12a4774d=\"\" style=\"\\n              width: 20px;\\n              height: 20px;\\n              border-radius: 50%;\\n              box-shadow: 0px 2px 16px 0px rgba(152, 194, 237, 0.3);\\n            \"><img alt=\"\" class=\"source-logo\" data-v-12a4774d=\"\" referrerpolicy=\"no-referrer\" src=\"https://pharmcube-pat.oss-cn-beijing.aliyuncs.com/wechat_mp_logo/6ad25aa68a7f2d9979385ef99131cad0.png\"/></div>\n",
       "\n",
       "          医药魔方Info\n",
       "          <span class=\"origin-tag mf-ml-4px\" data-v-12a4774d=\"\">\n",
       "            原创\n",
       "          </span></a></span> <span class=\"divider\" data-v-12a4774d=\"\"></span> <span class=\"gray-text\" data-v-12a4774d=\"\">昨天 17:48</span> <span class=\"mf-mr-16px\" data-v-12a4774d=\"\"></span></div> <!-- --></div> <div class=\"block-tags-container mf-mt-8px mf-flex mf-items-center mf-flex-wrap\" data-v-12a4774d=\"\" data-v-299cff7f=\"\"><div class=\"drugs mf-inline-flex mf-items-start mf-mr-16px\" data-v-299cff7f=\"\"><span class=\"drugs-title mf-my-2px mf-flex-shrink-0 mf-leading-22px\" data-v-299cff7f=\"\">了解企业：</span> <span class=\"drugs-list\" data-v-299cff7f=\"\"><span class=\"mf-tag-company mf-mr-16px mf-my-2px mf-leading-22px drug-nobg\" data-v-299cff7f=\"\"><a class=\"inside link\" href=\"/investgo/company/detail/a1a55ce40132bf9390bd13d7e2d51ef5\" target=\"_blank\"><img alt=\"\" class=\"company-icon\" src=\"https://vcdn.pharmcube.com/drawbed/1711508728909_企业-彩色.svg\"/> <span>海思科</span></a></span></span></div> <div class=\"ents mf-inline-flex mf-items-start mf-mr-16px\" data-v-299cff7f=\"\"><span class=\"ents-title mf-my-2px mf-flex-shrink-0 mf-leading-22px\" data-v-299cff7f=\"\">了解药品：</span> <span class=\"ents-list\" data-v-299cff7f=\"\"><a class=\"mf-tag-drug mf-mr-16px mf-my-2px mf-leading-22px drug-nobg\" data-v-299cff7f=\"\" href=\"/nextpharma/drug/detail/d26d9ff33d9120c7feff9f77e0bb2b07\" target=\"_blank\"><img alt=\"\" class=\"drug-icon\" src=\"https://vcdn.pharmcube.com/drawbed/1705283222635_药品-彩色.svg\"/> <span>HSK31858</span></a></span></div></div> <div class=\"bottom-line\" data-v-12a4774d=\"\" style=\"opacity:1;width:calc(100% - 48px);\"></div></div></div><div data-v-65ceef8e=\"\"><div class=\"item-news mf-p-16px mf-pb-12px mf-relative\" data-v-12a4774d=\"\" data-v-65ceef8e=\"\"><div class=\"mf-flex mf-items-center\" data-v-12a4774d=\"\"><a class=\"mf-font-600 mf-text-18px alink news-title mf-block mf-leading-26px\" data-v-12a4774d=\"\" href=\"/news/detail/b5fb9fee3304175848724d823b6d015e\" target=\"_blank\"><span class=\"highlight-container\" data-v-12a4774d=\"\">2024年8月 | 17款创新药进入III期，6款来自中国药企</span></a> <!-- --></div> <div class=\"subtitle mf-mt-8px mf-h-44px mf-line-clamp-2\" data-v-12a4774d=\"\"><span class=\"highlight-container\" data-v-12a4774d=\"\">根据全球临床试验收录网站和中国临床试验登记平台，8月共17款创新药进入III期阶段，其中6款来自中国药企。 这些在研药物覆盖靶点不乏HER2、IL-4Rα、TYK2等成熟靶点，也包括GPR6和LEPR这类还在探索成药性的靶点。 2.仅登记创新药，微创新和生物类似药不包括在内。</span></div> <div class=\"last-line mf-flex-wrap mf-flex mf-items-center mf-justify-between\" data-v-12a4774d=\"\"><div class=\"mf-flex-wrap mf-flex mf-items-center mf-justify-between\" data-v-12a4774d=\"\"><span class=\"gray-text\" data-v-12a4774d=\"\"><a class=\"dark-link mf-flex mf-items-center mf-justify-start\" data-v-12a4774d=\"\" href=\"/news/summary/source/%E5%8C%BB%E8%8D%AF%E9%AD%94%E6%96%B9Info\" target=\"_blank\"><div class=\"mf-flex mf-items-center mf-justify-center mf-mr-4px\" data-v-12a4774d=\"\" style=\"\\n              width: 20px;\\n              height: 20px;\\n              border-radius: 50%;\\n              box-shadow: 0px 2px 16px 0px rgba(152, 194, 237, 0.3);\\n            \"><img alt=\"\" class=\"source-logo\" data-v-12a4774d=\"\" referrerpolicy=\"no-referrer\" src=\"https://pharmcube-pat.oss-cn-beijing.aliyuncs.com/wechat_mp_logo/6ad25aa68a7f2d9979385ef99131cad0.png\"/></div>\n",
       "\n",
       "          医药魔方Info\n",
       "          <span class=\"origin-tag mf-ml-4px\" data-v-12a4774d=\"\">\n",
       "            原创\n",
       "          </span></a></span> <span class=\"divider\" data-v-12a4774d=\"\"></span> <span class=\"gray-text\" data-v-12a4774d=\"\">昨天 17:48</span> <span class=\"mf-mr-16px\" data-v-12a4774d=\"\"></span></div> <!-- --></div> <div class=\"block-tags-container mf-mt-8px mf-flex mf-items-center mf-flex-wrap\" data-v-12a4774d=\"\" data-v-299cff7f=\"\"><div class=\"drugs mf-inline-flex mf-items-start mf-mr-16px\" data-v-299cff7f=\"\"><span class=\"drugs-title mf-my-2px mf-flex-shrink-0 mf-leading-22px\" data-v-299cff7f=\"\">了解企业：</span> <span class=\"drugs-list\" data-v-299cff7f=\"\"><span class=\"mf-tag-company mf-mr-16px mf-my-2px mf-leading-22px drug-nobg\" data-v-299cff7f=\"\"><a class=\"inside link\" href=\"/investgo/company/detail/d7f14a9a1ea214c54c0b90a81d976002\" target=\"_blank\"><img alt=\"\" class=\"company-icon\" src=\"https://vcdn.pharmcube.com/drawbed/1711508728909_企业-彩色.svg\"/> <span>华泰创新药技术研究院</span></a></span><span class=\"mf-tag-company mf-mr-16px mf-my-2px mf-leading-22px drug-nobg\" data-v-299cff7f=\"\"><a class=\"inside link\" href=\"/investgo/company/detail/d124e45413e1d285dcb80ec518956e47\" target=\"_blank\"><img alt=\"\" class=\"company-icon\" src=\"https://vcdn.pharmcube.com/drawbed/1711508728909_企业-彩色.svg\"/> <span>辉瑞</span></a></span></span></div> <div class=\"ents mf-inline-flex mf-items-start mf-mr-16px\" data-v-299cff7f=\"\"><span class=\"ents-title mf-my-2px mf-flex-shrink-0 mf-leading-22px\" data-v-299cff7f=\"\">了解药品：</span> <span class=\"ents-list\" data-v-299cff7f=\"\"><a class=\"mf-tag-drug mf-mr-16px mf-my-2px mf-leading-22px drug-nobg\" data-v-299cff7f=\"\" href=\"/nextpharma/drug/detail/aa3da8d3100e4cb2c9c2bd473a1b82c6\" target=\"_blank\"><img alt=\"\" class=\"drug-icon\" src=\"https://vcdn.pharmcube.com/drawbed/1705283222635_药品-彩色.svg\"/> <span>ICP-332</span></a><a class=\"mf-tag-drug mf-mr-16px mf-my-2px mf-leading-22px drug-nobg\" data-v-299cff7f=\"\" href=\"/nextpharma/drug/detail/1f0bbdf6068c454c8c25c55b9dbd7903\" target=\"_blank\"><img alt=\"\" class=\"drug-icon\" src=\"https://vcdn.pharmcube.com/drawbed/1705283222635_药品-彩色.svg\"/> <span>KSI-501</span></a><a class=\"mf-tag-drug mf-mr-16px mf-my-2px mf-leading-22px drug-nobg\" data-v-299cff7f=\"\" href=\"/nextpharma/drug/detail/643b56a991a1116e7945b3ab3898f0ca\" target=\"_blank\"><img alt=\"\" class=\"drug-icon\" src=\"https://vcdn.pharmcube.com/drawbed/1705283222635_药品-彩色.svg\"/> <span>MY008211A</span></a></span></div></div> <div class=\"bottom-line\" data-v-12a4774d=\"\" style=\"opacity:1;width:calc(100% - 48px);\"></div></div></div><div data-v-65ceef8e=\"\"><div class=\"item-news mf-p-16px mf-pb-12px mf-relative\" data-v-12a4774d=\"\" data-v-65ceef8e=\"\"><div class=\"mf-flex mf-items-center\" data-v-12a4774d=\"\"><a class=\"mf-font-600 mf-text-18px alink news-title mf-block mf-leading-26px\" data-v-12a4774d=\"\" href=\"/news/detail/6e5b9e559229b34a93620888f6cf6aef\" target=\"_blank\"><span class=\"highlight-container\" data-v-12a4774d=\"\">恒瑞创新药SHR-1918拟纳入突破性疗法，治疗纯合子家族性高胆固醇血症</span></a> <!-- --></div> <div class=\"subtitle mf-mt-8px mf-h-44px mf-line-clamp-2\" data-v-12a4774d=\"\"><span class=\"highlight-container\" data-v-12a4774d=\"\">9月6日，国家药品监督管理局（NMPA）药品审评中心（CDE）官网显示，恒瑞医药的SHR-1918注射液拟纳入突破性疗法，用于治疗纯合子家族性高胆固醇血症。 纯合子家族性高胆固醇血症（HoFH）是一种罕见且严重的遗传性疾病，患者由于低密度脂蛋白胆固醇受体（LDLR）的缺陷或缺失，导致低密度脂蛋白胆固醇（LDL-C）在血液中积累，从而增加心脏病和卒中的风险。 SHR-1918注射液是恒瑞医药自主研发的血管生成素样蛋白3（ANGPTL3）单克隆抗体，通过抑制ANGPTL3的活性，从而降低血清中的甘油三酯（TG）和低密度脂蛋白胆固醇（LDL-C）水平。</span></div> <div class=\"last-line mf-flex-wrap mf-flex mf-items-center mf-justify-between\" data-v-12a4774d=\"\"><div class=\"mf-flex-wrap mf-flex mf-items-center mf-justify-between\" data-v-12a4774d=\"\"><span class=\"gray-text\" data-v-12a4774d=\"\"><a class=\"dark-link mf-flex mf-items-center mf-justify-start\" data-v-12a4774d=\"\" href=\"/news/summary/source/%E5%8C%BB%E8%8D%AF%E9%AD%94%E6%96%B9Info\" target=\"_blank\"><div class=\"mf-flex mf-items-center mf-justify-center mf-mr-4px\" data-v-12a4774d=\"\" style=\"\\n              width: 20px;\\n              height: 20px;\\n              border-radius: 50%;\\n              box-shadow: 0px 2px 16px 0px rgba(152, 194, 237, 0.3);\\n            \"><img alt=\"\" class=\"source-logo\" data-v-12a4774d=\"\" referrerpolicy=\"no-referrer\" src=\"https://pharmcube-pat.oss-cn-beijing.aliyuncs.com/wechat_mp_logo/6ad25aa68a7f2d9979385ef99131cad0.png\"/></div>\n",
       "\n",
       "          医药魔方Info\n",
       "          <span class=\"origin-tag mf-ml-4px\" data-v-12a4774d=\"\">\n",
       "            原创\n",
       "          </span></a></span> <span class=\"divider\" data-v-12a4774d=\"\"></span> <span class=\"gray-text\" data-v-12a4774d=\"\">昨天 17:48</span> <span class=\"mf-mr-16px\" data-v-12a4774d=\"\"></span></div> <!-- --></div> <div class=\"block-tags-container mf-mt-8px mf-flex mf-items-center mf-flex-wrap\" data-v-12a4774d=\"\" data-v-299cff7f=\"\"><div class=\"drugs mf-inline-flex mf-items-start mf-mr-16px\" data-v-299cff7f=\"\"><span class=\"drugs-title mf-my-2px mf-flex-shrink-0 mf-leading-22px\" data-v-299cff7f=\"\">了解企业：</span> <span class=\"drugs-list\" data-v-299cff7f=\"\"><span class=\"mf-tag-company mf-mr-16px mf-my-2px mf-leading-22px drug-nobg\" data-v-299cff7f=\"\"><a class=\"inside link\" href=\"/investgo/company/detail/890a76aa012a34cf41aac0c2771c09ea\" target=\"_blank\"><img alt=\"\" class=\"company-icon\" src=\"https://vcdn.pharmcube.com/drawbed/1711508728909_企业-彩色.svg\"/> <span>恒瑞医药</span></a></span></span></div> <div class=\"ents mf-inline-flex mf-items-start mf-mr-16px\" data-v-299cff7f=\"\"><span class=\"ents-title mf-my-2px mf-flex-shrink-0 mf-leading-22px\" data-v-299cff7f=\"\">了解药品：</span> <span class=\"ents-list\" data-v-299cff7f=\"\"><a class=\"mf-tag-drug mf-mr-16px mf-my-2px mf-leading-22px drug-nobg\" data-v-299cff7f=\"\" href=\"/nextpharma/drug/detail/2163b7a53788564c6e213f359cdaef96\" target=\"_blank\"><img alt=\"\" class=\"drug-icon\" src=\"https://vcdn.pharmcube.com/drawbed/1705283222635_药品-彩色.svg\"/> <span>SHR-1918</span></a></span></div></div> <div class=\"bottom-line\" data-v-12a4774d=\"\" style=\"opacity:1;width:calc(100% - 48px);\"></div></div></div><div data-v-65ceef8e=\"\"><div class=\"item-news mf-p-16px mf-pb-12px mf-relative\" data-v-12a4774d=\"\" data-v-65ceef8e=\"\"><div class=\"mf-flex mf-items-center\" data-v-12a4774d=\"\"><a class=\"mf-font-600 mf-text-18px alink news-title mf-block mf-leading-26px\" data-v-12a4774d=\"\" href=\"/news/detail/f922235bf1cc41c3b733dc0735010f8c\" target=\"_blank\"><span class=\"highlight-container\" data-v-12a4774d=\"\">大冢制药第三代Bcr-Abl抑制剂「泊那替尼」获批上市</span></a> <!-- --></div> <div class=\"subtitle mf-mt-8px mf-h-44px mf-line-clamp-2\" data-v-12a4774d=\"\"><span class=\"highlight-container\" data-v-12a4774d=\"\">泊那替尼最早于2012年12月获FDA批准上市，用于治疗对酪氨酸激酶抑制药耐药或不能耐受的慢性髓性白血病（CML）患者。 泊那替尼治疗CML和Ph+ALL患者的疗效已在II期 PACE 研究中得到验证。 该研究评估了泊那替尼45mg每日1次治疗CML和Ph+ALL患者（对TKI耐药或不耐受和/或伴有T315I突变）的疗效和安全性。</span></div> <div class=\"last-line mf-flex-wrap mf-flex mf-items-center mf-justify-between\" data-v-12a4774d=\"\"><div class=\"mf-flex-wrap mf-flex mf-items-center mf-justify-between\" data-v-12a4774d=\"\"><span class=\"gray-text\" data-v-12a4774d=\"\"><a class=\"dark-link mf-flex mf-items-center mf-justify-start\" data-v-12a4774d=\"\" href=\"/news/summary/source/%E5%8C%BB%E8%8D%AF%E9%AD%94%E6%96%B9Info\" target=\"_blank\"><div class=\"mf-flex mf-items-center mf-justify-center mf-mr-4px\" data-v-12a4774d=\"\" style=\"\\n              width: 20px;\\n              height: 20px;\\n              border-radius: 50%;\\n              box-shadow: 0px 2px 16px 0px rgba(152, 194, 237, 0.3);\\n            \"><img alt=\"\" class=\"source-logo\" data-v-12a4774d=\"\" referrerpolicy=\"no-referrer\" src=\"https://pharmcube-pat.oss-cn-beijing.aliyuncs.com/wechat_mp_logo/6ad25aa68a7f2d9979385ef99131cad0.png\"/></div>\n",
       "\n",
       "          医药魔方Info\n",
       "          <span class=\"origin-tag mf-ml-4px\" data-v-12a4774d=\"\">\n",
       "            原创\n",
       "          </span></a></span> <span class=\"divider\" data-v-12a4774d=\"\"></span> <span class=\"gray-text\" data-v-12a4774d=\"\">昨天 17:48</span> <span class=\"mf-mr-16px\" data-v-12a4774d=\"\"></span></div> <!-- --></div> <div class=\"block-tags-container mf-mt-8px mf-flex mf-items-center mf-flex-wrap\" data-v-12a4774d=\"\" data-v-299cff7f=\"\"><div class=\"drugs mf-inline-flex mf-items-start mf-mr-16px\" data-v-299cff7f=\"\"><span class=\"drugs-title mf-my-2px mf-flex-shrink-0 mf-leading-22px\" data-v-299cff7f=\"\">了解企业：</span> <span class=\"drugs-list\" data-v-299cff7f=\"\"><span class=\"mf-tag-company mf-mr-16px mf-my-2px mf-leading-22px drug-nobg\" data-v-299cff7f=\"\"><a class=\"inside link\" href=\"/investgo/company/detail/acab90f8c56928ac6399a5d04d2b44ce\" target=\"_blank\"><img alt=\"\" class=\"company-icon\" src=\"https://vcdn.pharmcube.com/drawbed/1711508728909_企业-彩色.svg\"/> <span>Otsuka</span></a></span></span></div> <div class=\"ents mf-inline-flex mf-items-start mf-mr-16px\" data-v-299cff7f=\"\"><span class=\"ents-title mf-my-2px mf-flex-shrink-0 mf-leading-22px\" data-v-299cff7f=\"\">了解药品：</span> <span class=\"ents-list\" data-v-299cff7f=\"\"><a class=\"mf-tag-drug mf-mr-16px mf-my-2px mf-leading-22px drug-nobg\" data-v-299cff7f=\"\" href=\"/nextpharma/drug/detail/f954c3c656fded07aeb937326c6bd5f6\" target=\"_blank\"><img alt=\"\" class=\"drug-icon\" src=\"https://vcdn.pharmcube.com/drawbed/1705283222635_药品-彩色.svg\"/> <span>泊那替尼</span></a></span></div></div> <div class=\"bottom-line\" data-v-12a4774d=\"\" style=\"opacity:1;width:calc(100% - 48px);\"></div></div></div><div data-v-65ceef8e=\"\"><div class=\"item-news mf-p-16px mf-pb-12px mf-relative\" data-v-12a4774d=\"\" data-v-65ceef8e=\"\"><div class=\"mf-flex mf-items-center\" data-v-12a4774d=\"\"><a class=\"mf-font-600 mf-text-18px alink news-title mf-block mf-leading-26px\" data-v-12a4774d=\"\" href=\"/news/detail/51841ff780bf7f422270e48ea7213332\" target=\"_blank\"><span class=\"highlight-container\" data-v-12a4774d=\"\">融资建厂锐减超6成！创新药过剩产能加速出清</span></a> <!-- --></div> <div class=\"subtitle mf-mt-8px mf-h-44px mf-line-clamp-2\" data-v-12a4774d=\"\"><span class=\"highlight-container\" data-v-12a4774d=\"\">过去一年，尤其是2024年初产业里出现的一些变动，让业内感觉国产创新药正在出清，且有所加速了。 一方面，国内Biotech出现了破产清算的案例，随之而来的还有各类重组；另一方面， 具体到产品管线和产能建设上，来自CDE和医药魔方的数据显示，自2021年开始都出现了数量下滑趋势 。 产业出清：从管线到公司。</span></div> <div class=\"last-line mf-flex-wrap mf-flex mf-items-center mf-justify-between\" data-v-12a4774d=\"\"><div class=\"mf-flex-wrap mf-flex mf-items-center mf-justify-between\" data-v-12a4774d=\"\"><span class=\"gray-text\" data-v-12a4774d=\"\"><a class=\"dark-link mf-flex mf-items-center mf-justify-start\" data-v-12a4774d=\"\" href=\"/news/summary/source/%E5%8C%BB%E8%8D%AF%E9%AD%94%E6%96%B9Invest\" target=\"_blank\"><div class=\"mf-flex mf-items-center mf-justify-center mf-mr-4px\" data-v-12a4774d=\"\" style=\"\\n              width: 20px;\\n              height: 20px;\\n              border-radius: 50%;\\n              box-shadow: 0px 2px 16px 0px rgba(152, 194, 237, 0.3);\\n            \"><img alt=\"\" class=\"source-logo\" data-v-12a4774d=\"\" referrerpolicy=\"no-referrer\" src=\"https://pharmcube-pat.oss-cn-beijing.aliyuncs.com/wechat_mp_logo/21e09891ba976e69ffc0613a5e5e9eed.png\"/></div>\n",
       "\n",
       "          医药魔方Invest\n",
       "          <span class=\"origin-tag mf-ml-4px\" data-v-12a4774d=\"\">\n",
       "            原创\n",
       "          </span></a></span> <span class=\"divider\" data-v-12a4774d=\"\"></span> <span class=\"gray-text\" data-v-12a4774d=\"\">昨天 08:41</span> <span class=\"mf-mr-16px\" data-v-12a4774d=\"\"></span></div> <!-- --></div> <div data-v-12a4774d=\"\" data-v-299cff7f=\"\" style=\"height:4px;\"></div> <div class=\"bottom-line\" data-v-12a4774d=\"\" style=\"opacity:0;width:calc(100% - 48px);\"></div></div></div> <!-- --></div></div></div> <div class=\"mf-pt-8px mf-pb-20px mf-text-center load-more-container\" data-v-5c8b65e4=\"\" data-v-65ceef8e=\"\"><div class=\"ui-load-more mf-flex mf-items-center mf-justify-center\" data-v-65ceef8e=\"\"><div><button class=\"load-more ant-btn\" data-v-65ceef8e=\"\" type=\"button\"><span>加载更多</span></button></div></div></div></div></div> <div class=\"right-wrap\" data-v-5c8b65e4=\"\" data-v-65ceef8e=\"\"><div class=\"box mf-bg-white mf-rounded-8px\" data-v-5c8b65e4=\"\" data-v-65ceef8e=\"\"><div class=\"right-md-title-container rmbq\" data-v-5c8b65e4=\"\" data-v-65ceef8e=\"\"><h3 class=\"right-md-title\" data-v-5c8b65e4=\"\" data-v-65ceef8e=\"\">热门标签</h3> <i class=\"icon iconfont icon-remenbiaoqian\" data-v-5c8b65e4=\"\" data-v-65ceef8e=\"\"></i></div> <div class=\"children mf-p-16px\" data-v-5c8b65e4=\"\" data-v-65ceef8e=\"\" style=\"padding-bottom:0.1px;\"><div class=\"mf-mb-8px\" data-v-5c8b65e4=\"\" data-v-65ceef8e=\"\"><a class=\"mf-mr-12px mf-mb-16px mf-tag-primary mf-inline-block\" data-v-5c8b65e4=\"\" data-v-65ceef8e=\"\" href=\"/news?searchKey=PDL1\" style=\"word-break:keep-all;white-space:nowrap;\" target=\"_blank\">PDL1</a><a class=\"mf-mr-12px mf-mb-16px mf-tag-primary mf-inline-block\" data-v-5c8b65e4=\"\" data-v-65ceef8e=\"\" href=\"/news?searchKey=%E5%BA%B7%E6%96%B9%E7%94%9F%E7%89%A9\" style=\"word-break:keep-all;white-space:nowrap;\" target=\"_blank\">康方生物</a><a class=\"mf-mr-12px mf-mb-16px mf-tag-primary mf-inline-block\" data-v-5c8b65e4=\"\" data-v-65ceef8e=\"\" href=\"/news?searchKey=%E8%82%BA%E7%99%8C\" style=\"word-break:keep-all;white-space:nowrap;\" target=\"_blank\">肺癌</a><a class=\"mf-mr-12px mf-mb-16px mf-tag-primary mf-inline-block\" data-v-5c8b65e4=\"\" data-v-65ceef8e=\"\" href=\"/news?searchKey=%E8%82%BF%E7%98%A4\" style=\"word-break:keep-all;white-space:nowrap;\" target=\"_blank\">肿瘤</a><a class=\"mf-mr-12px mf-mb-16px mf-tag-primary mf-inline-block\" data-v-5c8b65e4=\"\" data-v-65ceef8e=\"\" href=\"/news?searchKey=%E5%B8%95%E5%8D%9A%E5%88%A9%E7%8F%A0%E5%8D%95%E6%8A%97\" style=\"word-break:keep-all;white-space:nowrap;\" target=\"_blank\">帕博利珠单抗</a> <!-- --></div></div></div></div></div></div></div> <!-- --> <div class=\"mffooter\" data-v-5c8b65e4=\"\" data-v-a97d78d2=\"\"><div class=\"inner\" data-v-a97d78d2=\"\"><div class=\"left\" data-v-a97d78d2=\"\"><div class=\"ltop\" data-v-a97d78d2=\"\"><p data-v-a97d78d2=\"\">Copyright©2015-2024</p> <p data-v-a97d78d2=\"\">\n",
       "          备案号:\n",
       "          <a data-v-a97d78d2=\"\" href=\"https://beian.miit.gov.cn\" target=\"_blank\">沪ICP备2024080838号-7</a> <span data-v-a97d78d2=\"\"><img alt=\"备案图标\" data-v-a97d78d2=\"\" src=\"https://vcdn.pharmcube.com/images/common/ico_gongan.png\" style=\"\\n                display: inline-block;\\n                vertical-align: middle;\\n                margin: -1px 2px 0px 17px;\\n              \"/> <a data-v-a97d78d2=\"\" href=\"https://www.beian.gov.cn/portal/registerSystemInfo?recordcode=11010502052237\" target=\"_blank\">沪公网安备31011502401367号</a></span></p> <p data-v-a97d78d2=\"\">\n",
       "          互联网药品信息服务资格证书编号：(沪)-经营性-2024-0212\n",
       "        </p></div> <div class=\"ldown\" data-v-a97d78d2=\"\"><span class=\"iconf iconfont icon-weixin\" data-v-a97d78d2=\"\"><!-- --></span> <a class=\"iconf iconfont icon-weibo\" data-v-a97d78d2=\"\" href=\"https://weibo.com/yiyaomofang\" target=\"_blank\"></a> <a class=\"iconf iconfont icon-zhihu\" data-v-a97d78d2=\"\" href=\"https://www.zhihu.com/org/yi-yao-mo-fang-6 \" target=\"_blank\"></a> <a class=\"iconf iconfont icon-linkedin-fill\" data-v-a97d78d2=\"\" href=\"https://www.linkedin.com/company/%E5%8C%BB%E8%8D%AF%E9%AD%94%E6%96%B9/?viewAsMember=true\" target=\"_blank\"></a> <a class=\"iconf iconfont icon-twitter-fill\" data-v-a97d78d2=\"\" href=\"https://twitter.com/pharmcube\" target=\"_blank\"></a> <a class=\"iconf iconfont icon-facebook-fill\" data-v-a97d78d2=\"\" href=\"https://www.facebook.com/PharmCubeGlobal\" target=\"_blank\"></a> <a class=\"iconf iconfont icon-youtubeyoutube7\" data-v-a97d78d2=\"\" href=\"https://www.youtube.com/channel/UCQReNOQAXp1tmg-YCkrMhfg\" target=\"_blank\"></a></div></div> <div class=\"right\" data-v-a97d78d2=\"\"><svg class=\"icon\" data-v-a97d78d2=\"\" p-id=\"4457\" t=\"1658893879302\" version=\"1.1\" viewbox=\"0 0 2925 1024\" xmlns=\"http://www.w3.org/2000/svg\"><path d=\"M876.251429 377.173333l-248.685715 115.321905c-17.554286 8.289524-29.013333 25.84381-29.013333 45.348572v306.468571c0 18.529524 19.260952 30.96381 36.083809 23.161905l248.685715-115.321905c17.554286-8.289524 29.013333-25.84381 29.013333-45.348571V400.335238c0-18.529524-19.260952-30.96381-36.083809-23.161905z m-114.834286 291.596191c20.48-9.99619 33.401905-35.352381 33.401905-35.352381l8.045714 4.388571c1.462857 0.731429 1.706667 3.169524 0.487619 5.36381-10.24 18.041905-24.868571 33.401905-41.20381 40.96-30.47619 14.140952-55.344762-3.657143-55.344761-39.984762 0-36.08381 24.868571-77.04381 55.344761-91.184762 16.335238-7.558095 30.96381-5.851429 41.20381 2.681905 1.219048 0.975238 0.975238 3.657143-0.487619 5.851428l-7.070476 10.24s-9.264762-12.190476-31.451429-2.194285c-19.748571 9.020952-41.691429 40.472381-42.422857 67.535238-0.487619 26.331429 17.798095 42.422857 39.497143 31.695238zM633.660952 288.182857l-30.963809-14.628571-52.419048 24.624762 30.476191 14.140952c9.020952 4.144762 32.670476 6.826667 49.980952-1.219048 20.48-9.508571 10.48381-19.260952 2.925714-22.918095z\" data-v-a97d78d2=\"\" fill=\"#ffffff\" p-id=\"4458\"></path> <path d=\"M872.838095 333.04381c21.455238-9.99619 21.455238-40.472381 0-50.468572L616.594286 162.620952a90.209524 90.209524 0 0 0-76.068572 0l-256.243809 119.954286c-21.455238 9.99619-21.455238 40.472381 0 50.468572l256.243809 119.954285a90.209524 90.209524 0 0 0 76.068572 0l256.243809-119.954285z m-306.224762-14.140953l-30.47619-14.140952-44.617143 20.967619-19.748571-9.264762 120.685714-56.32a12.190476 12.190476 0 0 1 9.264762 0l45.348571 21.211428c11.946667 5.607619 34.864762 21.942857-0.975238 38.521905-28.038095 13.165714-64.853333 5.851429-79.481905-0.975238zM528.822857 492.495238l-248.685714-116.297143c-16.822857-8.045714-36.327619 4.388571-36.327619 22.918095v306.468572c0 19.504762 11.215238 37.059048 28.769524 45.348571l248.685714 116.297143c16.822857 7.801905 36.327619-4.388571 36.327619-23.161905V537.84381c0-19.504762-11.215238-37.302857-28.769524-45.348572z m-73.142857 218.209524l-16.579048-7.801905v-92.891428l-38.521904 40.228571-38.521905-76.312381v88.259048c0 2.438095-1.706667 3.657143-3.657143 2.681904l-12.921905-6.095238V536.380952c0-2.681905 1.706667-3.900952 3.900953-2.925714l10.483809 4.876191 40.472381 81.188571 39.740952-41.691429c0.731429-0.731429 1.950476-0.975238 3.169524-0.243809l12.434286 5.851428v127.268572z\" data-v-a97d78d2=\"\" fill=\"#ffffff\" p-id=\"4459\"></path> <path d=\"M2122.361905 289.889524h153.843809v-22.430476c0-3.169524-2.681905-5.851429-5.851428-5.851429h-147.992381v-9.264762a7.070476 7.070476 0 0 0-7.070476-7.070476h-41.691429v16.335238h-147.992381c-3.169524 0-5.851429 2.681905-5.851429 5.851429v225.523809c0 28.038095-5.851429 45.104762-24.868571 50.712381-2.438095 0.731429-4.144762 2.925714-4.144762 5.607619v27.550476c51.687619 0 72.167619-39.740952 72.167619-83.626666V290.133333H2122.361905z\" data-v-a97d78d2=\"\" fill=\"#ffffff\" p-id=\"4460\"></path> <path d=\"M1986.31619 341.820952v24.380953c0 3.169524 2.681905 5.851429 5.851429 5.851428h27.062857v-24.380952c0-3.169524-2.681905-5.851429-5.851428-5.851429h-27.062858zM2084.08381 341.820952v24.380953c0 3.169524 2.681905 5.851429 5.851428 5.851428h27.062857v-24.380952c0-3.169524-2.681905-5.851429-5.851428-5.851429h-27.062857z\" data-v-a97d78d2=\"\" fill=\"#ffffff\" p-id=\"4461\"></path> <path d=\"M2121.142857 310.857143c0-3.169524-2.681905-5.851429-5.851428-5.851429H2072.380952a7.68 7.68 0 0 0-7.558095-7.070476h-35.59619v7.070476h-42.910477c-3.169524 0-5.851429 2.681905-5.851428 5.851429v22.430476h48.761905V365.714286c0 3.413333 2.925714 6.339048 6.339047 6.339047H2072.380952v-39.009523h48.761905v-22.186667zM2274.255238 310.857143c0-3.169524-2.681905-5.851429-5.851428-5.851429h-42.910477a7.68 7.68 0 0 0-7.558095-7.070476h-35.59619v7.070476H2140.647619a7.070476 7.070476 0 0 0-7.070476 7.070476v21.211429h48.761905V365.714286c0 3.413333 2.925714 6.339048 6.339047 6.339047h37.059048v-39.009523h48.761905v-22.186667z\" data-v-a97d78d2=\"\" fill=\"#ffffff\" p-id=\"4462\"></path> <path d=\"M2137.478095 341.820952v24.380953c0 3.169524 2.681905 5.851429 5.851429 5.851428h27.062857v-24.380952c0-3.169524-2.681905-5.851429-5.851429-5.851429h-27.062857zM2236.464762 341.820952v24.380953c0 3.169524 2.681905 5.851429 5.851428 5.851428h27.062858v-24.380952c0-3.169524-2.681905-5.851429-5.851429-5.851429h-27.062857zM2087.984762 498.834286h30.72v62.902857c0 8.045714 6.582857 14.628571 14.628571 14.628571h135.801905c8.045714 0 14.628571-6.582857 14.628572-14.628571v-36.571429H2250.361905c-3.413333 0-6.095238 2.681905-6.095238 6.095238v11.702858h-76.556191c-3.169524 0-5.851429-2.681905-5.851428-5.851429v-38.278095h93.379047c8.045714 0 14.628571-6.582857 14.628572-14.628572v-88.259047c0-3.169524-2.681905-5.851429-5.851429-5.851429h-161.401905v-6.095238a7.070476 7.070476 0 0 0-7.070476-7.070476h-41.691428V390.095238h-62.415239c-3.169524 0-5.851429 2.681905-5.851428 5.851429v102.887619h57.051428c-3.657143 27.550476-39.009524 45.83619-64.365714 49.005714-2.681905 0.24381-4.87619 2.925714-4.87619 5.851429v24.137142c59.733333 2.194286 101.668571-31.207619 114.590476-78.994285z m61.19619-41.691429h80.944762v13.409524h-80.944762v-13.409524z m80.944762-24.868571h-80.944762v-14.140953h80.944762v14.140953z m-124.342857-13.897143v14.140952h-81.432381v-14.140952h81.432381z m-81.188571 52.175238v-13.409524h81.432381v13.409524h-81.432381z\" data-v-a97d78d2=\"\" fill=\"#ffffff\" p-id=\"4463\"></path> <path d=\"M2188.190476 506.148571c-5.851429 0-10.727619 3.900952-11.946666 9.508572l-0.975239 4.144762-3.900952 16.091428h62.171429c1.950476 0 3.413333-1.706667 3.169523-3.657143l-3.169523-17.554285h-22.674286l0.975238 5.12h-12.190476l3.900952-13.653334h-15.36zM1108.601905 576.609524h349.135238V551.009524c0-3.169524-2.681905-5.851429-5.851429-5.851429H1148.586667c-3.169524 0-5.851429-2.681905-5.851429-5.851428V288.914286h309.881905V263.314286c0-3.169524-2.681905-5.851429-5.851429-5.851429H1100.068571c-3.169524 0-5.851429 2.681905-5.851428 5.851429v298.910476c0 7.801905 6.339048 14.384762 14.384762 14.384762z\" data-v-a97d78d2=\"\" fill=\"#ffffff\" p-id=\"4464\"></path> <path d=\"M1438.72 403.504762c0-3.169524-2.681905-5.851429-5.851429-5.851429h-104.350476v-37.546666h102.64381v-25.84381c0-3.169524-2.681905-5.851429-5.851429-5.851428h-164.083809l8.289523-13.897143h-56.563809l-14.140952 23.405714c-3.169524 5.36381-9.020952 8.533333-15.116191 8.533333h-0.975238c-3.169524 0-5.851429 2.681905-5.851429 5.851429v22.430476h28.281905c13.409524 0 26.087619-5.36381 35.352381-14.628571h39.009524v37.546666H1175.161905c-3.169524 0-5.851429 2.681905-5.851429 5.851429v25.843809h108.251429c-6.339048 27.794286-30.232381 59.977143-102.4 61.68381-3.169524 0-5.851429 2.681905-5.851429 5.851429v23.161904c69.973333 0 111.420952-18.773333 134.339048-43.885714 22.918095 25.112381 64.609524 43.885714 134.339047 43.885714v-23.405714c0-3.169524-2.438095-5.607619-5.607619-5.607619-72.411429-1.706667-96.304762-33.889524-102.643809-61.68381h108.251428v-25.843809zM1503.329524 550.765714v26.575238l130.438095-13.897142c2.925714-0.24381 5.12-2.925714 5.12-5.851429v-26.575238l-130.438095 13.897143c-2.925714 0.24381-5.12 2.681905-5.12 5.851428zM1845.638095 562.224762v-214.796191c0-3.169524-2.681905-5.851429-5.851428-5.851428h-106.544762l7.558095-12.921905h-56.56381l-12.434285 20.72381c-3.169524 5.36381-9.020952 8.533333-15.116191 8.533333h-0.975238c-3.169524 0-5.851429 2.681905-5.851428 5.851429v22.430476h28.281904c12.678095 0 24.380952-4.87619 33.401905-12.921905h85.089524v172.129524h-101.668571c-3.169524 0-5.607619 2.438095-5.60762 5.607619v25.843809h141.409524c8.289524-0.24381 14.872381-6.826667 14.872381-14.628571z\" data-v-a97d78d2=\"\" fill=\"#ffffff\" p-id=\"4465\"></path> <path d=\"M1720.07619 501.76h41.935239L1731.047619 420.08381a5.827048 5.827048 0 0 0-5.363809-3.657143h-41.935239l30.96381 81.67619c0.731429 2.194286 2.925714 3.657143 5.363809 3.657143zM1545.020952 301.348571v8.777143c0 3.169524 2.681905 5.851429 5.851429 5.851429h42.910476v-14.628572h161.401905v8.777143c0 3.169524 2.681905 5.851429 5.851428 5.851429h42.910477v-14.628572h52.419047V275.504762c0-3.169524-2.681905-5.851429-5.851428-5.851429h-46.567619v-18.529523c0-3.169524-2.681905-5.851429-5.851429-5.851429h-42.910476v24.624762h-161.401905v-18.773333c0-3.169524-2.681905-5.851429-5.851428-5.851429h-42.910477v24.624762h-46.811428c-3.169524 0-5.607619 2.438095-5.607619 5.607619v25.843809h52.419047zM1634.742857 328.655238h-65.340952l-63.878095 70.948572c-1.462857 1.706667-2.194286 3.657143-2.194286 5.851428v24.868572h65.340952l-63.878095 71.19238c-0.975238 0.975238-1.462857 2.438095-1.462857 3.900953v16.335238l130.681905-13.897143c2.925714-0.24381 5.12-2.925714 5.12-5.851428V475.428571l-50.468572 5.36381 49.005714-54.369524c0.975238-0.975238 1.462857-2.438095 1.462858-3.900952v-20.48h-70.217143l65.828571-73.386667zM2674.834286 269.897143h-150.430476v-17.310476a7.070476 7.070476 0 0 0-7.070477-7.070477h-41.691428v24.624762h-150.430476a7.070476 7.070476 0 0 0-7.070477 7.070477v24.380952h100.205715l-39.497143 191.634286c-5.607619 27.550476-28.281905 47.542857-49.249524 50.224762-2.925714 0.487619-5.12 2.925714-5.12 5.607619v27.550476c51.687619 0 91.91619-26.575238 101.180952-70.460953l23.405715-113.127619h155.062857l-15.847619 151.893334h-63.634286c-3.169524 0-5.607619 2.438095-5.607619 5.607619l-0.24381 25.843809h104.594286c7.558095 0 13.897143-5.851429 14.384762-13.165714l16.822857-185.782857a14.482286 14.482286 0 0 0-14.384762-15.847619H2455.893333l12.434286-60.220953H2681.904762v-24.380952a7.070476 7.070476 0 0 0-7.070476-7.070476zM1139.809524 662.918095h-41.447619c-2.438095 0-4.144762 1.950476-4.144762 4.144762v109.958095h17.798095V736.304762h27.794286c13.409524 0 37.302857-9.752381 37.302857-35.352381 0-32.670476-26.575238-38.034286-37.302857-38.034286z m0 60.708572h-27.794286v-47.786667h28.281905c6.826667 0 20.967619 4.87619 20.967619 23.893333 0 15.60381-13.409524 23.893333-21.455238 23.893334zM1337.539048 667.062857v43.885714h-50.956191v-48.274285h-13.897143c-2.438095 0-4.144762 1.950476-4.144762 4.144762v109.958095h17.798096v-53.638095h50.95619v53.638095h17.798095v-114.102857h-13.653333c-2.194286 0.24381-3.900952 2.194286-3.900952 4.388571zM1509.424762 662.918095h-12.434286c-1.706667 0-3.169524 0.975238-3.900952 2.438095l-46.32381 111.664762h18.773334l12.921904-31.939047h46.567619l12.921905 31.939047h18.773334l-46.32381-111.664762-0.975238-2.438095z m-25.84381 69.485715l18.285715-45.836191 18.285714 45.592381-36.571429 0.24381zM1929.99619 664.624762l-42.910476 53.881905-43.885714-55.588572h-11.459048c-2.438095 0-4.144762 1.950476-4.144762 4.144762v109.958095h13.897143c2.194286 0 4.144762-1.706667 4.144762-4.144762v-78.994285l41.691429 52.175238 41.447619-52.175238v83.139047h17.798095v-114.102857h-13.165714c-1.462857 0-2.681905 0.487619-3.413334 1.706667zM2313.020952 730.940952c0 8.533333-5.607619 31.695238-30.232381 31.695238-21.942857 0-30.232381-22.918095-30.232381-31.695238V663.161905h-18.041904V731.428571c0 12.921905 4.632381 24.137143 14.140952 33.401905 9.264762 9.264762 20.72381 13.897143 34.133333 13.897143 13.409524 0 24.624762-4.632381 34.133334-13.897143 9.264762-9.264762 14.140952-20.23619 14.140952-33.401905v-68.510476h-18.041905v68.022857zM2502.217143 725.820952c-1.462857-1.950476-3.169524-3.900952-5.12-5.607619-1.950476-1.706667-3.413333-2.681905-4.144762-3.169523a6.680381 6.680381 0 0 0-1.706667-0.975239l2.925715-2.194285c1.950476-1.462857 3.657143-4.144762 5.607619-8.045715 1.950476-3.900952 2.925714-8.045714 2.925714-12.678095 0-7.801905-5.851429-30.232381-33.401905-30.232381h-42.179047c-2.438095 0-4.144762 1.950476-4.144762 4.144762v109.958095h48.761904c10.48381 0 19.260952-3.169524 26.087619-9.752381 7.070476-6.826667 10.727619-14.872381 10.48381-24.137142 0-3.900952-0.975238-7.558095-2.438095-10.971429-1.462857-2.681905-2.438095-4.632381-3.657143-6.339048z m-61.68381-50.224762h28.525715c4.388571 0 15.60381 2.438095 15.603809 17.310477 0 13.653333-10.971429 17.310476-15.603809 17.310476h-28.525715v-34.620953z m30.96381 88.746667h-28.525714a2.438095 2.438095 0 0 1-2.438096-2.438095V724.114286h30.96381c5.36381 0 18.773333 5.36381 18.773333 19.504762 0 16.335238-13.653333 20.72381-18.773333 20.723809zM2677.76 764.342857h-60.220952v-38.521905h57.051428v-9.020952c0-2.438095-1.950476-4.144762-4.144762-4.144762h-52.662857v-36.815238h62.902857v-8.533333c0-2.438095-1.950476-4.144762-4.144762-4.144762h-72.167619c-2.438095 0-4.144762 1.950476-4.144762 4.144762v109.958095H2681.904762v-8.533333c0-2.438095-1.950476-4.388571-4.144762-4.388572zM1731.291429 696.07619c-0.975238-25.112381-20.72381-33.158095-34.864762-33.158095h-43.885715c-2.438095 0-4.144762 1.950476-4.144762 4.144762v109.958095h17.798096V731.428571h26.087619l25.35619 45.592381h18.773334L1710.08 731.428571s22.186667-7.801905 21.211429-35.352381z m-35.108572 22.674286h-30.232381v-43.154286h29.013334c7.801905 0 19.748571 4.87619 19.748571 20.48 0.24381 15.36-9.752381 22.674286-18.529524 22.674286zM2133.577143 747.27619s-12.678095 17.310476-35.596191 17.310477c-23.893333 0-43.154286-20.967619-43.154285-44.373334 0-23.405714 19.260952-44.373333 43.154285-44.373333 22.918095 0 35.59619 17.310476 35.596191 17.310476l9.020952-7.558095c1.462857-1.219048 1.706667-3.657143 0.487619-5.12-10.971429-11.946667-27.550476-19.017143-45.104762-19.017143-32.914286 0-59.733333 26.331429-59.733333 58.758095s26.819048 58.758095 59.733333 58.758096c17.798095 0 34.133333-7.070476 45.104762-19.017143 1.219048-1.462857 0.975238-3.657143-0.487619-5.12l-9.020952-7.558096z\" data-v-a97d78d2=\"\" fill=\"#ffffff\" p-id=\"4466\"></path></svg></div> <!-- --></div></div></div> <!-- --> <div data-v-03c3c235=\"\" data-v-5c8b65e4=\"\"><div class=\"subscribe-float toggle-default\" data-v-03c3c235=\"\"><div class=\"ui-subscribe\" data-v-03c3c235=\"\">魔方智选</div> <div class=\"ui-subscribe-expand\" data-v-03c3c235=\"\"><img alt=\"\" class=\"mail\" data-v-03c3c235=\"\" src=\"https://vcdn.pharmcube.com/drawbed/1702970312257_邮件素材.png\"/> <div class=\"bg\" data-v-03c3c235=\"\"><div class=\"left\" data-v-03c3c235=\"\"><div class=\"l1\" data-v-03c3c235=\"\" style=\"white-space: nowrap\">邮件版订阅推送</div> <div class=\"l2\" data-v-03c3c235=\"\" style=\"white-space: nowrap\">\n",
       "            更省心的资讯获取方式\n",
       "          </div></div> <div class=\"subscribe-btn\" data-v-03c3c235=\"\" style=\"white-space: nowrap\">\n",
       "          立即订阅\n",
       "        </div></div></div></div> <div data-v-03c3c235=\"\"><!-- --></div></div> <div data-v-5c8b65e4=\"\" data-v-c131bd44=\"\"><div class=\"yymf_fixed_right\" data-v-c131bd44=\"\"><div class=\"round1\" data-v-c131bd44=\"\" id=\"nct_help\"><a class=\"ceil mf-text-center mf-relative\" data-v-c131bd44=\"\" href=\"https://support.qq.com/product/413758\" id=\"ra\" target=\"_blank\"><i class=\"iconfont icon-wentifankui mf-text-20px-important\" data-v-c131bd44=\"\"></i></a> <div class=\"mf-px-10px\" data-v-c131bd44=\"\"><div class=\"divider\" data-v-c131bd44=\"\"></div></div> <div class=\"ceil mf-text-center mf-relative\" data-v-c131bd44=\"\" id=\"rb\"><i class=\"iconfont icon-saoma mf-text-20px-important\" data-v-c131bd44=\"\"></i></div></div> <div class=\"round2 mf-mt-40px yymf_back\" data-v-c131bd44=\"\"><div class=\"ceil\" data-v-c131bd44=\"\"><i class=\"iconfont icon-backtop\" data-v-c131bd44=\"\"></i></div></div></div></div> <div data-v-5c8b65e4=\"\" style=\"display:none;\"><!-- --> <div class=\"img-list-bottom pointer-auto fadeOut\" style=\"display:none;\"></div></div> <!-- --></div></div></div></div><script>window.__NUXT__=(function(a,b,c,d,e,f,g,h,i,j,k,l,m,n,o,p,q,r,s,t,u,v,w,x,y,z,A,B,C,D,E,F,G,H,I,J,K,L,M,N,O){z.isLogin=e;return {layout:\"DefaultLayout\",data:[{loginRes:z,wellknownIndustry:[[A,\"西南证券\",\"国金证券\"],[\"浙商证券\",\"华安证券\",\"安信证券\"],[\"湘财证券\",\"东吴证券\"]],industryConference:[[\"ESMO\",\"ASCO\",\"AACR\"],[\"CSCO\",\"SABCS\"]],hotCompany:[[\"罗氏\",\"诺华\",B],[\"默沙东\",\"阿斯利康\",\"强生\"],[\"赛诺菲\",\"BMS\",\"GSK\"],[\"吉利德\",\"礼来\",\"百济神州\"]],noCoverListPCList:[{fileName:\"中国新药月报-第24期-2024年7月刊\",esid:\"fc2e735bb74d477cb5e50b6fb44df2ce\",report_product:\"PharmaGO\",publish_date:1723651200000,publish_date_format:\"2024-08-15\",report_tags:m,report_list_cover:\"https:\\u002F\\u002Fdoc.pharmcube.com\\u002F新药 341723709756250.jpg\"},{fileName:\"全球医药交易月报-2024年7月刊\",esid:\"f291fe66050346c08ae3d0d0ca71e15c\",report_product:l,publish_date:1723564800000,publish_date_format:\"2024-08-14\",report_tags:t,report_list_cover:\"https:\\u002F\\u002Fdoc.pharmcube.com\\u002F7月1723614672702.jpg\"},{fileName:\"全球新药研发进展月报-第40期-2024年7月刊\",esid:\"9ce903ee817040e799110394eabcf239\",report_product:l,publish_date:1723392000000,publish_date_format:\"2024-08-12\",report_tags:m,report_list_cover:\"https:\\u002F\\u002Fdoc.pharmcube.com\\u002F7月长 341723458061966.jpg\"},{fileName:\"2024年H1 中国医药交易分析报告\",esid:\"7ff2d59d38944fddb6a23418fc42ca2b\",report_product:l,publish_date:1721232000000,publish_date_format:C,report_tags:t,report_list_cover:\"https:\\u002F\\u002Fdoc.pharmcube.com\\u002FH1 341721292897276.jpg\"},{fileName:\"专利调研报告——PARP抑制剂尼拉帕利（Niraparib）\",esid:\"2bba9764b5ad464aabf8c186e6fe09f7\",report_product:\"NextPat\",publish_date:1721145600000,publish_date_format:\"2024-07-17\",report_tags:\"专利洞察\",report_list_cover:\"https:\\u002F\\u002Fdoc.pharmcube.com\\u002F专利 341721207443873.jpg\"},{fileName:\"全球医药交易月报-2024年6月刊\",esid:\"33b2d49875604b24b23eca62681ee9bd\",report_product:l,publish_date:1721059200000,publish_date_format:\"2024-07-16\",report_tags:t,report_list_cover:\"https:\\u002F\\u002Fdoc.pharmcube.com\\u002F交易 341721096767430.jpg\"}],hasCoverListPCList:[{fileName:\"DeepMed临床指南-2024非小细胞肺癌临床指南洞察报告\",esid:\"fc63ee5b0a134e2d966962bd230d90a4\",report_product:u,publish_date:v,publish_date_format:w,report_tags:c,report_list_cover:\"https:\\u002F\\u002Fdoc.pharmcube.com\\u002F普通3_4封面 1 (1)1721009884109.png\"},{fileName:\"DeepMed临床指南-2024乳腺癌临床指南洞察报告\",esid:\"6ba8f4ef44524c21a4ded37ceb6e94db\",report_product:u,publish_date:v,publish_date_format:w,report_tags:c,report_list_cover:\"https:\\u002F\\u002Fdoc.pharmcube.com\\u002F普通3_4封面 1 (2)1721009964407.png\"},{fileName:\"DeepMed临床指南-2024淋巴瘤临床指南洞察报告\",esid:\"9d2660f2d5ff4d9da374ab34baf26370\",report_product:u,publish_date:v,publish_date_format:w,report_tags:c,report_list_cover:\"https:\\u002F\\u002Fdoc.pharmcube.com\\u002F普通3_4封面 11721009706951.png\"},{fileName:\"2024H1医疗健康领域投融资趋势盘点\",esid:\"704ad0dd8ede4a56af5972267a05ca14\",report_product:\"MedAlpha\",publish_date:1720627200000,publish_date_format:\"2024-07-11\",report_tags:D,report_list_cover:\"https:\\u002F\\u002Fdoc.pharmcube.com\\u002F深 (2)(1)1720700943099.jpg\"},{fileName:\"ADC投融资及研发趋势\",esid:\"a46007ee42d2474ca8a468829f2b4f88\",report_product:\"InvestGO\",publish_date:1719504000000,publish_date_format:\"2024-06-28\",report_tags:D,report_list_cover:\"https:\\u002F\\u002Fdoc.pharmcube.com\\u002F深 (2)(1)(1)1719561176565.jpg\"},{fileName:\"2024 ASCO 新药开发机会分析\",esid:\"9e5a43aef9324d0eb1f067be15825e01\",report_product:l,publish_date:1718208000000,publish_date_format:\"2024-06-13\",report_tags:m,report_list_cover:\"https:\\u002F\\u002Fdoc.pharmcube.com\\u002F深 (2)(1)1718270467948.jpg\"},{fileName:\"2024年中国创新药物研发趋势-附录\",esid:\"c5ff5cc1dbb64298a81b21886d7c68f4\",report_product:l,publish_date:E,publish_date_format:F,report_tags:m,report_list_cover:\"https:\\u002F\\u002Fdoc.pharmcube.com\\u002FChinese innovative drug R&D trends in 2024-附录_001722481601406.png\"},{fileName:\"2024年中国创新药物研发趋势\",esid:\"a94d0641436541ee9fd1557c4b5c6c02\",report_product:l,publish_date:E,publish_date_format:F,report_tags:m,report_list_cover:\"https:\\u002F\\u002Fdoc.pharmcube.com\\u002FChinese innovative drug R&D trends in 2024_001722481559582.png\"},{fileName:\"202310-INT J RHEUM DIS——FDA炎症性关节炎药物监管中种族影响因素研究\",esid:\"81525fd2d8304a81b553c8f4eea06e04\",report_product:l,publish_date:1698595200000,publish_date_format:\"2023-10-30\",report_tags:m,report_list_cover:\"https:\\u002F\\u002Fdoc.pharmcube.com\\u002F企业微信截图_169863715835311698637179245.png\"}],topicListPCList:[{updateTime:a,updateTimeStr:a,esid:\"bcde9a0508a04e7d8a5ae071c470b827\",topicGroupCover:a,title:\"CDE宣讲会课件资料汇总-已上市及临床试验期间的变更常见共性问题\",isTop:b,publishTime:1725873764964,publishTimeStr:g,label:[],homeCover:\"https:\\u002F\\u002Fdoc.pharmcube.com\\u002FCDE21725873685772.png\",status:n,qrcodeUrl:\"https:\\u002F\\u002Fwx.pharmcube.com\\u002FspecialTopicNew-bcde9a0508a04e7d8a5ae071c470b827.jpg\"},{updateTime:a,updateTimeStr:a,esid:\"d07e7e8477de48b68c9db80f6817fe0e\",topicGroupCover:a,title:\"医保支付方式（DRG\\u002FDIP）改革培训资料\",isTop:b,publishTime:1725417815717,publishTimeStr:G,label:[],homeCover:\"https:\\u002F\\u002Fdoc.pharmcube.com\\u002FBD21725417720530.png\",status:n,qrcodeUrl:\"https:\\u002F\\u002Fwx.pharmcube.com\\u002FspecialTopicNew-d07e7e8477de48b68c9db80f6817fe0e.jpg\"},{updateTime:a,updateTimeStr:a,esid:\"054e1039a58b478fa0230794ffb2acc7\",topicGroupCover:a,title:\"WCLC 2024 研究报告及临床研究资讯合集\",isTop:b,publishTime:1725417278440,publishTimeStr:G,label:[],homeCover:\"https:\\u002F\\u002Fdoc.pharmcube.com\\u002F专题2 81725417648751.png\",status:H,qrcodeUrl:\"https:\\u002F\\u002Fwx.pharmcube.com\\u002FspecialTopicNew-054e1039a58b478fa0230794ffb2acc7.jpg\"},{updateTime:a,updateTimeStr:a,esid:\"a9d9db0e79ad458380ed9a66e048be7d\",topicGroupCover:a,title:\"CDE宣讲会课件资料汇总-ICH Q2(R2)\\u002FQ14指导原则\",isTop:b,publishTime:1725012584456,publishTimeStr:\"2024-08-30\",label:[I],homeCover:\"https:\\u002F\\u002Fdoc.pharmcube.com\\u002FCDE2 111725012528359.png\",status:n,qrcodeUrl:\"https:\\u002F\\u002Fwx.pharmcube.com\\u002FspecialTopicNew-a9d9db0e79ad458380ed9a66e048be7d.jpg\"},{updateTime:a,updateTimeStr:a,esid:\"1bba492189144db9a987c26527d37636\",topicGroupCover:a,title:\"CDE宣讲会课件资料汇总-抗肿瘤药物技术审评常见问题\",isTop:b,publishTime:1722590573222,publishTimeStr:\"2024-08-02\",label:[],homeCover:\"https:\\u002F\\u002Fdoc.pharmcube.com\\u002FCDE2 11722590440294.png\",status:n,qrcodeUrl:\"https:\\u002F\\u002Fwx.pharmcube.com\\u002FspecialTopicNew-1bba492189144db9a987c26527d37636.jpg\"},{updateTime:a,updateTimeStr:a,esid:\"88905fb06453440e956af3b2914897bf\",topicGroupCover:a,title:\"2024年热门医药企业半年报合集\",isTop:b,publishTime:1721297909872,publishTimeStr:C,label:[\"企业财报\"],homeCover:\"https:\\u002F\\u002Fdoc.pharmcube.com\\u002F专题2 111721297863675.png\",status:H,qrcodeUrl:\"https:\\u002F\\u002Fwx.pharmcube.com\\u002FspecialTopicNew-88905fb06453440e956af3b2914897bf.jpg\"},{updateTime:a,updateTimeStr:a,esid:\"22e95bbdbf364f678820d43e47159c4a\",topicGroupCover:a,title:\"CDE宣讲会课件资料汇总-药物临床研究基本考虑、试验设计\",isTop:b,publishTime:1720493036308,publishTimeStr:\"2024-07-09\",label:[I],homeCover:\"https:\\u002F\\u002Fdoc.pharmcube.com\\u002FCDE21720492942030.png\",status:n,qrcodeUrl:\"https:\\u002F\\u002Fwx.pharmcube.com\\u002FspecialTopicNew-22e95bbdbf364f678820d43e47159c4a.jpg\"},{updateTime:a,updateTimeStr:a,esid:\"9c2b1ffe196c44a4bc62f5a9c78d819c\",topicGroupCover:a,title:\"2024上半年35份医药行业 IPO 招股书汇总\",isTop:b,publishTime:1720075243831,publishTimeStr:\"2024-07-04\",label:[],homeCover:\"https:\\u002F\\u002Fdoc.pharmcube.com\\u002F专题2 5 11720075042077.png\",status:n,qrcodeUrl:\"https:\\u002F\\u002Fwx.pharmcube.com\\u002FspecialTopicNew-9c2b1ffe196c44a4bc62f5a9c78d819c.jpg\"}],reportListPCList:[{fileName:\"医药行业周报：武田1类创新药拟纳入突破性治疗品种\",resource:J,publishDate:g,publishDateLong:a,isRecommend:d,isTop:a,fileUrlFlag:i,primaryType:j,isVerify:a,secondaryType:k,previewFilePages:a,previewFile:a,qrcodeUrl:\"https:\\u002F\\u002Fwx.pharmcube.com\\u002Fqrcode-bbd1d34c596d4ece9403a1b1e3c3ff0a.jpg\",reportListCover:a,isPharmcubeReport:e,previewFileUrl:\"https:\\u002F\\u002Fshare.pharmcube.com\\u002FH3_AP202409091639788125_1imgss0.jpg?e=1725940123&token=IJD70koyeaTSy1xsgdJ-GQMlQg0-PmIgWJ7oskyr:5ATyrAtEIIF7uJirvf1A4L91CTg=\",previewFileName:\"H3_AP202409091639788125_1imgss0.jpg\",medicalReportTags:a,chartDataList:a,chartDataCount:a,isYymfFile:a,recommendCount:a,relateProducts:a,esid:\"bbd1d34c596d4ece9403a1b1e3c3ff0a\",relate_newslibrary:a,relate_resource:a,relate_list:a,report_detail_cover:a,report_share_cover:a,report_product:a,report_tags:a,report_subtitle:\"报告摘要\\u003Cbr\\u003E市场表现：\\u003Cbr\\u003E2024年9月6日，医药板块涨跌幅-1.93%，跑输沪深300指数1.12pct，涨跌幅居申万31个子行业第27名。各医药子行业中，线下药店(-1.26%)、血液制品(-1.40%)、医药流通（-1.42%）表现居前，医疗设备(-2.76%)、医疗研发外包(-2.73%)、疫苗(-2.13%)表现居后。个股方面，日涨幅榜前3位分别为康芝药业(+11.20%)、海南海药(+10.13%)、老百姓(+10.01%)；跌幅榜前3位为海辰药业(-8.34%)、乐心医疗(-7.86%)、纳微科技（-6.85%）。\\u003Cbr\\u003E行业要闻：\\u003Cbr\\u003E9月6日，CDE官网公示，武田（Takeda）的TAK-861片拟纳入突破性治疗品种，针对适应症为发作性睡病1型（NT1）。TAK-861是一种口服食欲素受体2（OX2R）激动剂，旨在通过选择性刺激食欲素受体来解决NT1中的食欲素缺乏问题。\\u003Cbr\\u003E（来源：CDE，太平洋证券研究院）\\u003Cbr\\u003E公司要闻：\\u003Cbr\\u003E卫信康（603676）：公司发布公告，子公司北京藏卫信康医药研发有限公司收到国家药品监督管理局核准签发的去氧胆酸注射液《药物临床试验批准通知书》，同意本品开展临床试验。\\u003Cbr\\u003E亚太药业（002370）：公司发布公告，近日收到国家药品监督管理局下发的关于阿替洛尔片一致性评价的受理通知书，标志着该品种一致性评价工作进入了审评阶段，如顺利通过一致性评价将增加其市场竞争力。\\u003Cbr\\u003E华森制药（002907）：公司发布公告，近日收到新加坡卫生科学局核准签发的中成药注册批文，批准公司产品甘桔冰梅片符合新加坡中成药标准注册，批准其在新加坡上市销售。\\u003Cbr\\u003E亚辉龙（688675）：公司发布公告，近日收到了由BSI Group TheNetherlands B.V.签发的关于公司产品乙型肝炎病毒e抗原检测试剂盒（化学发光法）的IVDR CE最高风险等级Class D认证证书，对于公司具有重要的里程碑意义。\\u003Cbr\\u003E风险提示：新药研发及上市不及预期；政策推进超预期；市场竞争加剧风险。\",report_format:h,report_pages:x,report_size:.36,report_language:a,report_playback:a,is_personal_information:a,tag:a},{fileName:\"医药生物行业周报：健康乡村建设助力渠道下沉，看好医药Q3修复\",resource:\"中泰证券\",publishDate:g,publishDateLong:a,isRecommend:d,isTop:a,fileUrlFlag:i,primaryType:j,isVerify:a,secondaryType:k,previewFilePages:a,previewFile:a,qrcodeUrl:\"https:\\u002F\\u002Fwx.pharmcube.com\\u002Fqrcode-387872a4d0b0451eb9f6dcd6ca8a702c.jpg\",reportListCover:a,isPharmcubeReport:e,previewFileUrl:\"https:\\u002F\\u002Fshare.pharmcube.com\\u002FH3_AP202409091639801754_1imgss0.jpg?e=1725940123&token=IJD70koyeaTSy1xsgdJ-GQMlQg0-PmIgWJ7oskyr:jOkpaxUthtZ_Kbmjjd6XWnGE2gw=\",previewFileName:\"H3_AP202409091639801754_1imgss0.jpg\",medicalReportTags:a,chartDataList:a,chartDataCount:a,isYymfFile:a,recommendCount:a,relateProducts:a,esid:\"387872a4d0b0451eb9f6dcd6ca8a702c\",relate_newslibrary:a,relate_resource:a,relate_list:a,report_detail_cover:a,report_share_cover:a,report_product:a,report_tags:a,report_subtitle:\"投资要点\\u003Cbr\\u003E中报利空出清，持续关注基本面强劲及Q3恢复机会。本周沪深300下跌2.7%，医药生物下跌2.0%，处于31个一级子行业第14位，本周子行业医药商业上涨1.79%，化学制药、中药、医疗器械、医疗服务、生物制品分别下跌1.32%、2.34%、2.45%、下滑2.70%、3.34%。受宏观经济、投融资扰动、医疗反腐等影响，医疗服务、生物制品、医疗器械等板块中报阶段承压，中报结束后医药板块迎来小幅反弹，本周五跟随市场有所调整。我们认为中报落地有望带来医药板块利空出尽，完成快速探底，看好Q3医药整体基本面改善及估值修复。当前政策预期、估值水平、基金持仓均处于历史底部位置，而医药行业的创新升级、产业转移、国产替代等逻辑均持续稳步推进，结构性机会依然值得重点关注。我们建议继续把握基本面强劲的细分板块和个股，一方面关注基本面有望明确修复，估值相对偏低的板块，如：①低基数及政策催化的院内刚需产品：药品、诊断、设备，②基本面持续改善的特色原料药、低值耗材、生命科学上游；③低估值、稳增长的国企改革、高股息；④高增长，高弹性的GLP-1产业链。\\u003Cbr\\u003E健康乡村建设指导意见出台，助力慢病、传染病等医保内品种渠道下沉。9月3日，国家卫生健康委、全国爱卫办、国家发展改革委、民政部等14个部门联合制定《关于推进健康乡村建设的指导意见》，明确提出健康乡村建设的目标和任务，要求为建设宜居宜业和美乡村、推进乡村全面振兴提供坚实健康保障，我们认为，随着指导意见中的重点任务逐步贯彻落实，农村居民诊疗需求得到更大满足的同时，相关医疗赛道亦将通过加速渠道下沉迎来更稳健的发展：①重点任务一“提升乡村医疗服务水平”指出“进一步深化县域综合医改，强化和拓展县域医疗卫生体系服务功能；进一步改善乡村医疗卫生服务基础设施条件，优化乡村医疗卫生服务机构功能布局，推进远程医疗向乡村覆盖，建立远程影像、心电、会诊等中心；发展壮大乡村医疗卫生人才队伍，稳步扩大农村订单定向免费医学生招生规模，实施大学生乡村医生专项计划，着力提升人员素质，优化人员结构，合理保障待遇水平，分类解决乡村医生养老和医疗保障问题；改革完善乡村医疗卫生体系运行机制，建立健全城市支援健康乡村建设机制；创造条件将村卫生室纳入基本医保定点范围；加大医保基金支持力度，优化医疗保障管理服务”，我们认为有助于尚有较大市场教育空间、当下渗透率较低、需提升早诊早治水平、加强慢病化管理的医保品种渠道下沉，考虑到如眼科、自免、代谢赛道等，重点关注：康弘药业、三生国健、华东药业等；②重点任务二“提升乡村公共卫生服务能力”指出“加强农村地区重点传染病、地方病、寄生虫病等重点疾病防治”，重点关注：艾迪药业等；③重点任务三“强化乡村中医药服务”指出“坚持中西医并重，扩大乡村医疗卫生机构中医药服务供给，完善基层中医药服务网络，提升基层中医药服务能力。力争实现全部乡镇卫生院设置中医馆、配备中医医师，加强基层中医药适宜技术推广。80%以上的村卫生室能够提供中医药服务”，重点关注：华润三九、仙琚制药等。\\u003Cbr\\u003E重点推荐个股表现：9月重点推荐：华润三九、康方生物、贝达药业、诺泰生物、仙琚制药、奥锐特、诺唯赞、九强生物、方盛制药、圣诺生物。中泰医药重点推荐本周平均上涨0.13%，跑赢医药行业2.18%。\\u003Cbr\\u003E一周市场动态：对2024年初到目前的医药板块进行分析，医药板块收益率-25.1%，同期沪深300收益率-5.8%，医药板块跑输沪深300收益率19.3%。本周沪深300下跌2.7%，医药生物下跌2.0%，处于31个一级子行业第14位，本周子行业医药商业上涨1.79%，化学制药、中药、医疗器械、医疗服务、生物制品分别下跌1.32%、2.34%、2.45%、2.70%、3.34%。以2024年盈利预测估值来计算，目前医药板块估值18.9倍PE，全部A股（扣除金融板块）市盈率大约为14.9倍PE，医药板块相对全部A股（扣除金融板块）的溢价率为26.4%。以TTM估值法计算，目前医药板块估值22.9倍PE，低于历史平均水平（35.4倍PE），相对全部A股（扣除金融板块）的溢价率为35.2%。\\u003Cbr\\u003E风险提示：政策扰动风险、药品质量问题、研究报告使用的公开资料可能存在信息滞后或更新不及时的风险。\",report_format:h,report_pages:K,report_size:1.27,report_language:a,report_playback:a,is_personal_information:a,tag:a},{fileName:\"医药与健康护理行业周报：2024年1-7月医保统筹基金主要指标发布\",resource:\"海通国际\",publishDate:g,publishDateLong:a,isRecommend:d,isTop:a,fileUrlFlag:i,primaryType:j,isVerify:a,secondaryType:k,previewFilePages:a,previewFile:a,qrcodeUrl:\"https:\\u002F\\u002Fwx.pharmcube.com\\u002Fqrcode-b0ae8893610c4a8c9a09e5fc60efca93.jpg\",reportListCover:a,isPharmcubeReport:e,previewFileUrl:\"https:\\u002F\\u002Fshare.pharmcube.com\\u002FH3_AP202409091639799418_1imgss0.jpg?e=1725940123&token=IJD70koyeaTSy1xsgdJ-GQMlQg0-PmIgWJ7oskyr:75ZnZKAVmvi1lJtNQ4OwJfSJ2mM=\",previewFileName:\"H3_AP202409091639799418_1imgss0.jpg\",medicalReportTags:a,chartDataList:a,chartDataCount:a,isYymfFile:a,recommendCount:a,relateProducts:a,esid:\"b0ae8893610c4a8c9a09e5fc60efca93\",relate_newslibrary:a,relate_resource:a,relate_list:a,report_detail_cover:a,report_share_cover:a,report_product:a,report_tags:a,report_subtitle:\"上周（0831-0906）上证综指下降2.7%，SW医药生物下降2.05%，涨跌幅在申万一级行业中排名第14。生物医药板块表现前三的分别是医药商业(+1.8%)、化学制剂(+0.6%)、化学原料药(-0.4%)。个股涨幅前三为漱玉平民(+43.64%)、老百姓(+32.74%)、人民同泰(+20.86%);个股跌幅前三为乐心医疗(-24.75%)、中恒集团(-13.78%)、海辰药业(-13.18%)。\\u003Cbr\\u003E2024年1-7月基本医疗保险统筹基金和生育保险主要指标发布。2024年1-7月，基本医疗保险（含生育保险）收入15754.93亿元，支出13828.92亿元；其中职工基本医疗保险（含生育保险）收入9914.33亿元，支出7537.45亿元；城乡居民基本医疗保险收入5840.60亿元，支出6291.47亿元。\\u003Cbr\\u003E医药2024年中期策略：关注创新、国企改革、器械出海。我们认为医药当前处于历史低位，医药是需求向好、供给稳定的新质生产力。当前推荐三条主线：1）创新：伴随2017年国家食药监总局加入ICH同步国际标准，2018年港股18A开放未商业化生物科技公司上市，加上各地对创新药产业链的系列政策支持，中国创新产业逐渐升级；2）器械出海：依托于中国器械工程师红利、珠三角电子产业链优势、强大的本土市场等优势等，设备、IVD等出海初见成效，并将有望持续较快增长；3）国企改革：2023年新一轮国企改革开启，改革进入深水区，过去5年医药国企毛利率水平持续改善，大多数公司坚持高分红政策，医药国企有望迎来投资机会。\\u003Cbr\\u003E海通医药2024年9月组合表现。新产业、通策医疗、微芯生物、迈瑞医疗、天坛生物、特宝生物、鱼跃医疗（排名不分先后）。8月组合至今平均下跌3.7%，同期全指医药下跌1.6%，组合跑输医药指数-2.1pct，其中月度组合涨跌幅排名前三的依次是新产业(0.6%)、天坛生物(-0.1%)、迈瑞医疗(-3.5%)。\\u003Cbr\\u003E风险提示。医保控费加剧风险，政策推进不达预期风险、估值波动风险、市场波动风险。\",report_format:h,report_pages:12,report_size:1.9,report_language:a,report_playback:a,is_personal_information:a,tag:a},{fileName:\"医药行业周报：创新催化、政策鼓励支持，医药基本面持续向上复苏\",resource:\"民生证券\",publishDate:g,publishDateLong:a,isRecommend:d,isTop:a,fileUrlFlag:i,primaryType:j,isVerify:a,secondaryType:k,previewFilePages:a,previewFile:a,qrcodeUrl:\"https:\\u002F\\u002Fwx.pharmcube.com\\u002Fqrcode-99938f6dd0c34db385840a0b00ac0834.jpg\",reportListCover:a,isPharmcubeReport:e,previewFileUrl:\"https:\\u002F\\u002Fshare.pharmcube.com\\u002FH3_AP202409091639787582_1imgss0.jpg?e=1725940123&token=IJD70koyeaTSy1xsgdJ-GQMlQg0-PmIgWJ7oskyr:iLFDNslXqQdH1IezlrzgwgGpaIs=\",previewFileName:\"H3_AP202409091639787582_1imgss0.jpg\",medicalReportTags:a,chartDataList:a,chartDataCount:a,isYymfFile:a,recommendCount:a,relateProducts:a,esid:\"99938f6dd0c34db385840a0b00ac0834\",relate_newslibrary:a,relate_resource:a,relate_list:a,report_detail_cover:a,report_share_cover:a,report_product:a,report_tags:a,report_subtitle:\"医药周观点：3季度开始，医药板块基本面持续向上，创新催化不断、政策持续鼓励支持，看好板块行情。继续重点关注医药创新（特别是GLP-1）、医疗设备、科学仪器、制剂出海等细分方向。\\u003Cbr\\u003E1）CXO：订单回暖趋势明显，Q2业绩环比改善，CXO板块H2业绩有望延续复苏状态，关注9月美国生物法案进展，建议关注ADC CDMO、临床CRO龙头和GLP-1产业链。2）创新药：司美格鲁肽在中国核心序列专利将在2026年3月20日到期，翰宇药业和丽珠集团均启动司美格鲁肽仿制药III期减重临床，预计2026年将迎来国产司美格鲁肽上市密集期，GLP-1领域研发进展不断，建议关注GLP-1产业链相关药物研发进展。3）中医药：建议关注特色中药与消费中药相关企业业绩持续稳健增长，关注呼吸类产品占比大的中药企业业绩拐点，关注销售费用率下降改善业绩的相关公司。4）疫苗血制品：持续看好静丙行业下半年及明年持续较快发展的弹性和确定性，其次关注下半年浆站数量变化驱动的行业份额变革中的潜在受益公司，疫苗方向关注相对稀缺的带疱疫苗放量为国内公司带来的潜在增量业绩，以及近期流感疫苗外资召回事件驱动的短期投资机会。5）医药上游供应链：创新药全产业链政策落地，伴随投融资底部回升，美国降息预期加强，国内竞争环境开始转好，叠加海外市场开拓，有望带动2024年生科链板块业绩+估值修复，重点关注制药工业端大订单落地以及出海节奏。6）医疗设备与IVD：国内以旧换新政策逐步落地，有望在24H2释放重大增量需求，关注迈瑞医疗、联影医疗、华大智造、山外山，其次重点关注消费型医疗设备的顺周期复苏反弹，如怡和嘉业、鱼跃医疗；IVD方面，关注国内的集采政策落地后具体情况推进和在海外市场的仪器铺货及单产情况。7）医疗服务：关注布局高线城市的刚需医疗服务板块，以及体外基金资产储备充足的相关标的，后续随着公司资金的充裕有望逐步将体外资产收入上市公司体内，提升整体业绩；此外建议重点关注与公立医院形成差异化竞争，或形成优势互补的医疗服务细分板块；8）线下药店：目前行业估值处于历史低位，后续建议重点关注相关上市公司，例如：益丰药房、老百姓、大参林以及一心堂等。9）高值耗材：\\u003Cbr\\u003E持续看好24H1业绩呈现较强景气度趋势的电生理、外周、神经介入领域的中长期成长空间及国产化率提升机遇。10)原料药：原料药企相继通过原料药+制剂\\u002FCDMO\\u002F合成生物学等进行高附加值业务布局，在传统业务利润释放预期渐明背景下，新兴业务有望成为第二增长极，打开公司成长天花板。建议关注华海药业、仙琚制药、川宁生物、奥翔药业等相关行业龙头。11）仪器设备：随着科学仪器需求端触底回暖，以及特别国债驱动的设备增量\\u002F换新订单的扶持，看好下半年及明年科学仪器行业的增速恢复，关注24H1业绩出现强拐点科学仪器龙头。\\u003Cbr\\u003E12）低值耗材：短期关注OEM模式下低耗龙头出海具有持续开拓能力和产品升级的公司，关注相关公司下半年增量客户变化，中长期持续看好GLP-1产业链相关包材、针头产品广阔市场潜力的兑现。\\u003Cbr\\u003E投资建议：建议关注泰格医药、恒瑞医药、百济神州、迈瑞医疗、三友医疗、爱康医疗、圣诺生物、和黄医药、博瑞医药、众生药业、聚光科技、健友股份、诺泰生物、微芯生物、怡和嘉业、康龙化成等。\\u003Cbr\\u003E风险提示：集采压力大于预期风险；产品研发进度不及预期风险；竞争加剧风险；政策监管环境变化风险；药物研发服务市场需求下降的风险。\",report_format:h,report_pages:20,report_size:1.13,report_language:a,report_playback:a,is_personal_information:a,tag:a},{fileName:\"临床试验期间变更管理及药物临床试验期间方案变更的思考\",resource:\"CDE\",publishDate:g,publishDateLong:a,isRecommend:d,isTop:x,fileUrlFlag:\"01\",primaryType:\"CDE\\u002FFDA\",isVerify:a,secondaryType:\"CDE会议\",previewFilePages:a,previewFile:a,qrcodeUrl:\"https:\\u002F\\u002Fwx.pharmcube.com\\u002Fqrcode-4c109892f0df4c4d86fabbd708ba47eb.jpg\",reportListCover:c,isPharmcubeReport:e,previewFileUrl:\"https:\\u002F\\u002Fshare.pharmcube.com\\u002F临床试验期间变更管理及药物临床试验期间方案变更的思考imgss0.jpg?e=1725940123&token=IJD70koyeaTSy1xsgdJ-GQMlQg0-PmIgWJ7oskyr:icUSqK93_l4AYRRMHDLtTT49OtI=\",previewFileName:\"临床试验期间变更管理及药物临床试验期间方案变更的思考imgss0.jpg\",medicalReportTags:a,chartDataList:a,chartDataCount:a,isYymfFile:a,recommendCount:a,relateProducts:a,esid:\"4c109892f0df4c4d86fabbd708ba47eb\",relate_newslibrary:a,relate_resource:a,relate_list:a,report_detail_cover:a,report_share_cover:a,report_product:a,report_tags:c,report_subtitle:c,report_format:h,report_pages:31,report_size:2.9,report_language:a,report_playback:a,is_personal_information:a,tag:a},{fileName:\"医药产业链数据库之：创新药投融资，2024年8月全球创新药投融资暂时下滑，但2024年以来整体仍呈改善趋势\",resource:\"国投证券\",publishDate:g,publishDateLong:a,isRecommend:d,isTop:a,fileUrlFlag:i,primaryType:j,isVerify:a,secondaryType:k,previewFilePages:a,previewFile:a,qrcodeUrl:\"https:\\u002F\\u002Fwx.pharmcube.com\\u002Fqrcode-2579a77f5c91427f81e1287217c6cc83.jpg\",reportListCover:a,isPharmcubeReport:e,previewFileUrl:\"https:\\u002F\\u002Fshare.pharmcube.com\\u002FH3_AP202409091639802675_1imgss0.jpg?e=1725940123&token=IJD70koyeaTSy1xsgdJ-GQMlQg0-PmIgWJ7oskyr:7retRw3m1PliV0ilRCXqfiLtmPY=\",previewFileName:\"H3_AP202409091639802675_1imgss0.jpg\",medicalReportTags:a,chartDataList:a,chartDataCount:a,isYymfFile:a,recommendCount:a,relateProducts:a,esid:\"2579a77f5c91427f81e1287217c6cc83\",relate_newslibrary:a,relate_resource:a,relate_list:a,report_detail_cover:a,report_share_cover:a,report_product:a,report_tags:a,report_subtitle:\"为了更前瞻和领先地观测CXO行业的景气度变化，我们借助创新药VC&PE投融资情况作为先行指标，从年度、季度、月度等不同时间维度进行观察。从创新药VC&PE投融资金额同比增速的角度上看，2024年8月全球创新药投融资暂时下滑，但2024年以来整体仍呈改善趋势。\\u003Cbr\\u003E年度维度观察：2024H1全球创新药VC&PE投融资情况有所改善2024H1全球创新药VC&PE投融资情况有所改善，其中美国投融资改善尤为明显。根据Crunchbase的数据，2024H1全球和美国创新药VC&PE投融资金额分别同比下降2.35%和同比增长15.51%，与去年同期相比分别同比改善27.73个百分点和54.88个百分点。其中2024H1美国创新药VC&PE投融资情况已恢复正增长，其改善情况尤为明显。\\u003Cbr\\u003E季度维度观测：2024Q2美国市场创新药VC&PE投融资情况有所改善\\u003Cbr\\u003E2024Q2美国市场创新药VC&PE投融资情况改善较为明显。根据Crunchbase的数据，2024Q2全球、美国、国内创新药VC&PE投融资金额同比下降6.55%、同比增长22.45%、同比下降45.11%。其中，2024Q2美国市场创新药VC&PE投融资情况持续保持正增长，且环比2024Q1增长进一步提速。\\u003Cbr\\u003E月度维度观测：2024908543899年8月全球市场创新药VC&PE投融资暂时性下滑\\u003Cbr\\u003E2024年8月全球市场创新药VC&PE投融资暂时性下滑。根据Crunchbase的数据，2024年8月全球、美国、国内创新药VC&PE投融资金额同比下降33.01%、31.18%、64.18%。\\u003Cbr\\u003E风险提示：新药研发失败风险；CXO行业竞争加剧风险；订单增长不及预期风险。\",report_format:h,report_pages:K,report_size:.75,report_language:a,report_playback:a,is_personal_information:a,tag:a},{fileName:\"医药行业周报：连锁药房总数面临拐点，集中度加速提升\",resource:\"华鑫证券\",publishDate:g,publishDateLong:a,isRecommend:d,isTop:a,fileUrlFlag:i,primaryType:j,isVerify:a,secondaryType:k,previewFilePages:a,previewFile:a,qrcodeUrl:\"https:\\u002F\\u002Fwx.pharmcube.com\\u002Fqrcode-2ee1edafbd8b4169b999cdaede32aac3.jpg\",reportListCover:a,isPharmcubeReport:e,previewFileUrl:\"https:\\u002F\\u002Fshare.pharmcube.com\\u002FH3_AP202409091639789621_1imgss0.jpg?e=1725940123&token=IJD70koyeaTSy1xsgdJ-GQMlQg0-PmIgWJ7oskyr:Ku0CvCHiEeGyfYJIHwSXVKlW_n0=\",previewFileName:\"H3_AP202409091639789621_1imgss0.jpg\",medicalReportTags:a,chartDataList:a,chartDataCount:a,isYymfFile:a,recommendCount:a,relateProducts:a,esid:\"2ee1edafbd8b4169b999cdaede32aac3\",relate_newslibrary:a,relate_resource:a,relate_list:a,report_detail_cover:a,report_share_cover:a,report_product:a,report_tags:a,report_subtitle:\"截至2023年底，全国零售药店数量达到已666960家，相较于2019年，新增14.3万家，其中2023年就新增4.37万家，而门店数量增长的同时，零售市场却因为统筹改革等因素下滑。根据中康资讯，2023年零售药店市场全品类规模5394亿元，同比增长-0.7%，2024年上半年零售药店(含O2O)同比增速为-0.7%。竞争加剧下，单店收入下降，门店亏损面增加，门店关闭增加。2024年Q1，关闭门店和新开门店已逐步靠近，零售药店行业扩张转向收紧，竞争缓和，零售药店的单产盈利趋向回升。从2024年Q1开始，行业亏损面已开始扩大，考虑单体和中小连锁的抗风险能力较弱，叠加统筹政策的短期冲击，我们认为到2024年Q4，零售行业将达成新的平衡。2025年全国零售药房门店总数将下滑，预计下滑幅度超过10%，有效减少市场无效供应，对于竞争胜出的龙头企业客流量有望回升，单店盈利将改善。统计分析零售药房上市公司业绩，2024年上半年收入增速已回落，新开门店数量下降，扣非归母净利润增速为-18.36%，门店客流下降对头部连锁业形成经营压力，预计下半年头部连锁也会调整新开和关闭门店节奏，更为注重经营的稳定。随着行业集中度提升，龙头连锁药房有望最先获得客流量的回升，提升经营效益。政策方面，门诊统筹的覆盖面在逐步扩大，但各地执行差异大，相对市场化的区域，零售药店已获得门诊统筹的增量，而部分区域仍限制统筹药品使用互联网处方，并且价格有严格限制，因此政策影响并非只有单一方向。\\r\\u003Cbr\\u003E2.器械出口初步恢复，创新出海值得期待\\r\\u003Cbr\\u003E根据医保商会数据，2024年1-7月，中国市场医药产品出口额614.33亿美元，同比增长2.70%，其中医疗器械类增长3.92%，西药类增长2.68%，中药类下滑6.82%。器械类增长领先，2024年1-7月一次性耗材出口额大增8.96%，医疗诊断和治疗类增长3.2%。对比国内医疗设备市场，海外市场增长节奏不一致。根据中国医学装备协会数据，2024年上半年，国内县级医院医疗设备采购规模同比下降50.57%，截止2024年8月31日，医疗器械上市公司业绩披露结束，整体出口增长也优于国内市场。自2023年8月起，器械出口增长已逐步恢复。经历疫情防控阶段，中国医疗器械的品质已获得海外，尤其是一带一路国家的认可。在欧美等发达国家市场，通过FDA认证产品增加，并且高值耗材、中高端装备比例提升。中国研发生产体外诊断试剂，先后获得欧盟市场认证，在国际疫情防控中，效率和成本获得国际组织的认可，如近期入选全球基金（The Global Fund）的猴痘病毒检测试剂盒。制剂国际化方面，2024年1-7月，西成药出口41.12亿美元，同比增长14.38%，大幅领先于医药整体出口。根据药智网统计，2023年国产创新药跨境License-out交易数量超过50笔，潜在总金额超400亿美元。在2024上半年，国产创新药达成跨境License-out交易25笔，潜在总金额超过270亿元。随着更多国产创新药械的临床进展，预计创新出海合作项目将继续保持快速增长势头。\\r\\u003Cbr\\u003E3.内需关注长期具有刚性支撑部分\\r\\u003Cbr\\u003E2023年是医药政策较为密集的年份，医疗反腐，地方联采，支付改革等改革措施接踵而来，在政策的压力下，国内医药市场依然收获正增长，根据米内网数据，2023年中国三大终端六大市场合计18865亿元，同比增长5.2%。2024年医疗反腐等政策影响延续，同时药品比价、统筹定价等新政策落地，医药市场增长也受到影响，其中2024年上半年线下零售药店市场（药品+非药）为2986亿元，同比下降3.7%。虽然整体面临压力，但从细分品类看并非都是均一的下降，2024年6月线下零售市场化学药TOP20品类，免疫抑制剂、抗肿瘤药、血脂调节剂和糖尿病用药，保持了高增长趋势，可见刚性治疗需求的品类，其增长具有支撑。医疗设备方面，根据IQIVA预测，2024上半年中国医疗器械市场规模同比下滑3.2%，主要是设备中影像类等设备受到医疗反腐的影响，使得医院设备采购更加谨慎导致招标数量减少，而耗材试剂等则继续伴随手术量（除产科）增长保持稳定增长。根据卫健委发布的统计公报，2023年全国医院床位增加34.2万张床位，全国卫生人员总数增加82.7万人（增长5.7%），总诊疗人次增加11.3亿人次（增长13.5%），在供给和需求的共同拉动下，我们认为国内医疗设备市场恢复增长只是时间问题。\\r\\u003Cbr\\u003E4.VE提价仍在中程，短期价格调整主要为存货因素\\r\\u003Cbr\\u003E近期，VE国内市场报价已从7月底的93-96元\\u002Fkg，提升至150-170元\\u002Fkg，由于在提价过程中，前期低价签单的发货，下游饲料企业消化储备库存，部分经销商报价有所波动。下游库存消耗的时间，我们预计需要1个月左右，小品种库存消化更快，如VB1和VD3等，库存消耗越快，提价节奏恢复则越快。提升的空间。推动本轮VE等原料药品种涨价的驱动因素主要是供给端龙头企业经营策略转变，目前VE的竞争格局稳定，未来市场策略仍将以利润为导向，目前VE仍处于提价的中程，未来成交价格有望突破200元\\u002Fkg。对于万华化学新投产的柠檬醛产能，我们认为从柠檬醛到VE，仍需要解决三甲基氢醌等关键中间体，需要布局的时间很长，而且万华的柠檬醛产能预计到2025年Q2才能规模化生产。业绩兑现方面，我们预计从2024年Q2起，部分品种提价带动的盈利好转有望逐步可见。浙江医药和新和成已发布2024年中报，Q2净利相对于Q1均有显著增长。根据VE出口均价，2024年Q2均价高于Q1。7月VE出口均价9.72美元\\u002Fkg，高于5~6月均价，2024年Q3浙江医药和新和成的业绩弹性有望进一步加大。\\r\\u003Cbr\\u003E5.新冠等其他呼吸道疾病叠加传播，呼吸道检测市场继续增长\\r\\u003Cbr\\u003E根据疾控中心检测数据，近期南方和北方省份处于流感低传播阶段，全国未报告流感样病例暴发疫情，但新冠等其他呼吸道传染病仍在传播，根据广东省疾病预防控制局数据，7月全省新冠病毒感染发病数为18384，对比6月份增加了1万余病例，全国新冠阳性率也上升至18.7%（7月22日-7月28日）。自疫情管控放开以来，流感、新冠、腺病毒、肺炎支原体等多种呼吸道传染病就处于交替传播的状态，因此呼吸道感染检测需求季度波动减弱，而且随着先检测后治疗的意识提高，检测渗透率逐季提升。7月31日，国家卫健委发布《关于加快推进村卫生室纳入医保定点管理的通知》，明确提出，加大医保基金对乡村医疗卫生体系支持力度，规范村卫生室医保服务协议管理，推动更多村卫生室纳入医保定点管理。感冒发热和呼吸道感染为基层常发病，加强规范化管理，离不开诊断作为临床处方的依据，抗原抗体快检自然适合基层村卫生室的诊断需求，未来医保覆盖面增加，将带动呼吸道快检向基层渗透。2024年将是国内企业进军全球呼吸道联检市场的重要开端，其产品平均定价有望高于国内，市场值得期待。对于率先完成海外渠道和生产布局的企业，其获得订单和市场的能力更强，海外市场有望带来增长弹性。\\r\\u003Cbr\\u003E6.血液制品整合加速，集中趋势加强\\r\\u003Cbr\\u003E血液制品属于资源型品种，其原料药主要来自献浆，生产企业和单采浆站的设立都有严格的审批流程。目前国内血制品行业现仅存28家企业，2023年天坛生物、上海莱士、华兰生物、泰邦生物、派林生物五家位列千吨采浆梯队。2024年7月17日，华润博雅生物与GC Corp签订协议，收购绿十字股权，目前绿十字中国拥有4个浆站，2023年采浆量104吨。8月31日天坛生物公告收购1.85亿美元收购中原瑞德100%股权，行业集中度提升是未来十年血液制品的重要趋势。在新增品种，新增浆站，新增市场方面，第一梯队企业具有显著的竞争优势，而且头部企业控股权也在发生变化，新股东赋能给与整合资源和资金的有利支持。\\r\\u003Cbr\\u003E7.国产GLP-1新药出海值得期待\\r\\u003Cbr\\u003E根据诺和诺德2024年中报数据，GLP-1中国地区的销售额为36.84亿丹麦克朗，约合38.68亿人民币，同比增长23%，中国超重肥胖人群，糖尿病人群总量达，治疗的积极性高，为国产GLP-1上市提供了广阔的市场机遇。国产GLP-1出海更值得期待。目前已对外授权的企业包括恒瑞医药等，出海合作模式多样，随着更多临床数据的发布，国产GLP-1新药的海外授权有望增加。\\r\\u003Cbr\\u003E医药推选及选股推荐思路\\r\\u003Cbr\\u003E评级，具体的推选方向和选股思路如下：\\r\\u003Cbr\\u003E未来有望市场产品规模化量产的，关注【川宁生物】。\\r\\u003Cbr\\u003E口潜力的【亚辉龙】，推荐具备掌超的技术平台和国内市场定位优势的【祥生医疗】。推荐进入全球睡眠呼吸机产业链的【美好医疗】。\\r\\u003Cbr\\u003E疗】。推荐具有快检优势，Q3海外订单具备弹性【英诺特】，推荐核酸检测技术持续迭代，满足临床和家庭自检趋势的【圣湘生物】；\\r\\u003Cbr\\u003E【京新药业】。\\r\\u003Cbr\\u003E医药推选及选股推荐思路\\r\\u003Cbr\\u003E疗】。\\r\\u003Cbr\\u003E7）新冠阳性率增加，药物治疗需求增加，推荐【众生药业】，关注【先声药业】。\\r\\u003Cbr\\u003E海莱士】、【博晖创新】、【华兰生物】。\\r\\u003Cbr\\u003E售潜力，关注【千金药业】。\\r\\u003Cbr\\u003E10）二类疫苗研发，结构性机会可以关注人二倍体狂苗的市场增长，推荐【康华生物】。\\r\\u003Cbr\\u003E重点关注公司及盈利预测\\r\\u003Cbr\\u003E2024-09-09EPS PE公司代码名称投资评级\\r\\u003Cbr\\u003E重点关注公司及盈利预测\\r\\u003Cbr\\u003E2024-09-09EPS PE公司代码名称投资评级\\r\\u003Cbr\\u003E风险提示\\r\\u003Cbr\\u003E1.研发失败或无法产业化的风险\\r\\u003Cbr\\u003E医药生物技术壁垒高，研发失败可能导致不能按计划开发出新产品，无法产业化。\",report_format:h,report_pages:33,report_size:1.32,report_language:a,report_playback:a,is_personal_information:a,tag:a},{fileName:\"医药生物行业报告：半年报业绩整体稳健，分化中挖掘底部机会\",resource:\"中邮证券\",publishDate:g,publishDateLong:a,isRecommend:d,isTop:a,fileUrlFlag:i,primaryType:j,isVerify:a,secondaryType:k,previewFilePages:a,previewFile:a,qrcodeUrl:\"https:\\u002F\\u002Fwx.pharmcube.com\\u002Fqrcode-ef31ee5e9f4b477683a95e59a6fd43bd.jpg\",reportListCover:a,isPharmcubeReport:e,previewFileUrl:\"https:\\u002F\\u002Fshare.pharmcube.com\\u002FH3_AP202409091639790416_1imgss0.jpg?e=1725940123&token=IJD70koyeaTSy1xsgdJ-GQMlQg0-PmIgWJ7oskyr:AaqF4S4kuqxTMg5wITc3lsxIAR8=\",previewFileName:\"H3_AP202409091639790416_1imgss0.jpg\",medicalReportTags:a,chartDataList:a,chartDataCount:a,isYymfFile:a,recommendCount:a,relateProducts:a,esid:\"ef31ee5e9f4b477683a95e59a6fd43bd\",relate_newslibrary:a,relate_resource:a,relate_list:a,report_detail_cover:a,report_share_cover:a,report_product:a,report_tags:a,report_subtitle:\"半年报业绩整体稳健，分化中挖掘底部机会\\u003Cbr\\u003E2024Q2医药生物整体收入同比增速为-1.26%，较Q1增速低，主要系疫苗(-32.75%)、CXO(-9.45%)、ICL(-7.41%)、中药(-6.16%)收入下降，疫苗主要系产品降价以及接种率下滑，ICL下降主要是新冠业务基数影响，常规检测仍实现了同比增长；CXO受到高基数影响，表观增速略有承压，环比呈现改善态势；中药主要系新冠收入基数、集采、进院速度放慢等影响。血液制品(+12.67%)、医疗耗材(+11.67%)、原料药(+10.25%)收入增速提升明显，血制品板块2024上半年全国采浆量超6400吨，预计同比实现两位数增长，公司二季度业绩恢复良好增长，具备较强业绩确定性；医疗耗材板块高耗院内政策逐渐明朗，手术积极性逐步提升，低耗库存出清；原料药在新和成（维生素量价齐升）拉动下实现良好增长，剔除其影响Q2表现平稳，随着上游去库存影响逐步消退，有望实现边际改善。化学制剂、线下药店、医院收入增速小个位数，增长稳健。医疗设备下降0.96%主要系23Q2高基数和24Q2院内反腐影响，设备招标受到影响。利润端，医药生物整体毛利率24H1较23H1略有下滑，但由于控费较好，净利率基本同比持平。\\u003Cbr\\u003E后续选股思路：出海耗材，如IVD、手套等，订单型驱动，业绩确定性高；ICL，三季度低基数、DRG推动下外包渗透率提升、竞争格局改善中；GLP-1原料药，GLP-1药物新剂型及新适应症带来原料药需求持续提升，国产龙头企业产能与订单加速爬坡；血制品，院内刚需，头部企业采浆增速预计保持较快增速。\\u003Cbr\\u003E本周医药生物下跌2.05%，子板块仅线下药店板块、流通板块上涨\\u003Cbr\\u003E本周医药生物下跌2.05%，跑赢沪深300指数0.67pct，在31个子行业中排名第14位。子板块仅线下药店板块、流通板块上涨，线下药店板块上涨5.13%，医药流通板块上涨0.55%，医疗耗材板块下跌0.58%，化学制剂板块下跌1.01%，血液制品板块下跌1.82%；疫苗板块跌幅最大，下跌3.86%，医疗设备板块下跌3.79%，其他生物制品板块下跌3.69%，医院板块下跌3.5%，原料药板块下跌2.99%。\\u003Cbr\\u003E推荐及受益标的：\\u003Cbr\\u003E推荐标的：英诺特、圣诺生物、佐力药业、桂林三金、康恩贝、英科医疗、派林生物、美年健康、国际医学、九州通、上海医药、益丰药房、海尔生物、圣湘生物、微电生理、迈普医学。\\u003Cbr\\u003E受益标的：九安医疗、奥泰医疗、金域医学、艾迪康控股、卫光生物、乐普生物、百诚医药、阿拉丁、天坛生物、康希诺、老百姓、柳药集团、东阿阿胶、羚锐制药、迈瑞医疗、联影医疗、澳华内镜、开立医疗、心脉医疗。\\u003Cbr\\u003E（以上排名不分先后）。\\u003Cbr\\u003E风险提示：\\u003Cbr\\u003E行业竞争加剧风险、政策执行不及预期风险、行业黑天鹅事件。\",report_format:h,report_pages:16,report_size:1.11,report_language:a,report_playback:a,is_personal_information:a,tag:a},{fileName:\"医药行业周报：安进1类新药在华再获批临床\",resource:J,publishDate:g,publishDateLong:a,isRecommend:d,isTop:a,fileUrlFlag:i,primaryType:j,isVerify:a,secondaryType:k,previewFilePages:a,previewFile:a,qrcodeUrl:\"https:\\u002F\\u002Fwx.pharmcube.com\\u002Fqrcode-61a06f9a125c4882a461c9c5975432ec.jpg\",reportListCover:a,isPharmcubeReport:e,previewFileUrl:\"https:\\u002F\\u002Fshare.pharmcube.com\\u002FH3_AP202409091639788122_1imgss0.jpg?e=1725940123&token=IJD70koyeaTSy1xsgdJ-GQMlQg0-PmIgWJ7oskyr:-_7n_jZe1dhNuFDZ9Coi2TK18_w=\",previewFileName:\"H3_AP202409091639788122_1imgss0.jpg\",medicalReportTags:a,chartDataList:a,chartDataCount:a,isYymfFile:a,recommendCount:a,relateProducts:a,esid:\"61a06f9a125c4882a461c9c5975432ec\",relate_newslibrary:a,relate_resource:a,relate_list:a,report_detail_cover:a,report_share_cover:a,report_product:a,report_tags:a,report_subtitle:\"报告摘要\\u003Cbr\\u003E市场表现：\\u003Cbr\\u003E2024年9月4日，医药板块涨跌幅+0.16%，跑赢沪深300指数0.81pct，涨跌幅居申万31个子行业第3名。各医药子行业中，线下药店(+4.71%)、医药流通(+1.63%)、医疗研发外包（+1.47%）表现居前，疫苗(-1.36%)、其他生物制品(-0.04%)、医院(+0.09%)表现居后。个股方面，日涨幅榜前3位分别为漱玉平民(+19.98%)、人民同泰(+10.09%)、老百姓(+10.03%)；跌幅榜前3位为金石亚药(-5.62%)、普利制药(-5.09%)、东方海洋（-4.10%）。\\u003Cbr\\u003E行业要闻：\\u003Cbr\\u003E9月4，CDE官网公示，安进（Amgen）的1类新药AMG451一项新的临床申请获得批准，适应症为结节性痒疹。AMG451（Rocatinlimab）是一款全人源化抗OX40单克隆抗体在研新药，安进通过一项高达12.5亿美元的合作获得了共同开发和商业化该产品的权益。\\u003Cbr\\u003E（来源：CDE，太平洋证券研究院）\\u003Cbr\\u003E公司要闻：\\u003Cbr\\u003E灵康药业（603669）：公司发布公告，子公司海南灵康制药有限公司近日收到国家药品监督管理局核准签发的注射用头孢唑肟钠《药品补充申请批准通知书》，该药品通过仿制药质量和疗效一致性评价。\\u003Cbr\\u003E翰宇药业（300199）：公司发布公告，公司产品生长抑素原料药收到欧洲药品质量管理局签发的CEP证书，为进入欧盟市场开拓了准入通道，有利于公司原料药海外市场的拓展。\\u003Cbr\\u003E天宇股份（300702）：公司发布公告，子公司浙江诺得药业有限公司于近日收到国家药品监督管理局核准签发的关于尼可地尔片的《药品注册证书》，经审查，本品符合药品注册的有关要求，批准注册。\\u003Cbr\\u003E兴齐眼药（300573）：公司发布公告，公司研发的SQ-22031滴眼液于近日完成了“评估SQ-22031滴眼液在健康受试者中单次\\u002F多次给药的安全性、耐受性和药代动力学的单中心、随机、双盲、安慰剂对照I期临床试验”首例受试者入组，正式进入该临床试验。\\u003Cbr\\u003E风险提示：新药研发及上市不及预期；政策推进超预期；市场竞争加剧风险。\",report_format:h,report_pages:x,report_size:.37,report_language:a,report_playback:a,is_personal_information:a,tag:a},{fileName:\"生物医药行业周报：高值耗材集采进入密集执行期，建议关注相关优质企业份额提升机会\",resource:\"平安证券\",publishDate:g,publishDateLong:a,isRecommend:d,isTop:a,fileUrlFlag:i,primaryType:j,isVerify:a,secondaryType:k,previewFilePages:a,previewFile:a,qrcodeUrl:\"https:\\u002F\\u002Fwx.pharmcube.com\\u002Fqrcode-796ad83ecbf740de8c16689114772d77.jpg\",reportListCover:a,isPharmcubeReport:e,previewFileUrl:\"https:\\u002F\\u002Fshare.pharmcube.com\\u002FH3_AP202409091639792873_1imgss0.jpg?e=1725940123&token=IJD70koyeaTSy1xsgdJ-GQMlQg0-PmIgWJ7oskyr:cUqCISExMbnYyK-gsa2PzwwO2pQ=\",previewFileName:\"H3_AP202409091639792873_1imgss0.jpg\",medicalReportTags:a,chartDataList:a,chartDataCount:a,isYymfFile:a,recommendCount:a,relateProducts:a,esid:\"796ad83ecbf740de8c16689114772d77\",relate_newslibrary:a,relate_resource:a,relate_list:a,report_detail_cover:a,report_share_cover:a,report_product:a,report_tags:a,report_subtitle:\"行业观点\\r\\u003Cbr\\u003E进入下半年， 高值耗材集采进入密集执行期， 建议关注后集采时代相关国产优质企业以价换量情况。 其中， 国家组织第四批高值医用耗材（人工晶体类及运动医学类） 集中带量采购， 于2023年12月13日公布中选结果。 其中， 人工晶体类医用耗材平均降价60%， 运动医学类医用耗材平均降价达到74%。 采购周期2年。 福建最早落地执行国采结果， 4.30日开始落地， 5-6月为各省份陆续落地执行时间， 一半多省份在5月已经落地， 部分省份在7月落地， 截至7月底仅上海未能落地执行， 9.10日上海开始落地执行结果， 至此， 第四批国采在全国各省均已落地实施。\\r\\u003Cbr\\u003E此外， 市场较为关注的人工关节集采续约、 安徽联盟传染病性激素发光集采已经开始落地执行， 预计在Q3、 Q4联盟内省份将会全部完成，对于部分国产优质企业， 有望抓住集采快速入院覆盖机遇， 实现进口替代和份额不断提升。\\r\\u003Cbr\\u003E投资策略\\r\\u003Cbr\\u003E站在当前时点， 我们认为行业机会主要来自三个维度， 即“内看复苏， 外看出海， 远看创新” 。“内看复苏” 是从时间维度上来说的， 国内市场主要的看点是院内市场复苏， 因为去年的基数是前高后低， 再加上医疗反腐的常态化边际影响弱化， 所以国内的院内市场是复苏状态， 从业绩角度看， 行业整体下半年增速提升。\\r\\u003Cbr\\u003E“外看出海” 是从地理空间维度上来说的。 海外市场相比国内具有更大的行业空间， 而在欧美日等发达国家， 当地市场往往还伴随着更高的价格体系、 更优的竞争格局等优点。 越来越多国内优质医药企业在内外部因素的驱使下加强海外市场布局， 其海外开拓能力将变得更加重要。\\r\\u003Cbr\\u003E“远看创新” 是从产业空间维度上来说的。 全球医药创新迎来新的大适应症时代， 最近1-2年， 在传统的肿瘤与自免等大病种之外， 医药产业相继在减重、 阿尔兹海默症、 核医学等领域取得关键突破， 行业蛋糕有望随之快速做大。 国内医药创新支持政策陆续出台， 叠加美债利率下行预期， 创新产业链有望迎来估值修复。\\r\\u003Cbr\\u003E建议围绕“复苏” 、 “出海” 、 “创新” 三条主线进行布局。\\r\\u003Cbr\\u003E“复苏” 主线： 重点围绕景气度边际转暖的赛道的优质公司进行布局， 建议关注司太立、 昆药集团、 华润三九、 迈瑞医疗、 开立医疗、 微电生理、 澳华内镜、 爱康医疗、 惠泰医疗、 固生堂等。\\r\\u003Cbr\\u003E“出海” 主线： 掘金海外市场大有可为， 建议关注新产业、 科兴制药、 奥浦迈、 药康生物、 百奥赛图、 健友股份、 苑东生物等。\\r\\u003Cbr\\u003E“创新” 主线： 围绕创新， 布局“空间大”“格局好” 的品类， 如阿尔兹海默、 核医学、 自身免疫病、 高端透皮贴剂等细分领域投资机会， 建议关注东诚药业、 九典制药、 一品红、 康辰药业、 中国生物制药、 和黄医药、 云顶新耀、 千红制药、 凯因科技、 昭衍新药、 泰格医药等。\\r\\u003Cbr\\u003E九典制药： 1）国内经皮给药领军企业， 新型外用贴剂布局丰富，格局好，市场大。酮洛芬凝胶贴膏进入医保目录快速放量。 2）积极布局OTC和线上渠道，进一步提前单品天花板和盈利能力。 3）业绩未来3年有望保持CAGR在30%以上。\\r\\u003Cbr\\u003E苑东生物： 1）精麻产品集采+大单品贡献公司短期业绩增量； 2）麻醉镇痛创新管线持续催化公司中期业绩。公司氨酚羟考酮和吗啡纳曲酮缓释片有望于2024年申报上市； 3）精麻赛道制剂出口助力公司中长期发展。公司阿片解毒剂纳美芬注射液已于2023年获FDA批准上市，迈出制剂出海关键一步。\\r\\u003Cbr\\u003E方盛制药： 公司是国内中药创新药领先企业之一，管线持续丰富，新品放量带动业绩保持较快增长。同时，有望充分受益于基药目录调整。 23年下半年受反腐影响业绩基数较低， 24Q3开始业绩增速有望上一个台阶。\\r\\u003Cbr\\u003E健友股份： 制剂出口领先企业， 海外制剂保持高速放量，国内制剂集采落地。肝素原料药业务减值计提充分，有望触底反弹。\\r\\u003Cbr\\u003E奥锐特： 1）制剂板块：地屈孕酮核心大单品持续贡献增量，地屈孕酮复方制剂有望接续增长； 2）原料药板块：甾体原料药稳健，口服司美格鲁肽开始放量。\\r\\u003Cbr\\u003E绿叶制药： 公司成熟产品（力扑素、血脂康、思瑞康、欧开）稳定增长， 2023-2024年获批上市的新产品有望贡献增量（百拓维、帕利哌酮、罗替高汀等）， 2024年7月帕利哌酮在美获批上市，预计2025年起逐步贡献收入。公司在费用端持续把控， 2024-2026年持续降低有息负债体量。从产品销售、费用控制等基本面层面公司向上改善， 2024年有望迎来好转。\\r\\u003Cbr\\u003E博腾股份：海外投融资环境出现复苏，业内企业新增订单普遍加速。公司目前处于订单与产能规模错配状态，叠加新兴业务投入，整体业绩受损。上半年公司新兴业务团队得到精简，订单增加有望显著改善利润率。\\r\\u003Cbr\\u003E微电生理：心脏电生理领域国产领军公司，国产首家全面布局射频、冷冻、脉冲三种消融方式的公司，并在三维手术量上优势显著，累计超过4万台，积累了大量临床反馈，为后续高端产品放量奠定基础。电生理行业国产化率不足20%、国产替代空间广阔，公司率先获批高密度标测导管、压力感知射频导管、冷冻消融导管等高端产品，填补国产空白，有望全面进军房颤等核心市场，引领国产替代。公司2024年一季度以来手术量趋势良好，集采影响逐步减弱、高端产品开始放量，公司迎来发展拐点。微创集团负面因素对其影响有限；电生理行业高增长优势继续兑现；估值有空间（远期折现&比对迈瑞收购惠泰的定价）。\\r\\u003Cbr\\u003E爱康医疗： 骨科关节领域领军企业，充分受益于老龄化趋势长期有望保持稳健增长。 关节续约后，公司产品终端价有所提升，代理商利润改善，有利于不断提升份额；上半年关节行业手术量逐步恢复，公司上半年基本完成目标；进入下半年公司手术量边际持续改善，下半年有望保持快速增长趋势；全年来看指引完成度较高，对应估值位置较低，具备一定性价比。\\r\\u003Cbr\\u003E诺诚健华： 公司是核心品种奥布替尼作为国内获批MZL的BTK抑制剂， 2024上半年高速放量，围绕血液瘤、自免、实体瘤领域全方位布局，在手现金充沛稳步推进在研管线。\\r\\u003Cbr\\u003E百济神州： 公司自研药物泽布替尼（百悦泽）在血液肿瘤领域的领导地位进一步巩固，公司作为在中国生物科技公司中全球临床布局和运营的领导者，与国际领先的制药公司建立战略合作，通过对外授权的方式推进自主研发产品在全球范围内的开发及商业化2024上半年泽布替尼全球销售额80.2亿元，同比增长122.0%，在CLL新增患者的市场份额继续提升。\\r\\u003Cbr\\u003E行业要闻荟萃\\r\\u003Cbr\\u003E1） 安徽征求3类医用耗材带量采购文件意见， 神经介入领域集采再加速； 2） 双抗药物成为出海的主角； 3） 超大型联盟 | 两类耗材集采接续即将启动； 4） 2023年中药销售额超20亿的大品种数量有8个， 总销售额达206亿元。\\r\\u003Cbr\\u003E行情回顾\\r\\u003Cbr\\u003E上周医药板块下跌2.05%， 同期沪深300指数下跌2.71%， 医药行业在28个行业中涨跌幅排名第14位。 上周恒生医疗保健指数下跌1.48%， 同期恒生综指下跌2.57%， 医药行业在11个行业中涨跌幅排名第4位。\\r\\u003Cbr\\u003E风险提示\\r\\u003Cbr\\u003E1） 政策风险： 医保控费、 药品降价等政策对行业负面影响较大； 2） 研发风险： 医药研发投入大、 难度高， 存在研发失败或进度慢的可能； 3） 公司风险： 公司经营情况不达预期\",report_format:h,report_pages:14,report_size:.88,report_language:a,report_playback:a,is_personal_information:a,tag:a}],newsPCList:[{abstracts:\"9月9日，一家新晋成立的、致力于免疫疾病治疗的生物技术公司Candid Therapeutics宣布完成3.7亿美元A轮融资。 这是今年截至目前生物医药行业规模最大的一轮融资 ，由Venrock Healthcare Capital Partners、Fairmount、TCGX和venBio Partners共同牵头，Foresite Capital和Third Rock Ventures等也参与其中。 值得注意的是， Candid的启动结合了筹资和对两家生物技术公司 Vignette Bio 和 TRC 2004 及其主要资产的收购，而这两个主要资产都来自中国biotech。\",isFullText:b,isRecommend:f,foldNewsCount:d,esid:\"8912e53d3d438d9f60e3e9c812c1b076\",title:\"中国双抗NewCo出海，获3.7亿美元融资\",resource:r,publishTime:y,tags:[\"双抗\"],logo:s,content:a,is_top:f,is_yymf_original:b,earth_ids_bind_list:[],company_ids_bind_list:a},{abstracts:\"近日，君合盟生物制药（杭州）有限公司（以下简称： 君合盟 ）继今年5月底获得上市公司通化东宝1亿元B轮融资后，仅时隔3个多月，再次完成超2亿元B+轮融资，累计融资金额近3.5亿元。 B+轮融资由国投创合领投，弘盛资本、元禾控股、新氧集团跟投，凯乘资本连续多轮担任独家财务顾问。 本轮融资募集资金将主要用于进一步推进公司在研产品管线开发，深化严肃医疗及消费医疗领域布局，加快公司产品管线产业化落地及商业化推广。\",isFullText:b,isRecommend:f,foldNewsCount:2,esid:\"64fd4c04a80405dfe2783d3531b15df9\",title:\"君合盟完成近3.5亿元B轮及B+轮融资\",resource:r,publishTime:y,tags:[L,\"B+轮融资\"],logo:s,content:a,is_top:f,is_yymf_original:b,earth_ids_bind_list:[],company_ids_bind_list:[{data_show_name:\"新氧\",data_execute_skip:b,data_esid:\"878b2b939fb066984fc449a14a5abf9e\"},{data_show_name:L,data_execute_skip:b,data_esid:\"abebb9650430bc669977c47d27a99f82\"}]},{abstracts:\"2024年9月7日，商务部、国家卫生健康委、国家药监局发布关于在医疗领域开展扩大开放试点工作的通知：。 所有经过注册上市和批准生产的产品，可在全国范围使用。 其次，在独资医院领域，拟允许在北京、天津、上海、南京、苏州、福州、广州、深圳和海南全岛设立外商独资医院（中医类除外，不含并购公立医院）。\",isFullText:b,isRecommend:f,foldNewsCount:d,esid:\"9a8f2ab484d439ef9d9d8888ad4bb5e5\",title:\"三部门发文试点外资进入，基因诊疗领域“破冰”\",resource:r,publishTime:y,tags:[\"基因诊疗\"],logo:s,content:a,is_top:f,is_yymf_original:b,earth_ids_bind_list:[],company_ids_bind_list:a},{abstracts:\"创新是生物医药领域发展的命脉。 如何将一项创新技术、一个创新靶点转换为一类创新疗法是科学界、产业界、投资界共同探讨的命题。 根据医药魔方NextPharma®数据库，截至2024年8月31日，全球获批上市的小核酸药物总计19款（涵盖已退市），包括11款ASO药物、6款siRNA药物以及2款适配体药物。\",isFullText:b,isRecommend:f,foldNewsCount:d,esid:\"6d3c444d6110059c0c065a61ebaea804\",title:\"国内抗体-小核酸偶联药物先行者 | 迦进生物\",resource:\"医药魔方Pro\",publishTime:\"2024-09-09 21:01\",tags:[A,\"小核酸偶联药物\"],logo:\"https:\\u002F\\u002Fpharmcube-pat.oss-cn-beijing.aliyuncs.com\\u002Fwechat_mp_logo\\u002F84fad3f676ebd639a89e7abb94b92856.png\",content:a,is_top:f,is_yymf_original:b,earth_ids_bind_list:[],company_ids_bind_list:[{data_show_name:\"迦进生物\",data_execute_skip:b,data_esid:\"36381ce2c1895ed6470d71594ce091e3\"}]},{abstracts:\"9月7日，国家药品监督管理局（NMPA）药品审评中心（CDE）官网显示，皮尔法伯（Pierre Fabre）的恩考芬尼胶囊（encorafenib）的上市申请已获受理。 恩考芬尼是一款BRAF抑制剂，靶向BRAF V600E，以及野生型BRAF和CRAF。 BRAF是一种丝氨酸\\u002F苏氨酸蛋白激酶，与ARAF和CRAF同属RAF激酶家族，参与RAS-RAF-MEK-ERK信号通路。\",isFullText:b,isRecommend:f,foldNewsCount:d,esid:\"32210f5e3cf86eac4a8f0a4e511a033b\",title:\"皮尔法伯BRAF抑制剂「恩考芬尼」申报上市\",resource:o,publishTime:p,tags:[\"恩考芬\"],logo:q,content:a,is_top:f,is_yymf_original:b,earth_ids_bind_list:[{drug_earth_esid:\"a1ab8adc4cc5bec1a2ddedf3a51c86eb\",drug_earth_title:\"恩考芬尼\"}],company_ids_bind_list:[{data_show_name:\"Pierre Fabre\",data_execute_skip:b,data_esid:\"1471158443e1254567010d52178c0be6\"}]},{abstracts:\"9月9日，国家药品监督管理局（NMPA）药品审评中心（CDE）官网显示，海思科的HSK31858片拟纳入突破性疗法，适应症为非囊性纤维化支气管扩张。 HSK31858是海思科自主研发的1类新药。 该药是一种口服、强效和高选择性的二肽基肽酶 1（Dipeptidyl Peptidase 1, DPP1）小分子抑制剂，临床拟用于治疗支气管扩张症及急性肺损伤\\u002F急性呼吸窘迫综合征引起的下呼吸道疾病。\",isFullText:b,isRecommend:f,foldNewsCount:d,esid:\"f9c55f96c5c4e3c69474e29cf6a410ea\",title:\"海思科DPP-1抑制剂拟纳入突破性疗法\",resource:o,publishTime:p,tags:[\"first in class\",M,\"支气管扩张\"],logo:q,content:a,is_top:f,is_yymf_original:b,earth_ids_bind_list:[{drug_earth_esid:\"d26d9ff33d9120c7feff9f77e0bb2b07\",drug_earth_title:\"HSK31858\"}],company_ids_bind_list:[{data_show_name:\"海思科\",data_execute_skip:b,data_esid:\"a1a55ce40132bf9390bd13d7e2d51ef5\"}]},{abstracts:\"根据全球临床试验收录网站和中国临床试验登记平台，8月共17款创新药进入III期阶段，其中6款来自中国药企。 这些在研药物覆盖靶点不乏HER2、IL-4Rα、TYK2等成熟靶点，也包括GPR6和LEPR这类还在探索成药性的靶点。 2.仅登记创新药，微创新和生物类似药不包括在内。\",isFullText:b,isRecommend:f,foldNewsCount:d,esid:\"b5fb9fee3304175848724d823b6d015e\",title:\"2024年8月 | 17款创新药进入III期，6款来自中国药企\",resource:o,publishTime:p,tags:[N,\"TYK2\",\"HER2\"],logo:q,content:a,is_top:f,is_yymf_original:b,earth_ids_bind_list:[{drug_earth_esid:\"aa3da8d3100e4cb2c9c2bd473a1b82c6\",drug_earth_title:\"ICP-332\"},{drug_earth_esid:\"1f0bbdf6068c454c8c25c55b9dbd7903\",drug_earth_title:\"KSI-501\"},{drug_earth_esid:\"643b56a991a1116e7945b3ab3898f0ca\",drug_earth_title:\"MY008211A\"},{drug_earth_esid:\"c672d8d677cc729be479ba68b3e83402\",drug_earth_title:\"povetacicept\"},{drug_earth_esid:\"da93fdc3d8095f2a7a7165feba47be84\",drug_earth_title:\"TQB2102\"},{drug_earth_esid:\"8a08ce2cd2d98ed0cacf814bc239e4ac\",drug_earth_title:\"泰莱替尼\"},{drug_earth_esid:\"1af1c162b7a3cb1f0acbed8a87e35828\",drug_earth_title:\"mevrometostat\"}],company_ids_bind_list:[{data_show_name:\"华泰创新药技术研究院\",data_execute_skip:b,data_esid:\"d7f14a9a1ea214c54c0b90a81d976002\"},{data_show_name:B,data_execute_skip:b,data_esid:\"d124e45413e1d285dcb80ec518956e47\"}]},{abstracts:\"9月6日，国家药品监督管理局（NMPA）药品审评中心（CDE）官网显示，恒瑞医药的SHR-1918注射液拟纳入突破性疗法，用于治疗纯合子家族性高胆固醇血症。 纯合子家族性高胆固醇血症（HoFH）是一种罕见且严重的遗传性疾病，患者由于低密度脂蛋白胆固醇受体（LDLR）的缺陷或缺失，导致低密度脂蛋白胆固醇（LDL-C）在血液中积累，从而增加心脏病和卒中的风险。 SHR-1918注射液是恒瑞医药自主研发的血管生成素样蛋白3（ANGPTL3）单克隆抗体，通过抑制ANGPTL3的活性，从而降低血清中的甘油三酯（TG）和低密度脂蛋白胆固醇（LDL-C）水平。\",isFullText:b,isRecommend:f,foldNewsCount:d,esid:\"6e5b9e559229b34a93620888f6cf6aef\",title:\"恒瑞创新药SHR-1918拟纳入突破性疗法，治疗纯合子家族性高胆固醇血症\",resource:o,publishTime:p,tags:[\"单克隆抗体\",M,\"ANGPTL3\"],logo:q,content:a,is_top:f,is_yymf_original:b,earth_ids_bind_list:[{drug_earth_esid:\"2163b7a53788564c6e213f359cdaef96\",drug_earth_title:\"SHR-1918\"}],company_ids_bind_list:[{data_show_name:\"恒瑞医药\",data_execute_skip:b,data_esid:\"890a76aa012a34cf41aac0c2771c09ea\"}]},{abstracts:\"泊那替尼最早于2012年12月获FDA批准上市，用于治疗对酪氨酸激酶抑制药耐药或不能耐受的慢性髓性白血病（CML）患者。 泊那替尼治疗CML和Ph+ALL患者的疗效已在II期 PACE 研究中得到验证。 该研究评估了泊那替尼45mg每日1次治疗CML和Ph+ALL患者（对TKI耐药或不耐受和\\u002F或伴有T315I突变）的疗效和安全性。\",isFullText:b,isRecommend:f,foldNewsCount:d,esid:\"f922235bf1cc41c3b733dc0735010f8c\",title:\"大冢制药第三代Bcr-Abl抑制剂「泊那替尼」获批上市\",resource:o,publishTime:p,tags:[\"大冢制药\"],logo:q,content:a,is_top:f,is_yymf_original:b,earth_ids_bind_list:[{drug_earth_esid:\"f954c3c656fded07aeb937326c6bd5f6\",drug_earth_title:\"泊那替尼\"}],company_ids_bind_list:[{data_show_name:\"Otsuka\",data_execute_skip:b,data_esid:\"acab90f8c56928ac6399a5d04d2b44ce\"}]},{abstracts:\"过去一年，尤其是2024年初产业里出现的一些变动，让业内感觉国产创新药正在出清，且有所加速了。 一方面，国内Biotech出现了破产清算的案例，随之而来的还有各类重组；另一方面， 具体到产品管线和产能建设上，来自CDE和医药魔方的数据显示，自2021年开始都出现了数量下滑趋势 。 产业出清：从管线到公司。\",isFullText:b,isRecommend:f,foldNewsCount:d,esid:\"51841ff780bf7f422270e48ea7213332\",title:\"融资建厂锐减超6成！创新药过剩产能加速出清\",resource:r,publishTime:\"2024-09-09 08:41\",tags:[\"产能出清\",N],logo:s,content:a,is_top:f,is_yymf_original:b,earth_ids_bind_list:[],company_ids_bind_list:a}],hotNewsTags:[\"PDL1\",\"康方生物\",\"肺癌\",\"肿瘤\",\"帕博利珠单抗\"],bydrugURL:\"https:\\u002F\\u002Fbydrug.pharmcube.com\",baseURL:\"https:\\u002F\\u002Fpharmcube.com\"}],fetch:{},error:a,state:{isLogin:e,isVip:void 0,applyModalOpen:e,remainCount:d,userInfo:z,realPhone:c,secretPhone:c,memberId:c,downloadItem:{esid:c,fileUrlFlag:c},ts:c,chartPreviewOpen:e,chartPreviewList:[],chartPreviewItem:{},chartPreviewIndex:d,chartSignalPage:c,noticePreviewOpen:e,noticePreviewList:[],noticePreviewItem:{},noticePreviewIndex:d,noticeSignalPage:c,outLinkCheckShow:e,outLinkUrl:c,isCopyout:e,downloadCheckShow:e,report_params_cache:{\"报告分类\":c,\"报告分类二级\":c,\"发布时间\":c,\"报告页数\":c,\"报告格式\":c,\"报告语言\":c,\"搜索\":c,\"页码\":c},news_params_cache:{\"检索\":c,\"发布时间\":c,\"内容分类\":c,tab:c,\"页码\":c},chart_params_cache:{},paramCheckShow:e,userForm:{},formSetting:{},ShowLogin:e,drawerShow:e,drawerActiveEsid:c,mfNavDisapper:e,noticeCount:d},serverRendered:true,routePath:O,config:{_app:{basePath:O,assetsPath:\"\\u002F_nuxt\\u002F\",cdnURL:a}}}}(null,\"是\",\"\",0,false,\"否\",\"2024-09-09\",\"pdf\",\"05\",\"行业研究\",\"行业报告\",\"NextPharma\",\"新药研发\",\"更新完成\",\"医药魔方Info\",\"2024-09-09 17:48\",\"https:\\u002F\\u002Fpharmcube-pat.oss-cn-beijing.aliyuncs.com\\u002Fwechat_mp_logo\\u002F6ad25aa68a7f2d9979385ef99131cad0.png\",\"医药魔方Invest\",\"https:\\u002F\\u002Fpharmcube-pat.oss-cn-beijing.aliyuncs.com\\u002Fwechat_mp_logo\\u002F21e09891ba976e69ffc0613a5e5e9eed.png\",\"医药交易\",\"DeepMed\",1720972800000,\"2024-07-15\",3,\"2024-09-10 09:26\",{},\"医药魔方\",\"辉瑞\",\"2024-07-18\",\"投融资\",1722355200000,\"2024-07-31\",\"2024-09-04\",\"更新中\",\"CDE培训\",\"太平洋\",9,\"君合盟\",\"突破性疗法\",\"创新药\",\"\\u002F\"));</script><script defer=\"\" src=\"/_nuxt/90ca5b3.js\"></script><script defer=\"\" src=\"/_nuxt/26f4176.js\"></script><script defer=\"\" src=\"/_nuxt/21d6e0e.js\"></script><script defer=\"\" src=\"/_nuxt/899bd2d.js\"></script><script defer=\"\" src=\"/_nuxt/f8c2ee8.js\"></script><script defer=\"\" src=\"/_nuxt/f5958aa.js\"></script><script defer=\"\" src=\"/_nuxt/0e8d870.js\"></script><script defer=\"\" src=\"/_nuxt/b325f63.js\"></script><script defer=\"\" src=\"/_nuxt/21c0bce.js\"></script><script defer=\"\" src=\"/_nuxt/abdeb3a.js\"></script>\n",
       "</body>\n",
       "</html>"
      ]
     },
     "execution_count": 364,
     "metadata": {},
     "output_type": "execute_result"
    }
   ],
   "source": [
    "soup"
   ]
  },
  {
   "cell_type": "code",
   "execution_count": null,
   "id": "6ec1ec60-f58e-4def-96da-7b0ac9db0a4a",
   "metadata": {},
   "outputs": [],
   "source": []
  },
  {
   "cell_type": "code",
   "execution_count": null,
   "id": "fd05139d-df65-4817-8139-0b40ec6ab578",
   "metadata": {},
   "outputs": [],
   "source": []
  },
  {
   "cell_type": "code",
   "execution_count": null,
   "id": "da6fb269-fba4-4f85-b962-21883ad551cf",
   "metadata": {},
   "outputs": [],
   "source": []
  },
  {
   "cell_type": "code",
   "execution_count": null,
   "id": "9e93ddc3-4446-4014-a2c5-510b0b9e05f7",
   "metadata": {},
   "outputs": [],
   "source": []
  },
  {
   "cell_type": "code",
   "execution_count": null,
   "id": "a5d304d2-c06d-4d2d-a97e-85c6b0347326",
   "metadata": {},
   "outputs": [],
   "source": []
  }
 ],
 "metadata": {
  "kernelspec": {
   "display_name": "Python 3 (ipykernel)",
   "language": "python",
   "name": "python3"
  },
  "language_info": {
   "codemirror_mode": {
    "name": "ipython",
    "version": 3
   },
   "file_extension": ".py",
   "mimetype": "text/x-python",
   "name": "python",
   "nbconvert_exporter": "python",
   "pygments_lexer": "ipython3",
   "version": "3.11.7"
  },
  "widgets": {
   "application/vnd.jupyter.widget-state+json": {
    "state": {},
    "version_major": 2,
    "version_minor": 0
   }
  }
 },
 "nbformat": 4,
 "nbformat_minor": 5
}
