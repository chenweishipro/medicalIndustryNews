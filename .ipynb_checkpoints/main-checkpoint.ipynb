{
 "cells": [
  {
   "cell_type": "code",
   "execution_count": 79,
   "id": "18e51bbc-42c8-4394-8522-5dd1cbbb9229",
   "metadata": {},
   "outputs": [],
   "source": [
    "import os, re, time, requests,json\n",
    "from bs4 import BeautifulSoup\n",
    "from openai import OpenAI\n",
    "from datetime import datetime\n",
    "from concurrent.futures import ThreadPoolExecutor, as_completed  \n",
    "import pandas as pd"
   ]
  },
  {
   "cell_type": "markdown",
   "id": "9f3442c3-8a65-4fe4-92da-01e8acedc295",
   "metadata": {},
   "source": [
    "# 爬取"
   ]
  },
  {
   "cell_type": "markdown",
   "id": "0cb18281-87a1-439b-9dec-1f5647abb602",
   "metadata": {},
   "source": [
    "## 爬取menet.com"
   ]
  },
  {
   "cell_type": "code",
   "execution_count": 82,
   "id": "ec91ffb1-359b-4d0c-956d-86db149f7df0",
   "metadata": {},
   "outputs": [],
   "source": [
    "host = 'https://www.menet.com.cn/news'"
   ]
  },
  {
   "cell_type": "code",
   "execution_count": 83,
   "id": "e516179a-ece2-4966-b603-a2c4ce62c5f0",
   "metadata": {},
   "outputs": [],
   "source": [
    "def get_list(host):\n",
    "    response = requests.post(host)\n",
    "    soup = BeautifulSoup(response.text, 'html.parser')\n",
    "    news_list = [_ for _ in soup.find_all('h3') if \"登录\" not in _.text]\n",
    "    return soup, news_list"
   ]
  },
  {
   "cell_type": "code",
   "execution_count": 84,
   "id": "171b09a7-7f06-4166-bd82-b4868325732f",
   "metadata": {},
   "outputs": [],
   "source": [
    "def get_info(item, host ='https://www.menet.com.cn'):\n",
    "    link, title, date = host + item.a['href'], item.text,  item.a['href'].split('/')[3][:8]\n",
    "    return {\n",
    "    \"title\": title,\n",
    "    'url': link,\n",
    "    'date':date\n",
    "}"
   ]
  },
  {
   "cell_type": "code",
   "execution_count": 85,
   "id": "fd59a248-54c1-4ee2-af10-de46462bba5a",
   "metadata": {},
   "outputs": [],
   "source": [
    "soup, news_list = get_list(host)"
   ]
  },
  {
   "cell_type": "code",
   "execution_count": 86,
   "id": "229e9ad2-1209-41b7-8731-f99896ed87dd",
   "metadata": {},
   "outputs": [],
   "source": [
    "result_menet = list(map(get_info, news_list))"
   ]
  },
  {
   "cell_type": "code",
   "execution_count": 87,
   "id": "0a5e46b7-2415-4a58-8170-3d174b1a1640",
   "metadata": {},
   "outputs": [],
   "source": [
    "for num, item in enumerate(soup.find_all(lambda tag: tag.has_attr('class') and len(tag)==1 and tag['class'] == [\"item_time\"])):\n",
    "    result_menet[num]['date'] = item.text"
   ]
  },
  {
   "cell_type": "code",
   "execution_count": 88,
   "id": "e2db7256-18af-4160-ae6d-70863aa08427",
   "metadata": {},
   "outputs": [],
   "source": [
    "for _ in result_menet: _['date'] = datetime.strptime(_['date'], '%Y-%m-%d').date()"
   ]
  },
  {
   "cell_type": "markdown",
   "id": "d5997d4d-72a5-40bc-86eb-f24718eb97a8",
   "metadata": {},
   "source": [
    "---"
   ]
  },
  {
   "cell_type": "markdown",
   "id": "3b065947-d0b6-4fa6-b94a-5237acc7bcbf",
   "metadata": {},
   "source": [
    "## 爬取pharnexcloud"
   ]
  },
  {
   "cell_type": "code",
   "execution_count": 91,
   "id": "a7daf37d-cce1-46fe-b162-5b9b937055e5",
   "metadata": {},
   "outputs": [],
   "source": [
    "r = requests.get('https://www.pharnexcloud.com/zixun')"
   ]
  },
  {
   "cell_type": "code",
   "execution_count": 92,
   "id": "bfc4fc9b-7334-440e-b700-9897a5b3ecae",
   "metadata": {},
   "outputs": [],
   "source": [
    "soup = BeautifulSoup(r.text, 'html.parser')"
   ]
  },
  {
   "cell_type": "code",
   "execution_count": 93,
   "id": "0e182927-4ba8-45e6-9c2b-b73d6b19aa1a",
   "metadata": {},
   "outputs": [],
   "source": [
    "dates = soup.find_all(lambda tag:tag.has_attr('class') and tag['class']==['date'])\n",
    "dates = [_.text for _ in dates]\n",
    "dates = [_ for _  in dates if _ != '']\n",
    "dates = [datetime.strptime(_.split(' ')[0], '%Y-%m-%d').date() for _ in dates]"
   ]
  },
  {
   "cell_type": "code",
   "execution_count": 94,
   "id": "561a474c-6386-4861-86db-9afffe55a38f",
   "metadata": {},
   "outputs": [],
   "source": [
    "result = soup.find_all('a', class_ = 'img-content')"
   ]
  },
  {
   "cell_type": "code",
   "execution_count": 95,
   "id": "3bcaaf95-3889-4e51-abdc-262f2731ebf1",
   "metadata": {},
   "outputs": [],
   "source": [
    "def query_tilte_url(item):\n",
    "    title = item.find_next()['alt']\n",
    "    url = 'https://www.pharnexcloud.com' + item['href']\n",
    "    return {\n",
    "        'title': title,\n",
    "        'url': url\n",
    "    }"
   ]
  },
  {
   "cell_type": "code",
   "execution_count": 96,
   "id": "ff61ae62-435f-4343-b0ad-f851d5b309c8",
   "metadata": {},
   "outputs": [],
   "source": [
    "result_pharnexcloud = list(map(query_tilte_url, result))"
   ]
  },
  {
   "cell_type": "code",
   "execution_count": 97,
   "id": "f35002a9-9c79-49b3-8d3d-e2d998d17894",
   "metadata": {},
   "outputs": [],
   "source": [
    "for no, item in enumerate(result_pharnexcloud): item['date'] = dates[no]"
   ]
  },
  {
   "cell_type": "markdown",
   "id": "dd24a11d-bfae-4006-b5fa-d4b2333f27c3",
   "metadata": {},
   "source": [
    "---"
   ]
  },
  {
   "cell_type": "markdown",
   "id": "561321f3-7611-402b-9980-572b8790dd2a",
   "metadata": {},
   "source": [
    "## 爬取bydrug"
   ]
  },
  {
   "cell_type": "code",
   "execution_count": 100,
   "id": "2b1a0cb2-08ab-4a5a-81fe-215ac8370c4c",
   "metadata": {},
   "outputs": [],
   "source": [
    "r = requests.get('https://bydrug.pharmcube.com/')"
   ]
  },
  {
   "cell_type": "code",
   "execution_count": 101,
   "id": "784c422e-7205-4ef2-a20f-a7ab2862d260",
   "metadata": {},
   "outputs": [],
   "source": [
    "soup = BeautifulSoup(r.text, 'html.parser')"
   ]
  },
  {
   "cell_type": "code",
   "execution_count": 102,
   "id": "1692b564-5c86-49a3-83ba-0fdc55fbc355",
   "metadata": {},
   "outputs": [],
   "source": [
    "datas = soup.find_all('div', class_= 'mf-flex mf-items-center')"
   ]
  },
  {
   "cell_type": "code",
   "execution_count": 103,
   "id": "09e4af5a-a295-4651-93be-da0a50eb1959",
   "metadata": {},
   "outputs": [],
   "source": [
    "datas = datas[1:]"
   ]
  },
  {
   "cell_type": "code",
   "execution_count": 104,
   "id": "fed21537-3c8a-4c26-aa5a-499083e1ff38",
   "metadata": {},
   "outputs": [],
   "source": [
    "item = datas[0]"
   ]
  },
  {
   "cell_type": "code",
   "execution_count": 105,
   "id": "55f8cd94-52a3-4657-a1c3-efd78b9bde15",
   "metadata": {},
   "outputs": [],
   "source": [
    "def get_info(item):\n",
    "    title = item.text.strip()\n",
    "    url = item.find('a')['href']\n",
    "    date = re.findall(r'\\d{4}-\\d{2}-\\d{2}', requests.get(url).text) [0]\n",
    "    date = datetime.strptime(date, '%Y-%m-%d').date()\n",
    "    return {\n",
    "        'title': title,\n",
    "        'url': url,\n",
    "        'date': date\n",
    "    }"
   ]
  },
  {
   "cell_type": "code",
   "execution_count": 106,
   "id": "0884d3a2-d23a-4406-a5fa-d6cdfcc7b454",
   "metadata": {},
   "outputs": [],
   "source": [
    "result_bydrug = [get_info(item) for _ in datas]"
   ]
  },
  {
   "cell_type": "code",
   "execution_count": 107,
   "id": "96fe984e-4e4f-4f0b-bbe5-8d1502fc2970",
   "metadata": {},
   "outputs": [],
   "source": [
    "results = [*result_menet, *result_pharnexcloud, *result_bydrug]"
   ]
  },
  {
   "cell_type": "markdown",
   "id": "bb9631df-e9b0-4be8-b45b-1517b7cb4b9d",
   "metadata": {},
   "source": [
    "---"
   ]
  },
  {
   "cell_type": "code",
   "execution_count": 109,
   "id": "74422c70-a6dd-4cf4-a371-d4d501a91fcd",
   "metadata": {},
   "outputs": [],
   "source": [
    "def get_yesterday():\n",
    "    import datetime  \n",
    "  \n",
    "    # 获取当前日期  \n",
    "    today = datetime.date.today()  \n",
    "      \n",
    "    # 获取昨天的日期  \n",
    "    yesterday = today - datetime.timedelta(days=1)  \n",
    "      \n",
    "    # 将昨天的日期格式化为“年-月-日”  \n",
    "    return yesterday"
   ]
  },
  {
   "cell_type": "code",
   "execution_count": 110,
   "id": "f0805f8b-1768-4eaf-86e8-2318255d942f",
   "metadata": {},
   "outputs": [
    {
     "data": {
      "text/plain": [
       "196"
      ]
     },
     "execution_count": 110,
     "metadata": {},
     "output_type": "execute_result"
    }
   ],
   "source": [
    "len(results)"
   ]
  },
  {
   "cell_type": "code",
   "execution_count": null,
   "id": "333dd5c1-f400-4e25-afc7-f4debf1852a1",
   "metadata": {},
   "outputs": [],
   "source": []
  },
  {
   "cell_type": "code",
   "execution_count": 111,
   "id": "6f0e4844-d558-43f1-96fe-564b0411ed2c",
   "metadata": {},
   "outputs": [],
   "source": [
    "results = [_ for _ in results if _['date'] == get_yesterday()]"
   ]
  },
  {
   "cell_type": "code",
   "execution_count": 112,
   "id": "5719fcac-66b7-4d26-8c49-71c490775b02",
   "metadata": {},
   "outputs": [
    {
     "data": {
      "text/plain": [
       "12"
      ]
     },
     "execution_count": 112,
     "metadata": {},
     "output_type": "execute_result"
    }
   ],
   "source": [
    "len(results)"
   ]
  },
  {
   "cell_type": "code",
   "execution_count": 113,
   "id": "6e112121-b886-447e-9ce7-886ca7154b26",
   "metadata": {},
   "outputs": [],
   "source": [
    "def summarize(url):\n",
    "    context = requests.get('https://r.jina.ai/'+url).text\n",
    "    url_pattern = re.compile(r'\\bhttps?:\\/\\/[^\\s/$.?#].[^\\s]*\\b')  \n",
    "    cleaned_text = url_pattern.sub('', context)\n",
    "    context = cleaned_text[:6000] if len(cleaned_text)>6000  else cleaned_text\n",
    "    context = \"请尽量简洁总结以下内容，并发表你的观点,文字不得超过150字\\n\"+context.replace(\"\\n\",\"\")[:6000]\n",
    "    client = OpenAI(\n",
    "    api_key='sk-69c9bf69fa2b4d2985834d6dc17c0790', # 如何获取API Key：https://help.aliyun.com/zh/model-studio/developer-reference/get-api-key\n",
    "    base_url=\"https://dashscope.aliyuncs.com/compatible-mode/v1\"\n",
    "    )\n",
    "    completion = client.chat.completions.create(\n",
    "        model=\"qwen-max\", # 更多模型请参见模型列表文档。\n",
    "        messages=[{\"role\": \"user\", \"content\": context}]\n",
    "    )\n",
    "    print(completion.choices[0].message.content)\n",
    "    \n",
    "    return completion.choices[0].message.content"
   ]
  },
  {
   "cell_type": "code",
   "execution_count": 114,
   "id": "c875a1b4-6ce9-4b2d-a5f4-d7c27e53ecfd",
   "metadata": {},
   "outputs": [
    {
     "name": "stdout",
     "output_type": "stream",
     "text": [
      "2024年8月，医药领域新药研发活跃，共143款新药获临床批准，较前月增3款，抗肿瘤及免疫调节药物占主导。全球有46款药物获得孤儿药等加速审批资格，体现了对罕见病及未满足医疗需求的关注。多家企业公布临床成果，包括拜耳的创新疗法Kerendia在心衰治疗上的积极结果，及礼来tirzepatide在预防2型糖尿病方面的显著成效。此外，9款新药在中国获批上市，惠及肺癌、银屑病等患者，标志着治疗进步。药融云的月报旨在为行业提供全面新药研发资讯，助力决策参考。\n",
      "------------------------------------------------------------------------------------------------------------------------\n",
      "百济神州的新型PRMT5抑制剂BGB-58067片临床试验申请获监管机构受理，该药物针对MTAP缺失的肿瘤，通过“合成致死”机制有望成为治疗癌症的新策略。这是全球第十款进入临床阶段的PRMT5抑制剂，凸显了百济神州在抗癌药物研发领域的前沿地位。公司计划于2024年启动多个新分子的临床试验，涵盖多种创新疗法，标志着其在肿瘤治疗领域持续推动创新与进步。\n",
      "------------------------------------------------------------------------------------------------------------------------\n",
      "扬子江药业集团广州海瑞药业的复方聚乙二醇电解质散（III）新药获批上市，该药物用于内窥镜检查和大肠手术前的肠道准备，市场潜力巨大，预计销售额超10亿元。多家企业如南京厚生药业等正进行同类产品的仿制申请，显示了这一领域的激烈竞争和市场需求。此外，扬子江药业持续扩大其产品线，近期有多款药物仿制申请。此动态反映了医药行业的创新与仿制并进趋势，以及企业在消化道领域布局的积极姿态。\n",
      "------------------------------------------------------------------------------------------------------------------------\n",
      "科济药业，一家专注CAR-T细胞疗法的中美生物制药企业，公布了2024年中期业绩，显示净亏损收窄至约3.52亿人民币，相比去年有所改善，主要得益于减少的研发支出及股份支付费用。公司核心产品赛恺泽®已在中国上市，用于治疗多发性骨髓瘤，与华东医药的合作推动了产品的商业化进程。研发方面，科济药业在多个CAR-T产品上取得进展，包括全球潜在同类首创的Claudin18.2和GPC3 CAR-T，以及快速制造技术的GPRC5D CAR-T。公司还介绍了其创新技术平台，如增强实体瘤疗效的CycloCAR、提高同种异体CAR-T可行性的THANK-uCAR、精准靶向的LADAR技术，及缩短生产时间的CARcelerate®平台，展现了其在CAR-T领域的持续研发实力与领先地位。科济药业通过这些技术进步，旨在克服当前CAR-T疗法面临的挑战，为更多癌症患者带来更有效、安全的治疗选择。\n",
      "------------------------------------------------------------------------------------------------------------------------\n",
      "新芽基因宣布其碱基编辑药物GEN6050X成功完成首例杜氏肌营养不良（DMD）患者的人体给药，标志着基因编辑疗法在DMD治疗领域的临床应用迈出了重要一步。该疗法旨在通过一次性全身给药永久修复DMD基因，恢复抗肌萎缩蛋白表达，为患者提供潜在的治愈方案。新芽基因计划于2024年向中美两国提交IND申请，此进展凸显了基因编辑技术在罕见遗传病治疗上的巨大潜力和临床意义。\n",
      "------------------------------------------------------------------------------------------------------------------------\n",
      "立项难的原因主要包括四点：可仿制药物资源减少，导致“好品种”难觅；市场竞争加剧，产品投资回报率下降；企业立项策略与公司战略脱节；研发成本上升与企业利润缩水，致使投资更加谨慎。应对策略应包括调整立项标准，与公司战略协同，注重产品线整体效益，并在研发前期进行更严格的成本效益分析。\n",
      "------------------------------------------------------------------------------------------------------------------------\n",
      "立项难的原因主要包括四点：可仿制药物资源减少，好项目难寻；市场竞争加剧导致投资回报率下降；企业缺乏与市场变化相符的战略指导立项；研发成本上升与利润缩水，企业投资更为谨慎。应对策略应包括调整立项标准，与公司战略协同，主动寻求战略价值高的项目，即使NPV不高，也能带来长远利益；同时，企业需强化市场洞察力和战略规划，以适应行业转型期的挑战。\n",
      "------------------------------------------------------------------------------------------------------------------------\n",
      "2024年8月，全球医药领域活跃，143款新药获临床批准，较上月增长，抗肿瘤药占主导。其中，9款创新药在中国上市，涉及企业如信达生物。同时，46款药物获得孤儿药/突破性/快速通道资格。临床研究方面，多家企业如拜耳、礼来公布积极成果，涉及心脏病、糖尿病等多个领域。此外，恒瑞医药、海思科等在创新药研发上取得进展。药融云通过月报助力行业跟踪全球新药动态。\n",
      "------------------------------------------------------------------------------------------------------------------------\n",
      "百济神州的新型PRMT5抑制剂BGB-58067片临床试验申请获监管机构受理，该药物针对MTAP缺失的癌症，采用合成致死策略，有望为抗癌治疗带来新进展。全球范围内已有10款同类抑制剂进入临床阶段，百济神州计划于2024年推进包括BGB-58067在内的多个新分子至临床，彰显其在肿瘤领域的研发实力与创新领导力。\n",
      "------------------------------------------------------------------------------------------------------------------------\n",
      "扬子江药业集团广州海瑞药业的复方聚乙二醇电解质散（III）新药获批上市，该药物用于大肠检查和手术前肠道准备，市场潜力超过10亿元。多家企业正布局该产品的仿制药市场，而扬子江药业也积极扩大其产品管线，展现其在医药领域的强劲研发势头。此动态反映了医药市场对于高效肠道清洁方案的需求增长及企业间的激烈竞争。\n",
      "------------------------------------------------------------------------------------------------------------------------\n",
      "科济药业，专注CAR-T细胞疗法的生物制药企业，中期业绩显示净亏损收窄至3.52亿人民币，收入约600万人民币，主要源于其产品赛恺泽®销售。公司研发进展积极，拥有多个处于不同阶段的创新CAR-T疗法，其中赛恺泽®已在中国上市，用于治疗多发性骨髓瘤。科济在CAR-T领域持续研发创新，包括CycloCAR、THANK-uCAR平台及LADAR技术，旨在增强实体瘤治疗效果、开发同种异体CAR-T以降低成本并提高疗效，以及实现精准靶向。公司现金储备充足，预计支撑运营至2027年，展现其在细胞疗法领域的强劲研发实力与商业化潜力。\n",
      "------------------------------------------------------------------------------------------------------------------------\n",
      "新芽基因宣布其碱基编辑药物GEN6050X成功完成首例杜氏肌营养不良（DMD）患者的人体给药，标志着基因编辑疗法在DMD治疗领域的临床应用迈出了重要一步。该疗法旨在通过一次性全身给药永久修复突变基因，恢复抗肌萎缩蛋白的表达，为DMD提供潜在的治愈方案。这是首个进入DMD临床试验的基因编辑药物，展现了基因编辑技术在精准医疗上的重大进展。新芽基因CEO强调了该技术的安全性和长期治疗效益，公司正努力为DMD患者开发更有效的治疗方案。\n",
      "------------------------------------------------------------------------------------------------------------------------\n"
     ]
    }
   ],
   "source": [
    "for _ in results:\n",
    "   try:\n",
    "        _['context'] = summarize(_['url'])\n",
    "      \n",
    "   except Exception as e:\n",
    "       print(e)\n",
    "   print('------'*20)"
   ]
  },
  {
   "cell_type": "code",
   "execution_count": 292,
   "id": "87611f74-37de-407e-9c2d-080854b387bd",
   "metadata": {},
   "outputs": [],
   "source": [
    "def get_flag(item):\n",
    "    \n",
    "    title = item['title']\n",
    "    url = item['url']\n",
    "    date = item['date'].strftime('%Y-%m-%d')\n",
    "    context = item['context']\n",
    "    return f\"\"\"\n",
    "  <h4 style=\"color:black; margin-top:10px\">  \n",
    "    {title}  \n",
    "  </h4>  \n",
    "  \n",
    "  <span> {date}</span>  \n",
    "  <div  style=\"margin-bottom: 20px;\">  \n",
    "    <p>  \n",
    "      {context}  \n",
    "    </p>  \n",
    "    <span><a href={url}>👉查看更多内容</a></span>  \n",
    "  </div>  \n",
    "  <hr />  \n",
    "  \n",
    "  \n",
    "\"\"\".strip()"
   ]
  },
  {
   "cell_type": "code",
   "execution_count": 294,
   "id": "73299fd6-fc34-4021-b080-7b371d6bbdaf",
   "metadata": {},
   "outputs": [],
   "source": [
    "htmls = [get_flag(item) for item in results]"
   ]
  },
  {
   "cell_type": "code",
   "execution_count": 296,
   "id": "ccc11a3e-c509-469a-b482-4638938c2070",
   "metadata": {},
   "outputs": [],
   "source": [
    "htmls = \"\".join(htmls)"
   ]
  },
  {
   "cell_type": "code",
   "execution_count": null,
   "id": "ba7c62ff-b1a6-4fda-a184-6a6f654f1733",
   "metadata": {},
   "outputs": [],
   "source": []
  },
  {
   "cell_type": "code",
   "execution_count": null,
   "id": "104b1176-d573-48df-a3b1-210f84bb921e",
   "metadata": {},
   "outputs": [],
   "source": []
  },
  {
   "cell_type": "code",
   "execution_count": 300,
   "id": "302ce6ca-77be-4f47-9f9a-29630cedb4fd",
   "metadata": {},
   "outputs": [],
   "source": [
    "def get_token():\n",
    "    corp_id = 'ww9bffa3285527b3c8'\n",
    "    secret = '_uOqAIKUWnRgFIY23gItQ5fX4OeWRpYu1G86Gvk7EUw'\n",
    "    url = f'https://qyapi.weixin.qq.com/cgi-bin/gettoken?corpid={corp_id}&corpsecret={secret}'\n",
    "    return requests.get(url).json()['access_token']"
   ]
  },
  {
   "cell_type": "code",
   "execution_count": null,
   "id": "624bafc4-b425-4008-9bbf-b93b694d8027",
   "metadata": {},
   "outputs": [],
   "source": []
  },
  {
   "cell_type": "code",
   "execution_count": null,
   "id": "7aee5511-b83f-4bc6-b565-9d30cc802e0d",
   "metadata": {},
   "outputs": [],
   "source": []
  },
  {
   "cell_type": "code",
   "execution_count": 304,
   "id": "479b379b-6254-4732-93f9-f6b7e023b76f",
   "metadata": {},
   "outputs": [],
   "source": [
    "try:\n",
    "    html_text = f\"\"\"  \n",
    "<!DOCTYPE html>  \n",
    "<html lang=\"en\">  \n",
    "  \n",
    "<head>  \n",
    "  <meta charset=\"UTF-8\">  \n",
    "  <meta name=\"viewport\" content=\"width=device-width, initial-scale=1.0, maximum-scale=1.0, user-scalable=no\">  \n",
    "  <title>Document</title>  \n",
    "</head>  \n",
    "<style>  \n",
    "  /* 全局样式 */  \n",
    "  * {{  \n",
    "    margin: 0;  \n",
    "    padding: 0;  \n",
    "  }}  \n",
    "  \n",
    "  h4 {{  \n",
    "    text-align: center;  \n",
    "     text-shadow: 2px 2px 4px rgba(15, 47, 206, 0.5);\n",
    "  }}  \n",
    "  \n",
    "  em {{  \n",
    "    font-family: 'Franklin Gothic Medium', 'Arial Narrow', Arial, sans-serif;  \n",
    "    color: silver;  \n",
    "  }}  \n",
    "  \n",
    "  div > p {{  \n",
    "    width: 96%;  \n",
    "    padding: 2%;  \n",
    "  }}  \n",
    "  \n",
    "  a {{  \n",
    "    color: #1e90ff;  \n",
    "    text-decoration: none;  \n",
    "    transition: color 0.3s;  \n",
    "  }}  \n",
    "  \n",
    "  a:hover {{  \n",
    "    color: #ff6347;  \n",
    "  }}  \n",
    "  \n",
    "  p {{  \n",
    "    text-indent: 2em;  \n",
    "    text-align: justify;  \n",
    "  }}  \n",
    "\n",
    "  div {{\n",
    "      margin-bottom: 10px;\n",
    "  }}\n",
    "</style>  \n",
    "  \n",
    "<body>  \n",
    "  <h4 style=\"color:pink;\">  \n",
    "    {title}  \n",
    "  </h4>  \n",
    "  \n",
    "  <span> 🗓️ {date}</span>  \n",
    "  <div>  \n",
    "    <p>  \n",
    "      {context}  \n",
    "    </p>  \n",
    "    <span><a href={url}>👉查看更多内容</a></span>  \n",
    "  </div>  \n",
    "  <hr />  \n",
    "  \n",
    "</body>  \n",
    "  \n",
    "</html>  \n",
    "\"\"\"\n",
    "except:\n",
    "    pass"
   ]
  },
  {
   "cell_type": "code",
   "execution_count": 306,
   "id": "76b6aa42-f19a-4d56-8ebe-a5b5aa8d6fe1",
   "metadata": {},
   "outputs": [],
   "source": [
    "first = f\"\"\"  \n",
    "<!DOCTYPE html>  \n",
    "<html lang=\"en\">  \n",
    "  \n",
    "<head>  \n",
    "  <meta charset=\"UTF-8\">  \n",
    "  <meta name=\"viewport\" content=\"width=device-width, initial-scale=1.0, maximum-scale=1.0, user-scalable=no\">  \n",
    "  <title>Document</title>  \n",
    "</head>  \n",
    "<style>  \n",
    "  /* 全局样式 */  \n",
    "  * {{  \n",
    "    margin: 0;  \n",
    "    padding: 0;  \n",
    "  }}  \n",
    "  \n",
    "  h4 {{  \n",
    "    text-align: center;  \n",
    "  }}  \n",
    "  \n",
    "  em {{  \n",
    "    font-family: 'Franklin Gothic Medium', 'Arial Narrow', Arial, sans-serif;  \n",
    "    color: silver;  \n",
    "  }}  \n",
    "  \n",
    "  div > p {{  \n",
    "    width: 96%;  \n",
    "    padding: 2%;  \n",
    "  }}  \n",
    "  \n",
    "  a {{  \n",
    "    color: #1e90ff;  \n",
    "    text-decoration: none;  \n",
    "    transition: color 0.3s;  \n",
    "  }}  \n",
    "  \n",
    "  a:hover {{  \n",
    "    color: #ff6347;  \n",
    "  }}  \n",
    "  \n",
    "  p {{  \n",
    "    text-indent: 2em;  \n",
    "    text-align: justify;  \n",
    "  }}  \n",
    "</style>  \n",
    "  \n",
    "<body>  \n",
    "\"\"\".strip()"
   ]
  },
  {
   "cell_type": "code",
   "execution_count": 308,
   "id": "62a8143e-6ba8-4c61-89bd-a1ebfbbb03d8",
   "metadata": {},
   "outputs": [],
   "source": [
    "last = \"\"\"</body>  \n",
    "  \n",
    "</html>  \n",
    "\"\"\".strip()"
   ]
  },
  {
   "cell_type": "code",
   "execution_count": 310,
   "id": "47385036-5d29-48a3-b356-e548fa33e735",
   "metadata": {},
   "outputs": [],
   "source": [
    "html_text = first+htmls+last"
   ]
  },
  {
   "cell_type": "code",
   "execution_count": null,
   "id": "ad70982c-4c6c-4f7f-9637-1e902c953c13",
   "metadata": {},
   "outputs": [],
   "source": []
  },
  {
   "cell_type": "code",
   "execution_count": 313,
   "id": "e6638127-f9f4-42b1-80d0-06af706281e2",
   "metadata": {},
   "outputs": [],
   "source": [
    "html_text = html_text.replace('\\n', '')"
   ]
  },
  {
   "cell_type": "code",
   "execution_count": 315,
   "id": "2546aaf9-5adb-4346-866e-26c3368545c1",
   "metadata": {},
   "outputs": [],
   "source": [
    "data = {\n",
    "   \"touser\" : \"@all\",\n",
    "   \"toparty\" : \"PartyID1|PartyID2\",\n",
    "   \"totag\" : \"TagID1 | TagID2\",\n",
    "   \"msgtype\" : \"text\",\n",
    "   \"agentid\" : '1000002',\n",
    "   \"text\" : {\n",
    "       \"content\" : html_text\n",
    "   },\n",
    "   \"safe\":0,\n",
    "   \"enable_id_trans\": 0,\n",
    "   \"enable_duplicate_check\": 0,\n",
    "   \"duplicate_check_interval\": 1800\n",
    "}"
   ]
  },
  {
   "cell_type": "code",
   "execution_count": 317,
   "id": "ac8e9885-6a96-4b25-91cc-c549a74a5b6b",
   "metadata": {},
   "outputs": [],
   "source": [
    "from datetime import datetime"
   ]
  },
  {
   "cell_type": "code",
   "execution_count": 319,
   "id": "e10314b3-afda-40d6-b51b-515001f1fa31",
   "metadata": {},
   "outputs": [],
   "source": [
    "title  = datetime.now().strftime(\"%Y年%m月%d日\") + '医疗行业咨询'"
   ]
  },
  {
   "cell_type": "code",
   "execution_count": 321,
   "id": "d6ccc7f8-f974-4a3f-a816-2e233212a7b1",
   "metadata": {},
   "outputs": [],
   "source": [
    "data = {\n",
    "   \"touser\" : \"@all\",\n",
    "   \"toparty\" : \"PartyID1 | PartyID2\",\n",
    "   \"totag\": \"TagID1 | TagID2\",\n",
    "   \"msgtype\" : \"mpnews\",\n",
    "   \"agentid\" : 1000002,\n",
    "   \"mpnews\" : {\n",
    "       \"articles\":[\n",
    "           {\n",
    "               \"title\": title, \n",
    "               \"thumb_media_id\": \"2tNI-yo4L7-cQmsgW2drOBeFz51E_R5vHa_mdIdU2pBdFUEPklOjTTM_SevJplbmb4khjjhmEVh_kZDALSuo8aQ\",\n",
    "               \"author\": \"大倩倩\",\n",
    "               \n",
    "               \"content\": html_text,\n",
    "               \"digest\": \" \"\n",
    "            }\n",
    "       ]\n",
    "   },\n",
    "   \"safe\":0,\n",
    "   \"enable_id_trans\": 0,\n",
    "   \"enable_duplicate_check\": 0,\n",
    "   \"duplicate_check_interval\": 1800\n",
    "}\n"
   ]
  },
  {
   "cell_type": "code",
   "execution_count": null,
   "id": "a215a73c-43f9-42de-9f6d-5ff82ebce569",
   "metadata": {},
   "outputs": [],
   "source": []
  },
  {
   "cell_type": "code",
   "execution_count": 324,
   "id": "d38b0dbe-ce99-4fa9-8495-8ff5c5c38108",
   "metadata": {},
   "outputs": [
    {
     "data": {
      "text/plain": [
       "{'errcode': 0,\n",
       " 'errmsg': 'ok',\n",
       " 'msgid': 'mrVtVXE39it1tWVvd57npFGBaaRui1-y_6ngSAp9r3883GYaLfvdIlRUPnPCM1NiJn0K59Cv63Q27qmH41z1vQ'}"
      ]
     },
     "execution_count": 324,
     "metadata": {},
     "output_type": "execute_result"
    }
   ],
   "source": [
    "requests.post(\"https://qyapi.weixin.qq.com/cgi-bin/message/send?access_token=\"+get_token(), data= json.dumps(data), ).json()"
   ]
  },
  {
   "cell_type": "code",
   "execution_count": null,
   "id": "093906de-4536-46f0-99c9-fbce3571e235",
   "metadata": {},
   "outputs": [],
   "source": []
  },
  {
   "cell_type": "code",
   "execution_count": null,
   "id": "51a4bf22-0aca-4ab4-b3d4-eade9dabe69b",
   "metadata": {},
   "outputs": [],
   "source": []
  },
  {
   "cell_type": "code",
   "execution_count": null,
   "id": "2545ee9e-0cc6-41e7-abe6-c096543fd196",
   "metadata": {},
   "outputs": [],
   "source": []
  },
  {
   "cell_type": "code",
   "execution_count": null,
   "id": "7f98e283-9437-4829-91f7-5a5cd950e2db",
   "metadata": {},
   "outputs": [],
   "source": []
  },
  {
   "cell_type": "code",
   "execution_count": null,
   "id": "432b9f61-fa3d-4d25-82fc-4a0fbb1a201c",
   "metadata": {},
   "outputs": [],
   "source": []
  }
 ],
 "metadata": {
  "kernelspec": {
   "display_name": "Python 3 (ipykernel)",
   "language": "python",
   "name": "python3"
  },
  "language_info": {
   "codemirror_mode": {
    "name": "ipython",
    "version": 3
   },
   "file_extension": ".py",
   "mimetype": "text/x-python",
   "name": "python",
   "nbconvert_exporter": "python",
   "pygments_lexer": "ipython3",
   "version": "3.11.7"
  },
  "widgets": {
   "application/vnd.jupyter.widget-state+json": {
    "state": {},
    "version_major": 2,
    "version_minor": 0
   }
  }
 },
 "nbformat": 4,
 "nbformat_minor": 5
}
