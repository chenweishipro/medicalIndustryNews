{
 "cells": [
  {
   "cell_type": "code",
   "execution_count": 103,
   "id": "c3de1a8a-2fb6-45c6-9295-2b128373eb6c",
   "metadata": {},
   "outputs": [],
   "source": [
    "import requests\n",
    "import os, re\n",
    "from openai import OpenAI"
   ]
  },
  {
   "cell_type": "code",
   "execution_count": 127,
   "id": "2840d9cb-8af9-4d1b-9105-acd4870bf522",
   "metadata": {},
   "outputs": [],
   "source": [
    "url = 'https://doc.ruoyi.vip/ruoyi/'"
   ]
  },
  {
   "cell_type": "code",
   "execution_count": 129,
   "id": "54a49c7a-02b8-47c4-8880-e1452cfd98dd",
   "metadata": {},
   "outputs": [],
   "source": [
    "r = requests.get('https://r.jina.ai/'+url)"
   ]
  },
  {
   "cell_type": "code",
   "execution_count": 130,
   "id": "56aa988c-ea16-41f0-8fe4-b41c18ab6479",
   "metadata": {},
   "outputs": [],
   "source": [
    "context = r.text"
   ]
  },
  {
   "cell_type": "code",
   "execution_count": 131,
   "id": "b9d3c532-4c28-4a25-9a02-891da7b5d768",
   "metadata": {},
   "outputs": [],
   "source": [
    "url_pattern = re.compile(r'\\bhttps?:\\/\\/[^\\s/$.?#].[^\\s]*\\b')  "
   ]
  },
  {
   "cell_type": "code",
   "execution_count": 132,
   "id": "1ae34b6d-5a8a-4863-adcc-5e5ced66ee28",
   "metadata": {},
   "outputs": [],
   "source": [
    "cleaned_text = url_pattern.sub('', context)  "
   ]
  },
  {
   "cell_type": "code",
   "execution_count": 133,
   "id": "76572413-b724-4637-b453-de83d58e0484",
   "metadata": {},
   "outputs": [],
   "source": [
    "context = cleaned_text[:6000] if len(cleaned_text)>6000  else cleaned_text"
   ]
  },
  {
   "cell_type": "code",
   "execution_count": 134,
   "id": "d4ce7dcf-5f48-4fe8-8408-4d6ac5f9a6fd",
   "metadata": {},
   "outputs": [],
   "source": [
    "context = \"请用简明的语言总结以下内容\\n\"+context.replace(\"\\n\",\"\")[:6000]"
   ]
  },
  {
   "cell_type": "code",
   "execution_count": 135,
   "id": "d5bda96d-8394-4b78-9e12-0b8deb76e012",
   "metadata": {},
   "outputs": [
    {
     "name": "stdout",
     "output_type": "stream",
     "text": [
      "本文介绍了RuoYi项目，这是一个基于Spring Boot、Shiro和Mybatis的后台管理系统。RuoYi旨在简化开发者工作，聚焦业务逻辑，减少技术障碍，提高开发效率和软件安全性。项目特点包括模块化设计，支持Spring Boot 3.x版本，并提供了Vue分离版、微服务版以及移动端版本。此外，RuoYi拥有丰富的生态系统，包含多个子项目和扩展列表，以满足不同需求。\n",
      "\n",
      "用户可以通过官方网站、演示地址和代码下载来体验和使用RuoYi。系统要求使用JDK 1.8及以上、MySQL 5.7及以上和Maven 3.0及以上版本。项目还提供了广泛的文档资源，涵盖从快速入门到高级功能的教程，以及视频教程和更新日志。对于技术支持和问题解决，用户可以访问常见问题页面，或加入多个活跃的QQ技术交流群。\n",
      "\n",
      "总之，RuoYi是一个强大且灵活的后台管理系统框架，适合希望快速构建安全高效管理系统的开发者和团队。\n"
     ]
    }
   ],
   "source": [
    "client = OpenAI(\n",
    "    api_key='sk-69c9bf69fa2b4d2985834d6dc17c0790', # 如何获取API Key：https://help.aliyun.com/zh/model-studio/developer-reference/get-api-key\n",
    "    base_url=\"https://dashscope.aliyuncs.com/compatible-mode/v1\"\n",
    ")\n",
    "completion = client.chat.completions.create(\n",
    "    model=\"qwen-max\", # 更多模型请参见模型列表文档。\n",
    "    messages=[{\"role\": \"user\", \"content\": context}]\n",
    ")\n",
    "print(completion.choices[0].message.content)"
   ]
  },
  {
   "cell_type": "code",
   "execution_count": 136,
   "id": "a90478f3-4186-41aa-b241-58afb5cc4bc2",
   "metadata": {},
   "outputs": [
    {
     "data": {
      "text/plain": [
       "'C:\\\\Users\\\\chenw\\\\Desktop\\\\医药新闻爬虫'"
      ]
     },
     "execution_count": 136,
     "metadata": {},
     "output_type": "execute_result"
    }
   ],
   "source": [
    "os.getcwd()"
   ]
  },
  {
   "cell_type": "code",
   "execution_count": null,
   "id": "ef4885a2-f9cd-4263-8046-26858c860a24",
   "metadata": {},
   "outputs": [],
   "source": []
  },
  {
   "cell_type": "code",
   "execution_count": null,
   "id": "dd33911a-6b12-4baf-bf84-8a618e3607fa",
   "metadata": {},
   "outputs": [],
   "source": []
  }
 ],
 "metadata": {
  "kernelspec": {
   "display_name": "Python 3 (ipykernel)",
   "language": "python",
   "name": "python3"
  },
  "language_info": {
   "codemirror_mode": {
    "name": "ipython",
    "version": 3
   },
   "file_extension": ".py",
   "mimetype": "text/x-python",
   "name": "python",
   "nbconvert_exporter": "python",
   "pygments_lexer": "ipython3",
   "version": "3.11.7"
  },
  "widgets": {
   "application/vnd.jupyter.widget-state+json": {
    "state": {},
    "version_major": 2,
    "version_minor": 0
   }
  }
 },
 "nbformat": 4,
 "nbformat_minor": 5
}
