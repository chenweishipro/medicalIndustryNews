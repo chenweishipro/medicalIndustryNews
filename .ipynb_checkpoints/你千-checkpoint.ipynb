{
 "cells": [
  {
   "cell_type": "code",
   "execution_count": 240,
   "id": "c3de1a8a-2fb6-45c6-9295-2b128373eb6c",
   "metadata": {},
   "outputs": [],
   "source": [
    "import requests\n",
    "import os, re\n",
    "from openai import OpenAI"
   ]
  },
  {
   "cell_type": "code",
   "execution_count": 241,
   "id": "2840d9cb-8af9-4d1b-9105-acd4870bf522",
   "metadata": {},
   "outputs": [],
   "source": [
    "url = 'https://baike.eastmoney.com/item/%E4%BA%A4%E9%80%9A%E9%93%B6%E8%A1%8C%E8%82%A1%E4%BB%BD%E6%9C%89%E9%99%90%E5%85%AC%E5%8F%B8'"
   ]
  },
  {
   "cell_type": "code",
   "execution_count": 242,
   "id": "54a49c7a-02b8-47c4-8880-e1452cfd98dd",
   "metadata": {},
   "outputs": [],
   "source": [
    "r = requests.get('https://r.jina.ai/'+url)"
   ]
  },
  {
   "cell_type": "code",
   "execution_count": 243,
   "id": "56aa988c-ea16-41f0-8fe4-b41c18ab6479",
   "metadata": {},
   "outputs": [],
   "source": [
    "context = r.text"
   ]
  },
  {
   "cell_type": "code",
   "execution_count": 244,
   "id": "b9d3c532-4c28-4a25-9a02-891da7b5d768",
   "metadata": {},
   "outputs": [],
   "source": [
    "url_pattern = re.compile(r'\\bhttps?:\\/\\/[^\\s/$.?#].[^\\s]*\\b')  "
   ]
  },
  {
   "cell_type": "code",
   "execution_count": 245,
   "id": "1ae34b6d-5a8a-4863-adcc-5e5ced66ee28",
   "metadata": {},
   "outputs": [],
   "source": [
    "cleaned_text = url_pattern.sub('', context)  "
   ]
  },
  {
   "cell_type": "code",
   "execution_count": 246,
   "id": "76572413-b724-4637-b453-de83d58e0484",
   "metadata": {},
   "outputs": [],
   "source": [
    "context = cleaned_text[:6000] if len(cleaned_text)>6000  else cleaned_text"
   ]
  },
  {
   "cell_type": "code",
   "execution_count": 264,
   "id": "d4ce7dcf-5f48-4fe8-8408-4d6ac5f9a6fd",
   "metadata": {},
   "outputs": [],
   "source": [
    "context = \"请详尽总结以下内容，并发表你的观点并将内容整理成html格式\\n\"+context.replace(\"\\n\",\"\")[:6000]"
   ]
  },
  {
   "cell_type": "code",
   "execution_count": 266,
   "id": "ef4885a2-f9cd-4263-8046-26858c860a24",
   "metadata": {},
   "outputs": [],
   "source": [
    "def summarize(url):\n",
    "    context = requests.get('https://r.jina.ai/'+url).text\n",
    "    url_pattern = re.compile(r'\\bhttps?:\\/\\/[^\\s/$.?#].[^\\s]*\\b')  \n",
    "    cleaned_text = url_pattern.sub('', context)\n",
    "    context = cleaned_text[:6000] if len(cleaned_text)>6000  else cleaned_text\n",
    "    context = \"请详尽总结以下内容，并发表你的观点\\n\"+context.replace(\"\\n\",\"\")[:6000]\n",
    "    client = OpenAI(\n",
    "    api_key='sk-69c9bf69fa2b4d2985834d6dc17c0790', # 如何获取API Key：https://help.aliyun.com/zh/model-studio/developer-reference/get-api-key\n",
    "    base_url=\"https://dashscope.aliyuncs.com/compatible-mode/v1\"\n",
    "    )\n",
    "    completion = client.chat.completions.create(\n",
    "        model=\"qwen-max\", # 更多模型请参见模型列表文档。\n",
    "        messages=[{\"role\": \"user\", \"content\": context}]\n",
    "    )\n",
    "    print(completion.choices[0].message.content)\n",
    "    with open('output.md', 'w') as f:  \n",
    "        # 使用 print 函数，将输出重定向到文件  \n",
    "        print(completion.choices[0].message.content, file=f)  \n",
    "        \n",
    "    return completion.choices[0].message.content"
   ]
  },
  {
   "cell_type": "code",
   "execution_count": 268,
   "id": "dd33911a-6b12-4baf-bf84-8a618e3607fa",
   "metadata": {},
   "outputs": [
    {
     "name": "stdout",
     "output_type": "stream",
     "text": [
      "交通银行股份有限公司（Bank of Communications Co., Ltd.）是一家历史悠久的中国银行，成立于1908年，总部位于中国上海（中国（上海）自由贸易试验区银城中路188号）。作为中国第一家全国性国有股份制商业银行，交通银行于1987年4月1日重组后重新对外营业，并分别在2005年6月和2007年5月在香港联交所和上交所上市。2023年，交通银行被纳入全球系统重要性银行之列，其一级资本在全球银行中排名第九。\n",
      "\n",
      "交通银行致力于成为“具有特色优势的世界一流银行集团”，强调绿色经营，专注于普惠金融、贸易金融、科技金融、财富金融四大业务特色，并不断提升客户经营、科技引领、风险管理、协同作战、资源配置等专业能力。通过数字化转型和强化“上海主场”建设来推动高质量发展。该行拥有广泛的线上线下服务渠道，包括手机银行、网上银行及境内外众多分支机构，为公司和个人客户提供包括存贷款、供应链金融、国际结算、投资银行、资产管理、财富管理等一系列综合金融服务。此外，通过旗下全资或控股子公司，交通银行还涉足金融租赁、基金、理财、信托、保险、境外证券和债转股等多个金融领域。\n",
      "\n",
      "从行业地位来看，交通银行在2022年继续深化金融服务实体经济，响应国家政策，推进普惠金融、科技金融和财富金融的发展。普惠型小微企业贷款和个人消费贷款均有显著增长，同时加大对科技型企业、战略性新兴产业的支持。财富管理方面，集团理财产品余额和管理的个人金融资产均有所上升，中高端客户基础也在扩大。\n",
      "\n",
      "高管团队由经验丰富的专业人士组成，以任德奇为主席，领导包括张宝江、黄红元在内的多位副行长，共同负责银行的战略决策和日常运营。银行高管的教育背景普遍较高，多数拥有硕士及以上学位，并且在金融领域有着丰富的从业经验。\n",
      "\n",
      "综上所述，交通银行作为中国领先的金融机构之一，不仅在传统银行业务上保持强劲，而且在金融科技、国际化布局、以及服务实体经济等方面展现出积极的进取姿态和良好的适应性。其持续的创新与改革，特别是在数字化转型和绿色金融上的努力，体现了银行对未来金融趋势的深刻洞察和前瞻布局。作为一家具有深厚历史底蕴的银行，交通银行正以实际行动践行着现代化、国际化、专业化的发展道路，为推动中国经济高质量发展贡献力量。\n"
     ]
    },
    {
     "data": {
      "text/plain": [
       "'交通银行股份有限公司（Bank of Communications Co., Ltd.）是一家历史悠久的中国银行，成立于1908年，总部位于中国上海（中国（上海）自由贸易试验区银城中路188号）。作为中国第一家全国性国有股份制商业银行，交通银行于1987年4月1日重组后重新对外营业，并分别在2005年6月和2007年5月在香港联交所和上交所上市。2023年，交通银行被纳入全球系统重要性银行之列，其一级资本在全球银行中排名第九。\\n\\n交通银行致力于成为“具有特色优势的世界一流银行集团”，强调绿色经营，专注于普惠金融、贸易金融、科技金融、财富金融四大业务特色，并不断提升客户经营、科技引领、风险管理、协同作战、资源配置等专业能力。通过数字化转型和强化“上海主场”建设来推动高质量发展。该行拥有广泛的线上线下服务渠道，包括手机银行、网上银行及境内外众多分支机构，为公司和个人客户提供包括存贷款、供应链金融、国际结算、投资银行、资产管理、财富管理等一系列综合金融服务。此外，通过旗下全资或控股子公司，交通银行还涉足金融租赁、基金、理财、信托、保险、境外证券和债转股等多个金融领域。\\n\\n从行业地位来看，交通银行在2022年继续深化金融服务实体经济，响应国家政策，推进普惠金融、科技金融和财富金融的发展。普惠型小微企业贷款和个人消费贷款均有显著增长，同时加大对科技型企业、战略性新兴产业的支持。财富管理方面，集团理财产品余额和管理的个人金融资产均有所上升，中高端客户基础也在扩大。\\n\\n高管团队由经验丰富的专业人士组成，以任德奇为主席，领导包括张宝江、黄红元在内的多位副行长，共同负责银行的战略决策和日常运营。银行高管的教育背景普遍较高，多数拥有硕士及以上学位，并且在金融领域有着丰富的从业经验。\\n\\n综上所述，交通银行作为中国领先的金融机构之一，不仅在传统银行业务上保持强劲，而且在金融科技、国际化布局、以及服务实体经济等方面展现出积极的进取姿态和良好的适应性。其持续的创新与改革，特别是在数字化转型和绿色金融上的努力，体现了银行对未来金融趋势的深刻洞察和前瞻布局。作为一家具有深厚历史底蕴的银行，交通银行正以实际行动践行着现代化、国际化、专业化的发展道路，为推动中国经济高质量发展贡献力量。'"
      ]
     },
     "execution_count": 268,
     "metadata": {},
     "output_type": "execute_result"
    }
   ],
   "source": [
    "summarize(url)"
   ]
  },
  {
   "cell_type": "code",
   "execution_count": 270,
   "id": "d2f4ef41-f83a-4465-8968-560b48e60c9f",
   "metadata": {},
   "outputs": [
    {
     "name": "stdout",
     "output_type": "stream",
     "text": [
      "<p>交通银行股份有限公司（Bank of Communications Co., Ltd.）是一家历史悠久的中国银行，成立于1908年，总部位于中国上海（中国（上海）自由贸易试验区银城中路188号）。作为中国第一家全国性国有股份制商业银行，交通银行于1987年4月1日重组后重新对外营业，并分别在2005年6月和2007年5月在香港联交所和上交所上市。2023年，交通银行被纳入全球系统重要性银行之列，其一级资本在全球银行中排名第九。</p>\n",
      "<p>交通银行致力于成为“具有特色优势的世界一流银行集团”，强调绿色经营，专注于普惠金融、贸易金融、科技金融、财富金融四大业务特色，并不断提升客户经营、科技引领、风险管理、协同作战、资源配置等专业能力。通过数字化转型和强化“上海主场”建设来推动高质量发展。该行拥有广泛的线上线下服务渠道，包括手机银行、网上银行及境内外众多分支机构，为公司和个人客户提供包括存贷款、供应链金融、国际结算、投资银行、资产管理、财富管理等一系列综合金融服务。此外，通过旗下全资或控股子公司，交通银行还涉足金融租赁、基金、理财、信托、保险、境外证券和债转股等多个金融领域。</p>\n",
      "<p>从行业地位来看，交通银行在2022年继续深化金融服务实体经济，响应国家政策，推进普惠金融、科技金融和财富金融的发展。普惠型小微企业贷款和个人消费贷款均有显著增长，同时加大对科技型企业、战略性新兴产业的支持。财富管理方面，集团理财产品余额和管理的个人金融资产均有所上升，中高端客户基础也在扩大。</p>\n",
      "<p>高管团队由经验丰富的专业人士组成，以任德奇为主席，领导包括张宝江、黄红元在内的多位副行长，共同负责银行的战略决策和日常运营。银行高管的教育背景普遍较高，多数拥有硕士及以上学位，并且在金融领域有着丰富的从业经验。</p>\n",
      "<p>综上所述，交通银行作为中国领先的金融机构之一，不仅在传统银行业务上保持强劲，而且在金融科技、国际化布局、以及服务实体经济等方面展现出积极的进取姿态和良好的适应性。其持续的创新与改革，特别是在数字化转型和绿色金融上的努力，体现了银行对未来金融趋势的深刻洞察和前瞻布局。作为一家具有深厚历史底蕴的银行，交通银行正以实际行动践行着现代化、国际化、专业化的发展道路，为推动中国经济高质量发展贡献力量。</p>\n"
     ]
    }
   ],
   "source": [
    "import markdown\n",
    " \n",
    "# 读取Markdown文件内容\n",
    "with open('output.md', 'r', ) as f:\n",
    "    markdown_text = f.read()\n",
    " \n",
    "# 将Markdown转换为HTML\n",
    "html = markdown.markdown(markdown_text)\n",
    " \n",
    "# 打印HTML内容\n",
    "print(html)\n",
    " \n",
    "# 如果要将HTML内容写入文件\n",
    "with open('example.html', 'w', encoding='utf-8') as f:\n",
    "    f.write(html)"
   ]
  },
  {
   "cell_type": "code",
   "execution_count": null,
   "id": "a41b630f-16cd-4a97-8227-0a829253b00b",
   "metadata": {},
   "outputs": [],
   "source": []
  },
  {
   "cell_type": "code",
   "execution_count": null,
   "id": "95336c32-3a8c-4202-837c-6f34e5a8ebe1",
   "metadata": {},
   "outputs": [],
   "source": []
  }
 ],
 "metadata": {
  "kernelspec": {
   "display_name": "Python 3 (ipykernel)",
   "language": "python",
   "name": "python3"
  },
  "language_info": {
   "codemirror_mode": {
    "name": "ipython",
    "version": 3
   },
   "file_extension": ".py",
   "mimetype": "text/x-python",
   "name": "python",
   "nbconvert_exporter": "python",
   "pygments_lexer": "ipython3",
   "version": "3.11.7"
  },
  "widgets": {
   "application/vnd.jupyter.widget-state+json": {
    "state": {},
    "version_major": 2,
    "version_minor": 0
   }
  }
 },
 "nbformat": 4,
 "nbformat_minor": 5
}
