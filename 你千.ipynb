{
 "cells": [
  {
   "cell_type": "code",
   "execution_count": 240,
   "id": "c3de1a8a-2fb6-45c6-9295-2b128373eb6c",
   "metadata": {},
   "outputs": [],
   "source": [
    "import requests\n",
    "import os, re\n",
    "from openai import OpenAI"
   ]
  },
  {
   "cell_type": "code",
   "execution_count": 241,
   "id": "2840d9cb-8af9-4d1b-9105-acd4870bf522",
   "metadata": {},
   "outputs": [],
   "source": [
    "url = 'https://baike.eastmoney.com/item/%E4%BA%A4%E9%80%9A%E9%93%B6%E8%A1%8C%E8%82%A1%E4%BB%BD%E6%9C%89%E9%99%90%E5%85%AC%E5%8F%B8'"
   ]
  },
  {
   "cell_type": "code",
   "execution_count": 242,
   "id": "54a49c7a-02b8-47c4-8880-e1452cfd98dd",
   "metadata": {},
   "outputs": [],
   "source": [
    "r = requests.get('https://r.jina.ai/'+url)"
   ]
  },
  {
   "cell_type": "code",
   "execution_count": 243,
   "id": "56aa988c-ea16-41f0-8fe4-b41c18ab6479",
   "metadata": {},
   "outputs": [],
   "source": [
    "context = r.text"
   ]
  },
  {
   "cell_type": "code",
   "execution_count": 244,
   "id": "b9d3c532-4c28-4a25-9a02-891da7b5d768",
   "metadata": {},
   "outputs": [],
   "source": [
    "url_pattern = re.compile(r'\\bhttps?:\\/\\/[^\\s/$.?#].[^\\s]*\\b')  "
   ]
  },
  {
   "cell_type": "code",
   "execution_count": 245,
   "id": "1ae34b6d-5a8a-4863-adcc-5e5ced66ee28",
   "metadata": {},
   "outputs": [],
   "source": [
    "cleaned_text = url_pattern.sub('', context)  "
   ]
  },
  {
   "cell_type": "code",
   "execution_count": 246,
   "id": "76572413-b724-4637-b453-de83d58e0484",
   "metadata": {},
   "outputs": [],
   "source": [
    "context = cleaned_text[:6000] if len(cleaned_text)>6000  else cleaned_text"
   ]
  },
  {
   "cell_type": "code",
   "execution_count": 247,
   "id": "d4ce7dcf-5f48-4fe8-8408-4d6ac5f9a6fd",
   "metadata": {},
   "outputs": [],
   "source": [
    "context = \"请详尽总结以下内容，并发表你的观点\\n\"+context.replace(\"\\n\",\"\")[:6000]"
   ]
  },
  {
   "cell_type": "code",
   "execution_count": 248,
   "id": "ef4885a2-f9cd-4263-8046-26858c860a24",
   "metadata": {},
   "outputs": [],
   "source": [
    "def summarize(url):\n",
    "    context = requests.get('https://r.jina.ai/'+url).text\n",
    "    url_pattern = re.compile(r'\\bhttps?:\\/\\/[^\\s/$.?#].[^\\s]*\\b')  \n",
    "    cleaned_text = url_pattern.sub('', context)\n",
    "    context = cleaned_text[:6000] if len(cleaned_text)>6000  else cleaned_text\n",
    "    context = \"请详尽总结以下内容，并发表你的观点\\n\"+context.replace(\"\\n\",\"\")[:6000]\n",
    "    client = OpenAI(\n",
    "    api_key='sk-69c9bf69fa2b4d2985834d6dc17c0790', # 如何获取API Key：https://help.aliyun.com/zh/model-studio/developer-reference/get-api-key\n",
    "    base_url=\"https://dashscope.aliyuncs.com/compatible-mode/v1\"\n",
    "    )\n",
    "    completion = client.chat.completions.create(\n",
    "        model=\"qwen-max\", # 更多模型请参见模型列表文档。\n",
    "        messages=[{\"role\": \"user\", \"content\": context}]\n",
    "    )\n",
    "    print(completion.choices[0].message.content)\n",
    "    with open('output.md', 'w') as f:  \n",
    "        # 使用 print 函数，将输出重定向到文件  \n",
    "        print(completion.choices[0].message.content, file=f)  \n",
    "        \n",
    "    return completion.choices[0].message.content"
   ]
  },
  {
   "cell_type": "code",
   "execution_count": 249,
   "id": "dd33911a-6b12-4baf-bf84-8a618e3607fa",
   "metadata": {},
   "outputs": [
    {
     "name": "stdout",
     "output_type": "stream",
     "text": [
      "交通银行股份有限公司（Bank of Communications Co., Ltd.）成立于1908年，是中国历史最为悠久的银行之一。1987年4月1日，该行重组后重新开业，标志着中国首间全国性的国有股份制商业银行的诞生，其总部位于上海。交通银行在2005年6月于香港联合交易所上市，随后在2007年5月在上海证券交易所上市，并在2023年被纳入全球系统重要性银行之列。根据《银行家》杂志的排名，以一级资本计，交通银行在全球银行中排名第9位。\n",
      "\n",
      "交通银行致力于成为具有特色优势的世界一流银行集团，强调绿色经营理念，专注于普惠金融、贸易金融、科技金融、财富金融四大业务特色，不断提升客户经营、科技引领、风险管理、协同作战、资源配置等方面的专业能力。银行通过数字化转型和强化“上海主场”建设来推动高质量发展。它拥有广泛的线上线下服务渠道，包括手机银行、网上银行以及在中国境内的2800多家网点和境外23家分支机构，为260多万公司客户和近1.92亿零售客户提供存款、贷款、供应链金融、国际结算、投资银行、资产管理、财富管理等全面金融服务。此外，交通银行还通过子公司涉足金融租赁、基金、理财、信托、保险等多个金融领域。\n",
      "\n",
      "2022年度，面对复杂的国内外经济形势，交通银行积极响应国家政策，支持疫情防控和经济发展，加强普惠金融、科技金融和财富金融等业务。其中，普惠型小微企业贷款和个人消费贷款显著增长，科技金融授信客户和战略性新兴产业贷款亦实现大幅上升，同时，财富管理服务也得到了进一步强化，满足了更广泛客户的财富管理需求。\n",
      "\n",
      "银行高管团队由经验丰富的专业人士组成，以董事长任德奇为首，管理团队涵盖了行长、副行长、首席信息官、执行董事、非执行董事、独立非执行董事以及监事等关键职位，体现了多元化的领导结构和专业背景。\n",
      "\n",
      "从以上信息看，交通银行作为一家历史悠久且具有国际影响力的金融机构，不仅在国内金融市场扮演着重要角色，在支持实体经济、促进产业升级、深化金融服务方面也展现出了积极主动的姿态。特别是在金融科技应用、普惠金融发展、国际化布局等方面，交通银行的策略与行动与中国乃至全球经济发展的趋势相契合，展现了其作为大型银行的责任感与前瞻视野。随着数字化转型的推进和对绿色金融的重视，交通银行有望在全球金融体系中扮演更加重要的角色，并持续为股东、客户和社会创造价值。\n"
     ]
    },
    {
     "data": {
      "text/plain": [
       "'交通银行股份有限公司（Bank of Communications Co., Ltd.）成立于1908年，是中国历史最为悠久的银行之一。1987年4月1日，该行重组后重新开业，标志着中国首间全国性的国有股份制商业银行的诞生，其总部位于上海。交通银行在2005年6月于香港联合交易所上市，随后在2007年5月在上海证券交易所上市，并在2023年被纳入全球系统重要性银行之列。根据《银行家》杂志的排名，以一级资本计，交通银行在全球银行中排名第9位。\\n\\n交通银行致力于成为具有特色优势的世界一流银行集团，强调绿色经营理念，专注于普惠金融、贸易金融、科技金融、财富金融四大业务特色，不断提升客户经营、科技引领、风险管理、协同作战、资源配置等方面的专业能力。银行通过数字化转型和强化“上海主场”建设来推动高质量发展。它拥有广泛的线上线下服务渠道，包括手机银行、网上银行以及在中国境内的2800多家网点和境外23家分支机构，为260多万公司客户和近1.92亿零售客户提供存款、贷款、供应链金融、国际结算、投资银行、资产管理、财富管理等全面金融服务。此外，交通银行还通过子公司涉足金融租赁、基金、理财、信托、保险等多个金融领域。\\n\\n2022年度，面对复杂的国内外经济形势，交通银行积极响应国家政策，支持疫情防控和经济发展，加强普惠金融、科技金融和财富金融等业务。其中，普惠型小微企业贷款和个人消费贷款显著增长，科技金融授信客户和战略性新兴产业贷款亦实现大幅上升，同时，财富管理服务也得到了进一步强化，满足了更广泛客户的财富管理需求。\\n\\n银行高管团队由经验丰富的专业人士组成，以董事长任德奇为首，管理团队涵盖了行长、副行长、首席信息官、执行董事、非执行董事、独立非执行董事以及监事等关键职位，体现了多元化的领导结构和专业背景。\\n\\n从以上信息看，交通银行作为一家历史悠久且具有国际影响力的金融机构，不仅在国内金融市场扮演着重要角色，在支持实体经济、促进产业升级、深化金融服务方面也展现出了积极主动的姿态。特别是在金融科技应用、普惠金融发展、国际化布局等方面，交通银行的策略与行动与中国乃至全球经济发展的趋势相契合，展现了其作为大型银行的责任感与前瞻视野。随着数字化转型的推进和对绿色金融的重视，交通银行有望在全球金融体系中扮演更加重要的角色，并持续为股东、客户和社会创造价值。'"
      ]
     },
     "execution_count": 249,
     "metadata": {},
     "output_type": "execute_result"
    }
   ],
   "source": [
    "summarize(url)"
   ]
  },
  {
   "cell_type": "code",
   "execution_count": 250,
   "id": "d2f4ef41-f83a-4465-8968-560b48e60c9f",
   "metadata": {},
   "outputs": [
    {
     "name": "stdout",
     "output_type": "stream",
     "text": [
      "<p>交通银行股份有限公司（Bank of Communications Co., Ltd.）成立于1908年，是中国历史最为悠久的银行之一。1987年4月1日，该行重组后重新开业，标志着中国首间全国性的国有股份制商业银行的诞生，其总部位于上海。交通银行在2005年6月于香港联合交易所上市，随后在2007年5月在上海证券交易所上市，并在2023年被纳入全球系统重要性银行之列。根据《银行家》杂志的排名，以一级资本计，交通银行在全球银行中排名第9位。</p>\n",
      "<p>交通银行致力于成为具有特色优势的世界一流银行集团，强调绿色经营理念，专注于普惠金融、贸易金融、科技金融、财富金融四大业务特色，不断提升客户经营、科技引领、风险管理、协同作战、资源配置等方面的专业能力。银行通过数字化转型和强化“上海主场”建设来推动高质量发展。它拥有广泛的线上线下服务渠道，包括手机银行、网上银行以及在中国境内的2800多家网点和境外23家分支机构，为260多万公司客户和近1.92亿零售客户提供存款、贷款、供应链金融、国际结算、投资银行、资产管理、财富管理等全面金融服务。此外，交通银行还通过子公司涉足金融租赁、基金、理财、信托、保险等多个金融领域。</p>\n",
      "<p>2022年度，面对复杂的国内外经济形势，交通银行积极响应国家政策，支持疫情防控和经济发展，加强普惠金融、科技金融和财富金融等业务。其中，普惠型小微企业贷款和个人消费贷款显著增长，科技金融授信客户和战略性新兴产业贷款亦实现大幅上升，同时，财富管理服务也得到了进一步强化，满足了更广泛客户的财富管理需求。</p>\n",
      "<p>银行高管团队由经验丰富的专业人士组成，以董事长任德奇为首，管理团队涵盖了行长、副行长、首席信息官、执行董事、非执行董事、独立非执行董事以及监事等关键职位，体现了多元化的领导结构和专业背景。</p>\n",
      "<p>从以上信息看，交通银行作为一家历史悠久且具有国际影响力的金融机构，不仅在国内金融市场扮演着重要角色，在支持实体经济、促进产业升级、深化金融服务方面也展现出了积极主动的姿态。特别是在金融科技应用、普惠金融发展、国际化布局等方面，交通银行的策略与行动与中国乃至全球经济发展的趋势相契合，展现了其作为大型银行的责任感与前瞻视野。随着数字化转型的推进和对绿色金融的重视，交通银行有望在全球金融体系中扮演更加重要的角色，并持续为股东、客户和社会创造价值。</p>\n"
     ]
    }
   ],
   "source": [
    "import markdown\n",
    " \n",
    "# 读取Markdown文件内容\n",
    "with open('output.md', 'r', ) as f:\n",
    "    markdown_text = f.read()\n",
    " \n",
    "# 将Markdown转换为HTML\n",
    "html = markdown.markdown(markdown_text)\n",
    " \n",
    "# 打印HTML内容\n",
    "print(html)\n",
    " \n",
    "# 如果要将HTML内容写入文件\n",
    "with open('example.html', 'w', encoding='utf-8') as f:\n",
    "    f.write(html)"
   ]
  },
  {
   "cell_type": "code",
   "execution_count": null,
   "id": "a41b630f-16cd-4a97-8227-0a829253b00b",
   "metadata": {},
   "outputs": [],
   "source": []
  },
  {
   "cell_type": "code",
   "execution_count": null,
   "id": "95336c32-3a8c-4202-837c-6f34e5a8ebe1",
   "metadata": {},
   "outputs": [],
   "source": []
  }
 ],
 "metadata": {
  "kernelspec": {
   "display_name": "Python 3 (ipykernel)",
   "language": "python",
   "name": "python3"
  },
  "language_info": {
   "codemirror_mode": {
    "name": "ipython",
    "version": 3
   },
   "file_extension": ".py",
   "mimetype": "text/x-python",
   "name": "python",
   "nbconvert_exporter": "python",
   "pygments_lexer": "ipython3",
   "version": "3.11.7"
  },
  "widgets": {
   "application/vnd.jupyter.widget-state+json": {
    "state": {},
    "version_major": 2,
    "version_minor": 0
   }
  }
 },
 "nbformat": 4,
 "nbformat_minor": 5
}
