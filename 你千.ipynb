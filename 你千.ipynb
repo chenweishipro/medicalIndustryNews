{
 "cells": [
  {
   "cell_type": "code",
   "execution_count": 5,
   "id": "c3de1a8a-2fb6-45c6-9295-2b128373eb6c",
   "metadata": {},
   "outputs": [],
   "source": [
    "import requests\n",
    "import os, re\n",
    "from openai import OpenAI"
   ]
  },
  {
   "cell_type": "code",
   "execution_count": 6,
   "id": "2840d9cb-8af9-4d1b-9105-acd4870bf522",
   "metadata": {},
   "outputs": [],
   "source": [
    "url = 'https://www.menet.com.cn/info/202409/202409050941374137_148059.shtml'"
   ]
  },
  {
   "cell_type": "code",
   "execution_count": 7,
   "id": "ef4885a2-f9cd-4263-8046-26858c860a24",
   "metadata": {},
   "outputs": [],
   "source": [
    "def summarize(url):\n",
    "    context = requests.get('https://r.jina.ai/'+url).text\n",
    "    url_pattern = re.compile(r'\\bhttps?:\\/\\/[^\\s/$.?#].[^\\s]*\\b')  \n",
    "    cleaned_text = url_pattern.sub('', context)\n",
    "    context = cleaned_text[:6000] if len(cleaned_text)>6000  else cleaned_text\n",
    "    context = \"请详尽总结以下内容，并发表你的观点\\n\"+context.replace(\"\\n\",\"\")[:6000]\n",
    "    client = OpenAI(\n",
    "    api_key='sk-69c9bf69fa2b4d2985834d6dc17c0790', # 如何获取API Key：https://help.aliyun.com/zh/model-studio/developer-reference/get-api-key\n",
    "    base_url=\"https://dashscope.aliyuncs.com/compatible-mode/v1\"\n",
    "    )\n",
    "    completion = client.chat.completions.create(\n",
    "        model=\"qwen-max\", # 更多模型请参见模型列表文档。\n",
    "        messages=[{\"role\": \"user\", \"content\": context}]\n",
    "    )\n",
    "    # print(completion.choices[0].message.content)\n",
    "    with open('output.md', 'w') as f:  \n",
    "        # 使用 print 函数，将输出重定向到文件  \n",
    "        # print(completion.choices[0].message.content, file=f)  \n",
    "        \n",
    "    return completion.choices[0].message.content"
   ]
  },
  {
   "cell_type": "code",
   "execution_count": 8,
   "id": "091e8523-d21a-4dd6-9f17-54fd602aae2b",
   "metadata": {},
   "outputs": [
    {
     "name": "stdout",
     "output_type": "stream",
     "text": [
      "根据米内网发布的最新数据，2024年第一季度，中国零售药店终端（涵盖城市实体药店和网上药店）的中成药市场表现强劲，总销售额超过了390亿元人民币，显示出中成药市场的蓬勃增长。该报告特别强调了以下几个关键点：\n",
      "\n",
      "1. **销售额破亿的中成药品种数量**：共有63个中成药品种销售额突破1亿元大关，这些产品主要集中在呼吸系统治疗领域，反映出市场对这类药物的高需求，可能与季节性呼吸道疾病流行、公众健康意识提升及中成药在治疗此类疾病方面的独特优势有关。\n",
      "\n",
      "2. **总销售额与领头品种**：这63个品种的总销售额超过160亿元，其中3个品种的销售额更是超过10亿元，成为市场上的领头羊。这表明尽管市场竞争激烈，少数几个品牌或产品依然能够凭借其疗效、品牌影响力或市场策略占据显著市场份额。\n",
      "\n",
      "3. **增长率亮点**：在增长率方面，有9个中成药品种实现了超过50%的增长，其中2个品种的销售额更是惊人地增长了100%以上。这显示出中成药市场不仅规模庞大，而且部分产品正经历着快速的成长期，可能受益于技术创新、市场拓展或是消费者偏好的变化。\n",
      "\n",
      "4. **独家品种的重要性**：在所有销售额过亿的中成药中，有34个属于独家品种或独家剂型，占到总数的一半以上。云南白药凭借3个独家品种领先，而扬子江、天士力、济川、华润、广药、以岭等企业各有2个品种上榜，说明独家品种在市场竞争中具有明显优势，能够为企业带来更高的利润空间和品牌辨识度。\n",
      "\n",
      "### 个人观点\n",
      "\n",
      "这一数据揭示了中成药市场在中国的蓬勃发展态势，尤其是在零售药店终端，不仅市场规模持续扩大，而且增长速度令人瞩目。独家品种的突出表现，强调了研发创新和知识产权保护对于医药企业的重要性，它们是推动企业增长和市场竞争力的关键因素。此外，呼吸系统类中成药的热销，提示行业应继续关注并满足特定健康需求，同时也反映出公众对结合传统中医理论与现代医疗需求的中成药的认可与信赖。\n",
      "\n",
      "然而，随着市场的发展，监管机构和企业也需加强对中成药质量控制、临床效果验证及安全性评估的重视，确保消费者能够获得既有效又安全的产品。同时，面对激烈的市场竞争，企业应不断优化产品结构，加强品牌建设，并积极探索数字化营销等新渠道，以维持和增强市场地位。\n"
     ]
    }
   ],
   "source": [
    "content = summarize(url)"
   ]
  },
  {
   "cell_type": "code",
   "execution_count": 17,
   "id": "1ca3b89e-d81b-4e95-9473-2ddeb382c4c4",
   "metadata": {},
   "outputs": [
    {
     "data": {
      "text/plain": [
       "'根据米内网发布的最新数据，2024年第一季度，中国零售药店终端（涵盖城市实体药店和网上药店）的中成药市场表现强劲，总销售额超过了390亿元人民币，显示出中成药市场的蓬勃增长。该报告特别强调了以下几个关键点：\\n\\n1. **销售额破亿的中成药品种数量**：共有63个中成药品种销售额突破1亿元大关，这些产品主要集中在呼吸系统治疗领域，反映出市场对这类药物的高需求，可能与季节性呼吸道疾病流行、公众健康意识提升及中成药在治疗此类疾病方面的独特优势有关。\\n\\n2. **总销售额与领头品种**：这63个品种的总销售额超过160亿元，其中3个品种的销售额更是超过10亿元，成为市场上的领头羊。这表明尽管市场竞争激烈，少数几个品牌或产品依然能够凭借其疗效、品牌影响力或市场策略占据显著市场份额。\\n\\n3. **增长率亮点**：在增长率方面，有9个中成药品种实现了超过50%的增长，其中2个品种的销售额更是惊人地增长了100%以上。这显示出中成药市场不仅规模庞大，而且部分产品正经历着快速的成长期，可能受益于技术创新、市场拓展或是消费者偏好的变化。\\n\\n4. **独家品种的重要性**：在所有销售额过亿的中成药中，有34个属于独家品种或独家剂型，占到总数的一半以上。云南白药凭借3个独家品种领先，而扬子江、天士力、济川、华润、广药、以岭等企业各有2个品种上榜，说明独家品种在市场竞争中具有明显优势，能够为企业带来更高的利润空间和品牌辨识度。\\n\\n### 个人观点\\n\\n这一数据揭示了中成药市场在中国的蓬勃发展态势，尤其是在零售药店终端，不仅市场规模持续扩大，而且增长速度令人瞩目。独家品种的突出表现，强调了研发创新和知识产权保护对于医药企业的重要性，它们是推动企业增长和市场竞争力的关键因素。此外，呼吸系统类中成药的热销，提示行业应继续关注并满足特定健康需求，同时也反映出公众对结合传统中医理论与现代医疗需求的中成药的认可与信赖。\\n\\n然而，随着市场的发展，监管机构和企业也需加强对中成药质量控制、临床效果验证及安全性评估的重视，确保消费者能够获得既有效又安全的产品。同时，面对激烈的市场竞争，企业应不断优化产品结构，加强品牌建设，并积极探索数字化营销等新渠道，以维持和增强市场地位。'"
      ]
     },
     "execution_count": 17,
     "metadata": {},
     "output_type": "execute_result"
    }
   ],
   "source": [
    "content"
   ]
  },
  {
   "cell_type": "code",
   "execution_count": 10,
   "id": "d2f4ef41-f83a-4465-8968-560b48e60c9f",
   "metadata": {},
   "outputs": [
    {
     "name": "stdout",
     "output_type": "stream",
     "text": [
      "<p>本文报道了中国零售药店终端中成药市场在2024年第一季度的强劲表现，重点分析了销售额、增长率以及独家品种的突出成绩，并列举了几家领头的制药企业。以下是内容的详尽总结：</p>\n",
      "<p><strong>市场概况：</strong>\n",
      "- 2024年第一季度，中国零售药店终端（包括城市实体药店和网上药店）中成药销售额超过390亿元，显示出市场的庞大需求。\n",
      "- 在这些中成药中，有63个品种销售额超过1亿元，主要集中在呼吸系统治疗领域。\n",
      "- 这些中成药的总销售额超过160亿元，其中3个品种销售额超过10亿元，成为市场的领头羊。</p>\n",
      "<p><strong>增长亮点：</strong>\n",
      "- 从增长率来看，有9个中成药的销售额增长超过50%，其中有2个品种的增长率甚至超过100%。\n",
      "- 34个品种属于独家品种（含独家剂型），说明独特性和专利保护对市场份额的提升起到关键作用。云南白药以拥有3个独家品种领先，而扬子江、天士力、济川等企业也各有2个品种入列。</p>\n",
      "<p><strong>具体品种表现：</strong>\n",
      "- 阿胶、安宫牛黄丸、感冒灵颗粒为销售额超过10亿元的大品种，显示了传统中药的持续受欢迎。\n",
      "- 潞党参口服液（山西正来制药）和穿心莲内酯滴丸（天士力医药）的增长率翻倍，体现了消费者对特定疗效中成药的需求增长。\n",
      "- 扬子江药业的苏黄止咳胶囊和蓝芩口服液增长显著，不仅反映了独家品种的市场优势，也彰显了企业在呼吸系统疾病用药领域的强劲竞争力。</p>\n",
      "<p><strong>企业表现：</strong>\n",
      "- 扬子江、天士力、济川等企业在中成药市场上表现出色，拥有多个独家品种且销售额增长迅速，展现了其在产品研发和市场推广方面的实力。\n",
      "- 云南白药凭借其系列产品的稳定增长，巩固了其在骨骼肌肉系统中成药领域的市场地位。</p>\n",
      "<p><strong>总结观点：</strong>\n",
      "从以上内容可以看出，中国中成药市场在零售药店终端持续展现出强劲的增长势头，尤其是在独家品种方面，显示出消费者对高质量、有独特疗效中成药的偏好。扬子江、天士力、济川等企业的优异表现，不仅得益于其独家产品的市场竞争力，也与企业对市场需求的精准把握和有效的市场策略紧密相关。此外，呼吸系统领域中成药的热销，可能与近年来公众健康意识提升、对自然疗法和增强免疫力需求增加有关。未来，随着中医药政策的支持和消费者健康观念的变化，中成药市场有望继续保持增长态势，特别是那些具有独家配方和明确临床效果的产品将更受市场欢迎。</p>\n"
     ]
    }
   ],
   "source": [
    "import markdown\n",
    " \n",
    "# 读取Markdown文件内容\n",
    "with open('output.md', 'r', ) as f:\n",
    "    markdown_text = f.read()\n",
    " \n",
    "# 将Markdown转换为HTML\n",
    "html = markdown.markdown(markdown_text)\n",
    " \n",
    "# 打印HTML内容\n",
    "print(html)\n",
    " \n",
    "# 如果要将HTML内容写入文件\n",
    "with open('example.html', 'w', encoding='utf-8') as f:\n",
    "    f.write(html)"
   ]
  },
  {
   "cell_type": "code",
   "execution_count": null,
   "id": "a41b630f-16cd-4a97-8227-0a829253b00b",
   "metadata": {},
   "outputs": [],
   "source": []
  },
  {
   "cell_type": "code",
   "execution_count": null,
   "id": "95336c32-3a8c-4202-837c-6f34e5a8ebe1",
   "metadata": {},
   "outputs": [],
   "source": []
  }
 ],
 "metadata": {
  "kernelspec": {
   "display_name": "Python 3 (ipykernel)",
   "language": "python",
   "name": "python3"
  },
  "language_info": {
   "codemirror_mode": {
    "name": "ipython",
    "version": 3
   },
   "file_extension": ".py",
   "mimetype": "text/x-python",
   "name": "python",
   "nbconvert_exporter": "python",
   "pygments_lexer": "ipython3",
   "version": "3.11.7"
  },
  "widgets": {
   "application/vnd.jupyter.widget-state+json": {
    "state": {},
    "version_major": 2,
    "version_minor": 0
   }
  }
 },
 "nbformat": 4,
 "nbformat_minor": 5
}
