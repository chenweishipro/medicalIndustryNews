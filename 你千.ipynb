{
 "cells": [
  {
   "cell_type": "code",
   "execution_count": 103,
   "id": "c3de1a8a-2fb6-45c6-9295-2b128373eb6c",
   "metadata": {},
   "outputs": [],
   "source": [
    "import requests\n",
    "import os, re\n",
    "from openai import OpenAI"
   ]
  },
  {
   "cell_type": "code",
   "execution_count": 159,
   "id": "2840d9cb-8af9-4d1b-9105-acd4870bf522",
   "metadata": {},
   "outputs": [],
   "source": [
    "url = 'https://www.menet.com.cn/info/202409/202409051027242724_148062.shtml'"
   ]
  },
  {
   "cell_type": "code",
   "execution_count": 129,
   "id": "54a49c7a-02b8-47c4-8880-e1452cfd98dd",
   "metadata": {},
   "outputs": [],
   "source": [
    "r = requests.get('https://r.jina.ai/'+url)"
   ]
  },
  {
   "cell_type": "code",
   "execution_count": 130,
   "id": "56aa988c-ea16-41f0-8fe4-b41c18ab6479",
   "metadata": {},
   "outputs": [],
   "source": [
    "context = r.text"
   ]
  },
  {
   "cell_type": "code",
   "execution_count": 131,
   "id": "b9d3c532-4c28-4a25-9a02-891da7b5d768",
   "metadata": {},
   "outputs": [],
   "source": [
    "url_pattern = re.compile(r'\\bhttps?:\\/\\/[^\\s/$.?#].[^\\s]*\\b')  "
   ]
  },
  {
   "cell_type": "code",
   "execution_count": 132,
   "id": "1ae34b6d-5a8a-4863-adcc-5e5ced66ee28",
   "metadata": {},
   "outputs": [],
   "source": [
    "cleaned_text = url_pattern.sub('', context)  "
   ]
  },
  {
   "cell_type": "code",
   "execution_count": 133,
   "id": "76572413-b724-4637-b453-de83d58e0484",
   "metadata": {},
   "outputs": [],
   "source": [
    "context = cleaned_text[:6000] if len(cleaned_text)>6000  else cleaned_text"
   ]
  },
  {
   "cell_type": "code",
   "execution_count": 149,
   "id": "d4ce7dcf-5f48-4fe8-8408-4d6ac5f9a6fd",
   "metadata": {},
   "outputs": [],
   "source": [
    "context = \"请详尽总结以下内容，并发表你的观点\\n\"+context.replace(\"\\n\",\"\")[:6000]"
   ]
  },
  {
   "cell_type": "code",
   "execution_count": 151,
   "id": "d5bda96d-8394-4b78-9e12-0b8deb76e012",
   "metadata": {},
   "outputs": [
    {
     "name": "stdout",
     "output_type": "stream",
     "text": [
      "**内容总结：**\n",
      "\n",
      "RuoYi是一个基于Spring Boot、Apache Shiro、MyBatis和Thymeleaf等技术构建的后台管理系统。该项目旨在帮助开发者聚焦业务逻辑，减少技术实现难度，以此达到节省开发成本、缩短项目周期并提升软件安全性的目标。RuoYi具备以下特点和组成部分：\n",
      "\n",
      "1. **生态系统与版本**：\n",
      "   - **核心项目**：包括RuoYi、RuoYi-Vue（前端分离版）、RuoYi-Cloud（微服务版）、RuoYi-App（移动端版）。\n",
      "   - **Spring Boot 3.x版本**：为适应最新技术栈，提供了RuoYi-SpringBoot3、RuoYi-Vue-SpringBoot3、RuoYi-Cloud-SpringBoot3版本。\n",
      "   - **扩展列表**：针对不同版本提供丰富的项目扩展，支持更多定制化需求。\n",
      "   \n",
      "2. **资源与支持**：\n",
      "   - 提供了全面的文档，涵盖从环境部署到功能组件使用的详细指南。\n",
      "   - 设有“我要提问”、“常见问题”和多个QQ交流群，便于用户获取帮助。\n",
      "   - 支持通过GitHub和Gitee访问源码，鼓励社区贡献与合作。\n",
      "   - 特别提到几个相关平台：JNPF低代码开发平台、MISBoot、IoTLink物联网业务支撑平台及ccflow工作流平台。\n",
      "\n",
      "3. **项目起源与模块拆分**：\n",
      "   - RuoYi起初是作者为满足个人需求，利用业余时间开发的后台管理系统。从3.0版本开始，进行了模块化拆分，原单体应用变更为多模块架构，同时保留RuoYi-fast作为单体应用的选项。\n",
      "   \n",
      "4. **在线体验与下载**：\n",
      "   - 访问官方网站和演示地址可直接体验系统。\n",
      "   - 提供代码下载链接，方便开发者快速搭建和学习。\n",
      "   \n",
      "5. **系统需求**：\n",
      "   - 要求使用JDK 1.8及以上版本，MySQL 5.7及以上，以及Maven 3.0或更高版本。\n",
      "\n",
      "**个人观点**：\n",
      "\n",
      "RuoYi项目的出现，对那些寻求高效、安全后台解决方案的开发者来说是个好消息。它不仅整合了成熟的开源技术栈，还通过模块化设计提高了系统的灵活性和可维护性，适应不同规模的项目需求。特别是对于中小企业或初创团队，RuoYi能够显著降低技术门槛，加速产品迭代速度。此外，活跃的技术交流社群和完善的文档资源，进一步增强了项目的吸引力，有助于构建一个健康发展的开源生态。不过，随着技术的不断进步，项目需要持续跟进最新技术趋势，比如Spring Boot 3.x的支持，以保持其竞争力。\n"
     ]
    }
   ],
   "source": [
    "client = OpenAI(\n",
    "    api_key='sk-69c9bf69fa2b4d2985834d6dc17c0790', # 如何获取API Key：https://help.aliyun.com/zh/model-studio/developer-reference/get-api-key\n",
    "    base_url=\"https://dashscope.aliyuncs.com/compatible-mode/v1\"\n",
    ")\n",
    "completion = client.chat.completions.create(\n",
    "    model=\"qwen-max\", # 更多模型请参见模型列表文档。\n",
    "    messages=[{\"role\": \"user\", \"content\": context}]\n",
    ")\n",
    "print(completion.choices[0].message.content)"
   ]
  },
  {
   "cell_type": "code",
   "execution_count": 175,
   "id": "ef4885a2-f9cd-4263-8046-26858c860a24",
   "metadata": {},
   "outputs": [],
   "source": [
    "def summarize(url):\n",
    "    context = requests.get('https://r.jina.ai/'+url).text\n",
    "    url_pattern = re.compile(r'\\bhttps?:\\/\\/[^\\s/$.?#].[^\\s]*\\b')  \n",
    "    cleaned_text = url_pattern.sub('', context)\n",
    "    context = cleaned_text[:6000] if len(cleaned_text)>6000  else cleaned_text\n",
    "    context = \"请详尽总结以下内容，并发表你的观点\\n\"+context.replace(\"\\n\",\"\")[:6000]\n",
    "    client = OpenAI(\n",
    "    api_key='sk-69c9bf69fa2b4d2985834d6dc17c0790', # 如何获取API Key：https://help.aliyun.com/zh/model-studio/developer-reference/get-api-key\n",
    "    base_url=\"https://dashscope.aliyuncs.com/compatible-mode/v1\"\n",
    "    )\n",
    "    completion = client.chat.completions.create(\n",
    "        model=\"qwen-max\", # 更多模型请参见模型列表文档。\n",
    "        messages=[{\"role\": \"user\", \"content\": context}]\n",
    "    )\n",
    "    print(completion.choices[0].message.content)\n",
    "    with open('output.md', 'w') as f:  \n",
    "        # 使用 print 函数，将输出重定向到文件  \n",
    "        print(completion.choices[0].message.content, file=f)  \n",
    "        \n",
    "    return completion.choices[0].message.content"
   ]
  },
  {
   "cell_type": "code",
   "execution_count": 176,
   "id": "dd33911a-6b12-4baf-bf84-8a618e3607fa",
   "metadata": {},
   "outputs": [
    {
     "name": "stdout",
     "output_type": "stream",
     "text": [
      "2024年上半年，A股医药行业呈现出积极的发展态势，492家医药企业的业绩统计显示，超过30%的企业实现了营收和净利润的双重增长。具体亮点如下：\n",
      "\n",
      "1. **营收表现**：\n",
      "   - **头部企业强势增长**：28家企业营收超过100亿元，较去年同期增加1家，其中上海医药继续作为千亿龙头领跑，而百济神州首次突破百亿营收大关。\n",
      "   - **创新高与新增长点**：恒瑞医药、国药股份等企业创下营收新高，显示出行业的强劲增长潜力。亚虹医药以惊人的103,398%增长率成为“增速王”。\n",
      "\n",
      "2. **净利润概况**：\n",
      "   - **迈瑞医疗的里程碑**：迈瑞医疗上半年净利润首破70亿元，同比增长17.37%，不仅巩固了其在行业内的领先地位，还宣布了大额现金分红计划，突显其财务健康和对股东的回馈。\n",
      "   - **十亿军团扩大**：同仁堂、华润双鹤等5家企业首次加入净利润超10亿的行列，显示出医药企业在盈利能力上的显著提升。\n",
      "\n",
      "3. **亏损与盈利并存**：虽然多数企业表现亮眼，但也存在88家企业出现亏损，说明行业内部竞争激烈且面临挑战。\n",
      "\n",
      "4. **高毛利率显现**：17家企业毛利率超过90%，反映出这些企业在成本控制和产品定价上的优势，如百利天恒、艾力斯等。\n",
      "\n",
      "5. **研发与战略动态**：\n",
      "   - **研发投入加大**：如上海医药上半年研发投入14.04亿元，同比增长15.26%，体现了企业对创新和研发的重视。\n",
      "   - **战略调整与行动方案**：多家企业如同仁堂、百济神州等发布“提质增效重回报”行动方案，旨在通过精细化管理和创新推动更高效的发展。\n",
      "\n",
      "**个人观点**：\n",
      "2024年上半年的医药行业成绩单展示了行业在复杂经济环境下依然保持的韧性与活力。一方面，领军企业的强劲表现和高增长企业的涌现，表明医药行业的创新能力和市场需求仍然旺盛；另一方面，部分企业的高额亏损提示行业内部竞争加剧，以及可能面临的市场与研发风险。总体而言，医药行业正处于快速发展与变革之中，企业需持续关注研发创新、优化产品结构、提高运营效率，以应对未来的不确定性。同时，投资者应关注那些能够持续创新、有效管理成本并具有良好成长性的企业。\n"
     ]
    },
    {
     "data": {
      "text/plain": [
       "'2024年上半年，A股医药行业呈现出积极的发展态势，492家医药企业的业绩统计显示，超过30%的企业实现了营收和净利润的双重增长。具体亮点如下：\\n\\n1. **营收表现**：\\n   - **头部企业强势增长**：28家企业营收超过100亿元，较去年同期增加1家，其中上海医药继续作为千亿龙头领跑，而百济神州首次突破百亿营收大关。\\n   - **创新高与新增长点**：恒瑞医药、国药股份等企业创下营收新高，显示出行业的强劲增长潜力。亚虹医药以惊人的103,398%增长率成为“增速王”。\\n\\n2. **净利润概况**：\\n   - **迈瑞医疗的里程碑**：迈瑞医疗上半年净利润首破70亿元，同比增长17.37%，不仅巩固了其在行业内的领先地位，还宣布了大额现金分红计划，突显其财务健康和对股东的回馈。\\n   - **十亿军团扩大**：同仁堂、华润双鹤等5家企业首次加入净利润超10亿的行列，显示出医药企业在盈利能力上的显著提升。\\n\\n3. **亏损与盈利并存**：虽然多数企业表现亮眼，但也存在88家企业出现亏损，说明行业内部竞争激烈且面临挑战。\\n\\n4. **高毛利率显现**：17家企业毛利率超过90%，反映出这些企业在成本控制和产品定价上的优势，如百利天恒、艾力斯等。\\n\\n5. **研发与战略动态**：\\n   - **研发投入加大**：如上海医药上半年研发投入14.04亿元，同比增长15.26%，体现了企业对创新和研发的重视。\\n   - **战略调整与行动方案**：多家企业如同仁堂、百济神州等发布“提质增效重回报”行动方案，旨在通过精细化管理和创新推动更高效的发展。\\n\\n**个人观点**：\\n2024年上半年的医药行业成绩单展示了行业在复杂经济环境下依然保持的韧性与活力。一方面，领军企业的强劲表现和高增长企业的涌现，表明医药行业的创新能力和市场需求仍然旺盛；另一方面，部分企业的高额亏损提示行业内部竞争加剧，以及可能面临的市场与研发风险。总体而言，医药行业正处于快速发展与变革之中，企业需持续关注研发创新、优化产品结构、提高运营效率，以应对未来的不确定性。同时，投资者应关注那些能够持续创新、有效管理成本并具有良好成长性的企业。'"
      ]
     },
     "execution_count": 176,
     "metadata": {},
     "output_type": "execute_result"
    }
   ],
   "source": [
    "summarize(url)"
   ]
  },
  {
   "cell_type": "code",
   "execution_count": null,
   "id": "d2f4ef41-f83a-4465-8968-560b48e60c9f",
   "metadata": {},
   "outputs": [],
   "source": []
  }
 ],
 "metadata": {
  "kernelspec": {
   "display_name": "Python 3 (ipykernel)",
   "language": "python",
   "name": "python3"
  },
  "language_info": {
   "codemirror_mode": {
    "name": "ipython",
    "version": 3
   },
   "file_extension": ".py",
   "mimetype": "text/x-python",
   "name": "python",
   "nbconvert_exporter": "python",
   "pygments_lexer": "ipython3",
   "version": "3.11.7"
  },
  "widgets": {
   "application/vnd.jupyter.widget-state+json": {
    "state": {},
    "version_major": 2,
    "version_minor": 0
   }
  }
 },
 "nbformat": 4,
 "nbformat_minor": 5
}
