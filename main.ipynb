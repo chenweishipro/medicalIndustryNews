{
 "cells": [
  {
   "cell_type": "code",
   "execution_count": 1,
   "id": "18e51bbc-42c8-4394-8522-5dd1cbbb9229",
   "metadata": {},
   "outputs": [],
   "source": [
    "import os, re, time, requests,json\n",
    "from bs4 import BeautifulSoup\n",
    "from openai import OpenAI\n",
    "from datetime import datetime\n",
    "from concurrent.futures import ThreadPoolExecutor, as_completed  \n",
    "import pandas as pd"
   ]
  },
  {
   "cell_type": "markdown",
   "id": "9f3442c3-8a65-4fe4-92da-01e8acedc295",
   "metadata": {},
   "source": [
    "# 爬取"
   ]
  },
  {
   "cell_type": "markdown",
   "id": "0cb18281-87a1-439b-9dec-1f5647abb602",
   "metadata": {},
   "source": [
    "## 爬取menet.com"
   ]
  },
  {
   "cell_type": "code",
   "execution_count": 5,
   "id": "ec91ffb1-359b-4d0c-956d-86db149f7df0",
   "metadata": {},
   "outputs": [],
   "source": [
    "host = 'https://www.menet.com.cn/news'"
   ]
  },
  {
   "cell_type": "code",
   "execution_count": 7,
   "id": "e516179a-ece2-4966-b603-a2c4ce62c5f0",
   "metadata": {},
   "outputs": [],
   "source": [
    "def get_list(host):\n",
    "    response = requests.post(host)\n",
    "    soup = BeautifulSoup(response.text, 'html.parser')\n",
    "    news_list = [_ for _ in soup.find_all('h3') if \"登录\" not in _.text]\n",
    "    return soup, news_list"
   ]
  },
  {
   "cell_type": "code",
   "execution_count": 9,
   "id": "171b09a7-7f06-4166-bd82-b4868325732f",
   "metadata": {},
   "outputs": [],
   "source": [
    "def get_info(item, host ='https://www.menet.com.cn'):\n",
    "    link, title, date = host + item.a['href'], item.text,  item.a['href'].split('/')[3][:8]\n",
    "    return {\n",
    "    \"title\": title,\n",
    "    'url': link,\n",
    "    'date':date\n",
    "}"
   ]
  },
  {
   "cell_type": "code",
   "execution_count": 11,
   "id": "fd59a248-54c1-4ee2-af10-de46462bba5a",
   "metadata": {},
   "outputs": [],
   "source": [
    "soup, news_list = get_list(host)"
   ]
  },
  {
   "cell_type": "code",
   "execution_count": 12,
   "id": "229e9ad2-1209-41b7-8731-f99896ed87dd",
   "metadata": {},
   "outputs": [],
   "source": [
    "result_menet = list(map(get_info, news_list))"
   ]
  },
  {
   "cell_type": "code",
   "execution_count": 15,
   "id": "0a5e46b7-2415-4a58-8170-3d174b1a1640",
   "metadata": {},
   "outputs": [],
   "source": [
    "for num, item in enumerate(soup.find_all(lambda tag: tag.has_attr('class') and len(tag)==1 and tag['class'] == [\"item_time\"])):\n",
    "    result_menet[num]['date'] = item.text"
   ]
  },
  {
   "cell_type": "code",
   "execution_count": 17,
   "id": "e2db7256-18af-4160-ae6d-70863aa08427",
   "metadata": {},
   "outputs": [],
   "source": [
    "for _ in result_menet: _['date'] = datetime.strptime(_['date'], '%Y-%m-%d').date()"
   ]
  },
  {
   "cell_type": "markdown",
   "id": "d5997d4d-72a5-40bc-86eb-f24718eb97a8",
   "metadata": {},
   "source": [
    "---"
   ]
  },
  {
   "cell_type": "markdown",
   "id": "3b065947-d0b6-4fa6-b94a-5237acc7bcbf",
   "metadata": {},
   "source": [
    "## 爬取pharnexcloud"
   ]
  },
  {
   "cell_type": "code",
   "execution_count": 21,
   "id": "a7daf37d-cce1-46fe-b162-5b9b937055e5",
   "metadata": {},
   "outputs": [],
   "source": [
    "r = requests.get('https://www.pharnexcloud.com/zixun')"
   ]
  },
  {
   "cell_type": "code",
   "execution_count": 22,
   "id": "bfc4fc9b-7334-440e-b700-9897a5b3ecae",
   "metadata": {},
   "outputs": [],
   "source": [
    "soup = BeautifulSoup(r.text, 'html.parser')"
   ]
  },
  {
   "cell_type": "code",
   "execution_count": 23,
   "id": "0e182927-4ba8-45e6-9c2b-b73d6b19aa1a",
   "metadata": {},
   "outputs": [],
   "source": [
    "dates = soup.find_all(lambda tag:tag.has_attr('class') and tag['class']==['date'])\n",
    "dates = [_.text for _ in dates]\n",
    "dates = [_ for _  in dates if _ != '']\n",
    "dates = [datetime.strptime(_.split(' ')[0], '%Y-%m-%d').date() for _ in dates]"
   ]
  },
  {
   "cell_type": "code",
   "execution_count": 24,
   "id": "561a474c-6386-4861-86db-9afffe55a38f",
   "metadata": {},
   "outputs": [],
   "source": [
    "result = soup.find_all('a', class_ = 'img-content')"
   ]
  },
  {
   "cell_type": "code",
   "execution_count": 25,
   "id": "3bcaaf95-3889-4e51-abdc-262f2731ebf1",
   "metadata": {},
   "outputs": [],
   "source": [
    "def query_tilte_url(item):\n",
    "    title = item.find_next()['alt']\n",
    "    url = 'https://www.pharnexcloud.com' + item['href']\n",
    "    return {\n",
    "        'title': title,\n",
    "        'url': url\n",
    "    }"
   ]
  },
  {
   "cell_type": "code",
   "execution_count": 31,
   "id": "ff61ae62-435f-4343-b0ad-f851d5b309c8",
   "metadata": {},
   "outputs": [],
   "source": [
    "result_pharnexcloud = list(map(query_tilte_url, result))"
   ]
  },
  {
   "cell_type": "code",
   "execution_count": 33,
   "id": "f35002a9-9c79-49b3-8d3d-e2d998d17894",
   "metadata": {},
   "outputs": [],
   "source": [
    "for no, item in enumerate(result_pharnexcloud): item['date'] = dates[no]"
   ]
  },
  {
   "cell_type": "markdown",
   "id": "dd24a11d-bfae-4006-b5fa-d4b2333f27c3",
   "metadata": {},
   "source": [
    "---"
   ]
  },
  {
   "cell_type": "markdown",
   "id": "561321f3-7611-402b-9980-572b8790dd2a",
   "metadata": {},
   "source": [
    "## 爬取bydrug"
   ]
  },
  {
   "cell_type": "code",
   "execution_count": 37,
   "id": "2b1a0cb2-08ab-4a5a-81fe-215ac8370c4c",
   "metadata": {},
   "outputs": [],
   "source": [
    "r = requests.get('https://bydrug.pharmcube.com/')"
   ]
  },
  {
   "cell_type": "code",
   "execution_count": 38,
   "id": "784c422e-7205-4ef2-a20f-a7ab2862d260",
   "metadata": {},
   "outputs": [],
   "source": [
    "soup = BeautifulSoup(r.text, 'html.parser')"
   ]
  },
  {
   "cell_type": "code",
   "execution_count": 39,
   "id": "1692b564-5c86-49a3-83ba-0fdc55fbc355",
   "metadata": {},
   "outputs": [],
   "source": [
    "datas = soup.find_all('div', class_= 'mf-flex mf-items-center')"
   ]
  },
  {
   "cell_type": "code",
   "execution_count": 43,
   "id": "09e4af5a-a295-4651-93be-da0a50eb1959",
   "metadata": {},
   "outputs": [],
   "source": [
    "datas = datas[1:]"
   ]
  },
  {
   "cell_type": "code",
   "execution_count": 45,
   "id": "fed21537-3c8a-4c26-aa5a-499083e1ff38",
   "metadata": {},
   "outputs": [],
   "source": [
    "item = datas[0]"
   ]
  },
  {
   "cell_type": "code",
   "execution_count": 47,
   "id": "55f8cd94-52a3-4657-a1c3-efd78b9bde15",
   "metadata": {},
   "outputs": [],
   "source": [
    "def get_info(item):\n",
    "    title = item.text.strip()\n",
    "    url = item.find('a')['href']\n",
    "    date = re.findall(r'\\d{4}-\\d{2}-\\d{2}', requests.get(url).text) [0]\n",
    "    date = datetime.strptime(date, '%Y-%m-%d').date()\n",
    "    return {\n",
    "        'title': title,\n",
    "        'url': url,\n",
    "        'date': date\n",
    "    }"
   ]
  },
  {
   "cell_type": "code",
   "execution_count": 49,
   "id": "0884d3a2-d23a-4406-a5fa-d6cdfcc7b454",
   "metadata": {},
   "outputs": [],
   "source": [
    "result_bydrug = [get_info(item) for _ in datas]"
   ]
  },
  {
   "cell_type": "code",
   "execution_count": 50,
   "id": "96fe984e-4e4f-4f0b-bbe5-8d1502fc2970",
   "metadata": {},
   "outputs": [],
   "source": [
    "results = [*result_menet, *result_pharnexcloud, *result_bydrug]"
   ]
  },
  {
   "cell_type": "markdown",
   "id": "bb9631df-e9b0-4be8-b45b-1517b7cb4b9d",
   "metadata": {},
   "source": [
    "---"
   ]
  },
  {
   "cell_type": "code",
   "execution_count": 52,
   "id": "74422c70-a6dd-4cf4-a371-d4d501a91fcd",
   "metadata": {},
   "outputs": [],
   "source": [
    "def get_yesterday():\n",
    "    import datetime  \n",
    "  \n",
    "    # 获取当前日期  \n",
    "    today = datetime.date.today()  \n",
    "      \n",
    "    # 获取昨天的日期  \n",
    "    yesterday = today - datetime.timedelta(days=1)  \n",
    "      \n",
    "    # 将昨天的日期格式化为“年-月-日”  \n",
    "    return yesterday"
   ]
  },
  {
   "cell_type": "code",
   "execution_count": 58,
   "id": "6f0e4844-d558-43f1-96fe-564b0411ed2c",
   "metadata": {},
   "outputs": [],
   "source": [
    "results = [_ for _ in results if _['date'] == get_yesterday()]"
   ]
  },
  {
   "cell_type": "code",
   "execution_count": 88,
   "id": "ab40c614-e850-4114-b2dd-e64a733fb6aa",
   "metadata": {},
   "outputs": [],
   "source": [
    "results = [_[-1] for _ in {_['title']: _ for _ in results}.items()]"
   ]
  },
  {
   "cell_type": "code",
   "execution_count": null,
   "id": "b9006c9d-9607-4d96-9dcd-f69b14f7b5df",
   "metadata": {},
   "outputs": [],
   "source": []
  },
  {
   "cell_type": "code",
   "execution_count": 35,
   "id": "6e112121-b886-447e-9ce7-886ca7154b26",
   "metadata": {},
   "outputs": [],
   "source": [
    "def summarize(url):\n",
    "    context = requests.get('https://r.jina.ai/'+url).text\n",
    "    url_pattern = re.compile(r'\\bhttps?:\\/\\/[^\\s/$.?#].[^\\s]*\\b')  \n",
    "    cleaned_text = url_pattern.sub('', context)\n",
    "    context = cleaned_text[:6000] if len(cleaned_text)>6000  else cleaned_text\n",
    "    context = \"请尽量简洁总结以下内容，并发表你的观点,文字不得超过150字\\n\"+context.replace(\"\\n\",\"\")[:6000]\n",
    "    client = OpenAI(\n",
    "    api_key='sk-69c9bf69fa2b4d2985834d6dc17c0790', # 如何获取API Key：https://help.aliyun.com/zh/model-studio/developer-reference/get-api-key\n",
    "    base_url=\"https://dashscope.aliyuncs.com/compatible-mode/v1\"\n",
    "    )\n",
    "    completion = client.chat.completions.create(\n",
    "        model=\"qwen-max\", # 更多模型请参见模型列表文档。\n",
    "        messages=[{\"role\": \"user\", \"content\": context}]\n",
    "    )\n",
    "    print(completion.choices[0].message.content)\n",
    "    \n",
    "    return completion.choices[0].message.content"
   ]
  },
  {
   "cell_type": "code",
   "execution_count": 36,
   "id": "c875a1b4-6ce9-4b2d-a5f4-d7c27e53ecfd",
   "metadata": {},
   "outputs": [
    {
     "name": "stdout",
     "output_type": "stream",
     "text": [
      "2024年8月，医药领域活跃，143款新药在国内获批临床，较上月增3款，抗肿瘤与免疫调节药物占主导。全球范围内，46款药物获得孤儿药等特殊资格认定，显示出药物研发加速的趋势。多家企业如拜耳、安进公布了积极的临床试验结果，涉及肿瘤、眼科及心力衰竭等领域。同时，创新药政策动态与研发进展TOP20亦反映出行业的蓬勃创新力。信达生物等企业的9款新药成功上市，标志着治疗方案的进一步丰富。药融云通过详实月报，助力行业跟踪全球新药动态。\n",
      "------------------------------------------------------------------------------------------------------------------------\n",
      "百济神州的新型PRMT5抑制剂BGB-58067片临床试验申请已获受理，该药物针对MTAP缺失的实体瘤，利用\"合成致死\"机制抗癌，预计2024年进入临床阶段。这标志着公司在抗癌药物研发领域的前沿探索又迈进一步，全球范围内已有10款同类药物进入临床。百济神州计划同年推进多个新分子实体的临床试验，彰显其在肿瘤治疗领域的广泛布局和强劲研发实力。\n",
      "------------------------------------------------------------------------------------------------------------------------\n",
      "扬子江药业的复方聚乙二醇电解质散（III）成功获批上市，预计市场潜力超过10亿元。该产品上市可能改变化学药品市场格局，为企业带来巨大商机。药融云提供多渠道服务，包括免费试用企业版、在线咨询、客服热线以及微信互动，助力行业人士深入了解药品研发动态与市场信息，同时推出生物医药个人版数据库，便于用户随时获取数据资源。\n",
      "------------------------------------------------------------------------------------------------------------------------\n",
      "科济药业2024中期业绩显示，公司虽净亏损收窄至3.52亿人民币，但收入增长，主要得益于其CAR-T产品赛恺泽®的销售。公司研发持续聚焦血液恶性肿瘤与实体瘤创新疗法，管线丰富，技术平台如CycloCAR、THANK-uCAR、LADAR及CARcelerate®等推动疗法优化与生产效率提升，旨在克服现有CAR-T疗法挑战，增强实体瘤疗效并降低成本。科济药业正通过自主研发和合作加速产品商业化进程，未来潜力巨大，值得关注其在细胞治疗领域的持续领跑能力。\n",
      "------------------------------------------------------------------------------------------------------------------------\n",
      "新芽基因宣布其碱基编辑药物GEN6050X成功完成首例杜氏肌营养不良（DMD）患者的人体给药，标志着基因编辑疗法在DMD治疗领域的临床应用迈出重要一步。该药物旨在通过一次性全身给药永久修复DMD基因，为患者提供潜在的治愈方案。新芽基因计划于2024年向美国和中国同步提交IND申请。此举展现了基因编辑技术，特别是碱基编辑器在精准医疗中的巨大潜力，为DMD这一严重遗传病的治疗带来新希望。\n",
      "------------------------------------------------------------------------------------------------------------------------\n",
      "立项难的原因主要包括四点：可仿制的好品种减少，市场竞争加剧导致投资回报率下降，企业立项缺乏前瞻战略，以及研发成本上升与利润缩水使得投资更加谨慎。企业需调整立项策略，重视战略引导，适时降低回报预期，灵活应对市场变化，以应对立项难度加大的挑战。\n",
      "------------------------------------------------------------------------------------------------------------------------\n",
      "立项难的原因主要包括四点：可仿制药物资源减少，好项目难寻；市场竞争加剧导致投资回报率下降；企业立项策略与公司战略脱节；研发成本上升与利润下降使投资更为谨慎。企业需调整立项策略，关注战略价值，适时降低回报预期，并谨慎评估项目，以适应当前医药研发环境的变化。\n",
      "------------------------------------------------------------------------------------------------------------------------\n",
      "2024年8月，医药领域活跃，共143款新药在国内获批临床，较上月增3款，抗肿瘤及免疫调节药物占主导。全球有46款药物获得孤儿药等资格认定，显示出对罕见病及重症治疗的加速推进。多家企业如信达生物、康龙化成的新药成功上市，聚焦于癌症、银屑病等治疗领域。此外，拜耳、辉瑞、礼来等国际制药巨头公布了多项三期临床的积极结果，涉及心力衰竭、2型糖尿病等多个疾病领域，反映出全球创新药研发的蓬勃态势及对公共卫生的重大贡献。药融云通过详实的数据报告，助力行业人士紧跟新药研发趋势。\n",
      "------------------------------------------------------------------------------------------------------------------------\n",
      "百济神州的新型PRMT5抑制剂BGB-58067片临床试验申请获监管机构受理，该药物针对MTAP缺失的肿瘤，可能成为治疗癌症的新策略。这是全球范围内第10款进入临床阶段的PRMT5抑制剂，展现出在非小细胞肺癌和消化道肿瘤等实体瘤治疗上的潜力。随着2024年计划推进10个新分子进入临床试验，百济神州持续强化其在抗癌药物研发领域的领导地位。\n",
      "------------------------------------------------------------------------------------------------------------------------\n",
      "扬子江药业的复方聚乙二醇电解质散（III）已获准上市，预计市场潜力超过10亿元。该消息反映了医药行业的创新进展和市场需求增长。对于患者而言，新产品的上市可能意味着更多治疗选择；对行业来说，是竞争与合作并存的信号，激励着其他企业加大研发力度。总体来看，这是医药市场积极发展的体现，值得持续关注其对行业格局的影响及实际应用效果。\n",
      "------------------------------------------------------------------------------------------------------------------------\n",
      "科济药业2024年中期业绩显示，公司虽净亏损收窄至约3.52亿元，但其CAR-T细胞疗法研发进展积极，特别是在血液恶性肿瘤和实体瘤治疗领域持续领先。核心产品赛恺泽®已在中国上市，用于治疗复发或难治性多发性骨髓瘤，商业化进程加速，并有多个创新CAR-T产品处于临床阶段。科济药业通过自主研发的多种技术平台，如CycloCAR、THANK-uCAR、LADAR及CARcelerate®，不断优化CAR-T疗法，旨在解决实体瘤治疗、安全性及成本等挑战，推动细胞疗法创新，前景值得期待。公司财务状况显示现金储备充足，支持其长期研发管线推进。\n",
      "------------------------------------------------------------------------------------------------------------------------\n",
      "新芽基因的GEN6050X注射液完成了杜氏肌营养不良症(DMD)首例人体给药，标志着基因编辑疗法在DMD治疗领域的临床应用迈出了重要一步。该药物旨在通过碱基编辑技术永久修复DMD基因，恢复抗肌萎缩蛋白的表达，为患者提供潜在的治愈方案。新芽基因计划于2024年向中美两国提交IND申请，此疗法的进展为DMD患者带来新的希望。\n",
      "------------------------------------------------------------------------------------------------------------------------\n"
     ]
    }
   ],
   "source": [
    "for _ in results:\n",
    "   try:\n",
    "        _['context'] = summarize(_['url'])\n",
    "      \n",
    "   except Exception as e:\n",
    "       print(e)\n",
    "   print('------'*20)"
   ]
  },
  {
   "cell_type": "code",
   "execution_count": null,
   "id": "1b1e4716-0616-4a67-8257-b92be818aabf",
   "metadata": {},
   "outputs": [],
   "source": [
    "results"
   ]
  },
  {
   "cell_type": "code",
   "execution_count": 37,
   "id": "87611f74-37de-407e-9c2d-080854b387bd",
   "metadata": {},
   "outputs": [],
   "source": [
    "def get_flag(item):\n",
    "    \n",
    "    title = item['title']\n",
    "    url = item['url']\n",
    "    date = item['date'].strftime('%Y-%m-%d')\n",
    "    context = item['context']\n",
    "    return f\"\"\"\n",
    "  <h4 style=\"color:black; margin-top:10px\">  \n",
    "    {title}  \n",
    "  </h4>  \n",
    "  \n",
    "  <span> {date}</span>  \n",
    "  <div  style=\"margin-bottom: 20px;\">  \n",
    "    <p>  \n",
    "      {context}  \n",
    "    </p>  \n",
    "    <span><a href={url}>👉查看更多内容</a></span>  \n",
    "  </div>  \n",
    "  <hr />  \n",
    "  \n",
    "  \n",
    "\"\"\".strip()"
   ]
  },
  {
   "cell_type": "code",
   "execution_count": 38,
   "id": "73299fd6-fc34-4021-b080-7b371d6bbdaf",
   "metadata": {},
   "outputs": [],
   "source": [
    "htmls = [get_flag(item) for item in results]"
   ]
  },
  {
   "cell_type": "code",
   "execution_count": 39,
   "id": "ccc11a3e-c509-469a-b482-4638938c2070",
   "metadata": {},
   "outputs": [],
   "source": [
    "htmls = \"\".join(htmls)"
   ]
  },
  {
   "cell_type": "code",
   "execution_count": null,
   "id": "ba7c62ff-b1a6-4fda-a184-6a6f654f1733",
   "metadata": {},
   "outputs": [],
   "source": []
  },
  {
   "cell_type": "code",
   "execution_count": null,
   "id": "104b1176-d573-48df-a3b1-210f84bb921e",
   "metadata": {},
   "outputs": [],
   "source": []
  },
  {
   "cell_type": "code",
   "execution_count": 40,
   "id": "302ce6ca-77be-4f47-9f9a-29630cedb4fd",
   "metadata": {},
   "outputs": [],
   "source": [
    "def get_token():\n",
    "    corp_id = 'ww9bffa3285527b3c8'\n",
    "    secret = '_uOqAIKUWnRgFIY23gItQ5fX4OeWRpYu1G86Gvk7EUw'\n",
    "    url = f'https://qyapi.weixin.qq.com/cgi-bin/gettoken?corpid={corp_id}&corpsecret={secret}'\n",
    "    return requests.get(url).json()['access_token']"
   ]
  },
  {
   "cell_type": "code",
   "execution_count": null,
   "id": "624bafc4-b425-4008-9bbf-b93b694d8027",
   "metadata": {},
   "outputs": [],
   "source": []
  },
  {
   "cell_type": "code",
   "execution_count": null,
   "id": "7aee5511-b83f-4bc6-b565-9d30cc802e0d",
   "metadata": {},
   "outputs": [],
   "source": []
  },
  {
   "cell_type": "code",
   "execution_count": 41,
   "id": "479b379b-6254-4732-93f9-f6b7e023b76f",
   "metadata": {},
   "outputs": [],
   "source": [
    "try:\n",
    "    html_text = f\"\"\"  \n",
    "<!DOCTYPE html>  \n",
    "<html lang=\"en\">  \n",
    "  \n",
    "<head>  \n",
    "  <meta charset=\"UTF-8\">  \n",
    "  <meta name=\"viewport\" content=\"width=device-width, initial-scale=1.0, maximum-scale=1.0, user-scalable=no\">  \n",
    "  <title>Document</title>  \n",
    "</head>  \n",
    "<style>  \n",
    "  /* 全局样式 */  \n",
    "  * {{  \n",
    "    margin: 0;  \n",
    "    padding: 0;  \n",
    "  }}  \n",
    "  \n",
    "  h4 {{  \n",
    "    text-align: center;  \n",
    "     text-shadow: 2px 2px 4px rgba(15, 47, 206, 0.5);\n",
    "  }}  \n",
    "  \n",
    "  em {{  \n",
    "    font-family: 'Franklin Gothic Medium', 'Arial Narrow', Arial, sans-serif;  \n",
    "    color: silver;  \n",
    "  }}  \n",
    "  \n",
    "  div > p {{  \n",
    "    width: 96%;  \n",
    "    padding: 2%;  \n",
    "  }}  \n",
    "  \n",
    "  a {{  \n",
    "    color: #1e90ff;  \n",
    "    text-decoration: none;  \n",
    "    transition: color 0.3s;  \n",
    "  }}  \n",
    "  \n",
    "  a:hover {{  \n",
    "    color: #ff6347;  \n",
    "  }}  \n",
    "  \n",
    "  p {{  \n",
    "    text-indent: 2em;  \n",
    "    text-align: justify;  \n",
    "  }}  \n",
    "\n",
    "  div {{\n",
    "      margin-bottom: 10px;\n",
    "  }}\n",
    "</style>  \n",
    "  \n",
    "<body>  \n",
    "  <h4 style=\"color:pink;\">  \n",
    "    {title}  \n",
    "  </h4>  \n",
    "  \n",
    "  <span> 🗓️ {date}</span>  \n",
    "  <div>  \n",
    "    <p>  \n",
    "      {context}  \n",
    "    </p>  \n",
    "    <span><a href={url}>👉查看更多内容</a></span>  \n",
    "  </div>  \n",
    "  <hr />  \n",
    "  \n",
    "</body>  \n",
    "  \n",
    "</html>  \n",
    "\"\"\"\n",
    "except:\n",
    "    pass"
   ]
  },
  {
   "cell_type": "code",
   "execution_count": 42,
   "id": "76b6aa42-f19a-4d56-8ebe-a5b5aa8d6fe1",
   "metadata": {},
   "outputs": [],
   "source": [
    "first = f\"\"\"  \n",
    "<!DOCTYPE html>  \n",
    "<html lang=\"en\">  \n",
    "  \n",
    "<head>  \n",
    "  <meta charset=\"UTF-8\">  \n",
    "  <meta name=\"viewport\" content=\"width=device-width, initial-scale=1.0, maximum-scale=1.0, user-scalable=no\">  \n",
    "  <title>Document</title>  \n",
    "</head>  \n",
    "<style>  \n",
    "  /* 全局样式 */  \n",
    "  * {{  \n",
    "    margin: 0;  \n",
    "    padding: 0;  \n",
    "  }}  \n",
    "  \n",
    "  h4 {{  \n",
    "    text-align: center;  \n",
    "  }}  \n",
    "  \n",
    "  em {{  \n",
    "    font-family: 'Franklin Gothic Medium', 'Arial Narrow', Arial, sans-serif;  \n",
    "    color: silver;  \n",
    "  }}  \n",
    "  \n",
    "  div > p {{  \n",
    "    width: 96%;  \n",
    "    padding: 2%;  \n",
    "  }}  \n",
    "  \n",
    "  a {{  \n",
    "    color: #1e90ff;  \n",
    "    text-decoration: none;  \n",
    "    transition: color 0.3s;  \n",
    "  }}  \n",
    "  \n",
    "  a:hover {{  \n",
    "    color: #ff6347;  \n",
    "  }}  \n",
    "  \n",
    "  p {{  \n",
    "    text-indent: 2em;  \n",
    "    text-align: justify;  \n",
    "  }}  \n",
    "</style>  \n",
    "  \n",
    "<body>  \n",
    "\"\"\".strip()"
   ]
  },
  {
   "cell_type": "code",
   "execution_count": 43,
   "id": "62a8143e-6ba8-4c61-89bd-a1ebfbbb03d8",
   "metadata": {},
   "outputs": [],
   "source": [
    "last = \"\"\"</body>  \n",
    "  \n",
    "</html>  \n",
    "\"\"\".strip()"
   ]
  },
  {
   "cell_type": "code",
   "execution_count": 44,
   "id": "47385036-5d29-48a3-b356-e548fa33e735",
   "metadata": {},
   "outputs": [],
   "source": [
    "html_text = first+htmls+last"
   ]
  },
  {
   "cell_type": "code",
   "execution_count": null,
   "id": "ad70982c-4c6c-4f7f-9637-1e902c953c13",
   "metadata": {},
   "outputs": [],
   "source": []
  },
  {
   "cell_type": "code",
   "execution_count": 45,
   "id": "e6638127-f9f4-42b1-80d0-06af706281e2",
   "metadata": {},
   "outputs": [],
   "source": [
    "html_text = html_text.replace('\\n', '')"
   ]
  },
  {
   "cell_type": "code",
   "execution_count": 46,
   "id": "2546aaf9-5adb-4346-866e-26c3368545c1",
   "metadata": {},
   "outputs": [],
   "source": [
    "data = {\n",
    "   \"touser\" : \"@all\",\n",
    "   \"toparty\" : \"PartyID1|PartyID2\",\n",
    "   \"totag\" : \"TagID1 | TagID2\",\n",
    "   \"msgtype\" : \"text\",\n",
    "   \"agentid\" : '1000002',\n",
    "   \"text\" : {\n",
    "       \"content\" : html_text\n",
    "   },\n",
    "   \"safe\":0,\n",
    "   \"enable_id_trans\": 0,\n",
    "   \"enable_duplicate_check\": 0,\n",
    "   \"duplicate_check_interval\": 1800\n",
    "}"
   ]
  },
  {
   "cell_type": "code",
   "execution_count": 47,
   "id": "ac8e9885-6a96-4b25-91cc-c549a74a5b6b",
   "metadata": {},
   "outputs": [],
   "source": [
    "from datetime import datetime"
   ]
  },
  {
   "cell_type": "code",
   "execution_count": 48,
   "id": "e10314b3-afda-40d6-b51b-515001f1fa31",
   "metadata": {},
   "outputs": [],
   "source": [
    "title  = datetime.now().strftime(\"%Y年%m月%d日\") + '医疗行业资讯'"
   ]
  },
  {
   "cell_type": "code",
   "execution_count": 49,
   "id": "d6ccc7f8-f974-4a3f-a816-2e233212a7b1",
   "metadata": {},
   "outputs": [],
   "source": [
    "data = {\n",
    "   \"touser\" : \"chenweishi|SuBei|liqian9|YuanGuangJi\", # 切换正式环境必须修改！\n",
    "   \n",
    "   \"msgtype\" : \"mpnews\",\n",
    "   \"agentid\" : 1000002,\n",
    "   \"mpnews\" : {\n",
    "       \"articles\":[\n",
    "           {\n",
    "               \"title\": title, \n",
    "               \"thumb_media_id\": \"2tNI-yo4L7-cQmsgW2drOBeFz51E_R5vHa_mdIdU2pBdFUEPklOjTTM_SevJplbmb4khjjhmEVh_kZDALSuo8aQ\",\n",
    "               \"author\": \"大倩倩\",\n",
    "               \n",
    "               \"content\": html_text,\n",
    "               \"digest\": \" \"\n",
    "            }\n",
    "       ]\n",
    "   },\n",
    "   \"safe\":0,\n",
    "   \"enable_id_trans\": 0,\n",
    "   \"enable_duplicate_check\": 0,\n",
    "   \"duplicate_check_interval\": 1800\n",
    "}\n"
   ]
  },
  {
   "cell_type": "code",
   "execution_count": null,
   "id": "a215a73c-43f9-42de-9f6d-5ff82ebce569",
   "metadata": {},
   "outputs": [],
   "source": []
  },
  {
   "cell_type": "code",
   "execution_count": 50,
   "id": "d38b0dbe-ce99-4fa9-8495-8ff5c5c38108",
   "metadata": {},
   "outputs": [
    {
     "data": {
      "text/plain": [
       "{'errcode': 0,\n",
       " 'errmsg': 'ok',\n",
       " 'msgid': 'mrVtVXE39it1tWVvd57npCY7Jv6hWamvZI0gnAIH5pUhD-Rprv4NR7WSlb6iHcbZJj1n6g1B7l8Bd49npUp8_A'}"
      ]
     },
     "execution_count": 50,
     "metadata": {},
     "output_type": "execute_result"
    }
   ],
   "source": [
    "requests.post(\"https://qyapi.weixin.qq.com/cgi-bin/message/send?access_token=\"+get_token(), data= json.dumps(data), ).json()"
   ]
  },
  {
   "cell_type": "code",
   "execution_count": null,
   "id": "093906de-4536-46f0-99c9-fbce3571e235",
   "metadata": {},
   "outputs": [],
   "source": []
  },
  {
   "cell_type": "code",
   "execution_count": null,
   "id": "51a4bf22-0aca-4ab4-b3d4-eade9dabe69b",
   "metadata": {},
   "outputs": [],
   "source": []
  },
  {
   "cell_type": "code",
   "execution_count": null,
   "id": "2545ee9e-0cc6-41e7-abe6-c096543fd196",
   "metadata": {},
   "outputs": [],
   "source": []
  },
  {
   "cell_type": "code",
   "execution_count": null,
   "id": "7f98e283-9437-4829-91f7-5a5cd950e2db",
   "metadata": {},
   "outputs": [],
   "source": []
  },
  {
   "cell_type": "code",
   "execution_count": null,
   "id": "432b9f61-fa3d-4d25-82fc-4a0fbb1a201c",
   "metadata": {},
   "outputs": [],
   "source": []
  }
 ],
 "metadata": {
  "kernelspec": {
   "display_name": "Python 3 (ipykernel)",
   "language": "python",
   "name": "python3"
  },
  "language_info": {
   "codemirror_mode": {
    "name": "ipython",
    "version": 3
   },
   "file_extension": ".py",
   "mimetype": "text/x-python",
   "name": "python",
   "nbconvert_exporter": "python",
   "pygments_lexer": "ipython3",
   "version": "3.11.7"
  },
  "widgets": {
   "application/vnd.jupyter.widget-state+json": {
    "state": {},
    "version_major": 2,
    "version_minor": 0
   }
  }
 },
 "nbformat": 4,
 "nbformat_minor": 5
}
