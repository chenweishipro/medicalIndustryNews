{
 "cells": [
  {
   "cell_type": "code",
   "execution_count": 3,
   "id": "60bc13ed-9a87-40ea-9c40-82caaf5a7f00",
   "metadata": {},
   "outputs": [],
   "source": [
    "import requests  \n",
    "import time  \n",
    "from datetime import datetime  "
   ]
  },
  {
   "cell_type": "code",
   "execution_count": 4,
   "id": "bf76669e-7ec6-4e61-8ce1-4427318887bf",
   "metadata": {},
   "outputs": [],
   "source": [
    "def send_message_to_wechat(webhook_url='https://qyapi.weixin.qq.com/cgi-bin/webhook/send?key=a0ad9b92-b9a5-43d3-a129-98c954ecb159' , message='好city啊！'):  \n",
    "    \"\"\"  \n",
    "    发送消息到企业微信机器人  \n",
    "    \"\"\"  \n",
    "    headers = {  \n",
    "        'Content-Type': 'application/json',  \n",
    "    }  \n",
    "    data = {  \n",
    "        'msgtype': 'text',  \n",
    "        'text': {  \n",
    "            'content': message,  \n",
    "        }  \n",
    "    }  \n",
    "    response = requests.post(webhook_url, json=data, headers=headers)  "
   ]
  },
  {
   "cell_type": "code",
   "execution_count": 5,
   "id": "b12609dc-8033-400c-a08b-249ee23497cd",
   "metadata": {},
   "outputs": [],
   "source": [
    "def send_markdown_to_wechat(msg='test', webhook_url='https://qyapi.weixin.qq.com/cgi-bin/webhook/send?key=a0ad9b92-b9a5-43d3-a129-98c954ecb159'):\n",
    "    headers = {  \n",
    "        'Content-Type': 'application/json',  \n",
    "    }\n",
    "\n",
    "    data = {\n",
    "        \"msgtype\": \"markdown\",\n",
    "        \"markdown\": {\n",
    "            \"content\": msg\n",
    "        }\n",
    "    }\n",
    "    response = requests.post(webhook_url, json=data, headers=headers)"
   ]
  },
  {
   "cell_type": "code",
   "execution_count": null,
   "id": "b0381b5d-116d-4e3f-a914-aacb87854a71",
   "metadata": {},
   "outputs": [],
   "source": []
  }
 ],
 "metadata": {
  "kernelspec": {
   "display_name": "Python 3 (ipykernel)",
   "language": "python",
   "name": "python3"
  },
  "language_info": {
   "codemirror_mode": {
    "name": "ipython",
    "version": 3
   },
   "file_extension": ".py",
   "mimetype": "text/x-python",
   "name": "python",
   "nbconvert_exporter": "python",
   "pygments_lexer": "ipython3",
   "version": "3.11.7"
  },
  "widgets": {
   "application/vnd.jupyter.widget-state+json": {
    "state": {},
    "version_major": 2,
    "version_minor": 0
   }
  }
 },
 "nbformat": 4,
 "nbformat_minor": 5
}
