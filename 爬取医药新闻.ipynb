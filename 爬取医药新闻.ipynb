{
 "cells": [
  {
   "cell_type": "code",
   "execution_count": 10,
   "id": "77b1f248-86b4-4471-93f1-aef4a7eabe6a",
   "metadata": {},
   "outputs": [],
   "source": [
    "import requests\n",
    "from bs4 import BeautifulSoup\n",
    "import os, re\n",
    "from openai import OpenAI\n",
    "import time  \n",
    "from datetime import datetime  "
   ]
  },
  {
   "cell_type": "markdown",
   "id": "bf05d15b-ba80-41b4-a098-1e69c6552cae",
   "metadata": {},
   "source": [
    "# 'https://menet.com.cn"
   ]
  },
  {
   "cell_type": "code",
   "execution_count": 13,
   "id": "44f276b7-bce6-4d1a-bc7e-6d6130122b46",
   "metadata": {},
   "outputs": [],
   "source": [
    "host ='https://www.menet.com.cn'"
   ]
  },
  {
   "cell_type": "code",
   "execution_count": 15,
   "id": "c9fbb3a6-c060-4f91-8395-72a2a0dcb129",
   "metadata": {},
   "outputs": [],
   "source": [
    "def get_list():\n",
    "    host ='https://www.menet.com.cn/news'\n",
    "    response = requests.post(host)\n",
    "    soup = BeautifulSoup(response.text, 'html.parser')\n",
    "    news_list = soup.find_all('h3')\n",
    "    return soup, news_list"
   ]
  },
  {
   "cell_type": "code",
   "execution_count": 17,
   "id": "532a6b72-17a5-453e-886a-ecb32002213c",
   "metadata": {},
   "outputs": [],
   "source": [
    "soup, news_list = get_list()"
   ]
  },
  {
   "cell_type": "code",
   "execution_count": 19,
   "id": "4696cc3b-5f85-4c24-816f-9e532a2482c1",
   "metadata": {},
   "outputs": [],
   "source": [
    "news_list = [_ for _ in news_list if \"登录\" not in _.text]"
   ]
  },
  {
   "cell_type": "code",
   "execution_count": 21,
   "id": "3f2d025b-71a9-4aa4-b9c6-a5ae16fb0581",
   "metadata": {},
   "outputs": [],
   "source": [
    "def get_info(item, host ='https://www.menet.com.cn'):\n",
    "    link = host + item.a['href']\n",
    "    title = item.text\n",
    "    date = item.a['href'].split('/')[3][:8]\n",
    "    return {\n",
    "    \"title\": title,\n",
    "    'url': link,\n",
    "    'date':date\n",
    "}"
   ]
  },
  {
   "cell_type": "code",
   "execution_count": 26,
   "id": "f1f599d6-e1dc-4ded-b8f5-454dff99216d",
   "metadata": {},
   "outputs": [
    {
     "ename": "SyntaxError",
     "evalue": "unmatched ')' (2504085509.py, line 1)",
     "output_type": "error",
     "traceback": [
      "\u001b[1;36m  Cell \u001b[1;32mIn[26], line 1\u001b[1;36m\u001b[0m\n\u001b[1;33m    result1 = get_info))\u001b[0m\n\u001b[1;37m                      ^\u001b[0m\n\u001b[1;31mSyntaxError\u001b[0m\u001b[1;31m:\u001b[0m unmatched ')'\n"
     ]
    }
   ],
   "source": [
    "result1 = get_info))"
   ]
  },
  {
   "cell_type": "code",
   "execution_count": 24,
   "id": "333d123f-ce72-43f8-81cf-995aeaffd12a",
   "metadata": {},
   "outputs": [
    {
     "ename": "NameError",
     "evalue": "name 'result1' is not defined",
     "output_type": "error",
     "traceback": [
      "\u001b[1;31m---------------------------------------------------------------------------\u001b[0m",
      "\u001b[1;31mNameError\u001b[0m                                 Traceback (most recent call last)",
      "Cell \u001b[1;32mIn[24], line 2\u001b[0m\n\u001b[0;32m      1\u001b[0m \u001b[38;5;28;01mfor\u001b[39;00m num, item \u001b[38;5;129;01min\u001b[39;00m \u001b[38;5;28menumerate\u001b[39m(soup\u001b[38;5;241m.\u001b[39mfind_all(\u001b[38;5;28;01mlambda\u001b[39;00m tag: tag\u001b[38;5;241m.\u001b[39mhas_attr(\u001b[38;5;124m'\u001b[39m\u001b[38;5;124mclass\u001b[39m\u001b[38;5;124m'\u001b[39m) \u001b[38;5;129;01mand\u001b[39;00m \u001b[38;5;28mlen\u001b[39m(tag)\u001b[38;5;241m==\u001b[39m\u001b[38;5;241m1\u001b[39m \u001b[38;5;129;01mand\u001b[39;00m tag[\u001b[38;5;124m'\u001b[39m\u001b[38;5;124mclass\u001b[39m\u001b[38;5;124m'\u001b[39m] \u001b[38;5;241m==\u001b[39m [\u001b[38;5;124m\"\u001b[39m\u001b[38;5;124mitem_time\u001b[39m\u001b[38;5;124m\"\u001b[39m])):\n\u001b[1;32m----> 2\u001b[0m     result1[num][\u001b[38;5;124m'\u001b[39m\u001b[38;5;124mdate\u001b[39m\u001b[38;5;124m'\u001b[39m] \u001b[38;5;241m=\u001b[39m item\u001b[38;5;241m.\u001b[39mtext\n",
      "\u001b[1;31mNameError\u001b[0m: name 'result1' is not defined"
     ]
    }
   ],
   "source": [
    "for num, item in enumerate(soup.find_all(lambda tag: tag.has_attr('class') and len(tag)==1 and tag['class'] == [\"item_time\"])):\n",
    "    result1[num]['date'] = item.text"
   ]
  },
  {
   "cell_type": "code",
   "execution_count": null,
   "id": "8f085c06-9995-4cb1-9d09-28ca31e139b6",
   "metadata": {},
   "outputs": [],
   "source": []
  },
  {
   "cell_type": "markdown",
   "id": "f4daa5d3-5499-4881-8b6c-59e91a9e3f55",
   "metadata": {},
   "source": [
    "# https://www.pharnexcloud.com/zixun"
   ]
  },
  {
   "cell_type": "code",
   "execution_count": 18,
   "id": "ddf53b70-1ac6-4a25-8110-7a49b0aba876",
   "metadata": {},
   "outputs": [],
   "source": [
    "r = requests.get('https://www.pharnexcloud.com/zixun')"
   ]
  },
  {
   "cell_type": "code",
   "execution_count": 19,
   "id": "d1ebba6c-fe16-456f-9e75-097e808a6c4c",
   "metadata": {},
   "outputs": [],
   "source": [
    "soup = BeautifulSoup(r.text, 'html.parser')"
   ]
  },
  {
   "cell_type": "code",
   "execution_count": 20,
   "id": "1299695a-ddd9-415a-a367-e676922de203",
   "metadata": {},
   "outputs": [],
   "source": [
    "dates = soup.find_all(lambda tag:tag.has_attr('class') and tag['class']==['date'])"
   ]
  },
  {
   "cell_type": "code",
   "execution_count": 21,
   "id": "7996cd9d-d46f-4f64-a2ac-cdad4d315a16",
   "metadata": {},
   "outputs": [],
   "source": []
  },
  {
   "cell_type": "code",
   "execution_count": 22,
   "id": "48d6ccce-d85a-4b4f-b8ef-e5fd0357f1b3",
   "metadata": {},
   "outputs": [],
   "source": [
    "result = soup.find_all('a', class_ = 'img-content')"
   ]
  },
  {
   "cell_type": "code",
   "execution_count": 28,
   "id": "f5771842-7db8-4ab8-b22e-4440d415a7bc",
   "metadata": {},
   "outputs": [],
   "source": [
    "def query_tilte_url(item):\n",
    "    title = item.find_next()['alt']\n",
    "    url = 'https://www.pharnexcloud.com' + item['href']\n",
    "    return {\n",
    "        'title': title,\n",
    "        'url': url\n",
    "    }"
   ]
  },
  {
   "cell_type": "code",
   "execution_count": 30,
   "id": "b323460c-c439-4f1b-9b51-f7e209b31ffa",
   "metadata": {},
   "outputs": [],
   "source": [
    "res = list(map(query_tilte_url, result))"
   ]
  },
  {
   "cell_type": "code",
   "execution_count": 32,
   "id": "589e63b5-f4cf-4ff5-98fa-7254a2caeff3",
   "metadata": {},
   "outputs": [],
   "source": [
    "for no, item in enumerate(res):\n",
    "    \n",
    "    item['date'] = dates[no]"
   ]
  },
  {
   "cell_type": "code",
   "execution_count": 34,
   "id": "ef54e783-8114-490c-9ec4-84508dfd5c31",
   "metadata": {},
   "outputs": [],
   "source": [
    "result2 = res"
   ]
  },
  {
   "cell_type": "markdown",
   "id": "db641522-6823-457c-a703-1b35fd071f5d",
   "metadata": {},
   "source": [
    "---"
   ]
  },
  {
   "cell_type": "markdown",
   "id": "f80bd62b-b271-437a-b610-259a36f5edc7",
   "metadata": {},
   "source": [
    "# https://bydrug.pharmcube.com/"
   ]
  },
  {
   "cell_type": "code",
   "execution_count": 8,
   "id": "abc1cc1c-74ed-4d3c-8a4c-ebaf5fe7320f",
   "metadata": {},
   "outputs": [],
   "source": [
    "r = requests.get('https://bydrug.pharmcube.com/')"
   ]
  },
  {
   "cell_type": "code",
   "execution_count": 9,
   "id": "4f842457-9616-4896-8109-28e284f0dfd8",
   "metadata": {},
   "outputs": [],
   "source": [
    "soup = BeautifulSoup(r.text, 'html.parser')"
   ]
  },
  {
   "cell_type": "code",
   "execution_count": 10,
   "id": "c0db912a-296f-4917-bf08-2f68b99d7190",
   "metadata": {},
   "outputs": [],
   "source": [
    "datas = soup.find_all('div', class_= 'mf-flex mf-items-center')"
   ]
  },
  {
   "cell_type": "code",
   "execution_count": 14,
   "id": "b102752e-8f6c-40a1-a069-2c5d158e0864",
   "metadata": {},
   "outputs": [],
   "source": [
    "def get_tilte_and_url(item):\n",
    "    title = item.text.strip()\n",
    "    url = item.a['href']\n",
    "    return {\n",
    "        'title': title,\n",
    "        'url': url\n",
    "    }"
   ]
  },
  {
   "cell_type": "code",
   "execution_count": 16,
   "id": "34cb1251-4754-4d8b-ad99-26124c07efeb",
   "metadata": {
    "scrolled": true
   },
   "outputs": [
    {
     "ename": "TypeError",
     "evalue": "'NoneType' object is not subscriptable",
     "output_type": "error",
     "traceback": [
      "\u001b[1;31m---------------------------------------------------------------------------\u001b[0m",
      "\u001b[1;31mTypeError\u001b[0m                                 Traceback (most recent call last)",
      "Cell \u001b[1;32mIn[16], line 1\u001b[0m\n\u001b[1;32m----> 1\u001b[0m res \u001b[38;5;241m=\u001b[39m \u001b[38;5;28mlist\u001b[39m(\u001b[38;5;28mmap\u001b[39m(get_tilte_and_url, datas))\n",
      "Cell \u001b[1;32mIn[14], line 3\u001b[0m, in \u001b[0;36mget_tilte_and_url\u001b[1;34m(item)\u001b[0m\n\u001b[0;32m      1\u001b[0m \u001b[38;5;28;01mdef\u001b[39;00m \u001b[38;5;21mget_tilte_and_url\u001b[39m(item):\n\u001b[0;32m      2\u001b[0m     title \u001b[38;5;241m=\u001b[39m item\u001b[38;5;241m.\u001b[39mtext\u001b[38;5;241m.\u001b[39mstrip()\n\u001b[1;32m----> 3\u001b[0m     url \u001b[38;5;241m=\u001b[39m item\u001b[38;5;241m.\u001b[39ma[\u001b[38;5;124m'\u001b[39m\u001b[38;5;124mhref\u001b[39m\u001b[38;5;124m'\u001b[39m]\n\u001b[0;32m      4\u001b[0m     \u001b[38;5;28;01mreturn\u001b[39;00m {\n\u001b[0;32m      5\u001b[0m         \u001b[38;5;124m'\u001b[39m\u001b[38;5;124mtitle\u001b[39m\u001b[38;5;124m'\u001b[39m: title,\n\u001b[0;32m      6\u001b[0m         \u001b[38;5;124m'\u001b[39m\u001b[38;5;124murl\u001b[39m\u001b[38;5;124m'\u001b[39m: url\n\u001b[0;32m      7\u001b[0m     }\n",
      "\u001b[1;31mTypeError\u001b[0m: 'NoneType' object is not subscriptable"
     ]
    }
   ],
   "source": [
    "res = list(map(get_tilte_and_url, datas))"
   ]
  },
  {
   "cell_type": "code",
   "execution_count": 50,
   "id": "78529b61-5cba-4382-8d86-4b9dad19ab38",
   "metadata": {},
   "outputs": [],
   "source": [
    "for no, _ in enumerate(res):\n",
    "    _['date'] = dates[no]"
   ]
  },
  {
   "cell_type": "code",
   "execution_count": 52,
   "id": "7db9fe5d-61a9-41d9-a871-57c70a80bdfa",
   "metadata": {},
   "outputs": [],
   "source": [
    "result3 = res"
   ]
  },
  {
   "cell_type": "code",
   "execution_count": 54,
   "id": "dea761ca-1d37-44ba-be2e-7c194abff7b6",
   "metadata": {},
   "outputs": [],
   "source": [
    "import pandas as pd"
   ]
  },
  {
   "cell_type": "code",
   "execution_count": 56,
   "id": "8e9ca65c-cf34-4391-a637-3e3929a976d6",
   "metadata": {},
   "outputs": [],
   "source": [
    "df = pd.DataFrame(result1+result2+result3)"
   ]
  },
  {
   "cell_type": "markdown",
   "id": "5bdc962e-84e8-419a-92a4-31be078eb1f1",
   "metadata": {},
   "source": [
    "---"
   ]
  },
  {
   "cell_type": "code",
   "execution_count": 60,
   "id": "64bf8e7f-bf10-4940-875f-b9d4b14a46ee",
   "metadata": {},
   "outputs": [],
   "source": [
    "# 用r.jina转换成ai友好格式，并用通义千问进行总结"
   ]
  },
  {
   "cell_type": "code",
   "execution_count": 66,
   "id": "9ebf6fb1-2d10-48db-b0d7-0f389f7c1c10",
   "metadata": {},
   "outputs": [],
   "source": [
    "def summarize(url):\n",
    "    context = requests.get('https://r.jina.ai/'+url).text\n",
    "    url_pattern = re.compile(r'\\bhttps?:\\/\\/[^\\s/$.?#].[^\\s]*\\b')  \n",
    "    cleaned_text = url_pattern.sub('', context)\n",
    "    context = cleaned_text[:6000] if len(cleaned_text)>6000  else cleaned_text\n",
    "    context = \"请尽量简洁总结以下内容，并发表你的观点,文字不得超过150字\\n\"+context.replace(\"\\n\",\"\")[:6000]\n",
    "    client = OpenAI(\n",
    "    api_key='sk-69c9bf69fa2b4d2985834d6dc17c0790', # 如何获取API Key：https://help.aliyun.com/zh/model-studio/developer-reference/get-api-key\n",
    "    base_url=\"https://dashscope.aliyuncs.com/compatible-mode/v1\"\n",
    "    )\n",
    "    completion = client.chat.completions.create(\n",
    "        model=\"qwen-max\", # 更多模型请参见模型列表文档。\n",
    "        messages=[{\"role\": \"user\", \"content\": context}]\n",
    "    )\n",
    "    print(completion.choices[0].message.content)\n",
    "    with open('output.md', 'w') as f:  \n",
    "        # 使用 print 函数，将输出重定向到文件  \n",
    "        print(completion.choices[0].message.content, file=f)  \n",
    "        \n",
    "    return completion.choices[0].message.content"
   ]
  },
  {
   "cell_type": "code",
   "execution_count": 68,
   "id": "db08393c-565c-40ee-9940-77c8f253419e",
   "metadata": {},
   "outputs": [
    {
     "data": {
      "text/html": [
       "<div>\n",
       "<style scoped>\n",
       "    .dataframe tbody tr th:only-of-type {\n",
       "        vertical-align: middle;\n",
       "    }\n",
       "\n",
       "    .dataframe tbody tr th {\n",
       "        vertical-align: top;\n",
       "    }\n",
       "\n",
       "    .dataframe thead th {\n",
       "        text-align: right;\n",
       "    }\n",
       "</style>\n",
       "<table border=\"1\" class=\"dataframe\">\n",
       "  <thead>\n",
       "    <tr style=\"text-align: right;\">\n",
       "      <th></th>\n",
       "      <th>title</th>\n",
       "      <th>url</th>\n",
       "      <th>date</th>\n",
       "    </tr>\n",
       "  </thead>\n",
       "  <tbody>\n",
       "    <tr>\n",
       "      <th>0</th>\n",
       "      <td>“数智引领 价值重构”——2024全国慢病管理零售论坛顺利召开</td>\n",
       "      <td>https://www.menet.com.cn/info/202409/202409091...</td>\n",
       "      <td>2024-09-09</td>\n",
       "    </tr>\n",
       "    <tr>\n",
       "      <th>1</th>\n",
       "      <td>山东新时代爆发了！拿下9个重磅品种，猛攻1100亿市场，11款1类新药、44个新品蓄力</td>\n",
       "      <td>https://www.menet.com.cn/info/202409/202409051...</td>\n",
       "      <td>2024-09-05</td>\n",
       "    </tr>\n",
       "    <tr>\n",
       "      <th>2</th>\n",
       "      <td>492只医药股上半年成绩单！迈瑞净利润首破70亿，5家晋身10亿军团，甘李、海思科……翻倍</td>\n",
       "      <td>https://www.menet.com.cn/info/202409/202409051...</td>\n",
       "      <td>2024-09-05</td>\n",
       "    </tr>\n",
       "    <tr>\n",
       "      <th>3</th>\n",
       "      <td>63个中成药厉害了！独家品种大涨133%，3个超10亿品种亮眼，扬子江、济川、天士力霸屏</td>\n",
       "      <td>https://www.menet.com.cn/info/202409/202409050...</td>\n",
       "      <td>2024-09-05</td>\n",
       "    </tr>\n",
       "    <tr>\n",
       "      <th>4</th>\n",
       "      <td>信立泰厉害了！12款1类新药曝光，猛攻1300亿市场，5款新药上市可期</td>\n",
       "      <td>https://www.menet.com.cn/info/202409/202409031...</td>\n",
       "      <td>2024-09-03</td>\n",
       "    </tr>\n",
       "    <tr>\n",
       "      <th>...</th>\n",
       "      <td>...</td>\n",
       "      <td>...</td>\n",
       "      <td>...</td>\n",
       "    </tr>\n",
       "    <tr>\n",
       "      <th>181</th>\n",
       "      <td>医药与健康护理行业周报：2024年1-7月医保统筹基金主要指标发布</td>\n",
       "      <td>https://bydrug.pharmcube.com/report/detail/b0a...</td>\n",
       "      <td>2024-09-09 10:51:50</td>\n",
       "    </tr>\n",
       "    <tr>\n",
       "      <th>182</th>\n",
       "      <td>医药行业周报：武田1类创新药拟纳入突破性治疗品种</td>\n",
       "      <td>https://bydrug.pharmcube.com/report/detail/bbd...</td>\n",
       "      <td>2024-09-09 10:41:53</td>\n",
       "    </tr>\n",
       "    <tr>\n",
       "      <th>183</th>\n",
       "      <td>生物医药行业周报：高值耗材集采进入密集执行期，建议关注相关优质企业份额提升机会</td>\n",
       "      <td>https://bydrug.pharmcube.com/report/detail/796...</td>\n",
       "      <td>2024-09-09 10:23:50</td>\n",
       "    </tr>\n",
       "    <tr>\n",
       "      <th>184</th>\n",
       "      <td>医药生物行业报告：半年报业绩整体稳健，分化中挖掘底部机会</td>\n",
       "      <td>https://bydrug.pharmcube.com/report/detail/ef3...</td>\n",
       "      <td>2024-09-09 10:02:16</td>\n",
       "    </tr>\n",
       "    <tr>\n",
       "      <th>185</th>\n",
       "      <td>医药行业周报：安进1类新药在华再获批临床</td>\n",
       "      <td>https://bydrug.pharmcube.com/report/detail/61a...</td>\n",
       "      <td>2024-09-06 11:43:15</td>\n",
       "    </tr>\n",
       "  </tbody>\n",
       "</table>\n",
       "<p>186 rows × 3 columns</p>\n",
       "</div>"
      ],
      "text/plain": [
       "                                             title  \\\n",
       "0                  “数智引领 价值重构”——2024全国慢病管理零售论坛顺利召开   \n",
       "1      山东新时代爆发了！拿下9个重磅品种，猛攻1100亿市场，11款1类新药、44个新品蓄力   \n",
       "2    492只医药股上半年成绩单！迈瑞净利润首破70亿，5家晋身10亿军团，甘李、海思科……翻倍   \n",
       "3     63个中成药厉害了！独家品种大涨133%，3个超10亿品种亮眼，扬子江、济川、天士力霸屏   \n",
       "4              信立泰厉害了！12款1类新药曝光，猛攻1300亿市场，5款新药上市可期   \n",
       "..                                             ...   \n",
       "181              医药与健康护理行业周报：2024年1-7月医保统筹基金主要指标发布   \n",
       "182                       医药行业周报：武田1类创新药拟纳入突破性治疗品种   \n",
       "183        生物医药行业周报：高值耗材集采进入密集执行期，建议关注相关优质企业份额提升机会   \n",
       "184                   医药生物行业报告：半年报业绩整体稳健，分化中挖掘底部机会   \n",
       "185                           医药行业周报：安进1类新药在华再获批临床   \n",
       "\n",
       "                                                   url                 date  \n",
       "0    https://www.menet.com.cn/info/202409/202409091...           2024-09-09  \n",
       "1    https://www.menet.com.cn/info/202409/202409051...           2024-09-05  \n",
       "2    https://www.menet.com.cn/info/202409/202409051...           2024-09-05  \n",
       "3    https://www.menet.com.cn/info/202409/202409050...           2024-09-05  \n",
       "4    https://www.menet.com.cn/info/202409/202409031...           2024-09-03  \n",
       "..                                                 ...                  ...  \n",
       "181  https://bydrug.pharmcube.com/report/detail/b0a...  2024-09-09 10:51:50  \n",
       "182  https://bydrug.pharmcube.com/report/detail/bbd...  2024-09-09 10:41:53  \n",
       "183  https://bydrug.pharmcube.com/report/detail/796...  2024-09-09 10:23:50  \n",
       "184  https://bydrug.pharmcube.com/report/detail/ef3...  2024-09-09 10:02:16  \n",
       "185  https://bydrug.pharmcube.com/report/detail/61a...  2024-09-06 11:43:15  \n",
       "\n",
       "[186 rows x 3 columns]"
      ]
     },
     "execution_count": 68,
     "metadata": {},
     "output_type": "execute_result"
    }
   ],
   "source": [
    "df"
   ]
  },
  {
   "cell_type": "code",
   "execution_count": 70,
   "id": "ac4db1b8-617a-49e0-bf92-96084909f126",
   "metadata": {},
   "outputs": [],
   "source": [
    "result = result1 + result2 + result3"
   ]
  },
  {
   "cell_type": "code",
   "execution_count": 72,
   "id": "d8e617f2-49b0-42db-a7f3-eba90649590f",
   "metadata": {},
   "outputs": [],
   "source": [
    "def get_and_send(item):\n",
    "    url = item['url']\n",
    "    title= item['title']\n",
    "    summary = summarize(url)\n",
    "    return summary"
   ]
  },
  {
   "cell_type": "code",
   "execution_count": 74,
   "id": "658aadb5-78ad-404e-95e2-3ac10b8ab284",
   "metadata": {},
   "outputs": [],
   "source": [
    "li = result = result1 + result2 + result3"
   ]
  },
  {
   "cell_type": "code",
   "execution_count": 76,
   "id": "93792063-cf78-4172-b9dc-208c04446b77",
   "metadata": {},
   "outputs": [
    {
     "data": {
      "text/plain": [
       "{'title': '63个中成药厉害了！独家品种大涨133%，3个超10亿品种亮眼，扬子江、济川、天士力霸屏',\n",
       " 'url': 'https://www.menet.com.cn/info/202409/202409050941374137_148059.shtml',\n",
       " 'date': '2024-09-05'}"
      ]
     },
     "execution_count": 76,
     "metadata": {},
     "output_type": "execute_result"
    }
   ],
   "source": [
    "li[3]"
   ]
  },
  {
   "cell_type": "code",
   "execution_count": 150,
   "id": "56dbe516-948a-4999-a6cf-97ccd6c5c2e2",
   "metadata": {},
   "outputs": [],
   "source": [
    "title, url, date = li[3].values()"
   ]
  },
  {
   "cell_type": "code",
   "execution_count": 140,
   "id": "79967a1c-6026-4793-b7c0-5628a6964964",
   "metadata": {},
   "outputs": [
    {
     "data": {
      "text/plain": [
       "'63个中成药厉害了！独家品种大涨133%，3个超10亿品种亮眼，扬子江、济川、天士力霸屏'"
      ]
     },
     "execution_count": 140,
     "metadata": {},
     "output_type": "execute_result"
    }
   ],
   "source": [
    "title"
   ]
  },
  {
   "cell_type": "code",
   "execution_count": 84,
   "id": "3a7eecf1-77c5-4191-9c1a-0bad5464782f",
   "metadata": {},
   "outputs": [
    {
     "data": {
      "text/plain": [
       "'https://www.menet.com.cn/info/202409/202409050941374137_148059.shtml'"
      ]
     },
     "execution_count": 84,
     "metadata": {},
     "output_type": "execute_result"
    }
   ],
   "source": [
    "url"
   ]
  },
  {
   "cell_type": "code",
   "execution_count": 86,
   "id": "8e3c217a-ea01-4416-969c-85ad3adbc89c",
   "metadata": {},
   "outputs": [
    {
     "data": {
      "text/plain": [
       "'2024-09-05'"
      ]
     },
     "execution_count": 86,
     "metadata": {},
     "output_type": "execute_result"
    }
   ],
   "source": [
    "date"
   ]
  },
  {
   "cell_type": "code",
   "execution_count": 411,
   "id": "0613ceed-73d3-4476-8995-b83cf9ddbc00",
   "metadata": {},
   "outputs": [],
   "source": [
    "l = li[:10]"
   ]
  },
  {
   "cell_type": "code",
   "execution_count": 168,
   "id": "f1db4f08-4815-45f7-b864-634ac20327b8",
   "metadata": {},
   "outputs": [
    {
     "name": "stdout",
     "output_type": "stream",
     "text": [
      "2024年Q1中国零售药店中成药市场强劲，销售额超390亿元，63个品种销售额破亿，主要集中在呼吸系统治疗。这些药品总销售额超160亿，其中3个品种销售额超10亿，增长迅猛，9个品种增长率超50%，2个品种增长率甚至达到133%。市场亮点还包括34个独家品种的突出表现，云南白药等企业成为领军者。此数据反映出中成药市场需求旺盛，独家品种优势显著，行业巨头表现抢眼。\n"
     ]
    }
   ],
   "source": [
    "summary = get_and_send(li[3])"
   ]
  },
  {
   "cell_type": "code",
   "execution_count": 457,
   "id": "97f2ff51-429b-42f8-a0a9-cdcd1c7011fb",
   "metadata": {},
   "outputs": [
    {
     "data": {
      "text/plain": [
       "[{'title': '“数智引领 价值重构”——2024全国慢病管理零售论坛顺利召开',\n",
       "  'url': 'https://www.menet.com.cn/info/202409/202409091619471947_148075.shtml',\n",
       "  'date': '2024-09-09'},\n",
       " {'title': '山东新时代爆发了！拿下9个重磅品种，猛攻1100亿市场，11款1类新药、44个新品蓄力',\n",
       "  'url': 'https://www.menet.com.cn/info/202409/20240905102904294_148064.shtml',\n",
       "  'date': '2024-09-05'},\n",
       " {'title': '492只医药股上半年成绩单！迈瑞净利润首破70亿，5家晋身10亿军团，甘李、海思科……翻倍',\n",
       "  'url': 'https://www.menet.com.cn/info/202409/202409051027242724_148062.shtml',\n",
       "  'date': '2024-09-05'},\n",
       " {'title': '63个中成药厉害了！独家品种大涨133%，3个超10亿品种亮眼，扬子江、济川、天士力霸屏',\n",
       "  'url': 'https://www.menet.com.cn/info/202409/202409050941374137_148059.shtml',\n",
       "  'date': '2024-09-05'},\n",
       " {'title': '信立泰厉害了！12款1类新药曝光，猛攻1300亿市场，5款新药上市可期',\n",
       "  'url': 'https://www.menet.com.cn/info/202409/20240903141804184_148053.shtml',\n",
       "  'date': '2024-09-03'},\n",
       " {'title': '“中药股王”发威！肝病用药狂卖26亿，14个独家中成药热销，8款重磅新药出击',\n",
       "  'url': 'https://www.menet.com.cn/info/202409/202409031416261626_148051.shtml',\n",
       "  'date': '2024-09-03'},\n",
       " {'title': '第十批集采24个品种备战！千亿市场齐鲁亮了，2大注射剂疯狂连涨，倍特、华海蓄力',\n",
       "  'url': 'https://www.menet.com.cn/info/202409/20240903141404144_148049.shtml',\n",
       "  'date': '2024-09-03'},\n",
       " {'title': '28款儿科中成药亮眼！葵花、健民、济川领跑实体药店，3大品牌网上药店翻倍',\n",
       "  'url': 'https://www.menet.com.cn/info/202409/202409031411121112_148047.shtml',\n",
       "  'date': '2024-09-03'},\n",
       " {'title': '翰森制药2024上半年营收大涨！净利润翻番！',\n",
       "  'url': 'https://www.menet.com.cn/info/202409/202409021433453345_148044.shtml',\n",
       "  'date': '2024-09-02'},\n",
       " {'title': '24个独家妇科中成药亮了！明星产品暴涨186%，千金、步长、恩威上榜，25款新药发力',\n",
       "  'url': 'https://www.menet.com.cn/info/202408/202408290928112811_148036.shtml',\n",
       "  'date': '2024-08-29'}]"
      ]
     },
     "execution_count": 457,
     "metadata": {},
     "output_type": "execute_result"
    }
   ],
   "source": [
    "l"
   ]
  },
  {
   "cell_type": "code",
   "execution_count": 459,
   "id": "bca2e80d-e839-4ec5-870a-520081c80a77",
   "metadata": {},
   "outputs": [
    {
     "name": "stdout",
     "output_type": "stream",
     "text": [
      "title “数智引领 价值重构”——2024全国慢病管理零售论坛顺利召开\n",
      "url https://www.menet.com.cn/info/202409/202409091619471947_148075.shtml\n",
      "date 2024-09-09\n"
     ]
    }
   ],
   "source": [
    "for k, v in l[0].items():\n",
    "    print(k, v)"
   ]
  },
  {
   "cell_type": "code",
   "execution_count": 616,
   "id": "10fd01a6-5195-4e2d-90ef-d770a0b382e5",
   "metadata": {},
   "outputs": [],
   "source": [
    "no = [str(_)+'.' for _ in range(1, 11)] "
   ]
  },
  {
   "cell_type": "code",
   "execution_count": 680,
   "id": "f629bffc-9092-4e18-9312-3ac8a9d5dfed",
   "metadata": {},
   "outputs": [],
   "source": [
    "li = [f\"[{_['title']}]({_['url']})\" for _ in l ]"
   ]
  },
  {
   "cell_type": "code",
   "execution_count": 682,
   "id": "1325e722-c243-4f15-ab21-1ccbafb7c45c",
   "metadata": {},
   "outputs": [],
   "source": [
    "li = [b[:1] + a+ b[1:] for a, b in zip(no, li)]"
   ]
  },
  {
   "cell_type": "code",
   "execution_count": 684,
   "id": "b27bfb92-1a72-4a0e-b0e5-abd44d6580c5",
   "metadata": {},
   "outputs": [
    {
     "data": {
      "text/plain": [
       "['[1.“数智引领 价值重构”——2024全国慢病管理零售论坛顺利召开](https://www.menet.com.cn/info/202409/202409091619471947_148075.shtml)',\n",
       " '[2.山东新时代爆发了！拿下9个重磅品种，猛攻1100亿市场，11款1类新药、44个新品蓄力](https://www.menet.com.cn/info/202409/20240905102904294_148064.shtml)',\n",
       " '[3.492只医药股上半年成绩单！迈瑞净利润首破70亿，5家晋身10亿军团，甘李、海思科……翻倍](https://www.menet.com.cn/info/202409/202409051027242724_148062.shtml)',\n",
       " '[4.63个中成药厉害了！独家品种大涨133%，3个超10亿品种亮眼，扬子江、济川、天士力霸屏](https://www.menet.com.cn/info/202409/202409050941374137_148059.shtml)',\n",
       " '[5.信立泰厉害了！12款1类新药曝光，猛攻1300亿市场，5款新药上市可期](https://www.menet.com.cn/info/202409/20240903141804184_148053.shtml)',\n",
       " '[6.“中药股王”发威！肝病用药狂卖26亿，14个独家中成药热销，8款重磅新药出击](https://www.menet.com.cn/info/202409/202409031416261626_148051.shtml)',\n",
       " '[7.第十批集采24个品种备战！千亿市场齐鲁亮了，2大注射剂疯狂连涨，倍特、华海蓄力](https://www.menet.com.cn/info/202409/20240903141404144_148049.shtml)',\n",
       " '[8.28款儿科中成药亮眼！葵花、健民、济川领跑实体药店，3大品牌网上药店翻倍](https://www.menet.com.cn/info/202409/202409031411121112_148047.shtml)',\n",
       " '[9.翰森制药2024上半年营收大涨！净利润翻番！](https://www.menet.com.cn/info/202409/202409021433453345_148044.shtml)',\n",
       " '[10.24个独家妇科中成药亮了！明星产品暴涨186%，千金、步长、恩威上榜，25款新药发力](https://www.menet.com.cn/info/202408/202408290928112811_148036.shtml)']"
      ]
     },
     "execution_count": 684,
     "metadata": {},
     "output_type": "execute_result"
    }
   ],
   "source": [
    "li"
   ]
  },
  {
   "cell_type": "code",
   "execution_count": 686,
   "id": "8f961084-ef2c-47e1-ab61-99b05865b339",
   "metadata": {},
   "outputs": [],
   "source": [
    "li = [_ + '\\n\\n' for _ in li ]"
   ]
  },
  {
   "cell_type": "code",
   "execution_count": 688,
   "id": "a818505d-5fda-4555-96d0-70e77859e259",
   "metadata": {},
   "outputs": [
    {
     "data": {
      "text/plain": [
       "['[1.“数智引领 价值重构”——2024全国慢病管理零售论坛顺利召开](https://www.menet.com.cn/info/202409/202409091619471947_148075.shtml)\\n\\n',\n",
       " '[2.山东新时代爆发了！拿下9个重磅品种，猛攻1100亿市场，11款1类新药、44个新品蓄力](https://www.menet.com.cn/info/202409/20240905102904294_148064.shtml)\\n\\n',\n",
       " '[3.492只医药股上半年成绩单！迈瑞净利润首破70亿，5家晋身10亿军团，甘李、海思科……翻倍](https://www.menet.com.cn/info/202409/202409051027242724_148062.shtml)\\n\\n',\n",
       " '[4.63个中成药厉害了！独家品种大涨133%，3个超10亿品种亮眼，扬子江、济川、天士力霸屏](https://www.menet.com.cn/info/202409/202409050941374137_148059.shtml)\\n\\n',\n",
       " '[5.信立泰厉害了！12款1类新药曝光，猛攻1300亿市场，5款新药上市可期](https://www.menet.com.cn/info/202409/20240903141804184_148053.shtml)\\n\\n',\n",
       " '[6.“中药股王”发威！肝病用药狂卖26亿，14个独家中成药热销，8款重磅新药出击](https://www.menet.com.cn/info/202409/202409031416261626_148051.shtml)\\n\\n',\n",
       " '[7.第十批集采24个品种备战！千亿市场齐鲁亮了，2大注射剂疯狂连涨，倍特、华海蓄力](https://www.menet.com.cn/info/202409/20240903141404144_148049.shtml)\\n\\n',\n",
       " '[8.28款儿科中成药亮眼！葵花、健民、济川领跑实体药店，3大品牌网上药店翻倍](https://www.menet.com.cn/info/202409/202409031411121112_148047.shtml)\\n\\n',\n",
       " '[9.翰森制药2024上半年营收大涨！净利润翻番！](https://www.menet.com.cn/info/202409/202409021433453345_148044.shtml)\\n\\n',\n",
       " '[10.24个独家妇科中成药亮了！明星产品暴涨186%，千金、步长、恩威上榜，25款新药发力](https://www.menet.com.cn/info/202408/202408290928112811_148036.shtml)\\n\\n']"
      ]
     },
     "execution_count": 688,
     "metadata": {},
     "output_type": "execute_result"
    }
   ],
   "source": [
    "li"
   ]
  },
  {
   "cell_type": "code",
   "execution_count": 670,
   "id": "8ea88a89-ee42-4ec7-ac22-fddc3ed6458c",
   "metadata": {},
   "outputs": [],
   "source": [
    "url2 = 'https://qyapi.weixin.qq.com/cgi-bin/webhook/send?key=660ed8dd-be77-4f1b-8de8-774d53f1f39c'"
   ]
  },
  {
   "cell_type": "code",
   "execution_count": null,
   "id": "5c2000d7-f87d-4d01-8328-d892e29bc5db",
   "metadata": {},
   "outputs": [],
   "source": []
  },
  {
   "cell_type": "code",
   "execution_count": 637,
   "id": "fcab28d4-f44c-4126-95e7-ecacef89778a",
   "metadata": {},
   "outputs": [],
   "source": [
    "send_markdown_to_wechat(f\"# [{title}]({url})\", )"
   ]
  },
  {
   "cell_type": "code",
   "execution_count": 638,
   "id": "01fa5c20-b852-469a-acdc-53b8ed449568",
   "metadata": {},
   "outputs": [],
   "source": [
    "send_markdown_to_wechat(f\"### [{title}]({url})\", url )"
   ]
  },
  {
   "cell_type": "code",
   "execution_count": 180,
   "id": "6ec1ec60-f58e-4def-96da-7b0ac9db0a4a",
   "metadata": {},
   "outputs": [],
   "source": [
    "link = f\"### [{title}]({url})\""
   ]
  },
  {
   "cell_type": "code",
   "execution_count": 391,
   "id": "ee9ca295-38eb-49c1-b38b-f2d12307e52a",
   "metadata": {},
   "outputs": [
    {
     "data": {
      "text/plain": [
       "'63个中成药厉害了！独家品种大涨133%，3个超10亿品种亮眼，扬子江、济川、天士力霸屏'"
      ]
     },
     "execution_count": 391,
     "metadata": {},
     "output_type": "execute_result"
    }
   ],
   "source": [
    "title"
   ]
  },
  {
   "cell_type": "code",
   "execution_count": 172,
   "id": "c3e38a29-dbda-4470-9ca5-f3c3cc6e2b3c",
   "metadata": {},
   "outputs": [],
   "source": [
    "link+= '/n'"
   ]
  },
  {
   "cell_type": "code",
   "execution_count": 405,
   "id": "afbc15ce-41dd-4917-ab16-b99e12652f3d",
   "metadata": {},
   "outputs": [
    {
     "data": {
      "text/plain": [
       "'### [63个中成药厉害了！独家品种大涨133%，3个超10亿品种亮眼，扬子江、济川、天士力霸屏](https://www.menet.com.cn/info/202409/202409050941374137_148059.shtml)'"
      ]
     },
     "execution_count": 405,
     "metadata": {},
     "output_type": "execute_result"
    }
   ],
   "source": [
    "link"
   ]
  },
  {
   "cell_type": "code",
   "execution_count": 393,
   "id": "3ce7fb74-be42-4c2a-9370-52741b694632",
   "metadata": {},
   "outputs": [
    {
     "data": {
      "text/plain": [
       "'2024年Q1中国零售药店中成药市场强劲，销售额超390亿元，63个品种销售额破亿，主要集中在呼吸系统治疗。这些药品总销售额超160亿，其中3个品种销售额超10亿，增长迅猛，9个品种增长率超50%，2个品种增长率甚至达到133%。市场亮点还包括34个独家品种的突出表现，云南白药等企业成为领军者。此数据反映出中成药市场需求旺盛，独家品种优势显著，行业巨头表现抢眼。'"
      ]
     },
     "execution_count": 393,
     "metadata": {},
     "output_type": "execute_result"
    }
   ],
   "source": []
  },
  {
   "cell_type": "code",
   "execution_count": 242,
   "id": "ea5118bb-538e-43b8-85f1-6b741af9eed1",
   "metadata": {},
   "outputs": [],
   "source": [
    "send_card_to_wechat()"
   ]
  },
  {
   "cell_type": "code",
   "execution_count": 401,
   "id": "9e93ddc3-4446-4014-a2c5-510b0b9e05f7",
   "metadata": {},
   "outputs": [],
   "source": [
    "def send_markdown_to_wechat(msg='test', webhook_url='https://qyapi.weixin.qq.com/cgi-bin/webhook/send?key=a0ad9b92-b9a5-43d3-a129-98c954ecb159'):\n",
    "    \n",
    "    headers = {  \n",
    "        'Content-Type': 'application/json',  \n",
    "    }\n",
    "\n",
    "    data = dic\n",
    "   \n",
    "    response = requests.post(webhook_url, json=data, headers=headers)"
   ]
  },
  {
   "cell_type": "code",
   "execution_count": 672,
   "id": "5c3b7a43-4e37-4f04-8ea4-e28d823e2a12",
   "metadata": {},
   "outputs": [],
   "source": [
    "send_markdown_to_wechat(msg = \"\".join(li))"
   ]
  },
  {
   "cell_type": "code",
   "execution_count": 690,
   "id": "165c478a-e71a-489f-86a9-b465bcf14f6a",
   "metadata": {},
   "outputs": [],
   "source": [
    "send_markdown_to_wechat(msg = \"\".join(li), webhook_url='https://qyapi.weixin.qq.com/cgi-bin/webhook/send?key=660ed8dd-be77-4f1b-8de8-774d53f1f39c')"
   ]
  },
  {
   "cell_type": "code",
   "execution_count": null,
   "id": "3d225998-1fb8-4d63-a77a-aa9973ef6465",
   "metadata": {},
   "outputs": [],
   "source": [
    "s"
   ]
  },
  {
   "cell_type": "code",
   "execution_count": null,
   "id": "a36d04fc-4875-434c-bc0a-069f8b6b12b3",
   "metadata": {},
   "outputs": [],
   "source": []
  },
  {
   "cell_type": "code",
   "execution_count": null,
   "id": "6f18e4b7-8a20-455e-8b3e-48f74eed5ac8",
   "metadata": {},
   "outputs": [],
   "source": []
  },
  {
   "cell_type": "code",
   "execution_count": null,
   "id": "0f5ff5a4-d8a6-4ac6-9f28-8912c8e3d1c0",
   "metadata": {},
   "outputs": [],
   "source": []
  }
 ],
 "metadata": {
  "kernelspec": {
   "display_name": "Python 3 (ipykernel)",
   "language": "python",
   "name": "python3"
  },
  "language_info": {
   "codemirror_mode": {
    "name": "ipython",
    "version": 3
   },
   "file_extension": ".py",
   "mimetype": "text/x-python",
   "name": "python",
   "nbconvert_exporter": "python",
   "pygments_lexer": "ipython3",
   "version": "3.11.7"
  },
  "widgets": {
   "application/vnd.jupyter.widget-state+json": {
    "state": {},
    "version_major": 2,
    "version_minor": 0
   }
  }
 },
 "nbformat": 4,
 "nbformat_minor": 5
}
