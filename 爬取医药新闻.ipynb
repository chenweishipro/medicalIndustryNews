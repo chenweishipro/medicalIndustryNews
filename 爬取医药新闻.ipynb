{
 "cells": [
  {
   "cell_type": "code",
   "execution_count": 10,
   "id": "77b1f248-86b4-4471-93f1-aef4a7eabe6a",
   "metadata": {},
   "outputs": [
    {
     "ename": "",
     "evalue": "",
     "output_type": "error",
     "traceback": [
      "\u001b[1;31m无法启动 Kernel。 \n",
      "\u001b[1;31mConnection is disposed. \n",
      "\u001b[1;31m有关更多详细信息，请查看 Jupyter <a href='command:jupyter.viewOutput'>log</a>。"
     ]
    }
   ],
   "source": [
    "import requests\n",
    "from bs4 import BeautifulSoup\n",
    "import os, re\n",
    "from openai import OpenAI\n",
    "import time  \n",
    "from datetime import datetime  \n"
   ]
  },
  {
   "cell_type": "markdown",
   "id": "bf05d15b-ba80-41b4-a098-1e69c6552cae",
   "metadata": {},
   "source": [
    "# 'https://menet.com.cn"
   ]
  },
  {
   "cell_type": "code",
   "execution_count": 13,
   "id": "44f276b7-bce6-4d1a-bc7e-6d6130122b46",
   "metadata": {},
   "outputs": [],
   "source": [
    "host ='https://www.menet.com.cn'\n"
   ]
  },
  {
   "cell_type": "code",
   "execution_count": 15,
   "id": "c9fbb3a6-c060-4f91-8395-72a2a0dcb129",
   "metadata": {},
   "outputs": [],
   "source": [
    "def get_list():\n",
    "    host ='https://www.menet.com.cn/news'\n",
    "    response = requests.post(host)\n",
    "    soup = BeautifulSoup(response.text, 'html.parser')\n",
    "    news_list = soup.find_all('h3')\n",
    "    return soup, news_list\n"
   ]
  },
  {
   "cell_type": "code",
   "execution_count": 17,
   "id": "532a6b72-17a5-453e-886a-ecb32002213c",
   "metadata": {},
   "outputs": [],
   "source": [
    "soup, news_list = get_list()\n"
   ]
  },
  {
   "cell_type": "code",
   "execution_count": 19,
   "id": "4696cc3b-5f85-4c24-816f-9e532a2482c1",
   "metadata": {},
   "outputs": [],
   "source": [
    "news_list = [_ for _ in news_list if \"登录\" not in _.text]\n"
   ]
  },
  {
   "cell_type": "code",
   "execution_count": 21,
   "id": "3f2d025b-71a9-4aa4-b9c6-a5ae16fb0581",
   "metadata": {},
   "outputs": [],
   "source": [
    "def get_info(item, host ='https://www.menet.com.cn'):\n",
    "    link = host + item.a['href']\n",
    "    title = item.text\n",
    "    date = item.a['href'].split('/')[3][:8]\n",
    "    return {\n",
    "    \"title\": title,\n",
    "    'url': link,\n",
    "    'date':date\n",
    "}\n"
   ]
  },
  {
   "cell_type": "code",
   "execution_count": null,
   "id": "f1f599d6-e1dc-4ded-b8f5-454dff99216d",
   "metadata": {},
   "outputs": [],
   "source": [
    "result1 = get_info()\n"
   ]
  },
  {
   "cell_type": "code",
   "execution_count": null,
   "id": "333d123f-ce72-43f8-81cf-995aeaffd12a",
   "metadata": {},
   "outputs": [],
   "source": [
    "for num, item in enumerate(soup.find_all(lambda tag: tag.has_attr('class') and len(tag)==1 and tag['class'] == [\"item_time\"])):\n",
    "    result1[num]['date'] = item.text\n"
   ]
  },
  {
   "cell_type": "code",
   "execution_count": null,
   "id": "8f085c06-9995-4cb1-9d09-28ca31e139b6",
   "metadata": {},
   "outputs": [],
   "source": []
  },
  {
   "cell_type": "markdown",
   "id": "f4daa5d3-5499-4881-8b6c-59e91a9e3f55",
   "metadata": {},
   "source": [
    "# https://www.pharnexcloud.com/zixun"
   ]
  },
  {
   "cell_type": "code",
   "execution_count": 18,
   "id": "ddf53b70-1ac6-4a25-8110-7a49b0aba876",
   "metadata": {},
   "outputs": [],
   "source": [
    "r = requests.get('https://www.pharnexcloud.com/zixun')\n"
   ]
  },
  {
   "cell_type": "code",
   "execution_count": 19,
   "id": "d1ebba6c-fe16-456f-9e75-097e808a6c4c",
   "metadata": {},
   "outputs": [],
   "source": [
    "soup = BeautifulSoup(r.text, 'html.parser')\n"
   ]
  },
  {
   "cell_type": "code",
   "execution_count": 20,
   "id": "1299695a-ddd9-415a-a367-e676922de203",
   "metadata": {},
   "outputs": [],
   "source": [
    "dates = soup.find_all(lambda tag:tag.has_attr('class') and tag['class']==['date'])\n"
   ]
  },
  {
   "cell_type": "code",
   "execution_count": 21,
   "id": "7996cd9d-d46f-4f64-a2ac-cdad4d315a16",
   "metadata": {},
   "outputs": [],
   "source": []
  },
  {
   "cell_type": "code",
   "execution_count": 22,
   "id": "48d6ccce-d85a-4b4f-b8ef-e5fd0357f1b3",
   "metadata": {},
   "outputs": [],
   "source": [
    "result = soup.find_all('a', class_ = 'img-content')\n"
   ]
  },
  {
   "cell_type": "code",
   "execution_count": 28,
   "id": "f5771842-7db8-4ab8-b22e-4440d415a7bc",
   "metadata": {},
   "outputs": [],
   "source": [
    "def query_tilte_url(item):\n",
    "    title = item.find_next()['alt']\n",
    "    url = 'https://www.pharnexcloud.com' + item['href']\n",
    "    return {\n",
    "        'title': title,\n",
    "        'url': url\n",
    "    }\n"
   ]
  },
  {
   "cell_type": "code",
   "execution_count": 30,
   "id": "b323460c-c439-4f1b-9b51-f7e209b31ffa",
   "metadata": {},
   "outputs": [],
   "source": [
    "res = list(map(query_tilte_url, result))\n"
   ]
  },
  {
   "cell_type": "code",
   "execution_count": 32,
   "id": "589e63b5-f4cf-4ff5-98fa-7254a2caeff3",
   "metadata": {},
   "outputs": [],
   "source": [
    "for no, item in enumerate(res):\n",
    "    \n",
    "    item['date'] = dates[no]\n"
   ]
  },
  {
   "cell_type": "code",
   "execution_count": 34,
   "id": "ef54e783-8114-490c-9ec4-84508dfd5c31",
   "metadata": {},
   "outputs": [],
   "source": [
    "result2 = res\n"
   ]
  },
  {
   "cell_type": "markdown",
   "id": "db641522-6823-457c-a703-1b35fd071f5d",
   "metadata": {},
   "source": [
    "---"
   ]
  },
  {
   "cell_type": "markdown",
   "id": "f80bd62b-b271-437a-b610-259a36f5edc7",
   "metadata": {},
   "source": [
    "# https://bydrug.pharmcube.com/"
   ]
  },
  {
   "cell_type": "code",
   "execution_count": 8,
   "id": "abc1cc1c-74ed-4d3c-8a4c-ebaf5fe7320f",
   "metadata": {},
   "outputs": [],
   "source": [
    "r = requests.get('https://bydrug.pharmcube.com/')\n"
   ]
  },
  {
   "cell_type": "code",
   "execution_count": 9,
   "id": "4f842457-9616-4896-8109-28e284f0dfd8",
   "metadata": {},
   "outputs": [],
   "source": [
    "soup = BeautifulSoup(r.text, 'html.parser')\n"
   ]
  },
  {
   "cell_type": "code",
   "execution_count": 10,
   "id": "c0db912a-296f-4917-bf08-2f68b99d7190",
   "metadata": {},
   "outputs": [],
   "source": [
    "datas = soup.find_all('div', class_= 'mf-flex mf-items-center')\n"
   ]
  },
  {
   "cell_type": "code",
   "execution_count": 14,
   "id": "b102752e-8f6c-40a1-a069-2c5d158e0864",
   "metadata": {},
   "outputs": [],
   "source": [
    "def get_tilte_and_url(item):\n",
    "    title = item.text.strip()\n",
    "    url = item.a['href']\n",
    "    return {\n",
    "        'title': title,\n",
    "        'url': url\n",
    "    }\n"
   ]
  },
  {
   "cell_type": "code",
   "execution_count": null,
   "id": "34cb1251-4754-4d8b-ad99-26124c07efeb",
   "metadata": {
    "scrolled": true
   },
   "outputs": [],
   "source": [
    "res = list(map(get_tilte_and_url, datas))\n"
   ]
  },
  {
   "cell_type": "code",
   "execution_count": 50,
   "id": "78529b61-5cba-4382-8d86-4b9dad19ab38",
   "metadata": {},
   "outputs": [],
   "source": [
    "for no, _ in enumerate(res):\n",
    "    _['date'] = dates[no]\n"
   ]
  },
  {
   "cell_type": "code",
   "execution_count": 52,
   "id": "7db9fe5d-61a9-41d9-a871-57c70a80bdfa",
   "metadata": {},
   "outputs": [],
   "source": [
    "result3 = res\n"
   ]
  },
  {
   "cell_type": "code",
   "execution_count": 54,
   "id": "dea761ca-1d37-44ba-be2e-7c194abff7b6",
   "metadata": {},
   "outputs": [],
   "source": [
    "import pandas as pd\n"
   ]
  },
  {
   "cell_type": "code",
   "execution_count": 56,
   "id": "8e9ca65c-cf34-4391-a637-3e3929a976d6",
   "metadata": {},
   "outputs": [],
   "source": [
    "df = pd.DataFrame(result1+result2+result3)\n"
   ]
  },
  {
   "cell_type": "markdown",
   "id": "5bdc962e-84e8-419a-92a4-31be078eb1f1",
   "metadata": {},
   "source": [
    "---"
   ]
  },
  {
   "cell_type": "code",
   "execution_count": 60,
   "id": "64bf8e7f-bf10-4940-875f-b9d4b14a46ee",
   "metadata": {},
   "outputs": [],
   "source": [
    "# 用r.jina转换成ai友好格式，并用通义千问进行总结\n"
   ]
  },
  {
   "cell_type": "code",
   "execution_count": 66,
   "id": "9ebf6fb1-2d10-48db-b0d7-0f389f7c1c10",
   "metadata": {},
   "outputs": [],
   "source": [
    "def summarize(url):\n",
    "    context = requests.get('https://r.jina.ai/'+url).text\n",
    "    url_pattern = re.compile(r'\\bhttps?:\\/\\/[^\\s/$.?#].[^\\s]*\\b')  \n",
    "    cleaned_text = url_pattern.sub('', context)\n",
    "    context = cleaned_text[:6000] if len(cleaned_text)>6000  else cleaned_text\n",
    "    context = \"请尽量简洁总结以下内容，并发表你的观点,文字不得超过150字\\n\"+context.replace(\"\\n\",\"\")[:6000]\n",
    "    client = OpenAI(\n",
    "    api_key='sk-69c9bf69fa2b4d2985834d6dc17c0790', # 如何获取API Key：https://help.aliyun.com/zh/model-studio/developer-reference/get-api-key\n",
    "    base_url=\"https://dashscope.aliyuncs.com/compatible-mode/v1\"\n",
    "    )\n",
    "    completion = client.chat.completions.create(\n",
    "        model=\"qwen-max\", # 更多模型请参见模型列表文档。\n",
    "        messages=[{\"role\": \"user\", \"content\": context}]\n",
    "    )\n",
    "    print(completion.choices[0].message.content)\n",
    "    with open('output.md', 'w') as f:  \n",
    "        # 使用 print 函数，将输出重定向到文件  \n",
    "        print(completion.choices[0].message.content, file=f)  \n",
    "        \n",
    "    return completion.choices[0].message.content\n"
   ]
  },
  {
   "cell_type": "code",
   "execution_count": null,
   "id": "db08393c-565c-40ee-9940-77c8f253419e",
   "metadata": {},
   "outputs": [],
   "source": [
    "df\n"
   ]
  },
  {
   "cell_type": "code",
   "execution_count": 70,
   "id": "ac4db1b8-617a-49e0-bf92-96084909f126",
   "metadata": {},
   "outputs": [],
   "source": [
    "result = result1 + result2 + result3\n"
   ]
  },
  {
   "cell_type": "code",
   "execution_count": 72,
   "id": "d8e617f2-49b0-42db-a7f3-eba90649590f",
   "metadata": {},
   "outputs": [],
   "source": [
    "def get_and_send(item):\n",
    "    url = item['url']\n",
    "    title= item['title']\n",
    "    summary = summarize(url)\n",
    "    return summary\n"
   ]
  },
  {
   "cell_type": "code",
   "execution_count": 74,
   "id": "658aadb5-78ad-404e-95e2-3ac10b8ab284",
   "metadata": {},
   "outputs": [],
   "source": [
    "li = result = result1 + result2 + result3\n"
   ]
  },
  {
   "cell_type": "code",
   "execution_count": null,
   "id": "93792063-cf78-4172-b9dc-208c04446b77",
   "metadata": {},
   "outputs": [],
   "source": [
    "li[3]\n"
   ]
  },
  {
   "cell_type": "code",
   "execution_count": 150,
   "id": "56dbe516-948a-4999-a6cf-97ccd6c5c2e2",
   "metadata": {},
   "outputs": [],
   "source": [
    "title, url, date = li[3].values()\n"
   ]
  },
  {
   "cell_type": "code",
   "execution_count": null,
   "id": "79967a1c-6026-4793-b7c0-5628a6964964",
   "metadata": {},
   "outputs": [],
   "source": [
    "title\n"
   ]
  },
  {
   "cell_type": "code",
   "execution_count": null,
   "id": "3a7eecf1-77c5-4191-9c1a-0bad5464782f",
   "metadata": {},
   "outputs": [],
   "source": [
    "url\n"
   ]
  },
  {
   "cell_type": "code",
   "execution_count": null,
   "id": "8e3c217a-ea01-4416-969c-85ad3adbc89c",
   "metadata": {},
   "outputs": [],
   "source": [
    "date\n"
   ]
  },
  {
   "cell_type": "code",
   "execution_count": 411,
   "id": "0613ceed-73d3-4476-8995-b83cf9ddbc00",
   "metadata": {},
   "outputs": [],
   "source": [
    "l = li[:10]\n"
   ]
  },
  {
   "cell_type": "code",
   "execution_count": null,
   "id": "f1db4f08-4815-45f7-b864-634ac20327b8",
   "metadata": {},
   "outputs": [],
   "source": [
    "summary = get_and_send(li[3])\n"
   ]
  },
  {
   "cell_type": "code",
   "execution_count": null,
   "id": "97f2ff51-429b-42f8-a0a9-cdcd1c7011fb",
   "metadata": {},
   "outputs": [],
   "source": [
    "l\n"
   ]
  },
  {
   "cell_type": "code",
   "execution_count": null,
   "id": "bca2e80d-e839-4ec5-870a-520081c80a77",
   "metadata": {},
   "outputs": [],
   "source": [
    "for k, v in l[0].items():\n",
    "    print(k, v)\n"
   ]
  },
  {
   "cell_type": "code",
   "execution_count": 616,
   "id": "10fd01a6-5195-4e2d-90ef-d770a0b382e5",
   "metadata": {},
   "outputs": [],
   "source": [
    "no = [str(_)+'.' for _ in range(1, 11)] \n"
   ]
  },
  {
   "cell_type": "code",
   "execution_count": 680,
   "id": "f629bffc-9092-4e18-9312-3ac8a9d5dfed",
   "metadata": {},
   "outputs": [],
   "source": [
    "li = [f\"[{_['title']}]({_['url']})\" for _ in l ]\n"
   ]
  },
  {
   "cell_type": "code",
   "execution_count": 682,
   "id": "1325e722-c243-4f15-ab21-1ccbafb7c45c",
   "metadata": {},
   "outputs": [],
   "source": [
    "li = [b[:1] + a+ b[1:] for a, b in zip(no, li)]\n"
   ]
  },
  {
   "cell_type": "code",
   "execution_count": null,
   "id": "b27bfb92-1a72-4a0e-b0e5-abd44d6580c5",
   "metadata": {},
   "outputs": [],
   "source": [
    "li\n"
   ]
  },
  {
   "cell_type": "code",
   "execution_count": 686,
   "id": "8f961084-ef2c-47e1-ab61-99b05865b339",
   "metadata": {},
   "outputs": [],
   "source": [
    "li = [_ + '\\n\\n' for _ in li ]\n"
   ]
  },
  {
   "cell_type": "code",
   "execution_count": null,
   "id": "a818505d-5fda-4555-96d0-70e77859e259",
   "metadata": {},
   "outputs": [],
   "source": [
    "li\n"
   ]
  },
  {
   "cell_type": "code",
   "execution_count": 670,
   "id": "8ea88a89-ee42-4ec7-ac22-fddc3ed6458c",
   "metadata": {},
   "outputs": [],
   "source": [
    "url2 = 'https://qyapi.weixin.qq.com/cgi-bin/webhook/send?key=660ed8dd-be77-4f1b-8de8-774d53f1f39c'\n"
   ]
  },
  {
   "cell_type": "code",
   "execution_count": null,
   "id": "5c2000d7-f87d-4d01-8328-d892e29bc5db",
   "metadata": {},
   "outputs": [],
   "source": []
  },
  {
   "cell_type": "code",
   "execution_count": 637,
   "id": "fcab28d4-f44c-4126-95e7-ecacef89778a",
   "metadata": {},
   "outputs": [],
   "source": [
    "send_markdown_to_wechat(f\"# [{title}]({url})\", )\n"
   ]
  },
  {
   "cell_type": "code",
   "execution_count": 638,
   "id": "01fa5c20-b852-469a-acdc-53b8ed449568",
   "metadata": {},
   "outputs": [],
   "source": [
    "send_markdown_to_wechat(f\"### [{title}]({url})\", url )\n"
   ]
  },
  {
   "cell_type": "code",
   "execution_count": 180,
   "id": "6ec1ec60-f58e-4def-96da-7b0ac9db0a4a",
   "metadata": {},
   "outputs": [],
   "source": [
    "link = f\"### [{title}]({url})\"\n"
   ]
  },
  {
   "cell_type": "code",
   "execution_count": null,
   "id": "ee9ca295-38eb-49c1-b38b-f2d12307e52a",
   "metadata": {},
   "outputs": [],
   "source": [
    "title\n"
   ]
  },
  {
   "cell_type": "code",
   "execution_count": 172,
   "id": "c3e38a29-dbda-4470-9ca5-f3c3cc6e2b3c",
   "metadata": {},
   "outputs": [],
   "source": [
    "link+= '/n'\n"
   ]
  },
  {
   "cell_type": "code",
   "execution_count": null,
   "id": "afbc15ce-41dd-4917-ab16-b99e12652f3d",
   "metadata": {},
   "outputs": [],
   "source": [
    "link\n"
   ]
  },
  {
   "cell_type": "code",
   "execution_count": null,
   "id": "3ce7fb74-be42-4c2a-9370-52741b694632",
   "metadata": {},
   "outputs": [],
   "source": []
  },
  {
   "cell_type": "code",
   "execution_count": 242,
   "id": "ea5118bb-538e-43b8-85f1-6b741af9eed1",
   "metadata": {},
   "outputs": [],
   "source": [
    "send_card_to_wechat()\n"
   ]
  },
  {
   "cell_type": "code",
   "execution_count": 401,
   "id": "9e93ddc3-4446-4014-a2c5-510b0b9e05f7",
   "metadata": {},
   "outputs": [],
   "source": [
    "def send_markdown_to_wechat(msg='test', webhook_url='https://qyapi.weixin.qq.com/cgi-bin/webhook/send?key=a0ad9b92-b9a5-43d3-a129-98c954ecb159'):\n",
    "    \n",
    "    headers = {  \n",
    "        'Content-Type': 'application/json',  \n",
    "    }\n",
    "\n",
    "    data = dic\n",
    "   \n",
    "    response = requests.post(webhook_url, json=data, headers=headers)\n"
   ]
  },
  {
   "cell_type": "code",
   "execution_count": 672,
   "id": "5c3b7a43-4e37-4f04-8ea4-e28d823e2a12",
   "metadata": {},
   "outputs": [],
   "source": [
    "send_markdown_to_wechat(msg = \"\".join(li))\n"
   ]
  },
  {
   "cell_type": "code",
   "execution_count": 690,
   "id": "165c478a-e71a-489f-86a9-b465bcf14f6a",
   "metadata": {},
   "outputs": [],
   "source": [
    "send_markdown_to_wechat(msg = \"\".join(li), webhook_url='https://qyapi.weixin.qq.com/cgi-bin/webhook/send?key=660ed8dd-be77-4f1b-8de8-774d53f1f39c')\n"
   ]
  },
  {
   "cell_type": "code",
   "execution_count": null,
   "id": "3d225998-1fb8-4d63-a77a-aa9973ef6465",
   "metadata": {},
   "outputs": [],
   "source": [
    "s\n"
   ]
  },
  {
   "cell_type": "code",
   "execution_count": null,
   "id": "a36d04fc-4875-434c-bc0a-069f8b6b12b3",
   "metadata": {},
   "outputs": [],
   "source": []
  },
  {
   "cell_type": "code",
   "execution_count": null,
   "id": "6f18e4b7-8a20-455e-8b3e-48f74eed5ac8",
   "metadata": {},
   "outputs": [],
   "source": []
  },
  {
   "cell_type": "code",
   "execution_count": null,
   "id": "0f5ff5a4-d8a6-4ac6-9f28-8912c8e3d1c0",
   "metadata": {},
   "outputs": [],
   "source": []
  }
 ],
 "metadata": {
  "kernelspec": {
   "display_name": "Python 3 (ipykernel)",
   "language": "python",
   "name": "python3"
  },
  "language_info": {
   "codemirror_mode": {
    "name": "ipython",
    "version": 3
   },
   "file_extension": ".py",
   "mimetype": "text/x-python",
   "name": "python",
   "nbconvert_exporter": "python",
   "pygments_lexer": "ipython3",
   "version": "3.12.4"
  },
  "widgets": {
   "application/vnd.jupyter.widget-state+json": {
    "state": {},
    "version_major": 2,
    "version_minor": 0
   }
  }
 },
 "nbformat": 4,
 "nbformat_minor": 5
}
